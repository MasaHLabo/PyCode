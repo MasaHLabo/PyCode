{
  "nbformat": 4,
  "nbformat_minor": 0,
  "metadata": {
    "colab": {
      "provenance": [],
      "authorship_tag": "ABX9TyPQlRdmUqyDbBx2mnbSe0pt",
      "include_colab_link": true
    },
    "kernelspec": {
      "name": "python3",
      "display_name": "Python 3"
    },
    "language_info": {
      "name": "python"
    }
  },
  "cells": [
    {
      "cell_type": "markdown",
      "metadata": {
        "id": "view-in-github",
        "colab_type": "text"
      },
      "source": [
        "<a href=\"https://colab.research.google.com/github/MasaHLabo/PyCode/blob/main/Database_SQLite.ipynb\" target=\"_parent\"><img src=\"https://colab.research.google.com/assets/colab-badge.svg\" alt=\"Open In Colab\"/></a>"
      ]
    },
    {
      "cell_type": "markdown",
      "source": [
        "# データベースとは？\n",
        "*   データを蓄積，管理する仕組みと蓄積したデータを操作する仕組むを提供するシステムのこと\n",
        "*   常時働き続けてデータの格納や検索に関する要求を待ち受けるプログラミング\n",
        "*   DBMS:DataBase Management System データベース管理システム\n",
        "\n",
        "\n",
        "*   様々な用途に使用されている\n",
        "*   インターネット上のサービス，SNSや検索サイト，ショッピングサイトなどのユーザデータの管理や検索履歴，商品の管理に利用されている\n",
        "\n"
      ],
      "metadata": {
        "id": "1hJbrP_21MUz"
      }
    },
    {
      "cell_type": "markdown",
      "source": [
        "データベースをPythonで扱うために標準ライブラリのSQLite3を利用します。"
      ],
      "metadata": {
        "id": "aRQkYSio3WeS"
      }
    },
    {
      "cell_type": "markdown",
      "source": [
        "データベースを取りあえずColabで使うためにGoogleDrive上のファイルを扱えるようにします（ファイルの入出力で行ったことを参照）"
      ],
      "metadata": {
        "id": "s93hXB5P3mG2"
      }
    },
    {
      "cell_type": "markdown",
      "source": [
        "# ファイルの入出力\n",
        "GoogleColabでは，PCのローカルにあるファイルを直接利用することができないため，GoogleDriveに置いて使う必要がある．\n",
        "\n",
        "その手順は（簡易的な方法もあるが今後のため一般的なものを）\n",
        "\n",
        "1.   GllgleColabで，GoodleDriveをマウント\n",
        "2.   GoogleDriveに対象ファイルをアップロード\n",
        "1.   GoogleColabで対象ファイルを読み込んで利用\n",
        "\n",
        "\n",
        "\n",
        "\n"
      ],
      "metadata": {
        "id": "2UPqnBM5oiCM"
      }
    },
    {
      "cell_type": "code",
      "source": [
        "from google.colab import drive\n",
        "drive.mount('/content/drive')"
      ],
      "metadata": {
        "colab": {
          "base_uri": "https://localhost:8080/"
        },
        "id": "NeaOVMgDHeMk",
        "outputId": "24573576-9adb-4395-c5b0-90fed9bbe5df"
      },
      "execution_count": null,
      "outputs": [
        {
          "output_type": "stream",
          "name": "stdout",
          "text": [
            "Drive already mounted at /content/drive; to attempt to forcibly remount, call drive.mount(\"/content/drive\", force_remount=True).\n"
          ]
        }
      ]
    },
    {
      "cell_type": "markdown",
      "source": [
        "毎回ドライブがどこにあるのか示す場所（パス）を入力するのは面倒なので設定しておきましょう。"
      ],
      "metadata": {
        "id": "e5EoXAPs4jtc"
      }
    },
    {
      "cell_type": "code",
      "source": [
        "path='/content/drive/MyDrive/'"
      ],
      "metadata": {
        "id": "CX1aaqIjHnGc"
      },
      "execution_count": null,
      "outputs": []
    },
    {
      "cell_type": "markdown",
      "source": [
        "次にこれもデータベースの名前を決めておきます。"
      ],
      "metadata": {
        "id": "cjFqHxE844Mb"
      }
    },
    {
      "cell_type": "code",
      "source": [
        "db_name = 'data.db'"
      ],
      "metadata": {
        "id": "JJBavdYut68O"
      },
      "execution_count": null,
      "outputs": []
    },
    {
      "cell_type": "markdown",
      "source": [
        "ここから実際のデータベースの扱いに話になります"
      ],
      "metadata": {
        "id": "QTzHjp-S5Csl"
      }
    },
    {
      "cell_type": "markdown",
      "source": [
        "手順１：ライブラリのインポート"
      ],
      "metadata": {
        "id": "27BowHnl5IiV"
      }
    },
    {
      "cell_type": "code",
      "execution_count": null,
      "metadata": {
        "id": "YGW02plbTOE5"
      },
      "outputs": [],
      "source": [
        "import sqlite3 # SQLite3をインポートする"
      ]
    },
    {
      "cell_type": "markdown",
      "source": [
        "手順２：データベースに接続する"
      ],
      "metadata": {
        "id": "qVmsilFc5Moi"
      }
    },
    {
      "cell_type": "code",
      "source": [
        "con=sqlite3.connect(path+db_name)"
      ],
      "metadata": {
        "id": "-xgCAnd-Im47"
      },
      "execution_count": null,
      "outputs": []
    },
    {
      "cell_type": "markdown",
      "source": [
        "手順3：Cursorオブジェクトを作成する"
      ],
      "metadata": {
        "id": "7SvaDhUW5auF"
      }
    },
    {
      "cell_type": "code",
      "source": [
        "cursor1 = con.cursor() # Cursorオブジェクトを作成する"
      ],
      "metadata": {
        "id": "qFBm5_B2GYG2"
      },
      "execution_count": null,
      "outputs": []
    },
    {
      "cell_type": "markdown",
      "source": [
        "そしてデータベースを扱うSQL文を作成する。\n",
        "ここではデータベースがないので新しくテーブルを作成している"
      ],
      "metadata": {
        "id": "c1Xy846J7cU_"
      }
    },
    {
      "cell_type": "code",
      "source": [
        "sql = 'CREATE TABLE users(id INTEGER, name TEXT)'"
      ],
      "metadata": {
        "id": "6oYx0czM7dA3"
      },
      "execution_count": null,
      "outputs": []
    },
    {
      "cell_type": "markdown",
      "source": [
        "手順４：SQL文を実行する\n",
        "\n",
        "手順５：変更をデータベースに保存（反映）する\n",
        "\n",
        "手順６：データベースを閉じる\n"
      ],
      "metadata": {
        "id": "WkugdXt28V-A"
      }
    },
    {
      "cell_type": "code",
      "source": [
        "cursor1.execute(sql) # SQL文を実行する\n",
        "con.commit() # 変更をデータベースに保存する\n",
        "con.close() # データベースを閉じる"
      ],
      "metadata": {
        "id": "idbXLr_m7eQX"
      },
      "execution_count": null,
      "outputs": []
    },
    {
      "cell_type": "markdown",
      "source": [
        "6.6データベースの操作\n",
        "\n",
        "6.6.1データの挿入"
      ],
      "metadata": {
        "id": "Z7ndfKSE_cpB"
      }
    },
    {
      "cell_type": "markdown",
      "source": [
        "・直接指定する方法"
      ],
      "metadata": {
        "id": "yjMzuZzB9aOu"
      }
    },
    {
      "cell_type": "code",
      "source": [
        "con = sqlite3.connect(path+db_name) # データベースに接続する\n",
        "cursor1 = con.cursor() # Cursorオブジェクトを作成する\n",
        "\n",
        "sql = 'INSERT INTO users(id, name) VALUES(1, \"おおつま\")' \n",
        "cursor1.execute(sql) # SQL文を実行する\n",
        "\n",
        "con.commit() # 変更をデータベースに保存する\n",
        "con.close() # データベースを閉じるcursor1"
      ],
      "metadata": {
        "id": "nBFt6ctQ7ezn"
      },
      "execution_count": null,
      "outputs": []
    },
    {
      "cell_type": "markdown",
      "source": [
        "・挿入する値を引数として渡す方法"
      ],
      "metadata": {
        "id": "CJYpRgyQ9Q5m"
      }
    },
    {
      "cell_type": "code",
      "source": [
        "con = sqlite3.connect(path+db_name) # データベースに接続する\n",
        "cursor1 = con.cursor() # Cursorオブジェクトを作成する\n",
        "\n",
        "user=(1, 'おおつま')\n",
        "sql = 'INSERT INTO users(id, name) VALUES(?, ?)' \n",
        "cursor1.execute(sql,user) # SQL文を実行する\n",
        "\n",
        "con.commit() # 変更をデータベースに保存する\n",
        "con.close() # データベースを閉じるcursor1"
      ],
      "metadata": {
        "id": "x1xRfNIDAnhb"
      },
      "execution_count": null,
      "outputs": []
    },
    {
      "cell_type": "markdown",
      "source": [
        "問題1　p.155図6.10にあるデータを追加するプログラムの作成（まずは簡単な方法）"
      ],
      "metadata": {
        "id": "PxZaYzjF9mfx"
      }
    },
    {
      "cell_type": "code",
      "source": [
        "con = sqlite3.connect(path+db_name) # データベースに接続する\n",
        "cursor1 = con.cursor() # Cursorオブジェクトを作成する\n",
        "\n",
        "sql = 'INSERT INTO users(id, name) VALUES(?, ?)' \n",
        " \n",
        "user2=(2, 'はなこ')\n",
        "user3=(3,'からきだ')\n",
        "user4=(4,'ちよだ')\n",
        "tuple_list = [list(user2), list(user3), list(user4)]\n",
        "for i in range(3):\n",
        "    cursor1.execute(sql,tuple_list[i]) # SQL文を実行する\n",
        "\n",
        "\n",
        "#cursor1.execute(sql,user2) # SQL文を実行する\n",
        "#cursor1.execute(sql,user3) # SQL文を実行する\n",
        "#cursor1.execute(sql,user4) # SQL文を実行する\n",
        "\n",
        "con.commit() # 変更をデータベースに保存する\n",
        "con.close() # データベースを閉じるcursor1"
      ],
      "metadata": {
        "id": "EAC8IKqmG5eU"
      },
      "execution_count": null,
      "outputs": []
    },
    {
      "cell_type": "markdown",
      "source": [
        "データを増やす"
      ],
      "metadata": {
        "id": "ae06hiiRAchD"
      }
    },
    {
      "cell_type": "markdown",
      "source": [
        "問題１発展　for文を使う方法（時間があるときに考える）"
      ],
      "metadata": {
        "id": "CD6WfAJG-CIM"
      }
    },
    {
      "cell_type": "code",
      "source": [
        "con = sqlite3.connect(path+db_name) # データベースに接続する\n",
        "cursor1 = con.cursor() # Cursorオブジェクトを作成する\n",
        "\n",
        "sql = 'INSERT INTO users(id, name) VALUES(?, ?)' \n",
        " \n",
        "user2=(2, 'はなこ')\n",
        "user3=(3,'からきだ')\n",
        "user4=(4,'ちよだ')\n",
        "tuple_list = [(user2), (user3), (user4)]\n",
        "for i in range(3):\n",
        "    cursor1.execute(sql,tuple_list[i]) # SQL文を実行する\n",
        "\n",
        "\n",
        "#cursor1.execute(sql,user2) # SQL文を実行する\n",
        "#cursor1.execute(sql,user3) # SQL文を実行する\n",
        "#cursor1.execute(sql,user4) # SQL文を実行する\n",
        "\n",
        "con.commit() # 変更をデータベースに保存する\n",
        "con.close() # データベースを閉じるcursor1"
      ],
      "metadata": {
        "id": "-WnJLSxvgG1j"
      },
      "execution_count": null,
      "outputs": []
    },
    {
      "cell_type": "code",
      "source": [
        "con = sqlite3.connect(path+db_name) # データベースに接続する\n",
        "cursor1 = con.cursor() # Cursorオブジェクトを作成する\n",
        "\n",
        "sql = 'INSERT INTO users(id, name) VALUES(?, ?)' \n",
        "user2=(2, 'はなこ')\n",
        "user3=(3,'からきだ')\n",
        "user4=(4,'ちよだ')\n",
        "#tuple_list = [list(user2), list(user3), list(user4)]\n",
        "tuple_list = [(user2), (user3), (user4)]\n",
        "for user in tuple_list:\n",
        "  print(user)\n",
        "  #sql = 'INSERT INTO users(id, name) VALUES(?, ?)' \n",
        "  cursor1.execute(sql,user) # SQL文を実行する\n",
        "con.commit() # 変更をデータベースに保存する\n",
        "con.close() # データベースを閉じるcursor1"
      ],
      "metadata": {
        "colab": {
          "base_uri": "https://localhost:8080/"
        },
        "id": "-DBCQnFXLdnb",
        "outputId": "c46a1d5c-9517-443c-cead-15cd1ebae60e"
      },
      "execution_count": null,
      "outputs": [
        {
          "output_type": "stream",
          "name": "stdout",
          "text": [
            "(2, 'はなこ')\n",
            "(3, 'からきだ')\n",
            "(4, 'ちよだ')\n"
          ]
        }
      ]
    },
    {
      "cell_type": "markdown",
      "source": [
        "6.6.2 データの検索"
      ],
      "metadata": {
        "id": "ZyXh5TAb-7Pp"
      }
    },
    {
      "cell_type": "code",
      "source": [
        "con = sqlite3.connect(path+db_name) # データベースに接続する\n",
        "cursor1 = con.cursor() # Cursorオブジェクトを作成する\n",
        "sql = 'SELECT * FROM users'\n",
        "for row in cursor1.execute(sql): # 実行結果を取り出す\n",
        "    print(row) # 出力\n",
        "con.close() # データベースを閉じる"
      ],
      "metadata": {
        "colab": {
          "base_uri": "https://localhost:8080/"
        },
        "id": "Rss_IlHxAhBw",
        "outputId": "f95baa94-5f38-4dac-db62-759acd04e1c0"
      },
      "execution_count": null,
      "outputs": [
        {
          "output_type": "stream",
          "name": "stdout",
          "text": [
            "(1, 'おおつま')\n",
            "(2, 'はなこ')\n",
            "(3, 'からきだ')\n",
            "(4, 'ちよだ')\n",
            "(1, 'おおつま')\n"
          ]
        }
      ]
    },
    {
      "cell_type": "markdown",
      "source": [
        "検索の条件を指定する"
      ],
      "metadata": {
        "id": "epbj455FJohh"
      }
    },
    {
      "cell_type": "code",
      "source": [
        "con = sqlite3.connect(path+db_name) # データベースに接続する\n",
        "cursor1 = con.cursor() # Cursorオブジェクトを作成する\n",
        "sql = 'SELECT * FROM users WHERE id=1'\n",
        "for row in cursor1.execute(sql): # 実行結果を取り出す\n",
        "    print(row) # 出力\n",
        "con.close() # データベースを閉じる"
      ],
      "metadata": {
        "colab": {
          "base_uri": "https://localhost:8080/"
        },
        "outputId": "d258f2d3-f740-4c51-eae3-c2c6c1e755b5",
        "id": "fgJ_GgUwJpbB"
      },
      "execution_count": null,
      "outputs": [
        {
          "output_type": "stream",
          "name": "stdout",
          "text": [
            "(1, 'おおつま')\n",
            "(1, 'おおつま')\n"
          ]
        }
      ]
    },
    {
      "cell_type": "code",
      "source": [
        "con = sqlite3.connect(path+db_name) # データベースに接続する\n",
        "cursor1 = con.cursor() # Cursorオブジェクトを作成する\n",
        "sql = 'SELECT * FROM users WHERE id<=3'\n",
        "for row in cursor1.execute(sql): # 実行結果を取り出す\n",
        "    print(row) # 出力\n",
        "con.close() # データベースを閉じる"
      ],
      "metadata": {
        "colab": {
          "base_uri": "https://localhost:8080/"
        },
        "outputId": "4f940b18-2fb6-49fe-f929-683ddbe117b9",
        "id": "Uh6PCs-QKH6L"
      },
      "execution_count": null,
      "outputs": [
        {
          "output_type": "stream",
          "name": "stdout",
          "text": [
            "(1, 'おおつま')\n",
            "(2, 'はなこ')\n",
            "(3, 'からきだ')\n",
            "(1, 'おおつま')\n"
          ]
        }
      ]
    },
    {
      "cell_type": "markdown",
      "source": [
        "AND,ORで検索の条件を複数指定する"
      ],
      "metadata": {
        "id": "0FrwHSEwKU8Z"
      }
    },
    {
      "cell_type": "code",
      "source": [
        "con = sqlite3.connect(path+db_name) # データベースに接続する\n",
        "cursor1 = con.cursor() # Cursorオブジェクトを作成する\n",
        "sql = 'SELECT * FROM users WHERE id=1 or id=3'\n",
        "for row in cursor1.execute(sql): # 実行結果を取り出す\n",
        "    print(row) # 出力\n",
        "con.close() # データベースを閉じる"
      ],
      "metadata": {
        "colab": {
          "base_uri": "https://localhost:8080/"
        },
        "outputId": "bf02757b-d5be-431a-e4d9-7eaee0257d97",
        "id": "jwBgiHu-Kimh"
      },
      "execution_count": null,
      "outputs": [
        {
          "output_type": "stream",
          "name": "stdout",
          "text": [
            "(1, 'おおつま')\n",
            "(3, 'からきだ')\n"
          ]
        }
      ]
    },
    {
      "cell_type": "code",
      "source": [
        "con = sqlite3.connect(path+db_name) # データベースに接続する\n",
        "cursor1 = con.cursor() # Cursorオブジェクトを作成する\n",
        "sql = 'SELECT * FROM users WHERE id>=1 AND id<=3'\n",
        "for row in cursor1.execute(sql): # 実行結果を取り出す\n",
        "    print(row) # 出力\n",
        "con.close() # データベースを閉じる"
      ],
      "metadata": {
        "colab": {
          "base_uri": "https://localhost:8080/"
        },
        "outputId": "ce4a979e-3bfa-4950-8d1f-b2edb81e2729",
        "id": "E7OhJl25KjoS"
      },
      "execution_count": null,
      "outputs": [
        {
          "output_type": "stream",
          "name": "stdout",
          "text": [
            "(1, 'おおつま')\n",
            "(2, 'はなこ')\n",
            "(3, 'からきだ')\n"
          ]
        }
      ]
    },
    {
      "cell_type": "markdown",
      "source": [
        "あいまい検索"
      ],
      "metadata": {
        "id": "C7zXSD7BKTyq"
      }
    },
    {
      "cell_type": "code",
      "source": [
        "con = sqlite3.connect(path+db_name) # データベースに接続する\n",
        "cursor1 = con.cursor() # Cursorオブジェクトを作成する\n",
        "sql = 'SELECT * FROM users WHERE name LIKE \"お%\"'\n",
        "for row in cursor1.execute(sql): # 実行結果を取り出す\n",
        "    print(row) # 出力\n",
        "con.close() # データベースを閉じる"
      ],
      "metadata": {
        "colab": {
          "base_uri": "https://localhost:8080/"
        },
        "outputId": "fa2ebcf6-1d29-46d6-fffa-6513dd2c7a3a",
        "id": "WY0Ez-uLKzbw"
      },
      "execution_count": null,
      "outputs": [
        {
          "output_type": "stream",
          "name": "stdout",
          "text": [
            "(1, 'おおつま')\n"
          ]
        }
      ]
    },
    {
      "cell_type": "code",
      "source": [
        "con = sqlite3.connect(path+db_name) # データベースに接続する\n",
        "cursor1 = con.cursor() # Cursorオブジェクトを作成する\n",
        "sql = 'SELECT * FROM users WHERE name LIKE \"%き%\"'\n",
        "for row in cursor1.execute(sql): # 実行結果を取り出す\n",
        "    print(row) # 出力\n",
        "con.close() # データベースを閉じる"
      ],
      "metadata": {
        "colab": {
          "base_uri": "https://localhost:8080/"
        },
        "outputId": "98b2a2a3-eff0-46cc-e96d-b21cc33a6044",
        "id": "xzhCTES5Lzqn"
      },
      "execution_count": null,
      "outputs": [
        {
          "output_type": "stream",
          "name": "stdout",
          "text": [
            "(3, 'からきだ')\n"
          ]
        }
      ]
    },
    {
      "cell_type": "code",
      "source": [
        "con = sqlite3.connect(path+db_name) # データベースに接続する\n",
        "cursor1 = con.cursor() # Cursorオブジェクトを作成する\n",
        "sql = 'SELECT * FROM users WHERE name LIKE \"%だ\"'\n",
        "for row in cursor1.execute(sql): # 実行結果を取り出す\n",
        "    print(row) # 出力\n",
        "con.close() # データベースを閉じる"
      ],
      "metadata": {
        "colab": {
          "base_uri": "https://localhost:8080/"
        },
        "outputId": "48214210-2f00-40cf-97f6-b78cba0aafbe",
        "id": "JbhAYXEfL9Im"
      },
      "execution_count": null,
      "outputs": [
        {
          "output_type": "stream",
          "name": "stdout",
          "text": [
            "(3, 'からきだ')\n",
            "(4, 'ちよだ')\n"
          ]
        }
      ]
    },
    {
      "cell_type": "markdown",
      "source": [
        "ソートする"
      ],
      "metadata": {
        "id": "q1T0qTDmMGbH"
      }
    },
    {
      "cell_type": "code",
      "source": [],
      "metadata": {
        "id": "BLKXBh4IBPXr"
      },
      "execution_count": null,
      "outputs": []
    },
    {
      "cell_type": "code",
      "source": [
        "con = sqlite3.connect(path+db_name) # データベースに接続する\n",
        "cursor1 = con.cursor() # Cursorオブジェクトを作成する\n",
        "sql = 'SELECT * FROM users ORDER BY id DESC'\n",
        "for row in cursor1.execute(sql): # 実行結果を取り出す\n",
        "    print(row) # 出力\n",
        "con.close() # データベースを閉じる"
      ],
      "metadata": {
        "colab": {
          "base_uri": "https://localhost:8080/"
        },
        "outputId": "c4c6bef5-3f8b-4ebb-9a48-722625e3bad0",
        "id": "tVonx2stMI1d"
      },
      "execution_count": null,
      "outputs": [
        {
          "output_type": "stream",
          "name": "stdout",
          "text": [
            "(4, 'ちよだ')\n",
            "(3, 'からきだ')\n",
            "(2, 'はなこ')\n",
            "(1, 'おおつま')\n"
          ]
        }
      ]
    },
    {
      "cell_type": "code",
      "source": [
        "con = sqlite3.connect(path+db_name) # データベースに接続する\n",
        "cursor1 = con.cursor() # Cursorオブジェクトを作成する\n",
        "sql = 'SELECT * FROM users ORDER BY name DESC'\n",
        "for row in cursor1.execute(sql): # 実行結果を取り出す\n",
        "    print(row) # 出力\n",
        "con.close() # データベースを閉じる"
      ],
      "metadata": {
        "colab": {
          "base_uri": "https://localhost:8080/"
        },
        "outputId": "46efa54c-9a73-4d73-d75a-35a3f0adf3e1",
        "id": "9h4p8innMg-U"
      },
      "execution_count": null,
      "outputs": [
        {
          "output_type": "stream",
          "name": "stdout",
          "text": [
            "(2, 'はなこ')\n",
            "(4, 'ちよだ')\n",
            "(3, 'からきだ')\n",
            "(1, 'おおつま')\n"
          ]
        }
      ]
    },
    {
      "cell_type": "markdown",
      "source": [
        "件数を制限する"
      ],
      "metadata": {
        "id": "F9R2kxmmMmkC"
      }
    },
    {
      "cell_type": "code",
      "source": [
        "con = sqlite3.connect(path+db_name) # データベースに接続する\n",
        "cursor1 = con.cursor() # Cursorオブジェクトを作成する\n",
        "sql = 'SELECT * FROM users LIMIT 3'\n",
        "for row in cursor1.execute(sql): # 実行結果を取り出す\n",
        "    print(row) # 出力\n",
        "con.close() # データベースを閉じる"
      ],
      "metadata": {
        "colab": {
          "base_uri": "https://localhost:8080/"
        },
        "outputId": "a0b6e926-fdca-49cb-d991-a914c1154ebe",
        "id": "8OtZMadDMvo1"
      },
      "execution_count": null,
      "outputs": [
        {
          "output_type": "stream",
          "name": "stdout",
          "text": [
            "(1, 'おおつま')\n",
            "(2, 'はなこ')\n",
            "(3, 'からきだ')\n"
          ]
        }
      ]
    },
    {
      "cell_type": "markdown",
      "source": [
        "6.6.3 データの更新"
      ],
      "metadata": {
        "id": "aIU_hcPCM3da"
      }
    },
    {
      "cell_type": "code",
      "source": [
        "con = sqlite3.connect(path+db_name) # データベースに接続\n",
        "cursor1 = con.cursor() # Cursorオブジェクトを作成\n",
        "sql = 'UPDATE users SET name = \"さやま\" WHERE id = 2'\n",
        "cursor1.execute(sql) # SQL文を実行する\n",
        "con.commit() # 変更をデータベースに保存する\n",
        "con.close() # データベースを閉じる"
      ],
      "metadata": {
        "id": "OwYaQaqXBLri"
      },
      "execution_count": null,
      "outputs": []
    },
    {
      "cell_type": "code",
      "source": [
        "con = sqlite3.connect(path+db_name) # データベースに接続\n",
        "cursor1 = con.cursor() # Cursorオブジェクトを作成\n",
        "user=('さやま',2)\n",
        "sql = 'UPDATE users SET name = ? WHERE id = ?'\n",
        "cursor1.execute(sql,user) # SQL文を実行する\n",
        "con.commit() # 変更をデータベースに保存する\n",
        "con.close() # データベースを閉じる"
      ],
      "metadata": {
        "id": "pCldkl02NPMz"
      },
      "execution_count": null,
      "outputs": []
    },
    {
      "cell_type": "markdown",
      "source": [
        "6.6.4 データの削除"
      ],
      "metadata": {
        "id": "DexinYjzNvIB"
      }
    },
    {
      "cell_type": "code",
      "source": [
        "con = sqlite3.connect(path+db_name) # データベースに接続する\n",
        "cursor1 = con.cursor()\t# Cursorオブジェクトを作成する\n",
        "sql = 'DELETE FROM users WHERE id = 3'\n",
        "cursor1.execute(sql) # SQL文を実行する\n",
        "con.commit() # 変更をデータベースに保存する\n",
        "con.close() # データベースを閉じる"
      ],
      "metadata": {
        "id": "UPIGreB7N58Q"
      },
      "execution_count": null,
      "outputs": []
    },
    {
      "cell_type": "markdown",
      "source": [
        "6.7はスクレイピングを学んでから学習しましょう"
      ],
      "metadata": {
        "id": "iw3YV8cmNzHb"
      }
    }
  ]
}