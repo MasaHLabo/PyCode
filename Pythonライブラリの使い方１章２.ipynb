{
  "nbformat": 4,
  "nbformat_minor": 0,
  "metadata": {
    "colab": {
      "provenance": [],
      "authorship_tag": "ABX9TyPwCN6jwNCL7xYjc1kIjPTO",
      "include_colab_link": true
    },
    "kernelspec": {
      "name": "python3",
      "display_name": "Python 3"
    },
    "language_info": {
      "name": "python"
    }
  },
  "cells": [
    {
      "cell_type": "markdown",
      "metadata": {
        "id": "view-in-github",
        "colab_type": "text"
      },
      "source": [
        "<a href=\"https://colab.research.google.com/github/MasaHLabo/PyCode/blob/main/Python%E3%83%A9%E3%82%A4%E3%83%96%E3%83%A9%E3%83%AA%E3%81%AE%E4%BD%BF%E3%81%84%E6%96%B9%EF%BC%91%E7%AB%A0%EF%BC%92.ipynb\" target=\"_parent\"><img src=\"https://colab.research.google.com/assets/colab-badge.svg\" alt=\"Open In Colab\"/></a>"
      ]
    },
    {
      "cell_type": "markdown",
      "source": [
        "1.10 関数"
      ],
      "metadata": {
        "id": "qfgSa2l8pxMl"
      }
    },
    {
      "cell_type": "code",
      "source": [
        "list1=[1,2,3,4,5,6]\n",
        "len(list1)"
      ],
      "metadata": {
        "id": "Ze1XhjP1rmkJ"
      },
      "execution_count": null,
      "outputs": []
    },
    {
      "cell_type": "code",
      "source": [
        "print(1)"
      ],
      "metadata": {
        "id": "E4dnKTKsxSu3"
      },
      "execution_count": null,
      "outputs": []
    },
    {
      "cell_type": "code",
      "source": [
        "str(1)"
      ],
      "metadata": {
        "id": "bLw5JsMBufwM"
      },
      "execution_count": null,
      "outputs": []
    },
    {
      "cell_type": "code",
      "source": [
        "help()"
      ],
      "metadata": {
        "id": "-MnAQqV9uOGA"
      },
      "execution_count": null,
      "outputs": []
    },
    {
      "cell_type": "code",
      "source": [
        "def greeting():\n",
        "  print('こんにちは！')"
      ],
      "metadata": {
        "id": "PgYDoAWDujh6"
      },
      "execution_count": null,
      "outputs": []
    },
    {
      "cell_type": "code",
      "source": [
        "greeting()"
      ],
      "metadata": {
        "id": "sdhqs1-U5Q1L"
      },
      "execution_count": null,
      "outputs": []
    },
    {
      "cell_type": "code",
      "source": [
        "def greeting2(name):\n",
        "  print(name+'さん、こんにちは！')"
      ],
      "metadata": {
        "id": "7lSxmhEX5v0o"
      },
      "execution_count": null,
      "outputs": []
    },
    {
      "cell_type": "code",
      "source": [
        "greeting２('○') #○は任意の名前で"
      ],
      "metadata": {
        "id": "RdAdQ0aW6GfD"
      },
      "execution_count": null,
      "outputs": []
    },
    {
      "cell_type": "code",
      "source": [
        "def tashizan(value1, value2):\n",
        "  result=value1+value2\n",
        "  return result"
      ],
      "metadata": {
        "id": "-TXjWwmS6-ri"
      },
      "execution_count": null,
      "outputs": []
    },
    {
      "cell_type": "code",
      "source": [
        "kekka=tashizan(1,3)\n",
        "print(kekka)"
      ],
      "metadata": {
        "id": "ijDXT9P77OVK"
      },
      "execution_count": null,
      "outputs": []
    },
    {
      "cell_type": "code",
      "source": [
        "def tashizan2(value1, value2):\n",
        "  return value1+value2"
      ],
      "metadata": {
        "id": "ONSkXSR47fAd"
      },
      "execution_count": null,
      "outputs": []
    },
    {
      "cell_type": "code",
      "source": [
        "print(tashizan2(1,3))"
      ],
      "metadata": {
        "id": "Lp4BNVPA7qjn"
      },
      "execution_count": null,
      "outputs": []
    },
    {
      "cell_type": "code",
      "source": [
        "print(tashizan2(value1=1,value2=3))"
      ],
      "metadata": {
        "colab": {
          "base_uri": "https://localhost:8080/",
          "height": 170
        },
        "id": "FOHIZFoM795o",
        "outputId": "c3c43ebe-9134-46f6-f51e-ab3095f77f98"
      },
      "execution_count": null,
      "outputs": [
        {
          "output_type": "error",
          "ename": "NameError",
          "evalue": "ignored",
          "traceback": [
            "\u001b[0;31m---------------------------------------------------------------------------\u001b[0m",
            "\u001b[0;31mNameError\u001b[0m                                 Traceback (most recent call last)",
            "\u001b[0;32m<ipython-input-1-ee55d99441d6>\u001b[0m in \u001b[0;36m<module>\u001b[0;34m\u001b[0m\n\u001b[0;32m----> 1\u001b[0;31m \u001b[0mprint\u001b[0m\u001b[0;34m(\u001b[0m\u001b[0mtashizan2\u001b[0m\u001b[0;34m(\u001b[0m\u001b[0mvalue1\u001b[0m\u001b[0;34m=\u001b[0m\u001b[0;36m1\u001b[0m\u001b[0;34m,\u001b[0m\u001b[0mvalue2\u001b[0m\u001b[0;34m=\u001b[0m\u001b[0;36m3\u001b[0m\u001b[0;34m)\u001b[0m\u001b[0;34m)\u001b[0m\u001b[0;34m\u001b[0m\u001b[0;34m\u001b[0m\u001b[0m\n\u001b[0m",
            "\u001b[0;31mNameError\u001b[0m: name 'tashizan2' is not defined"
          ]
        }
      ]
    },
    {
      "cell_type": "code",
      "source": [
        "print(tashizan2(value2=3,value1=1))"
      ],
      "metadata": {
        "id": "AERjRSzq8F5h"
      },
      "execution_count": null,
      "outputs": []
    },
    {
      "cell_type": "code",
      "source": [
        "print(tashizan2(1,value2=3))"
      ],
      "metadata": {
        "id": "6LrBFVRB8ODU"
      },
      "execution_count": null,
      "outputs": []
    },
    {
      "cell_type": "code",
      "source": [
        "print(tashizan2(value1=1,3))"
      ],
      "metadata": {
        "colab": {
          "base_uri": "https://localhost:8080/",
          "height": 135
        },
        "id": "vA9InnWq8RNT",
        "outputId": "71753312-9423-42f5-d41a-af7b1271cb3f"
      },
      "execution_count": null,
      "outputs": [
        {
          "output_type": "error",
          "ename": "SyntaxError",
          "evalue": "ignored",
          "traceback": [
            "\u001b[0;36m  File \u001b[0;32m\"<ipython-input-11-7f4aaefcc60f>\"\u001b[0;36m, line \u001b[0;32m1\u001b[0m\n\u001b[0;31m    print(tashizan2(value1=1,3))\u001b[0m\n\u001b[0m                            ^\u001b[0m\n\u001b[0;31mSyntaxError\u001b[0m\u001b[0;31m:\u001b[0m positional argument follows keyword argument\n"
          ]
        }
      ]
    },
    {
      "cell_type": "code",
      "source": [
        "def tashizan3(value1, value2):\n",
        "  return '答えは'+str(value1+value2)+'です。'"
      ],
      "metadata": {
        "id": "tsGAuEzz882y"
      },
      "execution_count": null,
      "outputs": []
    },
    {
      "cell_type": "code",
      "source": [
        "print(tashizan3(1,4))"
      ],
      "metadata": {
        "id": "Kg0UYC2t9UTg"
      },
      "execution_count": null,
      "outputs": []
    },
    {
      "cell_type": "code",
      "source": [
        "def tashizan４(value1=1, value2=2):\n",
        "  return value1+value2"
      ],
      "metadata": {
        "id": "E4Qj58549gHX"
      },
      "execution_count": null,
      "outputs": []
    },
    {
      "cell_type": "code",
      "source": [
        "tashizan4()"
      ],
      "metadata": {
        "id": "frj6Ixtz9shh"
      },
      "execution_count": null,
      "outputs": []
    },
    {
      "cell_type": "code",
      "source": [
        "tashizan4(2, 4)"
      ],
      "metadata": {
        "id": "xgqWh1Vm9wkE"
      },
      "execution_count": null,
      "outputs": []
    },
    {
      "cell_type": "markdown",
      "source": [],
      "metadata": {
        "id": "BuP_RY6eFjqW"
      }
    },
    {
      "cell_type": "code",
      "source": [
        "def karaoke():\n",
        "  y=180*3+240\n",
        "  print('料金',y,'円')"
      ],
      "metadata": {
        "id": "AHx6wLmcvf1-"
      },
      "execution_count": null,
      "outputs": []
    },
    {
      "cell_type": "code",
      "source": [
        "karaoke()"
      ],
      "metadata": {
        "id": "YqZSDxHOvsQH"
      },
      "execution_count": null,
      "outputs": []
    },
    {
      "cell_type": "code",
      "source": [
        "def karaoke(x):\n",
        "  y=180*x+240\n",
        "  print('料金',y,'円')"
      ],
      "metadata": {
        "id": "yQGeIfSNw8Tp"
      },
      "execution_count": null,
      "outputs": []
    },
    {
      "cell_type": "code",
      "source": [
        "karaoke(3)"
      ],
      "metadata": {
        "id": "y_ocRr27xAOf"
      },
      "execution_count": null,
      "outputs": []
    },
    {
      "cell_type": "code",
      "source": [
        "def karaoke(hour, init):\n",
        "  y=180*hour+init\n",
        "  return y"
      ],
      "metadata": {
        "id": "UQeFGb7b0oSR"
      },
      "execution_count": null,
      "outputs": []
    },
    {
      "cell_type": "code",
      "source": [
        "daikin=karaoke(3, 240)\n",
        "print('料金',daikin,'円')"
      ],
      "metadata": {
        "id": "n_T2zhzr0vGa"
      },
      "execution_count": null,
      "outputs": []
    },
    {
      "cell_type": "code",
      "execution_count": null,
      "metadata": {
        "id": "hhOgHxEjpd0P"
      },
      "outputs": [],
      "source": [
        "def karaoke(x):\n",
        "  y=180*x+240\n",
        "  print('料金',y,'円')\n",
        "\n",
        "x=input('歌った時間＝')\n",
        "x=int(x)\n",
        "karaoke(x)\n",
        "print('関数終了')"
      ]
    },
    {
      "cell_type": "code",
      "source": [
        "def karaoke(hour):\n",
        "  y=180*hour+240\n",
        "  print('料金',y)\n",
        "\n",
        "x=input('歌った時間＝')\n",
        "x=int(x)\n",
        "karaoke(x)\n",
        "print('関数終了')"
      ],
      "metadata": {
        "id": "ULVlzJF3v80-"
      },
      "execution_count": null,
      "outputs": []
    },
    {
      "cell_type": "code",
      "source": [
        "def karaoke(hour):\n",
        "  y=180*hour+240\n",
        "  return y\n",
        "\n",
        "x=input('歌った時間＝')\n",
        "x=int(x)\n",
        "y=karaoke(x)\n",
        "print('料金',y)\n",
        " #print('関数終了')"
      ],
      "metadata": {
        "id": "0QPxpQUewJeh"
      },
      "execution_count": null,
      "outputs": []
    },
    {
      "cell_type": "code",
      "source": [
        "def karaoke(hour):\n",
        "  y=180*hour+240\n",
        "  return '料金', y\n",
        "\n",
        "x=input('歌った時間＝')\n",
        "x=int(x)\n",
        "text,y=karaoke(x)\n",
        "print(text,y)\n",
        " #print('関数終了')"
      ],
      "metadata": {
        "id": "UB-q88x9wz0A"
      },
      "execution_count": null,
      "outputs": []
    },
    {
      "cell_type": "code",
      "source": [
        "def karaoke(hour, init):\n",
        "  y=180*hour+init\n",
        "  return '料金', y\n",
        "\n",
        "x=input('歌った時間＝')\n",
        "x=int(x)\n",
        "z=input('入店時の料金＝')\n",
        "z=int(z)\n",
        "text,y=karaoke(x, z)\n",
        "print(text,y)\n",
        " #print('関数終了')"
      ],
      "metadata": {
        "id": "4ocWMjJCytVb"
      },
      "execution_count": null,
      "outputs": []
    },
    {
      "cell_type": "code",
      "source": [
        "def karaoke(hour, init):\n",
        "  y=180*hour+init\n",
        "  return '料金', y\n",
        "\n",
        "#x=input('歌った時間＝')\n",
        "#x=int(x)\n",
        "#z=input('入店時の料金＝')\n",
        "#z=int(z)\n",
        "text,y=karaoke(hour=3, init=240)\n",
        "print(text,y)"
      ],
      "metadata": {
        "id": "esOt988w0yqd"
      },
      "execution_count": null,
      "outputs": []
    },
    {
      "cell_type": "code",
      "source": [
        "def karaoke(hour, init):\n",
        "  y=180*hour+init\n",
        "  return '料金', y\n",
        "\n",
        "x=input('歌った時間＝')\n",
        "x=int(x)\n",
        "#z=input('入店時の料金＝')\n",
        "#z=int(z)\n",
        "text,y=karaoke(x, init=240)\n",
        "print(text,y)"
      ],
      "metadata": {
        "id": "tRKbH9fY1Ka-"
      },
      "execution_count": null,
      "outputs": []
    },
    {
      "cell_type": "markdown",
      "source": [
        "問題回解答例"
      ],
      "metadata": {
        "id": "36CI6miBWySi"
      }
    },
    {
      "cell_type": "code",
      "source": [
        "fruits_dict={'りんご':100,'レモン':150,'ぶどう':200}\n",
        "def fruits_add():  \n",
        "  x=input('追加したい商品は？')\n",
        "  y=int(input('その値段は？'))\n",
        "  fruits_dict[x]=y\n",
        "\n",
        "print('商品の追加！')\n",
        "fruits_add()\n",
        "print(fruits_dict)"
      ],
      "metadata": {
        "id": "0InOC6MdViT7"
      },
      "execution_count": null,
      "outputs": []
    },
    {
      "cell_type": "code",
      "source": [
        "fruits_dict={'りんご':100,'レモン':150,'ぶどう':200}\n",
        "def fruits_add(fruits_dict2):  \n",
        "  #x=input('追加したい商品は？')\n",
        "  #y=int(input('その値段は？'))\n",
        "  #fruits_dict.update('みかん':300) ×\n",
        "  #fruits_dict['みかん']=300  ○\n",
        "  mikan_dict={'みかん':300}\n",
        "  fruits_dict3=dict(fruits_dict2,**mikan_dict) #fruits_dict=fruits_dict+mikan_dict\n",
        "  return fruits_dict3\n",
        "print('商品の追加！')\n",
        "a=fruits_add(fruits_dict)\n",
        "print(a)"
      ],
      "metadata": {
        "id": "MUluq_PobQ_q"
      },
      "execution_count": null,
      "outputs": []
    },
    {
      "cell_type": "code",
      "source": [
        "fruits_dict={'りんご':100,'レモン':150,'ぶどう':200}\n",
        "def fruits_add():  \n",
        "  #x=input('追加したい商品は？')\n",
        "  #y=int(input('その値段は？'))\n",
        "  #fruits_dict.update('みかん':300) ×\n",
        "  #fruits_dict['みかん']=300  ○\n",
        "  mikan_dict={'みかん':300}\n",
        "  fruits_dict.update(mikan_dict)#fruits_dict=fruits_dict+mikan_dict\n",
        "print('商品の追加！')\n",
        "fruits_add()\n",
        "print(fruits_dict)"
      ],
      "metadata": {
        "id": "TjwV73Nwnb0F"
      },
      "execution_count": null,
      "outputs": []
    },
    {
      "cell_type": "code",
      "source": [
        "fruits_dict={'りんご':100,'レモン':150,'ぶどう':200}\n",
        "print(fruits_dict)"
      ],
      "metadata": {
        "id": "FXXOI8EOmXxs"
      },
      "execution_count": null,
      "outputs": []
    },
    {
      "cell_type": "code",
      "source": [
        "fruits_dict={'りんご':100,'レモン':150,'ぶどう':200}\n",
        "def fruits_add():  \n",
        "  #x=input('追加したい商品は？')\n",
        "  #y=int(input('その値段は？'))\n",
        "  #fruits_dict.update('みかん':300) ×\n",
        "  #fruits_dict['みかん']=300  ○\n",
        "  #mikan_dict={'みかん':300}\n",
        "  fruits_dict.update(みかん=300) #正式には’’残すとエラーが出る　’引用符で囲むと式の扱いができないのでこうなる\n",
        "print('商品の追加！')\n",
        "fruits_add()\n",
        "print(fruits_dict)"
      ],
      "metadata": {
        "id": "iD-VR5Acld7O"
      },
      "execution_count": null,
      "outputs": []
    },
    {
      "cell_type": "markdown",
      "source": [
        "ほかのメソッド例"
      ],
      "metadata": {
        "id": "2MKqdoQwsdLy"
      }
    },
    {
      "cell_type": "code",
      "source": [
        "def fruits_choice():\n",
        "  choice_kazu=[]\n",
        "  for kazu in fruits_dict:\n",
        "    #print(kazu)\n",
        "    choice_kazu.append(int(input(kazu+'の購入数＝')))\n",
        "  return choice_kazu\n",
        "  #b = int(input('レモンの購入数＝'))\n",
        "  #c = int(input('ブドウの購入数＝'))\n",
        "  #return keisan(a,b,c)\n",
        "a=fruits_choice()\n",
        "print(a)"
      ],
      "metadata": {
        "id": "6YD3sErP9EHE"
      },
      "execution_count": null,
      "outputs": []
    },
    {
      "cell_type": "code",
      "source": [
        "fruits_dict={'りんご':100,'レモン':150,'ぶどう':200}\n",
        "#print(fruits_dict.values())\n",
        "def fruits_buy(a):\n",
        "  i=0\n",
        "  goukei=0\n",
        "  for n in fruits_dict.values():\n",
        "    goukei+=int(n)*a[i]\n",
        "    #print(goukei)\n",
        "    i+=1\n",
        "  return goukei\n",
        "#print(a)\n",
        "daikin=fruits_buy(a)\n",
        "print('購入した代金は'+str(daikin)+'円です。')"
      ],
      "metadata": {
        "id": "E3BBkSOhO_7J"
      },
      "execution_count": null,
      "outputs": []
    },
    {
      "cell_type": "markdown",
      "source": [
        "1.10.4　無名関数　ラムダ式"
      ],
      "metadata": {
        "id": "GWApcAd1BCa7"
      }
    },
    {
      "cell_type": "code",
      "source": [
        "help(map)"
      ],
      "metadata": {
        "colab": {
          "base_uri": "https://localhost:8080/"
        },
        "id": "mZ1xgCSi1URs",
        "outputId": "1f95fdcd-7dd4-48c8-e75a-7c84768bdd9b"
      },
      "execution_count": null,
      "outputs": [
        {
          "output_type": "stream",
          "name": "stdout",
          "text": [
            "Help on class map in module builtins:\n",
            "\n",
            "class map(object)\n",
            " |  map(func, *iterables) --> map object\n",
            " |  \n",
            " |  Make an iterator that computes the function using arguments from\n",
            " |  each of the iterables.  Stops when the shortest iterable is exhausted.\n",
            " |  \n",
            " |  Methods defined here:\n",
            " |  \n",
            " |  __getattribute__(self, name, /)\n",
            " |      Return getattr(self, name).\n",
            " |  \n",
            " |  __iter__(self, /)\n",
            " |      Implement iter(self).\n",
            " |  \n",
            " |  __next__(self, /)\n",
            " |      Implement next(self).\n",
            " |  \n",
            " |  __reduce__(...)\n",
            " |      Return state information for pickling.\n",
            " |  \n",
            " |  ----------------------------------------------------------------------\n",
            " |  Static methods defined here:\n",
            " |  \n",
            " |  __new__(*args, **kwargs) from builtins.type\n",
            " |      Create and return a new object.  See help(type) for accurate signature.\n",
            "\n"
          ]
        }
      ]
    },
    {
      "cell_type": "code",
      "source": [
        "# 数値を2倍にする無名関数\n",
        "sample = lambda x: x * 2\n",
        "print(sample(10))"
      ],
      "metadata": {
        "id": "0ZvFt48RDQhQ"
      },
      "execution_count": null,
      "outputs": []
    },
    {
      "cell_type": "code",
      "source": [
        "def sample2(x):\n",
        "  return x*2\n",
        "print(sample2(10))"
      ],
      "metadata": {
        "id": "bwU8-I56EYbo"
      },
      "execution_count": null,
      "outputs": []
    },
    {
      "cell_type": "code",
      "source": [
        "def tax(p):\n",
        "  return p*1.1\n",
        "prices=map(tax, [500,300,250])\n",
        "print(list(prices))"
      ],
      "metadata": {
        "id": "KNOMsrh9FIx_"
      },
      "execution_count": null,
      "outputs": []
    },
    {
      "cell_type": "code",
      "source": [
        "prices=map(lambda p:p*1.1, [500,300,250])\n",
        "print(prices)"
      ],
      "metadata": {
        "id": "WMqKnep6FnmS"
      },
      "execution_count": null,
      "outputs": []
    },
    {
      "cell_type": "code",
      "source": [
        "prices=map(lambda p:p*1.1, [500,300,250])\n",
        "print(list(prices))"
      ],
      "metadata": {
        "id": "ooOHtSijGJ2Z"
      },
      "execution_count": null,
      "outputs": []
    },
    {
      "cell_type": "markdown",
      "source": [
        "クラスの作成"
      ],
      "metadata": {
        "id": "i1JjBGYPMGzM"
      }
    },
    {
      "cell_type": "code",
      "source": [
        "class Human():\n",
        "  def __init__(self):\n",
        "    self.name='大分'"
      ],
      "metadata": {
        "id": "Dq2jVm8B7A83"
      },
      "execution_count": null,
      "outputs": []
    },
    {
      "cell_type": "code",
      "source": [
        "person=Human()"
      ],
      "metadata": {
        "id": "XInvWURw8Fly"
      },
      "execution_count": null,
      "outputs": []
    },
    {
      "cell_type": "code",
      "source": [
        "print(person.name)"
      ],
      "metadata": {
        "id": "PPbPMeoG8KMx"
      },
      "execution_count": null,
      "outputs": []
    },
    {
      "cell_type": "code",
      "source": [
        "person.name='太郎'\n",
        "print(person.name)"
      ],
      "metadata": {
        "id": "xohQN9fy8NSg"
      },
      "execution_count": null,
      "outputs": []
    },
    {
      "cell_type": "code",
      "source": [
        "class Human():\n",
        "  def __init__(self, name):\n",
        "    self.name=name"
      ],
      "metadata": {
        "id": "rIx-b81U8bNw"
      },
      "execution_count": null,
      "outputs": []
    },
    {
      "cell_type": "code",
      "source": [
        "person=Human('大分')\n",
        "print(person.name)"
      ],
      "metadata": {
        "id": "EbxVuUhJ8vbG"
      },
      "execution_count": null,
      "outputs": []
    },
    {
      "cell_type": "code",
      "source": [
        "class Human():\n",
        "  def __init__(self, name):#__ アンダーバー２個\n",
        "    self.name=name\n",
        "\n",
        "  def greeting(self):\n",
        "    print('こんにちは，私は'+self.name+'です．')"
      ],
      "metadata": {
        "id": "KIfGcfEU86yV"
      },
      "execution_count": null,
      "outputs": []
    },
    {
      "cell_type": "code",
      "source": [
        "person1=Human('大分')\n",
        "person2=Human('太郎')\n",
        "person1.greeting()\n",
        "person2.greeting()"
      ],
      "metadata": {
        "id": "I6yM4Gf--y7H"
      },
      "execution_count": null,
      "outputs": []
    },
    {
      "cell_type": "markdown",
      "source": [
        "**修正箇所：スライドも修正！**"
      ],
      "metadata": {
        "id": "y9SvvsDxnBSw"
      }
    },
    {
      "cell_type": "code",
      "source": [
        "class Human():\n",
        "  def __init__(self, name):\n",
        "    my_name=name\n",
        "\n",
        "  def greeting(self):\n",
        "    print('こんにちは，私は'+my_name+'です．')\n",
        "  \n",
        "person=Human('大分')\n",
        "person.greeting()"
      ],
      "metadata": {
        "colab": {
          "base_uri": "https://localhost:8080/",
          "height": 338
        },
        "id": "QwnHcoFQ_I0X",
        "outputId": "62ed730d-de05-4f53-838e-c9175740ea8b"
      },
      "execution_count": null,
      "outputs": [
        {
          "output_type": "error",
          "ename": "NameError",
          "evalue": "ignored",
          "traceback": [
            "\u001b[0;31m---------------------------------------------------------------------------\u001b[0m",
            "\u001b[0;31mNameError\u001b[0m                                 Traceback (most recent call last)",
            "\u001b[0;32m<ipython-input-9-f0ef91481fd5>\u001b[0m in \u001b[0;36m<module>\u001b[0;34m\u001b[0m\n\u001b[1;32m      7\u001b[0m \u001b[0;34m\u001b[0m\u001b[0m\n\u001b[1;32m      8\u001b[0m \u001b[0mperson\u001b[0m\u001b[0;34m=\u001b[0m\u001b[0mHuman\u001b[0m\u001b[0;34m(\u001b[0m\u001b[0;34m'大分'\u001b[0m\u001b[0;34m)\u001b[0m\u001b[0;34m\u001b[0m\u001b[0;34m\u001b[0m\u001b[0m\n\u001b[0;32m----> 9\u001b[0;31m \u001b[0mperson\u001b[0m\u001b[0;34m.\u001b[0m\u001b[0mgreeting\u001b[0m\u001b[0;34m(\u001b[0m\u001b[0;34m)\u001b[0m\u001b[0;34m\u001b[0m\u001b[0;34m\u001b[0m\u001b[0m\n\u001b[0m",
            "\u001b[0;32m<ipython-input-9-f0ef91481fd5>\u001b[0m in \u001b[0;36mgreeting\u001b[0;34m(self)\u001b[0m\n\u001b[1;32m      4\u001b[0m \u001b[0;34m\u001b[0m\u001b[0m\n\u001b[1;32m      5\u001b[0m   \u001b[0;32mdef\u001b[0m \u001b[0mgreeting\u001b[0m\u001b[0;34m(\u001b[0m\u001b[0mself\u001b[0m\u001b[0;34m)\u001b[0m\u001b[0;34m:\u001b[0m\u001b[0;34m\u001b[0m\u001b[0;34m\u001b[0m\u001b[0m\n\u001b[0;32m----> 6\u001b[0;31m     \u001b[0mprint\u001b[0m\u001b[0;34m(\u001b[0m\u001b[0;34m'こんにちは，私は'\u001b[0m\u001b[0;34m+\u001b[0m\u001b[0mmy_name\u001b[0m\u001b[0;34m+\u001b[0m\u001b[0;34m'です．'\u001b[0m\u001b[0;34m)\u001b[0m\u001b[0;34m\u001b[0m\u001b[0;34m\u001b[0m\u001b[0m\n\u001b[0m\u001b[1;32m      7\u001b[0m \u001b[0;34m\u001b[0m\u001b[0m\n\u001b[1;32m      8\u001b[0m \u001b[0mperson\u001b[0m\u001b[0;34m=\u001b[0m\u001b[0mHuman\u001b[0m\u001b[0;34m(\u001b[0m\u001b[0;34m'大分'\u001b[0m\u001b[0;34m)\u001b[0m\u001b[0;34m\u001b[0m\u001b[0;34m\u001b[0m\u001b[0m\n",
            "\u001b[0;31mNameError\u001b[0m: name 'my_name' is not defined"
          ]
        }
      ]
    },
    {
      "cell_type": "markdown",
      "source": [
        "クラス作成例　別の場合"
      ],
      "metadata": {
        "id": "ClsYXtLZ3eD6"
      }
    },
    {
      "cell_type": "code",
      "source": [
        "class Human():\n",
        "  def __init__(self, name):\n",
        "    #my_name=name\n",
        "    self.name=name \n",
        "  def greeting(self):\n",
        "    #print('こんにちは，私は'+my_name+'です．')\n",
        "    print('こんにちは，私は'+self.name+'です．')\n",
        "person=Human('大分太郎')\n",
        "person.greeting()"
      ],
      "metadata": {
        "id": "V5AGKSIh3hNl"
      },
      "execution_count": null,
      "outputs": []
    },
    {
      "cell_type": "code",
      "source": [
        "class Human():\n",
        "  def __init__(self, name):\n",
        "    #my_name=name\n",
        "    self.name=name \n",
        "  def greeting(self):\n",
        "    #print('こんにちは，私は'+my_name+'です．')\n",
        "    print('こんにちは，私は'+self.name+'です．')\n",
        "person=Human('大分太郎')\n",
        "person.greeting()"
      ],
      "metadata": {
        "id": "zxm1sxv1qpZA"
      },
      "execution_count": null,
      "outputs": []
    },
    {
      "cell_type": "code",
      "source": [
        "class Student(Human):\n",
        "  def study(self):\n",
        "    print('私は勉強します．')"
      ],
      "metadata": {
        "id": "21AKo3nG__dQ"
      },
      "execution_count": null,
      "outputs": []
    },
    {
      "cell_type": "code",
      "source": [
        "person=Student('電電')"
      ],
      "metadata": {
        "id": "TD7tUbQHBv71"
      },
      "execution_count": null,
      "outputs": []
    },
    {
      "cell_type": "code",
      "source": [
        "person.study()"
      ],
      "metadata": {
        "id": "5CEjOV2OB9dE"
      },
      "execution_count": null,
      "outputs": []
    },
    {
      "cell_type": "code",
      "source": [
        "person.greeting()"
      ],
      "metadata": {
        "id": "8qpZ2_tHCBOl"
      },
      "execution_count": null,
      "outputs": []
    },
    {
      "cell_type": "code",
      "source": [
        "class Student(Human):\n",
        "  def study(self):\n",
        "    print('私は勉強します．')\n",
        "\n",
        "  def greeting(self):\n",
        "    print('私は，大分大学の'+self.name+'です．')"
      ],
      "metadata": {
        "id": "2viQdxgfCKgB"
      },
      "execution_count": null,
      "outputs": []
    },
    {
      "cell_type": "code",
      "source": [
        "person=Student('太郎')\n",
        "person.greeting()"
      ],
      "metadata": {
        "id": "cuRny_YYD-Is"
      },
      "execution_count": null,
      "outputs": []
    },
    {
      "cell_type": "code",
      "source": [
        "ゲームっぽくクラスを作成してみる"
      ],
      "metadata": {
        "id": "JzYoststs89Q"
      },
      "execution_count": null,
      "outputs": []
    },
    {
      "cell_type": "code",
      "source": [
        "import random\n",
        "class  Character:\n",
        "    def __init__(self,name, hp=100, strength=20, luck=20):\n",
        "        self.name = name\n",
        "        self.hp = hp\n",
        "        self.max_hp = hp\n",
        "        self.strength = strength\n",
        "        self.luck = luck\n",
        "        \n",
        "    def damage(self, value):\n",
        "        damage_value = max(1, value)\n",
        "        if random.randint(0, 100) > self.luck:\n",
        "            self.hp -= damage_value\n",
        "            self.hp = max(self.hp, 0)\n",
        "            print(self.name, 'は', damage_value, 'のダメージ！')\n",
        "        else:\n",
        "            print(self.name,'は　ひらりとみをかわした．')\n",
        "        \n",
        "    def status(self):\n",
        "        print('#名前：',self.name,'\\t#HP:',self.hp)\n",
        "\n",
        "    def attack(self, target_object):\n",
        "         if random.randint(0,100) > self.luck:\n",
        "             print(self.name+'のこうげき！')\n",
        "             target_object.damage(self.strength)\n",
        "         else:\n",
        "             print(self.name+'のかいしんのいちげき！！！')\n",
        "             target_object.damage(self.strength*2.0)\n"
      ],
      "metadata": {
        "id": "lB2D66wLECT-"
      },
      "execution_count": null,
      "outputs": []
    },
    {
      "cell_type": "markdown",
      "source": [
        "問題解答例ほか"
      ],
      "metadata": {
        "id": "zbnuxep8tIiG"
      }
    },
    {
      "cell_type": "code",
      "source": [
        "class store:\n",
        "\n",
        " def __init__(self,name,value):\n",
        "    self.name=name\n",
        "    self.value=value\n",
        "   \n",
        " def show_item(self):\n",
        "   item=name+\"(\"+ str(value) +\"円\"+\")\"\n",
        "   itemlist.append(item)\n",
        "\n",
        "   print(\"現在の商品は\")\n",
        "   print(itemlist)\n",
        "   print(\"です\")\n",
        "\n",
        "itemlist =[\"りんご(100円)\",\"レモン(150円)\",\"ぶどう(200円)\"]\n",
        "\n",
        "print(\"現在の商品は\")\n",
        "print(itemlist,\"です\")\n",
        "print(\"商品を追加しますか？\")\n",
        "check = input(\"追加するならYESと入力してください(Enterでスキップ):\")\n",
        "check = str(check)\n",
        "\n",
        "if check == 'YES':\n",
        "   name = input(\"追加する商品の名前を入力してください:\")\n",
        "   name = str(name)\n",
        "   value = int(input(\"追加する商品の金額を入力してください:\"))\n",
        "   additem=store(\"name\",\"value\")\n",
        "   additem.show_item()\n",
        "\n",
        "else:\n",
        "  print(\"終了します\")"
      ],
      "metadata": {
        "id": "Ek_FGay_tq5v"
      },
      "execution_count": null,
      "outputs": []
    }
  ]
}