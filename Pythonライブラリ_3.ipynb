{
  "nbformat": 4,
  "nbformat_minor": 0,
  "metadata": {
    "colab": {
      "provenance": [],
      "collapsed_sections": [],
      "authorship_tag": "ABX9TyOsZ0bEy1ORzkJlrZKNazrr",
      "include_colab_link": true
    },
    "kernelspec": {
      "name": "python3",
      "display_name": "Python 3"
    },
    "language_info": {
      "name": "python"
    }
  },
  "cells": [
    {
      "cell_type": "markdown",
      "metadata": {
        "id": "view-in-github",
        "colab_type": "text"
      },
      "source": [
        "<a href=\"https://colab.research.google.com/github/MasaHLabo/PyCode/blob/main/Python%E3%83%A9%E3%82%A4%E3%83%96%E3%83%A9%E3%83%AA_3.ipynb\" target=\"_parent\"><img src=\"https://colab.research.google.com/assets/colab-badge.svg\" alt=\"Open In Colab\"/></a>"
      ]
    },
    {
      "cell_type": "markdown",
      "source": [
        "1.10 関数"
      ],
      "metadata": {
        "id": "qfgSa2l8pxMl"
      }
    },
    {
      "cell_type": "code",
      "source": [
        "list1=[1,2,3,4,5,6]\n",
        "len(list1)"
      ],
      "metadata": {
        "colab": {
          "base_uri": "https://localhost:8080/"
        },
        "id": "Ze1XhjP1rmkJ",
        "outputId": "334059c9-32a2-4d40-d429-7f016556bbf8"
      },
      "execution_count": null,
      "outputs": [
        {
          "output_type": "execute_result",
          "data": {
            "text/plain": [
              "6"
            ]
          },
          "metadata": {},
          "execution_count": 4
        }
      ]
    },
    {
      "cell_type": "code",
      "source": [
        "print(1)"
      ],
      "metadata": {
        "id": "E4dnKTKsxSu3",
        "colab": {
          "base_uri": "https://localhost:8080/"
        },
        "outputId": "7fe10293-3310-4bc3-b1a4-a4593c8b66b8"
      },
      "execution_count": null,
      "outputs": [
        {
          "output_type": "stream",
          "name": "stdout",
          "text": [
            "1\n"
          ]
        }
      ]
    },
    {
      "cell_type": "code",
      "source": [
        "str(1)"
      ],
      "metadata": {
        "colab": {
          "base_uri": "https://localhost:8080/",
          "height": 35
        },
        "id": "bLw5JsMBufwM",
        "outputId": "4204df01-88ae-43d8-90f3-25ab373f51c5"
      },
      "execution_count": null,
      "outputs": [
        {
          "output_type": "execute_result",
          "data": {
            "text/plain": [
              "'1'"
            ],
            "application/vnd.google.colaboratory.intrinsic+json": {
              "type": "string"
            }
          },
          "metadata": {},
          "execution_count": 6
        }
      ]
    },
    {
      "cell_type": "code",
      "source": [
        "help()"
      ],
      "metadata": {
        "id": "-MnAQqV9uOGA"
      },
      "execution_count": null,
      "outputs": []
    },
    {
      "cell_type": "code",
      "source": [
        "def greeting():\n",
        "  print('こんにちは！')"
      ],
      "metadata": {
        "id": "PgYDoAWDujh6"
      },
      "execution_count": null,
      "outputs": []
    },
    {
      "cell_type": "code",
      "source": [
        "greeting()"
      ],
      "metadata": {
        "colab": {
          "base_uri": "https://localhost:8080/"
        },
        "id": "sdhqs1-U5Q1L",
        "outputId": "ed2cc666-0e6b-441b-b180-d68a2e6aeb05"
      },
      "execution_count": null,
      "outputs": [
        {
          "output_type": "stream",
          "name": "stdout",
          "text": [
            "こんにちは！\n"
          ]
        }
      ]
    },
    {
      "cell_type": "code",
      "source": [
        "def greeting2(name):\n",
        "  print(name+'さん、こんにちは！')"
      ],
      "metadata": {
        "id": "7lSxmhEX5v0o"
      },
      "execution_count": null,
      "outputs": []
    },
    {
      "cell_type": "code",
      "source": [
        "greeting２('原')"
      ],
      "metadata": {
        "colab": {
          "base_uri": "https://localhost:8080/"
        },
        "id": "RdAdQ0aW6GfD",
        "outputId": "1c96a805-d873-44d1-f5f8-b271114cb5d1"
      },
      "execution_count": null,
      "outputs": [
        {
          "output_type": "stream",
          "name": "stdout",
          "text": [
            "原さん、こんにちは！\n"
          ]
        }
      ]
    },
    {
      "cell_type": "code",
      "source": [
        "def tashizan(value1, value2):\n",
        "  result=value1+value2\n",
        "  return result"
      ],
      "metadata": {
        "id": "-TXjWwmS6-ri"
      },
      "execution_count": null,
      "outputs": []
    },
    {
      "cell_type": "code",
      "source": [
        "kekka=tashizan(1,3)\n",
        "print(kekka)"
      ],
      "metadata": {
        "colab": {
          "base_uri": "https://localhost:8080/"
        },
        "id": "ijDXT9P77OVK",
        "outputId": "aca9cbc1-8531-4de9-a6ae-0eb2e59bf650"
      },
      "execution_count": null,
      "outputs": [
        {
          "output_type": "stream",
          "name": "stdout",
          "text": [
            "4\n"
          ]
        }
      ]
    },
    {
      "cell_type": "code",
      "source": [
        "def tashizan2(value1, value2):\n",
        "  return value1+value2"
      ],
      "metadata": {
        "id": "ONSkXSR47fAd"
      },
      "execution_count": null,
      "outputs": []
    },
    {
      "cell_type": "code",
      "source": [
        "print(tashizan2(1,3))"
      ],
      "metadata": {
        "colab": {
          "base_uri": "https://localhost:8080/"
        },
        "id": "Lp4BNVPA7qjn",
        "outputId": "df56c729-352c-47f3-8ba1-e582c28a2074"
      },
      "execution_count": null,
      "outputs": [
        {
          "output_type": "stream",
          "name": "stdout",
          "text": [
            "4\n"
          ]
        }
      ]
    },
    {
      "cell_type": "code",
      "source": [
        "print(tashizan2(value1=1,value2=3))"
      ],
      "metadata": {
        "colab": {
          "base_uri": "https://localhost:8080/",
          "height": 170
        },
        "id": "FOHIZFoM795o",
        "outputId": "c3c43ebe-9134-46f6-f51e-ab3095f77f98"
      },
      "execution_count": null,
      "outputs": [
        {
          "output_type": "error",
          "ename": "NameError",
          "evalue": "ignored",
          "traceback": [
            "\u001b[0;31m---------------------------------------------------------------------------\u001b[0m",
            "\u001b[0;31mNameError\u001b[0m                                 Traceback (most recent call last)",
            "\u001b[0;32m<ipython-input-1-ee55d99441d6>\u001b[0m in \u001b[0;36m<module>\u001b[0;34m\u001b[0m\n\u001b[0;32m----> 1\u001b[0;31m \u001b[0mprint\u001b[0m\u001b[0;34m(\u001b[0m\u001b[0mtashizan2\u001b[0m\u001b[0;34m(\u001b[0m\u001b[0mvalue1\u001b[0m\u001b[0;34m=\u001b[0m\u001b[0;36m1\u001b[0m\u001b[0;34m,\u001b[0m\u001b[0mvalue2\u001b[0m\u001b[0;34m=\u001b[0m\u001b[0;36m3\u001b[0m\u001b[0;34m)\u001b[0m\u001b[0;34m)\u001b[0m\u001b[0;34m\u001b[0m\u001b[0;34m\u001b[0m\u001b[0m\n\u001b[0m",
            "\u001b[0;31mNameError\u001b[0m: name 'tashizan2' is not defined"
          ]
        }
      ]
    },
    {
      "cell_type": "code",
      "source": [
        "print(tashizan2(value2=3,value1=1))"
      ],
      "metadata": {
        "colab": {
          "base_uri": "https://localhost:8080/"
        },
        "id": "AERjRSzq8F5h",
        "outputId": "534e9715-8c10-4716-cd43-35739556b285"
      },
      "execution_count": null,
      "outputs": [
        {
          "output_type": "stream",
          "name": "stdout",
          "text": [
            "4\n"
          ]
        }
      ]
    },
    {
      "cell_type": "code",
      "source": [
        "print(tashizan2(1,value2=3))"
      ],
      "metadata": {
        "colab": {
          "base_uri": "https://localhost:8080/"
        },
        "id": "6LrBFVRB8ODU",
        "outputId": "6dd1ca0c-4333-402b-8fc8-8494ff236079"
      },
      "execution_count": null,
      "outputs": [
        {
          "output_type": "stream",
          "name": "stdout",
          "text": [
            "4\n"
          ]
        }
      ]
    },
    {
      "cell_type": "code",
      "source": [
        "print(tashizan2(value1=1,3))"
      ],
      "metadata": {
        "colab": {
          "base_uri": "https://localhost:8080/",
          "height": 135
        },
        "id": "vA9InnWq8RNT",
        "outputId": "71753312-9423-42f5-d41a-af7b1271cb3f"
      },
      "execution_count": null,
      "outputs": [
        {
          "output_type": "error",
          "ename": "SyntaxError",
          "evalue": "ignored",
          "traceback": [
            "\u001b[0;36m  File \u001b[0;32m\"<ipython-input-11-7f4aaefcc60f>\"\u001b[0;36m, line \u001b[0;32m1\u001b[0m\n\u001b[0;31m    print(tashizan2(value1=1,3))\u001b[0m\n\u001b[0m                            ^\u001b[0m\n\u001b[0;31mSyntaxError\u001b[0m\u001b[0;31m:\u001b[0m positional argument follows keyword argument\n"
          ]
        }
      ]
    },
    {
      "cell_type": "code",
      "source": [
        "def tashizan3(value1, value2):\n",
        "  return '答えは'+str(value1+value2)+'です。'"
      ],
      "metadata": {
        "id": "tsGAuEzz882y"
      },
      "execution_count": null,
      "outputs": []
    },
    {
      "cell_type": "code",
      "source": [
        "print(tashizan3(1,4))"
      ],
      "metadata": {
        "colab": {
          "base_uri": "https://localhost:8080/"
        },
        "id": "Kg0UYC2t9UTg",
        "outputId": "23920590-adf8-4a35-f086-e6249a3ef2e6"
      },
      "execution_count": null,
      "outputs": [
        {
          "output_type": "stream",
          "name": "stdout",
          "text": [
            "答えは5です。\n"
          ]
        }
      ]
    },
    {
      "cell_type": "code",
      "source": [
        "def tashizan４(value1=1, value2=2):\n",
        "  return value1+value2"
      ],
      "metadata": {
        "id": "E4Qj58549gHX"
      },
      "execution_count": null,
      "outputs": []
    },
    {
      "cell_type": "code",
      "source": [
        "tashizan4()"
      ],
      "metadata": {
        "colab": {
          "base_uri": "https://localhost:8080/"
        },
        "id": "frj6Ixtz9shh",
        "outputId": "a94fd5ac-6322-4576-a3f1-0ee439db4fb3"
      },
      "execution_count": null,
      "outputs": [
        {
          "output_type": "execute_result",
          "data": {
            "text/plain": [
              "3"
            ]
          },
          "metadata": {},
          "execution_count": 32
        }
      ]
    },
    {
      "cell_type": "code",
      "source": [
        "tashizan4(2, 4)"
      ],
      "metadata": {
        "colab": {
          "base_uri": "https://localhost:8080/"
        },
        "id": "xgqWh1Vm9wkE",
        "outputId": "94a5a010-812d-4655-a811-8809d1e8dd1a"
      },
      "execution_count": null,
      "outputs": [
        {
          "output_type": "execute_result",
          "data": {
            "text/plain": [
              "6"
            ]
          },
          "metadata": {},
          "execution_count": 33
        }
      ]
    },
    {
      "cell_type": "markdown",
      "source": [
        "問題"
      ],
      "metadata": {
        "id": "eA7H3MsSFeD0"
      }
    },
    {
      "cell_type": "code",
      "source": [
        "def tashizan(value1=1, value2=2):\n",
        "  return '答えは'+str(value1+value2)+'です。'"
      ],
      "metadata": {
        "id": "XQbIby1zFgRc"
      },
      "execution_count": null,
      "outputs": []
    },
    {
      "cell_type": "code",
      "source": [
        "print(tashizan())\n",
        "print(tashizan(1,3))\n",
        "#print(tashizan(value1=1,3))\n",
        "print(tashizan(value1=1,value2=3))"
      ],
      "metadata": {
        "colab": {
          "base_uri": "https://localhost:8080/",
          "height": 135
        },
        "id": "zBa4xl8XFpUn",
        "outputId": "3f73fa06-e7a8-485e-949d-b853ecd6f5ba"
      },
      "execution_count": null,
      "outputs": [
        {
          "output_type": "error",
          "ename": "SyntaxError",
          "evalue": "ignored",
          "traceback": [
            "\u001b[0;36m  File \u001b[0;32m\"<ipython-input-6-4f7ea325e804>\"\u001b[0;36m, line \u001b[0;32m3\u001b[0m\n\u001b[0;31m    print(tashizan(value1=1,3))\u001b[0m\n\u001b[0m                           ^\u001b[0m\n\u001b[0;31mSyntaxError\u001b[0m\u001b[0;31m:\u001b[0m positional argument follows keyword argument\n"
          ]
        }
      ]
    },
    {
      "cell_type": "markdown",
      "source": [],
      "metadata": {
        "id": "BuP_RY6eFjqW"
      }
    },
    {
      "cell_type": "code",
      "source": [
        "def karaoke():\n",
        "  y=180*3+240\n",
        "  print('料金',y,'円')"
      ],
      "metadata": {
        "id": "AHx6wLmcvf1-"
      },
      "execution_count": null,
      "outputs": []
    },
    {
      "cell_type": "code",
      "source": [
        "karaoke()"
      ],
      "metadata": {
        "colab": {
          "base_uri": "https://localhost:8080/"
        },
        "id": "YqZSDxHOvsQH",
        "outputId": "06214c92-11e9-496b-d200-27e6542d8f18"
      },
      "execution_count": null,
      "outputs": [
        {
          "output_type": "stream",
          "name": "stdout",
          "text": [
            "料金 780 円\n"
          ]
        }
      ]
    },
    {
      "cell_type": "code",
      "source": [
        "def karaoke(x):\n",
        "  y=180*x+240\n",
        "  print('料金',y,'円')"
      ],
      "metadata": {
        "id": "yQGeIfSNw8Tp"
      },
      "execution_count": null,
      "outputs": []
    },
    {
      "cell_type": "code",
      "source": [
        "karaoke(3)"
      ],
      "metadata": {
        "colab": {
          "base_uri": "https://localhost:8080/"
        },
        "id": "y_ocRr27xAOf",
        "outputId": "550dd847-77e9-4f7d-bbd0-033e376e9ca2"
      },
      "execution_count": null,
      "outputs": [
        {
          "output_type": "stream",
          "name": "stdout",
          "text": [
            "料金 780 円\n"
          ]
        }
      ]
    },
    {
      "cell_type": "code",
      "source": [
        "def karaoke(hour, init):\n",
        "  y=180*hour+init\n",
        "  return y"
      ],
      "metadata": {
        "id": "UQeFGb7b0oSR"
      },
      "execution_count": null,
      "outputs": []
    },
    {
      "cell_type": "code",
      "source": [
        "daikin=karaoke(3, 240)\n",
        "print('料金',daikin,'円')"
      ],
      "metadata": {
        "colab": {
          "base_uri": "https://localhost:8080/"
        },
        "id": "n_T2zhzr0vGa",
        "outputId": "3443f769-845a-427a-cc73-e24281dea7d3"
      },
      "execution_count": null,
      "outputs": [
        {
          "output_type": "stream",
          "name": "stdout",
          "text": [
            "料金 780 円\n"
          ]
        }
      ]
    },
    {
      "cell_type": "code",
      "execution_count": null,
      "metadata": {
        "colab": {
          "base_uri": "https://localhost:8080/"
        },
        "id": "hhOgHxEjpd0P",
        "outputId": "7eccabca-4f7c-45fe-d637-7b240ffb7c21"
      },
      "outputs": [
        {
          "output_type": "stream",
          "name": "stdout",
          "text": [
            "歌った時間＝3\n",
            "料金 780 円\n",
            "関数終了\n"
          ]
        }
      ],
      "source": [
        "def karaoke(x):\n",
        "  y=180*x+240\n",
        "  print('料金',y,'円')\n",
        "\n",
        "x=input('歌った時間＝')\n",
        "x=int(x)\n",
        "karaoke(x)\n",
        "print('関数終了')"
      ]
    },
    {
      "cell_type": "code",
      "source": [
        "def karaoke(hour):\n",
        "  y=180*hour+240\n",
        "  print('料金',y)\n",
        "\n",
        "x=input('歌った時間＝')\n",
        "x=int(x)\n",
        "karaoke(x)\n",
        "print('関数終了')"
      ],
      "metadata": {
        "colab": {
          "base_uri": "https://localhost:8080/"
        },
        "id": "ULVlzJF3v80-",
        "outputId": "399e516c-7293-47f1-cf5c-b704d29e0572"
      },
      "execution_count": null,
      "outputs": [
        {
          "output_type": "stream",
          "name": "stdout",
          "text": [
            "歌った時間＝3\n",
            "料金 780\n",
            "関数終了\n"
          ]
        }
      ]
    },
    {
      "cell_type": "code",
      "source": [
        "def karaoke(hour):\n",
        "  y=180*hour+240\n",
        "  return y\n",
        "\n",
        "x=input('歌った時間＝')\n",
        "x=int(x)\n",
        "y=karaoke(x)\n",
        "print('料金',y)\n",
        " #print('関数終了')"
      ],
      "metadata": {
        "colab": {
          "base_uri": "https://localhost:8080/"
        },
        "id": "0QPxpQUewJeh",
        "outputId": "ebcd838f-f41a-49bc-de1b-f7601147a2b3"
      },
      "execution_count": null,
      "outputs": [
        {
          "output_type": "stream",
          "name": "stdout",
          "text": [
            "歌った時間＝3\n",
            "料金 780\n"
          ]
        }
      ]
    },
    {
      "cell_type": "code",
      "source": [
        "def karaoke(hour):\n",
        "  y=180*hour+240\n",
        "  return '料金', y\n",
        "\n",
        "x=input('歌った時間＝')\n",
        "x=int(x)\n",
        "text,y=karaoke(x)\n",
        "print(text,y)\n",
        " #print('関数終了')"
      ],
      "metadata": {
        "colab": {
          "base_uri": "https://localhost:8080/"
        },
        "id": "UB-q88x9wz0A",
        "outputId": "595bdb63-1945-41bb-b7da-7da0d7d81713"
      },
      "execution_count": null,
      "outputs": [
        {
          "output_type": "stream",
          "name": "stdout",
          "text": [
            "歌った時間＝3\n",
            "料金 780\n"
          ]
        }
      ]
    },
    {
      "cell_type": "code",
      "source": [
        "def karaoke(hour, init):\n",
        "  y=180*hour+init\n",
        "  return '料金', y\n",
        "\n",
        "x=input('歌った時間＝')\n",
        "x=int(x)\n",
        "z=input('入店時の料金＝')\n",
        "z=int(z)\n",
        "text,y=karaoke(x, z)\n",
        "print(text,y)\n",
        " #print('関数終了')"
      ],
      "metadata": {
        "colab": {
          "base_uri": "https://localhost:8080/"
        },
        "id": "4ocWMjJCytVb",
        "outputId": "9529e092-7edc-4c13-e03c-6bfe820e7f80"
      },
      "execution_count": null,
      "outputs": [
        {
          "output_type": "stream",
          "name": "stdout",
          "text": [
            "歌った時間＝3\n",
            "入店時の料金＝240\n",
            "料金 780\n"
          ]
        }
      ]
    },
    {
      "cell_type": "code",
      "source": [
        "def karaoke(hour, init):\n",
        "  y=180*hour+init\n",
        "  return '料金', y\n",
        "\n",
        "#x=input('歌った時間＝')\n",
        "#x=int(x)\n",
        "#z=input('入店時の料金＝')\n",
        "#z=int(z)\n",
        "text,y=karaoke(hour=3, init=240)\n",
        "print(text,y)"
      ],
      "metadata": {
        "colab": {
          "base_uri": "https://localhost:8080/"
        },
        "id": "esOt988w0yqd",
        "outputId": "34ca013f-3e57-4f73-a490-aa93e0f36bc8"
      },
      "execution_count": null,
      "outputs": [
        {
          "output_type": "stream",
          "name": "stdout",
          "text": [
            "料金 780\n"
          ]
        }
      ]
    },
    {
      "cell_type": "code",
      "source": [
        "def karaoke(hour, init):\n",
        "  y=180*hour+init\n",
        "  return '料金', y\n",
        "\n",
        "x=input('歌った時間＝')\n",
        "x=int(x)\n",
        "#z=input('入店時の料金＝')\n",
        "#z=int(z)\n",
        "text,y=karaoke(x, init=240)\n",
        "print(text,y)"
      ],
      "metadata": {
        "colab": {
          "base_uri": "https://localhost:8080/"
        },
        "id": "tRKbH9fY1Ka-",
        "outputId": "f4467b97-833a-408c-9123-9f8b6baf932f"
      },
      "execution_count": null,
      "outputs": [
        {
          "output_type": "stream",
          "name": "stdout",
          "text": [
            "歌った時間＝4\n",
            "料金 960\n"
          ]
        }
      ]
    },
    {
      "cell_type": "markdown",
      "source": [
        "問題"
      ],
      "metadata": {
        "id": "36CI6miBWySi"
      }
    },
    {
      "cell_type": "code",
      "source": [
        "fruits_dict={'りんご':100,'レモン':150,'ぶどう':200}\n",
        "def fruits_add():  \n",
        "  x=input('追加したい商品は？')\n",
        "  y=int(input('その値段は？'))\n",
        "  fruits_dict[x]=y\n",
        "\n",
        "print('商品の追加！')\n",
        "fruits_add()\n",
        "print(fruits_dict)"
      ],
      "metadata": {
        "colab": {
          "base_uri": "https://localhost:8080/"
        },
        "id": "0InOC6MdViT7",
        "outputId": "e194bbe2-7410-4308-9de9-b000460e7859"
      },
      "execution_count": null,
      "outputs": [
        {
          "output_type": "stream",
          "name": "stdout",
          "text": [
            "商品の追加！\n",
            "追加したい商品は？みかん\n",
            "その値段は？300\n",
            "{'りんご': 100, 'レモン': 150, 'ぶどう': 200, 'みかん': 300}\n"
          ]
        }
      ]
    },
    {
      "cell_type": "code",
      "source": [
        "fruits_dict={'りんご':100,'レモン':150,'ぶどう':200}\n",
        "def fruits_add(fruits_dict2):  \n",
        "  #x=input('追加したい商品は？')\n",
        "  #y=int(input('その値段は？'))\n",
        "  #fruits_dict.update('みかん':300) ×\n",
        "  #fruits_dict['みかん']=300  ○\n",
        "  mikan_dict={'みかん':300}\n",
        "  fruits_dict3=dict(fruits_dict2,**mikan_dict) #fruits_dict=fruits_dict+mikan_dict\n",
        "  return fruits_dict3\n",
        "print('商品の追加！')\n",
        "a=fruits_add(fruits_dict)\n",
        "print(a)"
      ],
      "metadata": {
        "colab": {
          "base_uri": "https://localhost:8080/"
        },
        "outputId": "72cfb4ed-f02b-4a17-9d96-03e2ea4e9c72",
        "id": "MUluq_PobQ_q"
      },
      "execution_count": null,
      "outputs": [
        {
          "output_type": "stream",
          "name": "stdout",
          "text": [
            "商品の追加！\n",
            "{'りんご': 100, 'レモン': 150, 'ぶどう': 200, 'みかん': 300}\n"
          ]
        }
      ]
    },
    {
      "cell_type": "code",
      "source": [
        "fruits_dict={'りんご':100,'レモン':150,'ぶどう':200}\n",
        "def fruits_add():  \n",
        "  #x=input('追加したい商品は？')\n",
        "  #y=int(input('その値段は？'))\n",
        "  #fruits_dict.update('みかん':300) ×\n",
        "  #fruits_dict['みかん']=300  ○\n",
        "  mikan_dict={'みかん':300}\n",
        "  fruits_dict.update(mikan_dict)#fruits_dict=fruits_dict+mikan_dict\n",
        "print('商品の追加！')\n",
        "fruits_add()\n",
        "print(fruits_dict)"
      ],
      "metadata": {
        "colab": {
          "base_uri": "https://localhost:8080/"
        },
        "outputId": "da4c548f-b101-4897-d1ba-cb47a220a6c4",
        "id": "TjwV73Nwnb0F"
      },
      "execution_count": null,
      "outputs": [
        {
          "output_type": "stream",
          "name": "stdout",
          "text": [
            "商品の追加！\n",
            "{'りんご': 100, 'レモン': 150, 'ぶどう': 200, 'みかん': 300}\n"
          ]
        }
      ]
    },
    {
      "cell_type": "code",
      "source": [
        "fruits_dict={'りんご':100,'レモン':150,'ぶどう':200}\n",
        "print(fruits_dict)"
      ],
      "metadata": {
        "colab": {
          "base_uri": "https://localhost:8080/"
        },
        "id": "FXXOI8EOmXxs",
        "outputId": "7345df3d-2a35-455f-e28c-b7a4f8ad85df"
      },
      "execution_count": null,
      "outputs": [
        {
          "output_type": "stream",
          "name": "stdout",
          "text": [
            "{'りんご': 100, 'レモン': 150, 'ぶどう': 200}\n"
          ]
        }
      ]
    },
    {
      "cell_type": "code",
      "source": [
        "fruits_dict={'りんご':100,'レモン':150,'ぶどう':200}\n",
        "def fruits_add():  \n",
        "  #x=input('追加したい商品は？')\n",
        "  #y=int(input('その値段は？'))\n",
        "  #fruits_dict.update('みかん':300) ×\n",
        "  #fruits_dict['みかん']=300  ○\n",
        "  #mikan_dict={'みかん':300}\n",
        "  fruits_dict.update(みかん=300) #正式には’’残すとエラーが出る　’引用符で囲むと式の扱いができないのでこうなる\n",
        "print('商品の追加！')\n",
        "fruits_add()\n",
        "print(fruits_dict)"
      ],
      "metadata": {
        "colab": {
          "base_uri": "https://localhost:8080/"
        },
        "outputId": "a14e54ce-f2d1-4bfd-a43e-a297f67fb1a1",
        "id": "iD-VR5Acld7O"
      },
      "execution_count": null,
      "outputs": [
        {
          "output_type": "stream",
          "name": "stdout",
          "text": [
            "商品の追加！\n",
            "{'りんご': 100, 'レモン': 150, 'ぶどう': 200, 'みかん': 300}\n"
          ]
        }
      ]
    },
    {
      "cell_type": "code",
      "source": [
        "4\n",
        "def fruits_choice():\n",
        "  choice_kazu=[]\n",
        "  for kazu in fruits_dict:\n",
        "    #print(kazu)\n",
        "    choice_kazu.append(int(input(kazu+'の購入数＝')))\n",
        "  return choice_kazu\n",
        "  #b = int(input('レモンの購入数＝'))\n",
        "  #c = int(input('ブドウの購入数＝'))\n",
        "  #return keisan(a,b,c)\n",
        "a=fruits_choice()\n",
        "print(a)"
      ],
      "metadata": {
        "id": "6YD3sErP9EHE",
        "colab": {
          "base_uri": "https://localhost:8080/"
        },
        "outputId": "d6b9851c-f5fc-40fb-fc6a-198856717e73"
      },
      "execution_count": null,
      "outputs": [
        {
          "output_type": "stream",
          "name": "stdout",
          "text": [
            "りんごの購入数＝1\n",
            "レモンの購入数＝2\n",
            "ぶどうの購入数＝3\n",
            "[1, 2, 3]\n"
          ]
        }
      ]
    },
    {
      "cell_type": "code",
      "source": [
        "fruits_dict={'りんご':100,'レモン':150,'ぶどう':200}\n",
        "#print(fruits_dict.values())\n",
        "def fruits_buy(a):\n",
        "  i=0\n",
        "  goukei=0\n",
        "  for n in fruits_dict.values():\n",
        "    goukei+=int(n)*a[i]\n",
        "    #print(goukei)\n",
        "    i+=1\n",
        "  return goukei\n",
        "#print(a)\n",
        "daikin=fruits_buy(a)\n",
        "print('購入した代金は'+str(daikin)+'円です。')"
      ],
      "metadata": {
        "colab": {
          "base_uri": "https://localhost:8080/"
        },
        "id": "E3BBkSOhO_7J",
        "outputId": "015c1234-7198-44de-b108-35c092f7130f"
      },
      "execution_count": null,
      "outputs": [
        {
          "output_type": "stream",
          "name": "stdout",
          "text": [
            "購入した代金は1000円です。\n"
          ]
        }
      ]
    },
    {
      "cell_type": "markdown",
      "source": [
        "1.10.4　無名関数　ラムダ式"
      ],
      "metadata": {
        "id": "GWApcAd1BCa7"
      }
    },
    {
      "cell_type": "code",
      "source": [
        "help(map)"
      ],
      "metadata": {
        "colab": {
          "base_uri": "https://localhost:8080/"
        },
        "id": "mZ1xgCSi1URs",
        "outputId": "1f95fdcd-7dd4-48c8-e75a-7c84768bdd9b"
      },
      "execution_count": null,
      "outputs": [
        {
          "output_type": "stream",
          "name": "stdout",
          "text": [
            "Help on class map in module builtins:\n",
            "\n",
            "class map(object)\n",
            " |  map(func, *iterables) --> map object\n",
            " |  \n",
            " |  Make an iterator that computes the function using arguments from\n",
            " |  each of the iterables.  Stops when the shortest iterable is exhausted.\n",
            " |  \n",
            " |  Methods defined here:\n",
            " |  \n",
            " |  __getattribute__(self, name, /)\n",
            " |      Return getattr(self, name).\n",
            " |  \n",
            " |  __iter__(self, /)\n",
            " |      Implement iter(self).\n",
            " |  \n",
            " |  __next__(self, /)\n",
            " |      Implement next(self).\n",
            " |  \n",
            " |  __reduce__(...)\n",
            " |      Return state information for pickling.\n",
            " |  \n",
            " |  ----------------------------------------------------------------------\n",
            " |  Static methods defined here:\n",
            " |  \n",
            " |  __new__(*args, **kwargs) from builtins.type\n",
            " |      Create and return a new object.  See help(type) for accurate signature.\n",
            "\n"
          ]
        }
      ]
    },
    {
      "cell_type": "code",
      "source": [
        "# 数値を2倍にする無名関数\n",
        "sample = lambda x: x * 2\n",
        "print(sample(10))"
      ],
      "metadata": {
        "colab": {
          "base_uri": "https://localhost:8080/"
        },
        "id": "0ZvFt48RDQhQ",
        "outputId": "dfcbfb02-bfa5-4702-fccf-59bee6bc5741"
      },
      "execution_count": null,
      "outputs": [
        {
          "output_type": "stream",
          "name": "stdout",
          "text": [
            "20\n"
          ]
        }
      ]
    },
    {
      "cell_type": "code",
      "source": [
        "def sample2(x):\n",
        "  return x*2\n",
        "print(sample2(10))"
      ],
      "metadata": {
        "colab": {
          "base_uri": "https://localhost:8080/"
        },
        "id": "bwU8-I56EYbo",
        "outputId": "93f0473a-5eac-4f83-ac6e-3791f05d5200"
      },
      "execution_count": null,
      "outputs": [
        {
          "output_type": "stream",
          "name": "stdout",
          "text": [
            "20\n"
          ]
        }
      ]
    },
    {
      "cell_type": "code",
      "source": [
        "def tax(p):\n",
        "  return p*1.1\n",
        "prices=map(tax, [500,300,250])\n",
        "print(list(prices))"
      ],
      "metadata": {
        "id": "KNOMsrh9FIx_"
      },
      "execution_count": null,
      "outputs": []
    },
    {
      "cell_type": "code",
      "source": [
        "prices=map(lambda p:p*1.1, [500,300,250])\n",
        "print(prices)"
      ],
      "metadata": {
        "colab": {
          "base_uri": "https://localhost:8080/"
        },
        "id": "WMqKnep6FnmS",
        "outputId": "159b4576-6a00-4d65-f2ef-349a2ceca54b"
      },
      "execution_count": null,
      "outputs": [
        {
          "output_type": "stream",
          "name": "stdout",
          "text": [
            "<map object at 0x7fcf7d111050>\n"
          ]
        }
      ]
    },
    {
      "cell_type": "code",
      "source": [
        "prices=map(lambda p:p*1.1, [500,300,250])\n",
        "print(list(prices))"
      ],
      "metadata": {
        "colab": {
          "base_uri": "https://localhost:8080/"
        },
        "id": "ooOHtSijGJ2Z",
        "outputId": "fe741917-2d54-4725-ecec-0447e0fec589"
      },
      "execution_count": null,
      "outputs": [
        {
          "output_type": "stream",
          "name": "stdout",
          "text": [
            "[550.0, 330.0, 275.0]\n"
          ]
        }
      ]
    },
    {
      "cell_type": "markdown",
      "source": [
        "問題"
      ],
      "metadata": {
        "id": "y7HU3MaWMV0R"
      }
    },
    {
      "cell_type": "code",
      "source": [
        "# 入力された数値Xを倍にする無名関数Y\n",
        "y = lambda x: x * 2\n",
        "\n",
        "x=input('Xの値を入力してくださいー＞')\n",
        "print(y(int(x)))"
      ],
      "metadata": {
        "colab": {
          "base_uri": "https://localhost:8080/"
        },
        "id": "lH7lJ4IJMcRP",
        "outputId": "c4e398c2-dc6f-483b-d044-1a21bc972688"
      },
      "execution_count": null,
      "outputs": [
        {
          "output_type": "stream",
          "name": "stdout",
          "text": [
            "Xの値を入力してくださいー＞10\n",
            "20\n"
          ]
        }
      ]
    },
    {
      "cell_type": "code",
      "source": [
        "def y(x):\n",
        "  x=x*2\n",
        "  return x  #x*2\n",
        "  \n",
        "x=input('Xの値を入力してくださいー＞')\n",
        "print(y(int(x)))"
      ],
      "metadata": {
        "colab": {
          "base_uri": "https://localhost:8080/"
        },
        "id": "jQzgFZ9_NWiL",
        "outputId": "aac45ea0-647d-49f6-e35f-d1fb3a114b15"
      },
      "execution_count": null,
      "outputs": [
        {
          "output_type": "stream",
          "name": "stdout",
          "text": [
            "Xの値を入力してくださいー＞2\n",
            "4\n"
          ]
        }
      ]
    },
    {
      "cell_type": "code",
      "source": [
        "クラスの作成"
      ],
      "metadata": {
        "id": "wcF5Dm9W6i-s"
      },
      "execution_count": null,
      "outputs": []
    },
    {
      "cell_type": "code",
      "source": [
        "class Human():\n",
        "  def __init__(self):\n",
        "    self.name='原'"
      ],
      "metadata": {
        "id": "Dq2jVm8B7A83"
      },
      "execution_count": null,
      "outputs": []
    },
    {
      "cell_type": "code",
      "source": [
        "person=Human()"
      ],
      "metadata": {
        "id": "XInvWURw8Fly"
      },
      "execution_count": null,
      "outputs": []
    },
    {
      "cell_type": "code",
      "source": [
        "print(person.name)"
      ],
      "metadata": {
        "colab": {
          "base_uri": "https://localhost:8080/"
        },
        "id": "PPbPMeoG8KMx",
        "outputId": "979ede72-1689-446e-c7ef-de3ea417711b"
      },
      "execution_count": null,
      "outputs": [
        {
          "output_type": "stream",
          "name": "stdout",
          "text": [
            "原\n"
          ]
        }
      ]
    },
    {
      "cell_type": "code",
      "source": [
        "person.name='正佳'\n",
        "print(person.name)"
      ],
      "metadata": {
        "colab": {
          "base_uri": "https://localhost:8080/"
        },
        "id": "xohQN9fy8NSg",
        "outputId": "07215f2c-3d46-42bf-b348-4ac61a4f92b7"
      },
      "execution_count": null,
      "outputs": [
        {
          "output_type": "stream",
          "name": "stdout",
          "text": [
            "正佳\n"
          ]
        }
      ]
    },
    {
      "cell_type": "code",
      "source": [
        "class Human():\n",
        "  def __init__(self, name):\n",
        "    self.name=name"
      ],
      "metadata": {
        "id": "rIx-b81U8bNw"
      },
      "execution_count": null,
      "outputs": []
    },
    {
      "cell_type": "code",
      "source": [
        "person=Human('原')\n",
        "print(person.name)"
      ],
      "metadata": {
        "colab": {
          "base_uri": "https://localhost:8080/"
        },
        "id": "EbxVuUhJ8vbG",
        "outputId": "7a9f91bc-748c-4d7e-f873-59a0eb81640f"
      },
      "execution_count": null,
      "outputs": [
        {
          "output_type": "stream",
          "name": "stdout",
          "text": [
            "原\n"
          ]
        }
      ]
    },
    {
      "cell_type": "code",
      "source": [
        "class Human():\n",
        "  def __init__(self, name):\n",
        "    self.name=name\n",
        "\n",
        "  def greeting(self):\n",
        "    print('こんにちは，私は'+self.name+'です．')"
      ],
      "metadata": {
        "id": "KIfGcfEU86yV"
      },
      "execution_count": null,
      "outputs": []
    },
    {
      "cell_type": "code",
      "source": [
        "person1=Human('原')\n",
        "person2=Human('ハラ')\n",
        "person1.greeting()\n",
        "person2.greeting()"
      ],
      "metadata": {
        "colab": {
          "base_uri": "https://localhost:8080/"
        },
        "id": "I6yM4Gf--y7H",
        "outputId": "1027d45d-6720-4a3b-ac08-a27a422b3b07"
      },
      "execution_count": null,
      "outputs": [
        {
          "output_type": "stream",
          "name": "stdout",
          "text": [
            "こんにちは，私は原です．\n",
            "こんにちは，私はハラです．\n"
          ]
        }
      ]
    },
    {
      "cell_type": "markdown",
      "source": [
        "**修正箇所：スライドも修正！**"
      ],
      "metadata": {
        "id": "y9SvvsDxnBSw"
      }
    },
    {
      "cell_type": "code",
      "source": [
        "class Human():\n",
        "  def __init__(self, name):\n",
        "    my_name=name\n",
        "\n",
        "  def greeting(self):\n",
        "    print('こんにちは，私は'+my_name+'です．')\n",
        "  \n",
        "person=Human('原')\n",
        "person.greeting()"
      ],
      "metadata": {
        "colab": {
          "base_uri": "https://localhost:8080/",
          "height": 326
        },
        "id": "QwnHcoFQ_I0X",
        "outputId": "f87a0ae1-dca7-40a7-e7dd-24df5b0a894c"
      },
      "execution_count": null,
      "outputs": [
        {
          "output_type": "error",
          "ename": "NameError",
          "evalue": "ignored",
          "traceback": [
            "\u001b[0;31m---------------------------------------------------------------------------\u001b[0m",
            "\u001b[0;31mNameError\u001b[0m                                 Traceback (most recent call last)",
            "\u001b[0;32m<ipython-input-12-a01cadd37292>\u001b[0m in \u001b[0;36m<module>\u001b[0;34m()\u001b[0m\n\u001b[1;32m      7\u001b[0m \u001b[0;34m\u001b[0m\u001b[0m\n\u001b[1;32m      8\u001b[0m \u001b[0mperson\u001b[0m\u001b[0;34m=\u001b[0m\u001b[0mHuman\u001b[0m\u001b[0;34m(\u001b[0m\u001b[0;34m'原'\u001b[0m\u001b[0;34m)\u001b[0m\u001b[0;34m\u001b[0m\u001b[0;34m\u001b[0m\u001b[0m\n\u001b[0;32m----> 9\u001b[0;31m \u001b[0mperson\u001b[0m\u001b[0;34m.\u001b[0m\u001b[0mgreeting\u001b[0m\u001b[0;34m(\u001b[0m\u001b[0;34m)\u001b[0m\u001b[0;34m\u001b[0m\u001b[0;34m\u001b[0m\u001b[0m\n\u001b[0m",
            "\u001b[0;32m<ipython-input-12-a01cadd37292>\u001b[0m in \u001b[0;36mgreeting\u001b[0;34m(self)\u001b[0m\n\u001b[1;32m      4\u001b[0m \u001b[0;34m\u001b[0m\u001b[0m\n\u001b[1;32m      5\u001b[0m   \u001b[0;32mdef\u001b[0m \u001b[0mgreeting\u001b[0m\u001b[0;34m(\u001b[0m\u001b[0mself\u001b[0m\u001b[0;34m)\u001b[0m\u001b[0;34m:\u001b[0m\u001b[0;34m\u001b[0m\u001b[0;34m\u001b[0m\u001b[0m\n\u001b[0;32m----> 6\u001b[0;31m     \u001b[0mprint\u001b[0m\u001b[0;34m(\u001b[0m\u001b[0;34m'こんにちは，私は'\u001b[0m\u001b[0;34m+\u001b[0m\u001b[0mmy_name\u001b[0m\u001b[0;34m+\u001b[0m\u001b[0;34m'です．'\u001b[0m\u001b[0;34m)\u001b[0m\u001b[0;34m\u001b[0m\u001b[0;34m\u001b[0m\u001b[0m\n\u001b[0m\u001b[1;32m      7\u001b[0m \u001b[0;34m\u001b[0m\u001b[0m\n\u001b[1;32m      8\u001b[0m \u001b[0mperson\u001b[0m\u001b[0;34m=\u001b[0m\u001b[0mHuman\u001b[0m\u001b[0;34m(\u001b[0m\u001b[0;34m'原'\u001b[0m\u001b[0;34m)\u001b[0m\u001b[0;34m\u001b[0m\u001b[0;34m\u001b[0m\u001b[0m\n",
            "\u001b[0;31mNameError\u001b[0m: name 'my_name' is not defined"
          ]
        }
      ]
    },
    {
      "cell_type": "markdown",
      "source": [
        "問題"
      ],
      "metadata": {
        "id": "ClsYXtLZ3eD6"
      }
    },
    {
      "cell_type": "code",
      "source": [
        "class Human():\n",
        "  def __init__(self, name):\n",
        "    #my_name=name\n",
        "    self.name=name \n",
        "  def greeting(self):\n",
        "    #print('こんにちは，私は'+my_name+'です．')\n",
        "    print('こんにちは，私は'+self.name+'です．')\n",
        "person=Human('高専太郎')\n",
        "person.greeting()"
      ],
      "metadata": {
        "colab": {
          "base_uri": "https://localhost:8080/"
        },
        "outputId": "9eb6eb56-effd-4353-e270-a9a7e65e09bd",
        "id": "V5AGKSIh3hNl"
      },
      "execution_count": null,
      "outputs": [
        {
          "output_type": "stream",
          "name": "stdout",
          "text": [
            "こんにちは，私は高専太郎です．\n"
          ]
        }
      ]
    },
    {
      "cell_type": "code",
      "source": [
        "class Student(Human):\n",
        "  def study(self):\n",
        "    print('私は勉強します．')"
      ],
      "metadata": {
        "id": "21AKo3nG__dQ"
      },
      "execution_count": null,
      "outputs": []
    },
    {
      "cell_type": "code",
      "source": [
        "person=Student('原')"
      ],
      "metadata": {
        "id": "TD7tUbQHBv71"
      },
      "execution_count": null,
      "outputs": []
    },
    {
      "cell_type": "code",
      "source": [
        "person.study()"
      ],
      "metadata": {
        "colab": {
          "base_uri": "https://localhost:8080/"
        },
        "id": "5CEjOV2OB9dE",
        "outputId": "81fac998-3cc4-414d-fcab-6d616ba6d35a"
      },
      "execution_count": null,
      "outputs": [
        {
          "output_type": "stream",
          "name": "stdout",
          "text": [
            "私は勉強します．\n"
          ]
        }
      ]
    },
    {
      "cell_type": "code",
      "source": [
        "person.greeting()"
      ],
      "metadata": {
        "colab": {
          "base_uri": "https://localhost:8080/"
        },
        "id": "8qpZ2_tHCBOl",
        "outputId": "010d841e-f52c-4d62-ad4b-f15e1000a320"
      },
      "execution_count": null,
      "outputs": [
        {
          "output_type": "stream",
          "name": "stdout",
          "text": [
            "こんにちは，私は原です．\n"
          ]
        }
      ]
    },
    {
      "cell_type": "code",
      "source": [
        "class Student(Human):\n",
        "  def study(self):\n",
        "    print('私は勉強します．')\n",
        "\n",
        "  def greeting(self):\n",
        "    print('私は，大分高専の'+self.name+'です．')"
      ],
      "metadata": {
        "id": "2viQdxgfCKgB"
      },
      "execution_count": null,
      "outputs": []
    },
    {
      "cell_type": "code",
      "source": [
        "person=Student('原')\n",
        "person.greeting()"
      ],
      "metadata": {
        "colab": {
          "base_uri": "https://localhost:8080/"
        },
        "id": "cuRny_YYD-Is",
        "outputId": "cf0c430a-9960-4a77-c066-168643179f60"
      },
      "execution_count": null,
      "outputs": [
        {
          "output_type": "stream",
          "name": "stdout",
          "text": [
            "私は，大分高専の原です．\n"
          ]
        }
      ]
    },
    {
      "cell_type": "code",
      "source": [
        "import random\n",
        "class  Character:\n",
        "    def __init__(self,name, hp=100, strength=20, luck=20):\n",
        "        self.name = name\n",
        "        self.hp = hp\n",
        "        self.max_hp = hp\n",
        "        self.strength = strength\n",
        "        self.luck = luck\n",
        "        \n",
        "    def damage(self, value):\n",
        "        damage_value = max(1, value)\n",
        "        if random.randint(0, 100) > self.luck:\n",
        "            self.hp -= damage_value\n",
        "            self.hp = max(self.hp, 0)\n",
        "            print(self.name, 'は', damage_value, 'のダメージ！')\n",
        "        else:\n",
        "            print(self.name,'は　ひらりとみをかわした．')\n",
        "        \n",
        "    def status(self):\n",
        "        print('#名前：',self.name,'\\t#HP:',self.hp)\n",
        "\n",
        "    def attack(self, target_object):\n",
        "         if random.randint(0,100) > self.luck:\n",
        "             print(self.name+'のこうげき！')\n",
        "             target_object.damage(self.strength)\n",
        "         else:\n",
        "             print(self.name+'のかいしんのいちげき！！！')\n",
        "             target_object.damage(self.strength*2.0)\n"
      ],
      "metadata": {
        "id": "lB2D66wLECT-"
      },
      "execution_count": null,
      "outputs": []
    },
    {
      "cell_type": "code",
      "source": [
        "monsterA = Character('スライムA')\n",
        "monsterB = Character('スライムB')"
      ],
      "metadata": {
        "id": "36HWs-1GsLMN"
      },
      "execution_count": null,
      "outputs": []
    },
    {
      "cell_type": "code",
      "source": [],
      "metadata": {
        "id": "1t1Nnm3YsL4o"
      },
      "execution_count": null,
      "outputs": []
    }
  ]
}