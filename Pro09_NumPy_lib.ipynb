{
  "nbformat": 4,
  "nbformat_minor": 0,
  "metadata": {
    "colab": {
      "provenance": [],
      "authorship_tag": "ABX9TyMwCZTtNoMvzbh3IEet/FjZ",
      "include_colab_link": true
    },
    "kernelspec": {
      "name": "python3",
      "display_name": "Python 3"
    },
    "language_info": {
      "name": "python"
    }
  },
  "cells": [
    {
      "cell_type": "markdown",
      "metadata": {
        "id": "view-in-github",
        "colab_type": "text"
      },
      "source": [
        "<a href=\"https://colab.research.google.com/github/MasaHLabo/PyCode/blob/main/Pro09_NumPy_lib.ipynb\" target=\"_parent\"><img src=\"https://colab.research.google.com/assets/colab-badge.svg\" alt=\"Open In Colab\"/></a>"
      ]
    },
    {
      "cell_type": "markdown",
      "source": [
        "数値計算ライブラリの利用"
      ],
      "metadata": {
        "id": "Pow3nYzR6VNI"
      }
    },
    {
      "cell_type": "markdown",
      "source": [
        "ベクトルの内積"
      ],
      "metadata": {
        "id": "D5tac5nY8t40"
      }
    },
    {
      "cell_type": "code",
      "source": [
        "a = [1, 2, 3] # ベクトル\n",
        "b = [4, 5, 6] # ベクトル\n",
        "c = 0 # 内積の計算結果\n",
        "for i in range(len(a)):\n",
        "\tc+=a[i]*b[i]\n",
        "print(c) # 32"
      ],
      "metadata": {
        "id": "ecizeGnj68d4"
      },
      "execution_count": null,
      "outputs": []
    },
    {
      "cell_type": "markdown",
      "source": [
        "行列計算"
      ],
      "metadata": {
        "id": "2RyQycJXDZGv"
      }
    },
    {
      "cell_type": "code",
      "source": [
        "a = [[1, 2],[3, 4]] # 行列\n",
        "b = [[1, 2],[3, 4]] # 行列\n",
        "c = [[0, 0],[0, 0]]  # 計算結果\n",
        "for i in range(len(a)):\n",
        "\tfor j in range(len(b)):\n",
        "\t\tfor k in range(len(c)):\n",
        "\t\t\tc[i][j]+=a[i][k]*b[k][j]\n",
        "print(c) # [[7, 10],[15, 22]]"
      ],
      "metadata": {
        "id": "3Gw20eGlEORk"
      },
      "execution_count": null,
      "outputs": []
    },
    {
      "cell_type": "markdown",
      "source": [
        "NumPyを使うと簡単に計算できる"
      ],
      "metadata": {
        "id": "kPq5_n7PDeV6"
      }
    },
    {
      "cell_type": "code",
      "execution_count": 1,
      "metadata": {
        "id": "QOEg4Sl66OV_"
      },
      "outputs": [],
      "source": [
        "import numpy as np"
      ]
    },
    {
      "cell_type": "code",
      "source": [
        "a = np.array([1, 2, 3])  # ベクトルを特有の配列に\n",
        "b = np.array([4, 5, 6])  # ベクトル・・\n",
        "c = np.dot()\n",
        "print(c) # 32"
      ],
      "metadata": {
        "id": "U3eBDh9MEHXd"
      },
      "execution_count": null,
      "outputs": []
    },
    {
      "cell_type": "code",
      "source": [
        "a = np.array([[1, 2],[3, 4]])  # 行列\n",
        "b = np.array([[1, 2],[3, 4]])  # 行列\n",
        "c = np.dot()\n",
        "print(c) # [[7, 10]改行されて[15, 22]]"
      ],
      "metadata": {
        "id": "VVa6DBj2NOWA"
      },
      "execution_count": null,
      "outputs": []
    },
    {
      "cell_type": "code",
      "source": [
        "a = np.array([[1, -2, 0],[1, 1, -1],[-5, 5, 2]]) \n",
        "a_inverse = np.linalg.inv(a) # 計算結果\n",
        "print() "
      ],
      "metadata": {
        "id": "CeJn04pbG2uC"
      },
      "execution_count": null,
      "outputs": []
    },
    {
      "cell_type": "markdown",
      "source": [
        "10.1 ベクトル，行列の作り方"
      ],
      "metadata": {
        "id": "jcyY6uU8I3Bx"
      }
    },
    {
      "cell_type": "code",
      "source": [
        "a = np.array([1, 2, 3]) \n"
      ],
      "metadata": {
        "id": "iA0o8B_ZJa9M"
      },
      "execution_count": null,
      "outputs": []
    },
    {
      "cell_type": "code",
      "source": [
        "a = np.array((1, 2, 3)) # (1, 2, 3)でも可能\n"
      ],
      "metadata": {
        "id": "LdYItNAyJf0C"
      },
      "execution_count": null,
      "outputs": []
    },
    {
      "cell_type": "code",
      "source": [
        "a = np.array([[1, 2, 3], [4, 5, 6]])\n",
        "print(a) # [[1 2 3]\n",
        "         #  [4 5 6]]\n"
      ],
      "metadata": {
        "id": "Rs_CX-PeKZ_N"
      },
      "execution_count": null,
      "outputs": []
    },
    {
      "cell_type": "code",
      "source": [
        "a = np.array([2, 4, 6, 8])"
      ],
      "metadata": {
        "id": "YY0w95lYLRCv"
      },
      "execution_count": 7,
      "outputs": []
    },
    {
      "cell_type": "code",
      "source": [
        "print(a)\n",
        "print(a.ndim)\n",
        "print(a.size)\n",
        "print(a.shape)"
      ],
      "metadata": {
        "id": "8ZlXbn5VLe20"
      },
      "execution_count": null,
      "outputs": []
    },
    {
      "cell_type": "code",
      "source": [
        "a = np.array((1, 2, 3))"
      ],
      "metadata": {
        "id": "55xL_BOJ3IKd"
      },
      "execution_count": 9,
      "outputs": []
    },
    {
      "cell_type": "code",
      "source": [
        "print(a)\n",
        "print(a.ndim)\n",
        "print(a.size)\n",
        "print(a.shape)"
      ],
      "metadata": {
        "id": "DqtOedgFP2KN"
      },
      "execution_count": null,
      "outputs": []
    },
    {
      "cell_type": "code",
      "source": [
        "a = np.array([[1, 2, 3], [4, 5, 6]])"
      ],
      "metadata": {
        "id": "jA8Zs2S93PdE"
      },
      "execution_count": 11,
      "outputs": []
    },
    {
      "cell_type": "code",
      "source": [
        "print(a)\n",
        "print(a.ndim)\n",
        "print(a.size)\n",
        "print(a.shape)"
      ],
      "metadata": {
        "id": "XgidkurGPtsv"
      },
      "execution_count": null,
      "outputs": []
    },
    {
      "cell_type": "code",
      "source": [
        "B = np.array([[0,1,2],[3,4,5],[6,7,8]])"
      ],
      "metadata": {
        "id": "8hASsbsOMdKi"
      },
      "execution_count": 13,
      "outputs": []
    },
    {
      "cell_type": "code",
      "source": [
        "print(B)\n",
        "print(B.ndim)\n",
        "print(B.size)\n",
        "print(B.shape)"
      ],
      "metadata": {
        "id": "kp6UhXDwMxlw"
      },
      "execution_count": null,
      "outputs": []
    },
    {
      "cell_type": "code",
      "source": [
        "np.arange(9)"
      ],
      "metadata": {
        "id": "0usydN8jMwvI"
      },
      "execution_count": null,
      "outputs": []
    },
    {
      "cell_type": "code",
      "source": [
        "np.arange(5,10,2)"
      ],
      "metadata": {
        "id": "T6DtU1-7Nlnq"
      },
      "execution_count": null,
      "outputs": []
    },
    {
      "cell_type": "code",
      "source": [
        "np.arange(5,10)"
      ],
      "metadata": {
        "id": "D4Mc-lOoNw58"
      },
      "execution_count": null,
      "outputs": []
    },
    {
      "cell_type": "code",
      "source": [
        "np.arange(0.0, 1.0, 0.2)"
      ],
      "metadata": {
        "id": "BQgHoybRN0C3"
      },
      "execution_count": null,
      "outputs": []
    },
    {
      "cell_type": "code",
      "source": [
        "np.zeros(3)"
      ],
      "metadata": {
        "id": "gfqFDkMMN9V7"
      },
      "execution_count": null,
      "outputs": []
    },
    {
      "cell_type": "code",
      "source": [
        "np.zeros((2,3))"
      ],
      "metadata": {
        "id": "lbIxpj5XOGZJ"
      },
      "execution_count": null,
      "outputs": []
    },
    {
      "cell_type": "code",
      "source": [
        "np.ones((3,4))"
      ],
      "metadata": {
        "id": "VqxHgRDIOQsq"
      },
      "execution_count": null,
      "outputs": []
    },
    {
      "cell_type": "code",
      "source": [
        "np.random.random((3, 2))"
      ],
      "metadata": {
        "id": "KWsnUSUsOXks"
      },
      "execution_count": null,
      "outputs": []
    },
    {
      "cell_type": "code",
      "source": [
        "np.set_printoptions(precision=3)"
      ],
      "metadata": {
        "id": "pj-WGcRFPFGF"
      },
      "execution_count": null,
      "outputs": []
    },
    {
      "cell_type": "code",
      "source": [
        "np.random.random((3, 2))"
      ],
      "metadata": {
        "id": "GlhI6SqpPXVs"
      },
      "execution_count": null,
      "outputs": []
    },
    {
      "cell_type": "code",
      "source": [
        "A = np.arange(12)\n",
        "print(A)\n",
        "A = A.reshape(2,6)\n",
        "print(A)"
      ],
      "metadata": {
        "id": "sE2JYJUHPWyz"
      },
      "execution_count": null,
      "outputs": []
    },
    {
      "cell_type": "code",
      "source": [
        "#A = np.arange(12)\n",
        "#print(A)\n",
        "A = np.reshape(A,(2,6))\n",
        "print(A)"
      ],
      "metadata": {
        "id": "Ww9INAZZQyOC"
      },
      "execution_count": null,
      "outputs": []
    },
    {
      "cell_type": "code",
      "source": [
        "#A = np.arange(12)\n",
        "#print(A)\n",
        "A = np.reshape(A,(3,4))\n",
        "print(A)"
      ],
      "metadata": {
        "id": "gwvBcEWrRLLr"
      },
      "execution_count": null,
      "outputs": []
    },
    {
      "cell_type": "markdown",
      "source": [
        "10.2"
      ],
      "metadata": {
        "id": "fUMWXoozTzq2"
      }
    },
    {
      "cell_type": "code",
      "source": [
        "a = np.array([1, 2, 3, 4, 5, 6])\n"
      ],
      "metadata": {
        "id": "yZXiw9LuT1cU"
      },
      "execution_count": null,
      "outputs": []
    },
    {
      "cell_type": "code",
      "source": [
        "A = np.array([6,3,1,8,0,7])\n",
        "print(A)\n",
        "print(A[3])\n",
        "print(A[-1])"
      ],
      "metadata": {
        "id": "1Z7A3Hr3UDRE"
      },
      "execution_count": null,
      "outputs": []
    },
    {
      "cell_type": "code",
      "source": [
        "A = np.arange(12).reshape((3,4))\n",
        "print(A)\n",
        "print(A[1][2])\n",
        "print(A[1,2])"
      ],
      "metadata": {
        "id": "gjA8DXauUWyT"
      },
      "execution_count": null,
      "outputs": []
    },
    {
      "cell_type": "code",
      "source": [
        "A = np.arange(15).reshape((3,5))"
      ],
      "metadata": {
        "id": "k1y4dSdDUwyu"
      },
      "execution_count": null,
      "outputs": []
    },
    {
      "cell_type": "code",
      "source": [
        "A"
      ],
      "metadata": {
        "id": "75IzVOsjU1k9"
      },
      "execution_count": null,
      "outputs": []
    },
    {
      "cell_type": "code",
      "source": [
        "A"
      ],
      "metadata": {
        "id": "X5r8eswjVIaY"
      },
      "execution_count": null,
      "outputs": []
    },
    {
      "cell_type": "code",
      "source": [
        "A"
      ],
      "metadata": {
        "id": "xqMfbjJgVOUC"
      },
      "execution_count": null,
      "outputs": []
    },
    {
      "cell_type": "code",
      "source": [
        "A"
      ],
      "metadata": {
        "id": "bZCIhyW2XEsa"
      },
      "execution_count": null,
      "outputs": []
    },
    {
      "cell_type": "code",
      "source": [
        "print(A[-1,:3])\n",
        "print(A[:1,2:])"
      ],
      "metadata": {
        "id": "wdpGjpBLXFUC"
      },
      "execution_count": null,
      "outputs": []
    },
    {
      "cell_type": "markdown",
      "source": [
        "10.3"
      ],
      "metadata": {
        "id": "p0DozIzqXX4H"
      }
    },
    {
      "cell_type": "code",
      "source": [
        "a = np.array([1, 2, 3]) # (1, 2, 3)\n",
        "b = np.array([4, 5, 6])\n",
        "\n",
        "\n"
      ],
      "metadata": {
        "id": "UHf43vUJXDs1"
      },
      "execution_count": null,
      "outputs": []
    },
    {
      "cell_type": "code",
      "source": [
        "a = np.array([[1, 2], [3, 4]])\n",
        "b = np.array([[5, 6], [7, 8]])\n",
        "\n",
        "\n",
        "\n"
      ],
      "metadata": {
        "id": "NWYycv0xX5K9"
      },
      "execution_count": null,
      "outputs": []
    },
    {
      "cell_type": "code",
      "source": [
        "A = np.arange(6)\n",
        "A = A.reshape(2,3)\n",
        "print(A)"
      ],
      "metadata": {
        "id": "dY6_nHCiXapP"
      },
      "execution_count": null,
      "outputs": []
    },
    {
      "cell_type": "code",
      "source": [
        "A+1"
      ],
      "metadata": {
        "id": "KxvLv0V3Xohv"
      },
      "execution_count": null,
      "outputs": []
    },
    {
      "cell_type": "code",
      "source": [
        "A+3.0"
      ],
      "metadata": {
        "id": "APoukRthXrRJ"
      },
      "execution_count": null,
      "outputs": []
    },
    {
      "cell_type": "code",
      "source": [
        "A*2"
      ],
      "metadata": {
        "id": "ST3esnUfYKp2"
      },
      "execution_count": null,
      "outputs": []
    },
    {
      "cell_type": "code",
      "source": [
        "A**2"
      ],
      "metadata": {
        "id": "cDWuKhxOYNNR"
      },
      "execution_count": null,
      "outputs": []
    },
    {
      "cell_type": "code",
      "source": [
        "A = np.arange(1,7).reshape(2,3)\n",
        "B = np.arange(1,4)\n",
        "print(A)\n",
        "print(B)"
      ],
      "metadata": {
        "id": "cFbZOGhVYlvV"
      },
      "execution_count": null,
      "outputs": []
    },
    {
      "cell_type": "code",
      "source": [
        "A+B"
      ],
      "metadata": {
        "id": "tgla41t8ZE0p"
      },
      "execution_count": null,
      "outputs": []
    },
    {
      "cell_type": "code",
      "source": [
        "A*B"
      ],
      "metadata": {
        "id": "F3RvYOwQZH4o"
      },
      "execution_count": null,
      "outputs": []
    },
    {
      "cell_type": "code",
      "source": [
        "A/B"
      ],
      "metadata": {
        "id": "g2GpPCDyZTbA"
      },
      "execution_count": null,
      "outputs": []
    },
    {
      "cell_type": "markdown",
      "source": [
        "10.4"
      ],
      "metadata": {
        "id": "bitMGlqnZ2Bb"
      }
    },
    {
      "cell_type": "code",
      "source": [
        "a = np.array([[5, 10], [1, 3]]) #売り上げベクトルを並べたもの\n",
        "v = np.array([10, 100]) #饅頭とどら焼きの値段を並べたもの\n"
      ],
      "metadata": {
        "id": "rUIxPzE8Z3Ek"
      },
      "execution_count": null,
      "outputs": []
    },
    {
      "cell_type": "code",
      "source": [
        "A = np.array([[1, 2], [3, 4]]) \n",
        "B = np.array([[5, 6], [7, 8]])"
      ],
      "metadata": {
        "id": "BKjhNANlaRW8"
      },
      "execution_count": null,
      "outputs": []
    },
    {
      "cell_type": "code",
      "source": [
        "np.dot(A,B)"
      ],
      "metadata": {
        "id": "3K_HMcYMawoN"
      },
      "execution_count": null,
      "outputs": []
    },
    {
      "cell_type": "code",
      "source": [
        "A.dot(B)"
      ],
      "metadata": {
        "id": "GYfeYRzIa1VH"
      },
      "execution_count": null,
      "outputs": []
    },
    {
      "cell_type": "code",
      "source": [
        "A@B"
      ],
      "metadata": {
        "id": "c9X2b6zKa5my"
      },
      "execution_count": null,
      "outputs": []
    },
    {
      "cell_type": "code",
      "source": [
        "a = np.array([1, 2, 3])\n",
        "b = np.array([4, 5, 6])\n",
        "print(np.linalg.norm(a)) # ノルム: 3.7416573867739413\n",
        "print(np.cross(a, b)) # 外積　[-3,  6, -3]"
      ],
      "metadata": {
        "id": "bD7UcyAkb0xQ"
      },
      "execution_count": null,
      "outputs": []
    },
    {
      "cell_type": "code",
      "source": [
        "A = np.array([2,1,0]) \n",
        "B = np.array([1,3,0])"
      ],
      "metadata": {
        "id": "VZKVNwDLbwxU"
      },
      "execution_count": null,
      "outputs": []
    },
    {
      "cell_type": "code",
      "source": [
        "print(np.linalg.norm(A))\n",
        "print(np.linalg.norm(B))"
      ],
      "metadata": {
        "id": "iawiP_1ccXyM"
      },
      "execution_count": null,
      "outputs": []
    },
    {
      "cell_type": "code",
      "source": [
        "np.inner(A,B)"
      ],
      "metadata": {
        "id": "lRt5ojdScK_S"
      },
      "execution_count": null,
      "outputs": []
    },
    {
      "cell_type": "code",
      "source": [
        "np.cross(A,B)"
      ],
      "metadata": {
        "id": "z_v0stoHcip1"
      },
      "execution_count": null,
      "outputs": []
    },
    {
      "cell_type": "code",
      "source": [
        "A = np.array([[1,3],[4,2]]) \n",
        "l ,x =np.linalg.eig(A)\n",
        "print(l)\n",
        "print(x)"
      ],
      "metadata": {
        "id": "87itEQkscvaY"
      },
      "execution_count": null,
      "outputs": []
    },
    {
      "cell_type": "code",
      "source": [
        "A = np.array([[2,5],[1,3]]) \n",
        "np.linalg.det(A)"
      ],
      "metadata": {
        "id": "0Acp_pKAdWq4"
      },
      "execution_count": null,
      "outputs": []
    },
    {
      "cell_type": "code",
      "source": [
        "A = np.array([[2,5,3,7],[1,4,5,3],[8,2,4,9],[2,1,4,2]]) \n",
        "np.linalg.det(A)"
      ],
      "metadata": {
        "id": "uKVi3FDddvdG"
      },
      "execution_count": null,
      "outputs": []
    },
    {
      "cell_type": "code",
      "source": [
        "np.random.seed(0)\n",
        "N=300\n",
        "A=np.array(np.random.randint(0,3,(N,N)))\n",
        "B=np.array(np.random.randint(0,3,(N,N)))"
      ],
      "metadata": {
        "id": "GlnfI4gvPr5g"
      },
      "execution_count": null,
      "outputs": []
    },
    {
      "cell_type": "code",
      "source": [
        "C=np.dot(A,B)\n",
        "print(C)"
      ],
      "metadata": {
        "id": "9tl93mB8QTDg"
      },
      "execution_count": null,
      "outputs": []
    },
    {
      "cell_type": "code",
      "source": [
        "C=np.array([[0]*N for x in range(N)])\n",
        "for i in range(N):\n",
        "  for j in range(N):\n",
        "    for k in range(N):\n",
        "\t    C[i][j]+=A[i][k]*B[k][j]\n",
        "print(C)"
      ],
      "metadata": {
        "id": "Xhk83nQGPk_o"
      },
      "execution_count": null,
      "outputs": []
    },
    {
      "cell_type": "markdown",
      "source": [
        "10.8"
      ],
      "metadata": {
        "id": "mQZGHmrzeg_c"
      }
    },
    {
      "cell_type": "code",
      "source": [
        "#逆行列を持つ例\n",
        "A=np.array([[2, 3],[2, 5]])\n",
        "v=np.array([5, 7])\n",
        "if np.linalg.det(A) !=0:  #4, 0ではないのでAは逆行列を持つ。\n",
        "  B=np.linalg.inv(A)\n",
        "  print(np.dot(B,v)) #[1, 1]\n",
        "else:\n",
        "  print('解は存在しません')"
      ],
      "metadata": {
        "id": "A4_suAxnegZb"
      },
      "execution_count": null,
      "outputs": []
    },
    {
      "cell_type": "markdown",
      "source": [
        "10.9"
      ],
      "metadata": {
        "id": "Ry4pVnSfeptu"
      }
    },
    {
      "cell_type": "code",
      "source": [
        "x=np.random.normal(0.5,1, (2,1)) # 平均0.5, 分散1の乱数を成分に持つ2次元ベクトル\n",
        "print(x)\n",
        "W=np.array([1, 1]) # 重み\n",
        "b=np.array([-1.1]) # バイアス\n",
        "y=np.dot(W,x)+b # x[1]=-x[0]+1.1の直線で入力ベクトルを分類\n",
        "\n",
        "if y>=0: #分類器\n",
        "  print('クラスA')\n",
        "else:\n",
        "  print('クラスB')"
      ],
      "metadata": {
        "colab": {
          "base_uri": "https://localhost:8080/"
        },
        "id": "pKuZL26WepTZ",
        "outputId": "d8174ee8-237d-454d-c860-510260fbb068"
      },
      "execution_count": null,
      "outputs": [
        {
          "output_type": "stream",
          "name": "stdout",
          "text": [
            "[[0.597]\n",
            " [0.566]]\n",
            "クラスA\n"
          ]
        }
      ]
    }
  ]
}