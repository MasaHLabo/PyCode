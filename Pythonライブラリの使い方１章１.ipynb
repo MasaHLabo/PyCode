{
  "nbformat": 4,
  "nbformat_minor": 0,
  "metadata": {
    "colab": {
      "provenance": [],
      "include_colab_link": true
    },
    "kernelspec": {
      "name": "python3",
      "display_name": "Python 3"
    }
  },
  "cells": [
    {
      "cell_type": "markdown",
      "metadata": {
        "id": "view-in-github",
        "colab_type": "text"
      },
      "source": [
        "<a href=\"https://colab.research.google.com/github/MasaHLabo/PyCode/blob/main/Python%E3%83%A9%E3%82%A4%E3%83%96%E3%83%A9%E3%83%AA%E3%81%AE%E4%BD%BF%E3%81%84%E6%96%B9%EF%BC%91%E7%AB%A0%EF%BC%91.ipynb\" target=\"_parent\"><img src=\"https://colab.research.google.com/assets/colab-badge.svg\" alt=\"Open In Colab\"/></a>"
      ]
    },
    {
      "cell_type": "markdown",
      "source": [
        "# Pythonライブラリの使い方\n",
        "第１章　Python概説\n",
        "\n",
        "・教科書に載っているプログラム以外もあります。\n",
        "\n",
        "・各自で確かめるように"
      ],
      "metadata": {
        "id": "vH8BmnIE98Dg"
      }
    },
    {
      "cell_type": "markdown",
      "source": [
        "1.1 変数とデータ"
      ],
      "metadata": {
        "id": "yDvqKGYCYeFT"
      }
    },
    {
      "cell_type": "code",
      "source": [
        "1+1"
      ],
      "metadata": {
        "id": "zRFUXE-qX5F3"
      },
      "execution_count": null,
      "outputs": []
    },
    {
      "cell_type": "code",
      "source": [
        "3.14+1.1"
      ],
      "metadata": {
        "id": "y9nI3krVYSlw"
      },
      "execution_count": null,
      "outputs": []
    },
    {
      "cell_type": "markdown",
      "source": [
        "1.1.1　算術演算子"
      ],
      "metadata": {
        "id": "U_QPvmyQYrfl"
      }
    },
    {
      "cell_type": "code",
      "source": [
        "8+5"
      ],
      "metadata": {
        "id": "-zS--J-pYa8Z"
      },
      "execution_count": null,
      "outputs": []
    },
    {
      "cell_type": "code",
      "source": [
        "8/5"
      ],
      "metadata": {
        "id": "9juj98z6Y96E"
      },
      "execution_count": null,
      "outputs": []
    },
    {
      "cell_type": "code",
      "source": [
        "8%5"
      ],
      "metadata": {
        "id": "wZzboDIFY_n_"
      },
      "execution_count": null,
      "outputs": []
    },
    {
      "cell_type": "code",
      "source": [
        "10//3"
      ],
      "metadata": {
        "id": "iVnXfmFJZBfh"
      },
      "execution_count": null,
      "outputs": []
    },
    {
      "cell_type": "code",
      "source": [
        "2**10"
      ],
      "metadata": {
        "id": "gGQOhsWVZEjh"
      },
      "execution_count": null,
      "outputs": []
    },
    {
      "cell_type": "markdown",
      "source": [
        "1.1.2 代入演算子と変数"
      ],
      "metadata": {
        "id": "SwS4fW3WZSLw"
      }
    },
    {
      "cell_type": "code",
      "source": [
        "2.5*60*1*1.05"
      ],
      "metadata": {
        "id": "p1JDWD1rZI_l"
      },
      "execution_count": null,
      "outputs": []
    },
    {
      "cell_type": "code",
      "source": [
        "157.5/366"
      ],
      "metadata": {
        "id": "lnSH_xSqZZXn"
      },
      "execution_count": null,
      "outputs": []
    },
    {
      "cell_type": "code",
      "source": [
        "cal=2.5*60*1*1.05"
      ],
      "metadata": {
        "id": "RTwhijDoZci0"
      },
      "execution_count": null,
      "outputs": []
    },
    {
      "cell_type": "code",
      "source": [
        "print(cal)"
      ],
      "metadata": {
        "id": "DBa0mGd4Ztvl"
      },
      "execution_count": null,
      "outputs": []
    },
    {
      "cell_type": "code",
      "source": [
        "cal/366"
      ],
      "metadata": {
        "id": "CdIr5LzcZzL0"
      },
      "execution_count": null,
      "outputs": []
    },
    {
      "cell_type": "code",
      "source": [
        "print(cal)"
      ],
      "metadata": {
        "id": "wmtA1wLVqbbL"
      },
      "execution_count": null,
      "outputs": []
    },
    {
      "cell_type": "code",
      "source": [
        "import keyword\n",
        "keyword.kwlist"
      ],
      "metadata": {
        "id": "MJQ0JIKCZ15U"
      },
      "execution_count": null,
      "outputs": []
    },
    {
      "cell_type": "code",
      "source": [
        "cal=2.5*60*1*1.05\n",
        "cal/366"
      ],
      "metadata": {
        "id": "lG7FoJAwaQrm"
      },
      "execution_count": null,
      "outputs": []
    },
    {
      "cell_type": "code",
      "source": [
        "cal=2.5*60*1*1.05"
      ],
      "metadata": {
        "id": "81L_yUyBk1gm"
      },
      "execution_count": null,
      "outputs": []
    },
    {
      "cell_type": "code",
      "source": [
        "cal/366"
      ],
      "metadata": {
        "id": "Wci6_y9xk6sI"
      },
      "execution_count": null,
      "outputs": []
    },
    {
      "cell_type": "code",
      "source": [
        "cal/168"
      ],
      "metadata": {
        "id": "iJ-sTTwcaV-1"
      },
      "execution_count": null,
      "outputs": []
    },
    {
      "cell_type": "code",
      "source": [
        "cal"
      ],
      "metadata": {
        "id": "U9zo-JlJaYL0"
      },
      "execution_count": null,
      "outputs": []
    },
    {
      "cell_type": "code",
      "source": [
        "cal=2.5*60*2*1.05\n",
        "cal"
      ],
      "metadata": {
        "id": "cdaCOXE9abZH"
      },
      "execution_count": null,
      "outputs": []
    },
    {
      "cell_type": "code",
      "source": [
        "x=8\n",
        "y=5\n",
        "x+y"
      ],
      "metadata": {
        "id": "qP85uFOzag30"
      },
      "execution_count": null,
      "outputs": []
    },
    {
      "cell_type": "code",
      "source": [
        "x=5\n",
        "x+z"
      ],
      "metadata": {
        "colab": {
          "base_uri": "https://localhost:8080/",
          "height": 188
        },
        "id": "epXkjq-9arck",
        "outputId": "03e6124d-1e8c-47b8-fc0c-88a1b3aac77c"
      },
      "execution_count": null,
      "outputs": [
        {
          "output_type": "error",
          "ename": "NameError",
          "evalue": "ignored",
          "traceback": [
            "\u001b[0;31m---------------------------------------------------------------------------\u001b[0m",
            "\u001b[0;31mNameError\u001b[0m                                 Traceback (most recent call last)",
            "\u001b[0;32m<ipython-input-21-224e4c20ee97>\u001b[0m in \u001b[0;36m<module>\u001b[0;34m()\u001b[0m\n\u001b[1;32m      1\u001b[0m \u001b[0mx\u001b[0m\u001b[0;34m=\u001b[0m\u001b[0;36m5\u001b[0m\u001b[0;34m\u001b[0m\u001b[0;34m\u001b[0m\u001b[0m\n\u001b[0;32m----> 2\u001b[0;31m \u001b[0mx\u001b[0m\u001b[0;34m+\u001b[0m\u001b[0mz\u001b[0m\u001b[0;34m\u001b[0m\u001b[0;34m\u001b[0m\u001b[0m\n\u001b[0m",
            "\u001b[0;31mNameError\u001b[0m: name 'z' is not defined"
          ]
        }
      ]
    },
    {
      "cell_type": "code",
      "source": [
        "x=8\n",
        "x=x+1\n",
        "x"
      ],
      "metadata": {
        "id": "lqv7Ll4nawTM"
      },
      "execution_count": null,
      "outputs": []
    },
    {
      "cell_type": "code",
      "source": [
        "x=8\n",
        "x+=1\n",
        "x"
      ],
      "metadata": {
        "id": "q22K2ZeopBD_"
      },
      "execution_count": null,
      "outputs": []
    },
    {
      "cell_type": "code",
      "source": [
        "1000*(1+0.05)"
      ],
      "metadata": {
        "id": "CsQKOXfpa3kr"
      },
      "execution_count": null,
      "outputs": []
    },
    {
      "cell_type": "code",
      "source": [
        "1050*(1+0.05)"
      ],
      "metadata": {
        "id": "4H0zGJgWfAgo"
      },
      "execution_count": null,
      "outputs": []
    },
    {
      "cell_type": "code",
      "source": [
        "x=1000\n",
        "x=x*(1+0.05)\n",
        "x=x*(1+0.05)\n",
        "x"
      ],
      "metadata": {
        "id": "DYJ5XeNrfDf7"
      },
      "execution_count": null,
      "outputs": []
    },
    {
      "cell_type": "code",
      "source": [
        "x=1000\n",
        "x*=(1+0.05) \n",
        "x"
      ],
      "metadata": {
        "id": "ZswegO8JfORt"
      },
      "execution_count": null,
      "outputs": []
    },
    {
      "cell_type": "code",
      "source": [
        "x=1000\n",
        "x*=(1+0.05) #x=x*(1+0.05)と同じ\n",
        "x*=(1+0.05) #x=x*(1+0.05)と同じ\n",
        "x"
      ],
      "metadata": {
        "id": "u2Q7se0hfdWa"
      },
      "execution_count": null,
      "outputs": []
    },
    {
      "cell_type": "code",
      "source": [
        "print(2+2)"
      ],
      "metadata": {
        "id": "_X99s2cywhZr"
      },
      "execution_count": null,
      "outputs": []
    },
    {
      "cell_type": "code",
      "source": [
        "print(5-2)"
      ],
      "metadata": {
        "id": "dTmQJq17wq48"
      },
      "execution_count": null,
      "outputs": []
    },
    {
      "cell_type": "code",
      "source": [
        "print(2+2)\n",
        "print(5-2)\n",
        "print(5*6)\n",
        "print(50-5*6)\n",
        "print((50-5)*6)\n",
        "print(8/5)\n",
        "print(type(1))\n",
        "print(type(1.6))\n",
        "print(0.6)\n",
        "print(.6)\n",
        "print(17/3)\n",
        "print(17//3)\n",
        "print(17%3)\n",
        "print(5*5)\n",
        "print(5**2)\n",
        "print(5*5*5*5*5)\n",
        "print(5**5)\n",
        "x=5\n",
        "print(x)\n",
        "y=10\n",
        "print(x*y)"
      ],
      "metadata": {
        "id": "ZCpSnenXwxf3"
      },
      "execution_count": null,
      "outputs": []
    },
    {
      "cell_type": "markdown",
      "source": [
        "1.3　文字列"
      ],
      "metadata": {
        "id": "jvmehpMRwTNR"
      }
    },
    {
      "cell_type": "code",
      "source": [
        "print('こんにちは')"
      ],
      "metadata": {
        "id": "altH8hRbfl-M"
      },
      "execution_count": null,
      "outputs": []
    },
    {
      "cell_type": "code",
      "source": [
        "hello='こんにちは'\n",
        "print(hello)"
      ],
      "metadata": {
        "id": "nkPNqXIVgs38"
      },
      "execution_count": null,
      "outputs": []
    },
    {
      "cell_type": "code",
      "source": [
        "print('こんにちは，'+'今日はいい天気ですね')"
      ],
      "metadata": {
        "id": "ovFzSMUMg4S-"
      },
      "execution_count": null,
      "outputs": []
    },
    {
      "cell_type": "code",
      "source": [
        "a='こんにちは，'\n",
        "b='今日はいい天気ですね'\n",
        "print(a+b)"
      ],
      "metadata": {
        "id": "vfqypYjehIfP"
      },
      "execution_count": null,
      "outputs": []
    },
    {
      "cell_type": "code",
      "source": [
        "print(a,b)"
      ],
      "metadata": {
        "id": "_PEya3v_qV1W"
      },
      "execution_count": null,
      "outputs": []
    },
    {
      "cell_type": "code",
      "source": [
        "print('消費カロリーは'+157.5)"
      ],
      "metadata": {
        "colab": {
          "base_uri": "https://localhost:8080/",
          "height": 170
        },
        "id": "Kh4yqDkZhbaZ",
        "outputId": "20f73994-ccea-4388-f8d6-1452b94bcd8a"
      },
      "execution_count": null,
      "outputs": [
        {
          "output_type": "error",
          "ename": "TypeError",
          "evalue": "ignored",
          "traceback": [
            "\u001b[0;31m---------------------------------------------------------------------------\u001b[0m",
            "\u001b[0;31mTypeError\u001b[0m                                 Traceback (most recent call last)",
            "\u001b[0;32m<ipython-input-36-b70e1a384497>\u001b[0m in \u001b[0;36m<module>\u001b[0;34m()\u001b[0m\n\u001b[0;32m----> 1\u001b[0;31m \u001b[0mprint\u001b[0m\u001b[0;34m(\u001b[0m\u001b[0;34m'消費カロリーは'\u001b[0m\u001b[0;34m+\u001b[0m\u001b[0;36m157.5\u001b[0m\u001b[0;34m)\u001b[0m\u001b[0;34m\u001b[0m\u001b[0;34m\u001b[0m\u001b[0m\n\u001b[0m",
            "\u001b[0;31mTypeError\u001b[0m: can only concatenate str (not \"float\") to str"
          ]
        }
      ]
    },
    {
      "cell_type": "code",
      "source": [
        "print('消費カロリーは'+str(157.5))"
      ],
      "metadata": {
        "id": "EILgA8ksicVD"
      },
      "execution_count": null,
      "outputs": []
    },
    {
      "cell_type": "code",
      "source": [
        "print('こんにちは'*3)"
      ],
      "metadata": {
        "id": "kSV1ewxYiiez"
      },
      "execution_count": null,
      "outputs": []
    },
    {
      "cell_type": "code",
      "source": [
        "print('I don't know.')"
      ],
      "metadata": {
        "colab": {
          "base_uri": "https://localhost:8080/",
          "height": 135
        },
        "id": "sQj8RK-czfKG",
        "outputId": "9cf0cce5-4742-4dad-fba2-99e060c73f5f"
      },
      "execution_count": null,
      "outputs": [
        {
          "output_type": "error",
          "ename": "SyntaxError",
          "evalue": "ignored",
          "traceback": [
            "\u001b[0;36m  File \u001b[0;32m\"<ipython-input-1-5d597aea62db>\"\u001b[0;36m, line \u001b[0;32m1\u001b[0m\n\u001b[0;31m    print('I don't know.')\u001b[0m\n\u001b[0m                 ^\u001b[0m\n\u001b[0;31mSyntaxError\u001b[0m\u001b[0;31m:\u001b[0m invalid syntax\n"
          ]
        }
      ]
    },
    {
      "cell_type": "code",
      "source": [
        "print(\"I don't know.\")\n",
        "print('I don\\'t know.')"
      ],
      "metadata": {
        "id": "kufc8MRnS8Fe"
      },
      "execution_count": null,
      "outputs": []
    },
    {
      "cell_type": "code",
      "source": [
        "print('Say\"I don\\'t know\".')\n",
        "print(\"Say\\\"I don't know\\\".\")"
      ],
      "metadata": {
        "id": "6Gh5H6Bw0ep5"
      },
      "execution_count": null,
      "outputs": []
    },
    {
      "cell_type": "code",
      "source": [
        "print('Hello. \\n How are you?')\n",
        "print('C:\\name\\name')"
      ],
      "metadata": {
        "id": "3QYk2x_z0fZh"
      },
      "execution_count": null,
      "outputs": []
    },
    {
      "cell_type": "code",
      "source": [
        "print('C:\\\\name\\\\name')\n",
        "print(r'C:\\name\\name')"
      ],
      "metadata": {
        "id": "_XdYSjEiYBxK"
      },
      "execution_count": null,
      "outputs": []
    },
    {
      "cell_type": "markdown",
      "source": [
        "1.4　リスト"
      ],
      "metadata": {
        "id": "RMB0gI_swZrK"
      }
    },
    {
      "cell_type": "code",
      "source": [
        "score=[75,80,65]"
      ],
      "metadata": {
        "id": "hltZBRnBiqij"
      },
      "execution_count": null,
      "outputs": []
    },
    {
      "cell_type": "code",
      "source": [
        "print(score)"
      ],
      "metadata": {
        "id": "n_RKZxpmi4sB"
      },
      "execution_count": null,
      "outputs": []
    },
    {
      "cell_type": "code",
      "source": [
        "exam=['数学',60,70.5]\n",
        "print(exam)"
      ],
      "metadata": {
        "id": "DTGXCiBYi9Kj"
      },
      "execution_count": null,
      "outputs": []
    },
    {
      "cell_type": "code",
      "source": [
        "exam[0]"
      ],
      "metadata": {
        "id": "ceTlH-x8jHIp"
      },
      "execution_count": null,
      "outputs": []
    },
    {
      "cell_type": "code",
      "source": [
        "title=exam[0]\n",
        "title"
      ],
      "metadata": {
        "id": "4WKBRopyjMON"
      },
      "execution_count": null,
      "outputs": []
    },
    {
      "cell_type": "code",
      "source": [
        "exam[1]+5"
      ],
      "metadata": {
        "id": "CZtOu3t4jRmZ"
      },
      "execution_count": null,
      "outputs": []
    },
    {
      "cell_type": "code",
      "source": [
        "exam[-2] #最後の要素から順番に　-2　最後から2番め。。。"
      ],
      "metadata": {
        "id": "MrfyzANLjYns"
      },
      "execution_count": null,
      "outputs": []
    },
    {
      "cell_type": "code",
      "source": [
        "len(exam)"
      ],
      "metadata": {
        "id": "WfRJagKOjnVC"
      },
      "execution_count": null,
      "outputs": []
    },
    {
      "cell_type": "code",
      "source": [
        "exam[2]=70.3\n",
        "print(exam)"
      ],
      "metadata": {
        "id": "kPehg1_DjrEQ"
      },
      "execution_count": null,
      "outputs": []
    },
    {
      "cell_type": "code",
      "source": [
        "exam[1]=exam[1]+10\n",
        "print(exam)"
      ],
      "metadata": {
        "colab": {
          "base_uri": "https://localhost:8080/"
        },
        "id": "qjeRPkzZj1ml",
        "outputId": "f17b531f-720e-4c85-b19a-5b2bf9f081c5"
      },
      "execution_count": null,
      "outputs": [
        {
          "output_type": "stream",
          "name": "stdout",
          "text": [
            "['数学', 70, 70.3]\n"
          ]
        }
      ]
    },
    {
      "cell_type": "code",
      "source": [
        "exam[3]=68.4"
      ],
      "metadata": {
        "colab": {
          "base_uri": "https://localhost:8080/",
          "height": 170
        },
        "id": "v_vQvcdOj8QV",
        "outputId": "d66e4eae-6811-4326-a442-60762d375c65"
      },
      "execution_count": null,
      "outputs": [
        {
          "output_type": "error",
          "ename": "IndexError",
          "evalue": "ignored",
          "traceback": [
            "\u001b[0;31m---------------------------------------------------------------------------\u001b[0m",
            "\u001b[0;31mIndexError\u001b[0m                                Traceback (most recent call last)",
            "\u001b[0;32m<ipython-input-52-e9b068f9891d>\u001b[0m in \u001b[0;36m<module>\u001b[0;34m()\u001b[0m\n\u001b[0;32m----> 1\u001b[0;31m \u001b[0mexam\u001b[0m\u001b[0;34m[\u001b[0m\u001b[0;36m3\u001b[0m\u001b[0;34m]\u001b[0m\u001b[0;34m=\u001b[0m\u001b[0;36m68.4\u001b[0m\u001b[0;34m\u001b[0m\u001b[0;34m\u001b[0m\u001b[0m\n\u001b[0m",
            "\u001b[0;31mIndexError\u001b[0m: list assignment index out of range"
          ]
        }
      ]
    },
    {
      "cell_type": "code",
      "source": [
        "exam=['数学',60,70.5]\n",
        "print(exam)"
      ],
      "metadata": {
        "id": "EeMhBvYW9zDi"
      },
      "execution_count": null,
      "outputs": []
    },
    {
      "cell_type": "code",
      "source": [
        "exam.append(68.4)\n",
        "print(exam)"
      ],
      "metadata": {
        "id": "0efyJfxjkEvK"
      },
      "execution_count": null,
      "outputs": []
    },
    {
      "cell_type": "code",
      "source": [
        "exam.insert(3,65)\n",
        "print(exam)"
      ],
      "metadata": {
        "id": "2qNcgbgEkKgd"
      },
      "execution_count": null,
      "outputs": []
    },
    {
      "cell_type": "code",
      "source": [
        "exam=['数学', 70, 70.5, 65, 68.4]\n",
        "exam.remove(65)\n",
        "print(exam)"
      ],
      "metadata": {
        "id": "-pKy097zkW5d"
      },
      "execution_count": null,
      "outputs": []
    },
    {
      "cell_type": "code",
      "source": [
        "exam2=['数学',70,70.5,70,68.4]\n",
        "print(exam2)"
      ],
      "metadata": {
        "id": "-GjmVl-3kej3"
      },
      "execution_count": null,
      "outputs": []
    },
    {
      "cell_type": "code",
      "source": [
        "exam2=['数学',70,70.5,70,68.4]\n",
        "exam2.remove(70)\n",
        "print(exam2)"
      ],
      "metadata": {
        "id": "YceFMoU-k40Y"
      },
      "execution_count": null,
      "outputs": []
    },
    {
      "cell_type": "code",
      "source": [
        "print(exam)"
      ],
      "metadata": {
        "id": "asy0s9-fmEY6"
      },
      "execution_count": null,
      "outputs": []
    },
    {
      "cell_type": "code",
      "source": [
        "exam=['数学', 70, 70.3, 68.4]\n",
        "exam.pop(3)"
      ],
      "metadata": {
        "id": "4YdV4M3alAAZ"
      },
      "execution_count": null,
      "outputs": []
    },
    {
      "cell_type": "code",
      "source": [
        "print(exam)"
      ],
      "metadata": {
        "id": "MKv_5-HelxS2"
      },
      "execution_count": null,
      "outputs": []
    },
    {
      "cell_type": "code",
      "source": [
        "math=['数学',70,70.3]\n",
        "eng=['英語',80,69.5]\n",
        "print(math+eng)"
      ],
      "metadata": {
        "id": "BQjlU5nFl1_-"
      },
      "execution_count": null,
      "outputs": []
    },
    {
      "cell_type": "code",
      "source": [
        "tasu=math+eng\n",
        "tasu"
      ],
      "metadata": {
        "id": "7XHMO7ZLmk22"
      },
      "execution_count": null,
      "outputs": []
    },
    {
      "cell_type": "code",
      "source": [
        "print(math)\n",
        "print(eng)"
      ],
      "metadata": {
        "id": "1Wu3hKUTmwzh"
      },
      "execution_count": null,
      "outputs": []
    },
    {
      "cell_type": "code",
      "source": [
        "math.extend(eng)\n",
        "print(math)"
      ],
      "metadata": {
        "id": "n9OEPhhwm05n"
      },
      "execution_count": null,
      "outputs": []
    },
    {
      "cell_type": "code",
      "source": [
        "math"
      ],
      "metadata": {
        "id": "tdmSD1HNm6kF"
      },
      "execution_count": null,
      "outputs": []
    },
    {
      "cell_type": "code",
      "source": [
        "eng"
      ],
      "metadata": {
        "id": "hSYLKV2-m8Fe"
      },
      "execution_count": null,
      "outputs": []
    },
    {
      "cell_type": "code",
      "source": [
        "math"
      ],
      "metadata": {
        "id": "reWSkhC4m9Bm"
      },
      "execution_count": null,
      "outputs": []
    },
    {
      "cell_type": "code",
      "source": [
        "math[3:6]"
      ],
      "metadata": {
        "id": "TrGHPd8EnDtc"
      },
      "execution_count": null,
      "outputs": []
    },
    {
      "cell_type": "code",
      "source": [
        "math[3:]"
      ],
      "metadata": {
        "id": "TlSydTkUnGSg"
      },
      "execution_count": null,
      "outputs": []
    },
    {
      "cell_type": "code",
      "source": [
        "math[:3]"
      ],
      "metadata": {
        "id": "OInwNsLtnWBC"
      },
      "execution_count": null,
      "outputs": []
    },
    {
      "cell_type": "code",
      "source": [
        "math[3:-1]"
      ],
      "metadata": {
        "id": "gN7327rynZRL"
      },
      "execution_count": null,
      "outputs": []
    },
    {
      "cell_type": "code",
      "source": [
        "math[::3]"
      ],
      "metadata": {
        "id": "RiVLQRnbnkDT"
      },
      "execution_count": null,
      "outputs": []
    },
    {
      "cell_type": "code",
      "source": [
        "math[::-1] #リストの内容を反転させる"
      ],
      "metadata": {
        "id": "plvEH9emoEvr"
      },
      "execution_count": null,
      "outputs": []
    },
    {
      "cell_type": "code",
      "source": [
        "scores=[['数学', 70, 70.3],[ '英語', 80, 69.5]]"
      ],
      "metadata": {
        "id": "G6ou0EihoPHz"
      },
      "execution_count": null,
      "outputs": []
    },
    {
      "cell_type": "code",
      "source": [
        "scores[0]"
      ],
      "metadata": {
        "id": "exnS06bHoiHy"
      },
      "execution_count": null,
      "outputs": []
    },
    {
      "cell_type": "code",
      "source": [
        "scores[1]"
      ],
      "metadata": {
        "id": "DC2mUmtcokQo"
      },
      "execution_count": null,
      "outputs": []
    },
    {
      "cell_type": "code",
      "source": [
        "scores[0][0]"
      ],
      "metadata": {
        "id": "96TfIJk0ovGG"
      },
      "execution_count": null,
      "outputs": []
    },
    {
      "cell_type": "code",
      "source": [
        "scores[0][2]"
      ],
      "metadata": {
        "id": "gf7ywadao1b9"
      },
      "execution_count": null,
      "outputs": []
    },
    {
      "cell_type": "code",
      "source": [
        "scores[1][1]"
      ],
      "metadata": {
        "id": "HyOL1c98o4r5"
      },
      "execution_count": null,
      "outputs": []
    },
    {
      "cell_type": "code",
      "source": [
        "print(*scores)"
      ],
      "metadata": {
        "id": "m1m9MT_Io82D"
      },
      "execution_count": null,
      "outputs": []
    },
    {
      "cell_type": "code",
      "source": [
        "N=[1,2,3,1,2,1,2,3,4,5]\n",
        "print(N)"
      ],
      "metadata": {
        "id": "W_Y4NoUkt4qX"
      },
      "execution_count": null,
      "outputs": []
    },
    {
      "cell_type": "code",
      "source": [
        "N.sort()\n",
        "print(N)"
      ],
      "metadata": {
        "id": "It0hTJSOuIKN"
      },
      "execution_count": null,
      "outputs": []
    },
    {
      "cell_type": "code",
      "source": [
        "len(N)"
      ],
      "metadata": {
        "id": "LBay8odhuQvy"
      },
      "execution_count": null,
      "outputs": []
    },
    {
      "cell_type": "code",
      "source": [
        "type(N)"
      ],
      "metadata": {
        "id": "j6AFUHJmvP30"
      },
      "execution_count": null,
      "outputs": []
    },
    {
      "cell_type": "code",
      "source": [
        "N[100]"
      ],
      "metadata": {
        "colab": {
          "base_uri": "https://localhost:8080/",
          "height": 170
        },
        "id": "fl_UBtmZvcbK",
        "outputId": "bf2cb20e-84cc-418e-d175-1ee48868e8dc"
      },
      "execution_count": null,
      "outputs": [
        {
          "output_type": "error",
          "ename": "IndexError",
          "evalue": "ignored",
          "traceback": [
            "\u001b[0;31m---------------------------------------------------------------------------\u001b[0m",
            "\u001b[0;31mIndexError\u001b[0m                                Traceback (most recent call last)",
            "\u001b[0;32m<ipython-input-5-704a57ce8c4d>\u001b[0m in \u001b[0;36m<module>\u001b[0;34m()\u001b[0m\n\u001b[0;32m----> 1\u001b[0;31m \u001b[0mN\u001b[0m\u001b[0;34m[\u001b[0m\u001b[0;36m100\u001b[0m\u001b[0;34m]\u001b[0m\u001b[0;34m\u001b[0m\u001b[0;34m\u001b[0m\u001b[0m\n\u001b[0m",
            "\u001b[0;31mIndexError\u001b[0m: list index out of range"
          ]
        }
      ]
    },
    {
      "cell_type": "code",
      "source": [
        "help(list)"
      ],
      "metadata": {
        "id": "wxHzlNMn0J5F"
      },
      "execution_count": null,
      "outputs": []
    },
    {
      "cell_type": "markdown",
      "source": [
        "スライドの内容にあわせて"
      ],
      "metadata": {
        "id": "1ek8X521h51k"
      }
    },
    {
      "cell_type": "code",
      "source": [
        "N=[6,3,1,8,0,7]"
      ],
      "metadata": {
        "id": "w4P7iz-Ch9Rh"
      },
      "execution_count": null,
      "outputs": []
    },
    {
      "cell_type": "code",
      "source": [
        "print(\"リストNの０番目の要素は\"+str(N[0])) #N[0]\n",
        "print(\"リストNの3番目の要素は\"+str(N[3])) #N[3]\n",
        "print(\"リストNの-1番目の要素は\"+str(N[-1])) #N[-1]\n",
        "print(\"リストNの-2番目の要素は\"+str(N[-2])) #N[-2]"
      ],
      "metadata": {
        "id": "TTf53bwFiEtM"
      },
      "execution_count": null,
      "outputs": []
    },
    {
      "cell_type": "code",
      "source": [
        "print(\"リストNの3-1番目までの要素は\"+str(N[:3])) #N[0]〜N[3-1]\n",
        "print(\"リストNの2番目から後の要素は\"+str(N[2:])) #N[2]〜\n",
        "print(\"リストNの要素は省略すると\"+str(N[:])) #N[]\n",
        "print(\"リストNの2：5としたときの要素は\"+str(N[2:5])) #N[2]〜N[4]\n",
        "print(\"リストNの::2としたときの要素は\"+str(N[::2])) #N[0],N[2],N[4]\n",
        "print(\"リストNの::-1としたときの要素は\"+str(N[::-1])) #N[5]〜N[0]逆順"
      ],
      "metadata": {
        "id": "JjNhXkqZkKQa"
      },
      "execution_count": null,
      "outputs": []
    },
    {
      "cell_type": "code",
      "source": [
        "N=[1, 2, 3, 4, 5]"
      ],
      "metadata": {
        "id": "y9g6pn7x40K5"
      },
      "execution_count": null,
      "outputs": []
    },
    {
      "cell_type": "code",
      "source": [
        "N.append(100)\n",
        "print(N)"
      ],
      "metadata": {
        "id": "rKfrXft_4Sd-"
      },
      "execution_count": null,
      "outputs": []
    },
    {
      "cell_type": "code",
      "source": [
        "N.insert(0,200)\n",
        "print(N)"
      ],
      "metadata": {
        "id": "TlMny4vL4k0o"
      },
      "execution_count": null,
      "outputs": []
    },
    {
      "cell_type": "code",
      "source": [
        "print(N)"
      ],
      "metadata": {
        "id": "lg3Av2E0SjRZ"
      },
      "execution_count": null,
      "outputs": []
    },
    {
      "cell_type": "code",
      "source": [
        "print(N.pop(0))\n",
        "print(N)"
      ],
      "metadata": {
        "id": "Kj-GXQrK45mI"
      },
      "execution_count": null,
      "outputs": []
    },
    {
      "cell_type": "markdown",
      "source": [],
      "metadata": {
        "id": "so4ItN0qnq5A"
      }
    },
    {
      "cell_type": "code",
      "source": [
        "N=[6,3,1,8,0,7]\n",
        "\n",
        "print(N[3])\n",
        "print(N[-1])\n",
        "print(N[2:5]) \n",
        "print(N[::2])\n",
        "print(N[::-1])\n",
        "N.insert(2,200)\n",
        "print(N)\n",
        "N.pop(1)\n",
        "print(N)"
      ],
      "metadata": {
        "id": "55qFAhxUnFFG"
      },
      "execution_count": null,
      "outputs": []
    },
    {
      "cell_type": "markdown",
      "source": [
        "1.5　タプル"
      ],
      "metadata": {
        "id": "rd5YGX1owbQ_"
      }
    },
    {
      "cell_type": "code",
      "source": [
        "exam=('数学', 70, 70.3) #exam='数学', 70, 70.3\n",
        "print(exam)"
      ],
      "metadata": {
        "id": "P9m5_LGXpDcz"
      },
      "execution_count": null,
      "outputs": []
    },
    {
      "cell_type": "code",
      "source": [
        "a=(128)\n",
        "print(a)"
      ],
      "metadata": {
        "id": "azrbD3KqpS1M"
      },
      "execution_count": null,
      "outputs": []
    },
    {
      "cell_type": "code",
      "source": [
        "a=(128,)\n",
        "print(a)"
      ],
      "metadata": {
        "id": "mG6n_8NepiXF"
      },
      "execution_count": null,
      "outputs": []
    },
    {
      "cell_type": "code",
      "source": [
        "exam[2]"
      ],
      "metadata": {
        "id": "kI_0qnd6pmo9"
      },
      "execution_count": null,
      "outputs": []
    },
    {
      "cell_type": "code",
      "source": [
        "exam[2]=68.7"
      ],
      "metadata": {
        "colab": {
          "base_uri": "https://localhost:8080/",
          "height": 170
        },
        "id": "HLKoZI8WrIa4",
        "outputId": "57c8c3a3-fbee-46cd-bafa-158b68450eac"
      },
      "execution_count": null,
      "outputs": [
        {
          "output_type": "error",
          "ename": "TypeError",
          "evalue": "ignored",
          "traceback": [
            "\u001b[0;31m---------------------------------------------------------------------------\u001b[0m",
            "\u001b[0;31mTypeError\u001b[0m                                 Traceback (most recent call last)",
            "\u001b[0;32m<ipython-input-32-15e1591d1f1c>\u001b[0m in \u001b[0;36m<module>\u001b[0;34m\u001b[0m\n\u001b[0;32m----> 1\u001b[0;31m \u001b[0mexam\u001b[0m\u001b[0;34m[\u001b[0m\u001b[0;36m2\u001b[0m\u001b[0;34m]\u001b[0m\u001b[0;34m=\u001b[0m\u001b[0;36m68.7\u001b[0m\u001b[0;34m\u001b[0m\u001b[0;34m\u001b[0m\u001b[0m\n\u001b[0m",
            "\u001b[0;31mTypeError\u001b[0m: 'tuple' object does not support item assignment"
          ]
        }
      ]
    },
    {
      "cell_type": "code",
      "source": [
        "list(exam)"
      ],
      "metadata": {
        "id": "E0jBl8cZrOBH"
      },
      "execution_count": null,
      "outputs": []
    },
    {
      "cell_type": "code",
      "source": [
        "exam=list(exam)\n",
        "exam.append(68.4)\n",
        "exam=tuple(exam)\n",
        "print(exam)"
      ],
      "metadata": {
        "id": "zobP2TNNrV04"
      },
      "execution_count": null,
      "outputs": []
    },
    {
      "cell_type": "markdown",
      "source": [
        "1.6 辞書　Javaで言うところのMap"
      ],
      "metadata": {
        "id": "4-FBb1vMrq4y"
      }
    },
    {
      "cell_type": "code",
      "source": [
        "dict={'melon':'メロン','apple':'リンゴ','orange':'ミカン'}\n",
        "print(dict)"
      ],
      "metadata": {
        "id": "neHfO8BjrjYX"
      },
      "execution_count": null,
      "outputs": []
    },
    {
      "cell_type": "code",
      "source": [
        "dict['apple']"
      ],
      "metadata": {
        "id": "QUBkx9qLTpRc"
      },
      "execution_count": null,
      "outputs": []
    },
    {
      "cell_type": "code",
      "source": [
        "'orange' in dict"
      ],
      "metadata": {
        "id": "2ssnNkjytDn3"
      },
      "execution_count": null,
      "outputs": []
    },
    {
      "cell_type": "code",
      "source": [
        "'meron' in dict"
      ],
      "metadata": {
        "id": "HVP_i247tKwt"
      },
      "execution_count": null,
      "outputs": []
    },
    {
      "cell_type": "code",
      "source": [
        "dict['grape']='ブドウ'\n",
        "dict"
      ],
      "metadata": {
        "id": "W6Fu2NestSpO"
      },
      "execution_count": null,
      "outputs": []
    },
    {
      "cell_type": "code",
      "source": [
        "dict['grape']='葡萄'\n",
        "dict"
      ],
      "metadata": {
        "id": "TzmNbuSLtfmO"
      },
      "execution_count": null,
      "outputs": []
    },
    {
      "cell_type": "code",
      "source": [
        "dict['melon']='葡萄'\n",
        "dict"
      ],
      "metadata": {
        "id": "ZYFFvviLt2PZ"
      },
      "execution_count": null,
      "outputs": []
    },
    {
      "cell_type": "code",
      "source": [
        "dict={'melon':100,'apple':200}\n",
        "print(dict)"
      ],
      "metadata": {
        "id": "X3SJD5pHSk0Q"
      },
      "execution_count": null,
      "outputs": []
    },
    {
      "cell_type": "code",
      "source": [
        "dict['apple']"
      ],
      "metadata": {
        "id": "4Vd4eTY8s9sV"
      },
      "execution_count": null,
      "outputs": []
    },
    {
      "cell_type": "code",
      "source": [
        "dict['melon']=120\n",
        "print(dict)"
      ],
      "metadata": {
        "id": "m7xsJT8aV_NV"
      },
      "execution_count": null,
      "outputs": []
    },
    {
      "cell_type": "code",
      "source": [
        "dict['orange']=300\n",
        "print(dict)"
      ],
      "metadata": {
        "id": "AOE1RFzBSz1O"
      },
      "execution_count": null,
      "outputs": []
    },
    {
      "cell_type": "code",
      "source": [
        "dict[1]='xxxx'\n",
        "print(dict)"
      ],
      "metadata": {
        "id": "tNyhT8KjW42x"
      },
      "execution_count": null,
      "outputs": []
    },
    {
      "cell_type": "code",
      "source": [
        "dict={'melon':100,'apple':200}"
      ],
      "metadata": {
        "id": "Jo5mwpyqXpoO"
      },
      "execution_count": null,
      "outputs": []
    },
    {
      "cell_type": "code",
      "source": [
        "dict2={'orenge':300,'grape':400}\n",
        "print(dict2)"
      ],
      "metadata": {
        "id": "lwgQLhQCYS0n"
      },
      "execution_count": null,
      "outputs": []
    },
    {
      "cell_type": "code",
      "source": [
        "print(dict.keys())\n",
        "print(dict.values())"
      ],
      "metadata": {
        "id": "C1reJu6IXrr-"
      },
      "execution_count": null,
      "outputs": []
    },
    {
      "cell_type": "code",
      "source": [
        "dict.update(dict2)\n",
        "print(dict)"
      ],
      "metadata": {
        "id": "vju2-SWiZvHb"
      },
      "execution_count": null,
      "outputs": []
    },
    {
      "cell_type": "code",
      "source": [
        "print(dict['melon'])\n",
        "print(dict.get('melon'))"
      ],
      "metadata": {
        "id": "LsBSHzQoafrQ"
      },
      "execution_count": null,
      "outputs": []
    },
    {
      "cell_type": "code",
      "source": [
        "print(dict['grape'])"
      ],
      "metadata": {
        "id": "uTTsWce4a530"
      },
      "execution_count": null,
      "outputs": []
    },
    {
      "cell_type": "code",
      "source": [
        "print(dict.get('grape'))"
      ],
      "metadata": {
        "id": "6Lx5BJqZbApS"
      },
      "execution_count": null,
      "outputs": []
    },
    {
      "cell_type": "code",
      "source": [
        "student={1301:'大妻花子',1302:'小野絵美',1303:'山本美咲'}\n",
        "student[1301]"
      ],
      "metadata": {
        "id": "Vh8uviqlt9Fc"
      },
      "execution_count": null,
      "outputs": []
    },
    {
      "cell_type": "code",
      "source": [
        "dict.pop('melon') #すべてを消去はclearメソッド"
      ],
      "metadata": {
        "id": "IXgKUuChunPM"
      },
      "execution_count": null,
      "outputs": []
    },
    {
      "cell_type": "code",
      "source": [
        "dict"
      ],
      "metadata": {
        "id": "WdwyMQ5ouyWb"
      },
      "execution_count": null,
      "outputs": []
    },
    {
      "cell_type": "code",
      "source": [
        "dict.clear()"
      ],
      "metadata": {
        "id": "nQVh7024uz9c"
      },
      "execution_count": null,
      "outputs": []
    },
    {
      "cell_type": "code",
      "source": [
        "del dict['melon']"
      ],
      "metadata": {
        "id": "T3GDYUwsvCbS"
      },
      "execution_count": null,
      "outputs": []
    },
    {
      "cell_type": "markdown",
      "source": [
        "1.7 条件分岐if文"
      ],
      "metadata": {
        "id": "O16jLV3Tvnop"
      }
    },
    {
      "cell_type": "code",
      "source": [
        "a=61\n",
        "if a>60:\n",
        "  print('60より大きい')\n",
        "print('if文終わり')"
      ],
      "metadata": {
        "id": "VDJQlJTuvJ8D"
      },
      "execution_count": null,
      "outputs": []
    },
    {
      "cell_type": "code",
      "source": [
        "a=59\n",
        "if a>60:\n",
        "  print('60より大きい')\n",
        "print('if文終わり')"
      ],
      "metadata": {
        "id": "w7-qCNSIvMNn"
      },
      "execution_count": null,
      "outputs": []
    },
    {
      "cell_type": "code",
      "source": [
        "a=59\n",
        "if a>60:\n",
        "  print('60より大きい')\n",
        "else:\n",
        "  print('60以下である')\n",
        "print('if文終わり')"
      ],
      "metadata": {
        "id": "FPZtTxywwY7o"
      },
      "execution_count": null,
      "outputs": []
    },
    {
      "cell_type": "code",
      "source": [
        "a=int(input('値を入力してください：'))\n",
        "if a>60:\n",
        "  print('60より大きい')\n",
        "elif a>50:\n",
        "  print('60以下だが50より大きい')\n",
        "elif a>40:\n",
        "  print('50以下だが40より大きい')\n",
        "elif a>30:\n",
        "  print('40以下だが30より大きい')\n",
        "else:\n",
        "  print('30以下である') \n",
        "print('if文終わり')"
      ],
      "metadata": {
        "id": "HCSSmKt9woAV"
      },
      "execution_count": null,
      "outputs": []
    },
    {
      "cell_type": "code",
      "source": [],
      "metadata": {
        "id": "jC4NmY5g2j6x"
      },
      "execution_count": null,
      "outputs": []
    },
    {
      "cell_type": "code",
      "source": [
        "name='こまさん'\n",
        "if name=='こまさん':\n",
        "  print('もんげー')\n",
        "else:\n",
        "  print('ものすごい')"
      ],
      "metadata": {
        "id": "-sMCQAelw626"
      },
      "execution_count": null,
      "outputs": []
    },
    {
      "cell_type": "code",
      "source": [
        "1+2"
      ],
      "metadata": {
        "id": "qFGDg_SXxmWC"
      },
      "execution_count": null,
      "outputs": []
    },
    {
      "cell_type": "code",
      "source": [
        "a=70\n",
        "a>60"
      ],
      "metadata": {
        "id": "cYQdjH6XxzHK"
      },
      "execution_count": null,
      "outputs": []
    },
    {
      "cell_type": "code",
      "source": [
        "a<60"
      ],
      "metadata": {
        "id": "6GMf85HRx2iB"
      },
      "execution_count": null,
      "outputs": []
    },
    {
      "cell_type": "code",
      "source": [
        "a=10\n",
        "a+=1\n",
        "print(a)"
      ],
      "metadata": {
        "id": "x_aW6juXzaPK"
      },
      "execution_count": null,
      "outputs": []
    },
    {
      "cell_type": "code",
      "source": [
        "a=50\n",
        "if 30<=a and a<=60:\n",
        "  print(str(a)+'は30以上で60以下である')"
      ],
      "metadata": {
        "id": "nqbifMmox5G7"
      },
      "execution_count": null,
      "outputs": []
    },
    {
      "cell_type": "code",
      "source": [
        "a=50\n",
        "if 30<= a <=60:\n",
        "  print(str(a)+'は30以上で60以下である')"
      ],
      "metadata": {
        "id": "IDtE4kbyyxn5"
      },
      "execution_count": null,
      "outputs": []
    },
    {
      "cell_type": "code",
      "source": [
        "a=20\n",
        "if 30<=a and a<=60:\n",
        "  print(str(a)+'は30以上で60以下である')"
      ],
      "metadata": {
        "id": "ur3goi-HyOs8"
      },
      "execution_count": null,
      "outputs": []
    },
    {
      "cell_type": "code",
      "source": [
        "a=20\n",
        "if a<=30 or 60<=a:\n",
        "  print(str(a)+'は30以下または60以上である')"
      ],
      "metadata": {
        "id": "KQEUvwScygOd"
      },
      "execution_count": null,
      "outputs": []
    },
    {
      "cell_type": "code",
      "source": [
        "a=70\n",
        "if a<=30 or 60<=a:\n",
        "  print(str(a)+'は30以下または60以上である')"
      ],
      "metadata": {
        "id": "l8oe4qs3yliP"
      },
      "execution_count": null,
      "outputs": []
    },
    {
      "cell_type": "markdown",
      "source": [
        "1.8　繰り返し"
      ],
      "metadata": {
        "id": "hWwiUXxB4J0n"
      }
    },
    {
      "cell_type": "code",
      "source": [
        "a=0\n",
        "while a<3:\n",
        "  print(a)\n",
        "  a+=1"
      ],
      "metadata": {
        "id": "8uPRBHX35WsL"
      },
      "execution_count": null,
      "outputs": []
    },
    {
      "cell_type": "code",
      "source": [
        "command=''\n",
        "while command != 'denden':\n",
        "  command = input('合言葉は？：')\n",
        "else:\n",
        "  print('正解')"
      ],
      "metadata": {
        "id": "N0ibeDLZ6kKx"
      },
      "execution_count": null,
      "outputs": []
    },
    {
      "cell_type": "code",
      "source": [
        "command=''\n",
        "count=0\n",
        "while command != 'denden':\n",
        "  command = input('合言葉は？：')\n",
        "  count+=1\n",
        "  if count==5:\n",
        "    print('５回間違えたので失敗です.')\n",
        "    break #これが無いとループし続ける\n",
        "else:\n",
        "  print('正解')"
      ],
      "metadata": {
        "id": "KL-0kG-R7vA7"
      },
      "execution_count": null,
      "outputs": []
    },
    {
      "cell_type": "markdown",
      "source": [
        "５回めに正解を入れても間違いとひょうじされのでそこを修正すると以下"
      ],
      "metadata": {
        "id": "oouzorlLq4dy"
      }
    },
    {
      "cell_type": "code",
      "source": [
        "command=''\n",
        "count=0\n",
        "while command != 'denden':\n",
        "  command = input('合言葉は？：')\n",
        "  count+=1\n",
        "  if count==5 and command != 'denden':\n",
        "    print('５回間違えたので失敗です.')\n",
        "    break #これが無いとループし続ける\n",
        "else:\n",
        "  print('正解')"
      ],
      "metadata": {
        "id": "Zcb0fOHI1xaZ"
      },
      "execution_count": null,
      "outputs": []
    },
    {
      "cell_type": "code",
      "source": [
        "command=''\n",
        "while True:\n",
        "  command = input('合言葉は？：')\n",
        "  if command != 'denden':\n",
        "    continue\n",
        "  print('正解')\n",
        "  break"
      ],
      "metadata": {
        "id": "pU3iLL-Q9Dcg"
      },
      "execution_count": null,
      "outputs": []
    },
    {
      "cell_type": "code",
      "source": [
        "n=0\n",
        "while n<3:\n",
        "  print('こんにちは'+str(n)+'さん')\n",
        "  n+=1\n",
        "print('while文の終わり')"
      ],
      "metadata": {
        "id": "eE1o-yAoy6gi"
      },
      "execution_count": null,
      "outputs": []
    },
    {
      "cell_type": "markdown",
      "source": [
        "1.9 繰り返しfor文"
      ],
      "metadata": {
        "id": "NToLs6UnAbUK"
      }
    },
    {
      "cell_type": "code",
      "source": [
        "for iii in [1,2,7]:\n",
        "  print(iii)"
      ],
      "metadata": {
        "id": "KgPKqPX1BWyH"
      },
      "execution_count": null,
      "outputs": []
    },
    {
      "cell_type": "code",
      "source": [
        "for iii in ['大分','熊本','福岡']:\n",
        "  print(iii)"
      ],
      "metadata": {
        "id": "-u7dE_5nBsqC"
      },
      "execution_count": null,
      "outputs": []
    },
    {
      "cell_type": "code",
      "source": [
        "for n in[0,1,2]:\n",
        "  print('こんにちは'+str(n)+'さん')\n",
        "print('for文の終わり')"
      ],
      "metadata": {
        "id": "nFhDHGZ1D0Nm"
      },
      "execution_count": null,
      "outputs": []
    },
    {
      "cell_type": "code",
      "source": [
        "a=range(5)\n",
        "print(a) #(range(5))"
      ],
      "metadata": {
        "id": "Z6eN2gW3LZtT"
      },
      "execution_count": null,
      "outputs": []
    },
    {
      "cell_type": "code",
      "source": [
        "a=range(5)\n",
        "print(list(a)) #list(range(5))"
      ],
      "metadata": {
        "id": "a1UU7JJIMCYM"
      },
      "execution_count": null,
      "outputs": []
    },
    {
      "cell_type": "code",
      "source": [
        "list(range(5))"
      ],
      "metadata": {
        "id": "0Z2AcEXqMnTZ"
      },
      "execution_count": null,
      "outputs": []
    },
    {
      "cell_type": "code",
      "source": [
        "a=range(3,7)\n",
        "print(list(a)) #list(range(3,7))"
      ],
      "metadata": {
        "id": "FtBVYKa1MR80"
      },
      "execution_count": null,
      "outputs": []
    },
    {
      "cell_type": "code",
      "source": [
        "list(range(3,10,2))"
      ],
      "metadata": {
        "id": "gswEEhxJMsg7"
      },
      "execution_count": null,
      "outputs": []
    },
    {
      "cell_type": "code",
      "source": [
        "for iii in range(3):\n",
        "  print(iii)"
      ],
      "metadata": {
        "id": "_8dYxfGNP17Z"
      },
      "execution_count": null,
      "outputs": []
    },
    {
      "cell_type": "code",
      "source": [
        "for iii in range(2,5):\n",
        "  print(iii)"
      ],
      "metadata": {
        "id": "VzKgbUscP-iS"
      },
      "execution_count": null,
      "outputs": []
    },
    {
      "cell_type": "code",
      "source": [
        "for iii in range(1,6,2):\n",
        "  print(iii)"
      ],
      "metadata": {
        "id": "MJ0XL7L9QLFO"
      },
      "execution_count": null,
      "outputs": []
    },
    {
      "cell_type": "code",
      "source": [
        "for iii in range(3):\n",
        "  print(iii)\n",
        "  if iii==1:\n",
        "    break"
      ],
      "metadata": {
        "id": "_s6h5GWjSEpo"
      },
      "execution_count": null,
      "outputs": []
    },
    {
      "cell_type": "code",
      "source": [
        "for iii in range(3):\n",
        "  print(iii)\n",
        "else:\n",
        "  print('complete!')"
      ],
      "metadata": {
        "id": "0ENHTdu7SeSw"
      },
      "execution_count": null,
      "outputs": []
    },
    {
      "cell_type": "code",
      "source": [
        "for iii in range(3):\n",
        "  print(iii)\n",
        "  if iii==1:\n",
        "    break\n",
        "else:\n",
        "  print('complete!')"
      ],
      "metadata": {
        "id": "cY2FncJeShFs"
      },
      "execution_count": null,
      "outputs": []
    },
    {
      "cell_type": "markdown",
      "source": [
        "教科書の例"
      ],
      "metadata": {
        "id": "Azhk5b1QQTIy"
      }
    },
    {
      "cell_type": "code",
      "source": [
        "for n in range(3): # 0,1,2の３つ\n",
        "  print('こんにちは'+str(n)+'さん')\n",
        "print('for文の終わり')"
      ],
      "metadata": {
        "id": "4unJnIvzELuL"
      },
      "execution_count": null,
      "outputs": []
    },
    {
      "cell_type": "code",
      "source": [
        "for n in range(1,3): # 1から始まるので，1,2　\n",
        "  print('こんにちは'+str(n)+'さん')\n",
        "print('for文の終わり')"
      ],
      "metadata": {
        "id": "v8fPTUzdEZP6"
      },
      "execution_count": null,
      "outputs": []
    },
    {
      "cell_type": "markdown",
      "source": [
        "1.9.2 タプル"
      ],
      "metadata": {
        "id": "SCIcB-M3E9Fl"
      }
    },
    {
      "cell_type": "code",
      "source": [
        "for n in (0,1,2):\n",
        "  print('こんにちは'+str(n)+'さん')\n",
        "print('for文の終わり')"
      ],
      "metadata": {
        "id": "XyduU7ghEsRw"
      },
      "execution_count": null,
      "outputs": []
    },
    {
      "cell_type": "code",
      "source": [
        "for n in 'abc':\n",
        "  print('こんにちは'+str(n)+'さん')\n",
        "print('for文の終わり')"
      ],
      "metadata": {
        "id": "iF7Me9KeFFUv"
      },
      "execution_count": null,
      "outputs": []
    },
    {
      "cell_type": "code",
      "source": [
        "for n in 'abc':\n",
        "  print('こんにちは'+n+'さん')\n",
        "print('for文の終わり')"
      ],
      "metadata": {
        "id": "dhoEnIpqFxDl"
      },
      "execution_count": null,
      "outputs": []
    },
    {
      "cell_type": "code",
      "source": [
        "for n in {'apple':'リンゴ','orange':'ミカン','melon':'メロン'}:\n",
        "  print('こんにちは'+n+'さん') #print('こんにちは'+str(n)+'さん') でも同じ結果\n",
        "print('for文の終わり')"
      ],
      "metadata": {
        "id": "QgbW_FsmFOxm"
      },
      "execution_count": null,
      "outputs": []
    },
    {
      "cell_type": "code",
      "source": [
        "dict={'apple':'リンゴ','orange':'ミカン','melon':'メロン'}\n",
        "dict"
      ],
      "metadata": {
        "id": "j0DUEOmfIWbK"
      },
      "execution_count": null,
      "outputs": []
    },
    {
      "cell_type": "code",
      "source": [
        "for n in dict.items():\n",
        "  print(n) #print(str(n)) でも同じ結果\n",
        "print('for文の終わり')"
      ],
      "metadata": {
        "id": "hS-qFn1OF32B"
      },
      "execution_count": null,
      "outputs": []
    },
    {
      "cell_type": "code",
      "source": [
        "for n in dict.values():\n",
        "  print(n) \n",
        "print('for文の終わり')"
      ],
      "metadata": {
        "id": "HhK8-fu1GWzH"
      },
      "execution_count": null,
      "outputs": []
    },
    {
      "cell_type": "code",
      "source": [
        "for n in dict.keys():\n",
        "  print(n) \n",
        "print('for文の終わり')"
      ],
      "metadata": {
        "id": "f3D5zx2bGysd"
      },
      "execution_count": null,
      "outputs": []
    },
    {
      "cell_type": "markdown",
      "source": [
        "課題2"
      ],
      "metadata": {
        "id": "WSHSuCRkO5Xh"
      }
    },
    {
      "cell_type": "code",
      "source": [
        "x=int(input('Xの値を入力してください'))\n",
        "y=int(input('Yの値を入力してください'))\n",
        "#print(x,y)\n",
        "z=x**3+x*y-y**2\n",
        "print('ｘの三乗たすｘｙひくｙの二乗は'+str(z)+'です。')"
      ],
      "metadata": {
        "id": "YrWs492-KWXM"
      },
      "execution_count": null,
      "outputs": []
    },
    {
      "cell_type": "code",
      "source": [
        "x=3 #int(input('Xの値を入力してください'))\n",
        "y=2 #int(input('Yの値を入力してください'))\n",
        "#print(x,y)\n",
        "z=x**3+x*y-y**2\n",
        "#print('ｘの三乗たすｘｙひくｙの二乗は'+str(z)+'です。')\n",
        "kotae=int(input('ｘの三乗たすｘｙひくｙの二乗は？'))\n",
        "if (z==kotae):\n",
        "  print('あなたの答え'+str(kotae)+'はTrueです。')\n",
        "else:\n",
        "   print('あなたの答え'+str(kotae)+'はFalseです。')  "
      ],
      "metadata": {
        "id": "xvgG2y03SurM"
      },
      "execution_count": null,
      "outputs": []
    },
    {
      "cell_type": "code",
      "source": [
        "x=3 #int(input('Xの値を入力してください'))\n",
        "y=2 #int(input('Yの値を入力してください'))\n",
        "#print(x,y)\n",
        "z=x**3+x*y-y**2\n",
        "#print('ｘの三乗たすｘｙひくｙの二乗は'+str(z)+'です。')\n",
        "kotae=int(input('ｘの三乗たすｘｙひくｙの二乗は？'))\n",
        "while (z==kotae):\n",
        "  print('あなたの答え'+str(kotae)+'はTrueです。')\n",
        "  break\n",
        "else:\n",
        "   print('あなたの答え'+str(kotae)+'はFalseです。')  "
      ],
      "metadata": {
        "id": "XyZ-ty8hUqfd"
      },
      "execution_count": null,
      "outputs": []
    },
    {
      "cell_type": "markdown",
      "source": [
        "str(a==29)とかするとTrue　False　みたいにブーリアンの答えがでる"
      ],
      "metadata": {
        "id": "GTQyUvriDY-a"
      }
    },
    {
      "cell_type": "code",
      "source": [
        "x=3 #int(input('Xの値を入力してください'))\n",
        "y=2 #int(input('Yの値を入力してください'))\n",
        "#print(x,y)\n",
        "z=x**3+x*y-y**2\n",
        "#print('ｘの三乗たすｘｙひくｙの二乗は'+str(z)+'です。')\n",
        "kotae=int(input('ｘの三乗たすｘｙひくｙの二乗は？'))\n",
        "\n",
        "print('あなたの答え'+str(kotae)+'は'+str(kotae==29)+'です。')\n"
      ],
      "metadata": {
        "id": "fkwtbeP3DXWk"
      },
      "execution_count": null,
      "outputs": []
    }
  ]
}