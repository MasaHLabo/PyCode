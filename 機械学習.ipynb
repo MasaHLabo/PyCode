{
  "nbformat": 4,
  "nbformat_minor": 0,
  "metadata": {
    "colab": {
      "provenance": [],
      "authorship_tag": "ABX9TyNhkF2zfQL6dAKJLHgLG4py",
      "include_colab_link": true
    },
    "kernelspec": {
      "name": "python3",
      "display_name": "Python 3"
    },
    "language_info": {
      "name": "python"
    }
  },
  "cells": [
    {
      "cell_type": "markdown",
      "metadata": {
        "id": "view-in-github",
        "colab_type": "text"
      },
      "source": [
        "<a href=\"https://colab.research.google.com/github/MasaHLabo/PyCode/blob/main/%E6%A9%9F%E6%A2%B0%E5%AD%A6%E7%BF%92.ipynb\" target=\"_parent\"><img src=\"https://colab.research.google.com/assets/colab-badge.svg\" alt=\"Open In Colab\"/></a>"
      ]
    },
    {
      "cell_type": "markdown",
      "source": [
        "機械学習とは？\n",
        "・教師あり学習\n",
        "・教師なし学習\n",
        "・強化学習"
      ],
      "metadata": {
        "id": "cubSgtdfV745"
      }
    },
    {
      "cell_type": "markdown",
      "source": [
        "線形回帰\n",
        "・誤差関数Jを定義し最小化する"
      ],
      "metadata": {
        "id": "8b5jpc0mWHZ0"
      }
    },
    {
      "cell_type": "markdown",
      "source": [
        "細かいことは調べるとしてまずは必要なライブラリを使えるようにする"
      ],
      "metadata": {
        "id": "7Q8UFuRIs68Y"
      }
    },
    {
      "cell_type": "code",
      "execution_count": null,
      "metadata": {
        "id": "lcAv-s0YV5b7"
      },
      "outputs": [],
      "source": [
        "%matplotlib inline\n",
        "import matplotlib.pyplot as plt\n",
        "import numpy as np\n",
        "np.set_printoptions(precision=3,suppress=True)\n",
        "from mpl_toolkits.mplot3d import Axes3D\n",
        "from sklearn.linear_model import LinearRegression\n",
        "from sklearn.preprocessing import PolynomialFeatures\n",
        "from sklearn.linear_model import Ridge\n",
        "from sklearn.metrics import mean_squared_error\n",
        "from sklearn.model_selection import train_test_split\n",
        "from sklearn.preprocessing import StandardScaler\n",
        "from sklearn.svm import LinearSVC\n",
        "from sklearn.datasets import make_blobs\n",
        "from sklearn.model_selection import train_test_split\n",
        "from sklearn.metrics import accuracy_score"
      ]
    },
    {
      "cell_type": "markdown",
      "source": [
        "データの準備と表示"
      ],
      "metadata": {
        "id": "bp9cRyTKv62G"
      }
    },
    {
      "cell_type": "code",
      "source": [
        "np.random.seed(13)\n",
        "x1 = 20 + 15 * np.random.rand(16) #rand 0～１の一様乱数\n",
        "t1 = 100 +15 * x1 + 30 * np.random.randn(16) #randn 0～１の正規分布の乱数\n",
        "fig = plt.figure()\n",
        "ax = fig.add_subplot()\n",
        "ax.scatter(x1, t1)  #散布図\n",
        "ax.grid()\n",
        "ax.set_xlabel(\"temperature\", fontsize=20)\n",
        "ax.set_ylabel(\"unit sales\", fontsize=20)\n",
        "plt.show()"
      ],
      "metadata": {
        "id": "vlbPbMLaWkax"
      },
      "execution_count": null,
      "outputs": []
    },
    {
      "cell_type": "markdown",
      "source": [
        "値のみの表示"
      ],
      "metadata": {
        "id": "zh-pEQL3dE7F"
      }
    },
    {
      "cell_type": "code",
      "source": [
        "print(x1)\n",
        "print(t1)"
      ],
      "metadata": {
        "id": "w-6jPUIwWnXR"
      },
      "execution_count": null,
      "outputs": []
    },
    {
      "cell_type": "markdown",
      "source": [
        "Pythonで線形回帰\n",
        "・LinearRegressionクラスをインスタンス化しfitメソッドに説明変数xと目的変数yを入れるだけ\n",
        "\n",
        "※必要なライブラリと切片、傾きを追加する"
      ],
      "metadata": {
        "id": "OKZBE552W_Xa"
      }
    },
    {
      "cell_type": "code",
      "source": [
        "   #ライブラリのインポート\n",
        "model1 = LinearRegression()\n",
        "model1.fit(x1.reshape(-1,1), t1)\n",
        "print() # 切片\n",
        "print() # 傾き"
      ],
      "metadata": {
        "id": "NONOLy45XdsP"
      },
      "execution_count": null,
      "outputs": []
    },
    {
      "cell_type": "markdown",
      "source": [
        "分析を行う　線で区分け"
      ],
      "metadata": {
        "id": "GL4hPIr0wuYR"
      }
    },
    {
      "cell_type": "code",
      "source": [
        "xx1 = np.arange(20, 37)\n",
        "y_regression_line = model1.coef_ * xx1 + model1.intercept_\n",
        "fig = plt.figure()\n",
        "ax = fig.add_subplot()\n",
        "ax.scatter(x1, t1)\n",
        "ax.plot(xx1, y_regression_line, c=\"red\")\n",
        "ax.grid()\n",
        "ax.set_xlabel(\"temperature\", fontsize=20)\n",
        "ax.set_ylabel(\"unit sales\", fontsize=20)"
      ],
      "metadata": {
        "id": "m6lj-sIaXu1X"
      },
      "execution_count": null,
      "outputs": []
    },
    {
      "cell_type": "markdown",
      "source": [
        "モデル予測をしてみる"
      ],
      "metadata": {
        "id": "zhxHmzplxAjg"
      }
    },
    {
      "cell_type": "code",
      "source": [
        "x_test_data = [] # x=28, x=34に対する予測をする\n",
        "y_pred = model1.predict(x_test_data)\n",
        "print(y_pred)"
      ],
      "metadata": {
        "id": "KPcQYJZhX2kU"
      },
      "execution_count": null,
      "outputs": []
    },
    {
      "cell_type": "markdown",
      "source": [
        "二次元入力の線形回帰"
      ],
      "metadata": {
        "id": "Sg25-IcpX9y8"
      }
    },
    {
      "cell_type": "code",
      "source": [
        "from sklearn.linear_model import LinearRegression\n",
        "import mpl_toolkits.mplot3d.art3d as art3d\n",
        "\n",
        "X2 = np.array([[12, 2],[16, 1],[20, 0],[28, 2],[36, 0],[16, 2],[18, 0],[22, 2],[32, 2],[24, 0]])\n",
        "t2 = np.array([[700],[900],[1300],[1750],[1800],[1100],[850],[1500],[1800],[1100]])\n",
        "\n",
        "fig = plt.figure(figsize = (6, 4))\n",
        "ax = fig.add_subplot(111, projection='3d')\n",
        "ax.scatter3D(X2[:,0], X2[:,1], t2.flatten(), s=30)\n",
        "ax.view_init(elev=10, azim=230)\n",
        "fig.show()"
      ],
      "metadata": {
        "id": "3GzFbz1aYBaR"
      },
      "execution_count": null,
      "outputs": []
    },
    {
      "cell_type": "markdown",
      "source": [
        "Pythonで二次元入力の線形回帰"
      ],
      "metadata": {
        "id": "d7rWKRYkYOBl"
      }
    },
    {
      "cell_type": "code",
      "source": [
        "model2 = LinearRegression()\n",
        "model2.fit(X2,t2)\n",
        "\n",
        "print(\"傾き\", model2.coef_)\n",
        "print(\"切片\", model2.intercept_)\n",
        "a = model2.coef_[0,0]\n",
        "b = model2.coef_[0,1]\n",
        "c = model2.intercept_\n",
        "xx_2d, yy_2d = np.meshgrid(\n",
        "    np.linspace(-1.0, 40.0, 10), np.linspace(-1.0, 3.0, 10))\n",
        "regression_surf = a * xx_2d + b * yy_2d + c\n",
        "\n",
        "fig = plt.figure(figsize = (6, 4))\n",
        "ax = fig.add_subplot(111, projection='3d')\n",
        "ax.plot_surface(xx_2d, yy_2d, regression_surf, color = \"red\", alpha=0.2)\n",
        "ax.scatter3D(X2[:,0], X2[:,1], t2.flatten(), s=30)\n",
        "for i, pos in enumerate(X2):\n",
        "    line= art3d.Line3D([pos[0],pos[0]],[pos[1], pos[1]],[0, t2[i]], color='black', alpha=0.6)\n",
        "    ax.add_line(line)\n",
        "ax.set_zlim([0, 2500])\n",
        "ax.view_init(elev=10, azim=230)\n",
        "plt.show()"
      ],
      "metadata": {
        "id": "5hrmaWFkYURK"
      },
      "execution_count": null,
      "outputs": []
    },
    {
      "cell_type": "markdown",
      "source": [
        "多項式回帰"
      ],
      "metadata": {
        "id": "k47L8ChQYfYT"
      }
    },
    {
      "cell_type": "code",
      "source": [
        "np.random.seed(13)\n",
        "N = 20\n",
        "x3 = np.sort(np.random.uniform(0,6,N))\n",
        "t3 = np.sin(x3) + np.random.uniform(-0.5,0.5,N)\n",
        "x3_test = np.sort(np.random.uniform(0,5,N//2))\n",
        "t3_test = np.sin(x3_test) + np.random.uniform(-0.5,0.5,N//2)\n",
        "pred_x = np.arange(0, 6, 0.1)\n",
        "fig=plt.figure()\n",
        "ax=fig.add_subplot(111)\n",
        "ax.scatter(x3,t3,  label=\"training data\")\n",
        "ax.scatter(x3_test,t3_test,  label=\"test data\")\n",
        "ax.legend()\n",
        "ax.grid()\n",
        "plt.show()"
      ],
      "metadata": {
        "id": "h4eThxrxYie1"
      },
      "execution_count": null,
      "outputs": []
    },
    {
      "cell_type": "markdown",
      "source": [
        "1次近似　☓"
      ],
      "metadata": {
        "id": "YuvbiTkMZpj5"
      }
    },
    {
      "cell_type": "markdown",
      "source": [
        "reshapeで-1とした次元の長さは他の次元の指定値から推測されて自動的に決定される。サイズの大きい配列の形状を変換するときに便利。"
      ],
      "metadata": {
        "id": "opr3oUprbVF6"
      }
    },
    {
      "cell_type": "code",
      "source": [
        "model3_1 = LinearRegression()\n",
        "model3_1.fit(x3.reshape(-1, 1), t3)\n",
        "\n",
        "pred_y = model3_1.predict(pred_x.reshape(-1, 1))\n",
        "fig=plt.figure()\n",
        "ax=fig.add_subplot(111)\n",
        "ax.scatter(x3,t3, label=\"training data\")\n",
        "ax.plot(pred_x, pred_y,color='black', label=\"regression line\", lw=2)\n",
        "ax.scatter(x3_test,t3_test,label=\"test data\")\n",
        "ax.legend()\n",
        "ax.grid()\n",
        "plt.show()"
      ],
      "metadata": {
        "id": "wTNywdpKZSSX"
      },
      "execution_count": null,
      "outputs": []
    },
    {
      "cell_type": "markdown",
      "source": [
        "2次近似\n",
        "PolynominalFeaturesで入力の次数を増やして．．．"
      ],
      "metadata": {
        "id": "Vzd_QD03Zt5o"
      }
    },
    {
      "cell_type": "code",
      "source": [
        "poly_2 = PolynomialFeatures(2) # 次数が2\n",
        "poly_X = poly_2.fit_transform(x3.reshape(-1, 1))\n",
        "model3_2 = LinearRegression()\n",
        "model3_2.fit(poly_X, t3)\n",
        "\n",
        "pred_poly_X = poly_2.fit_transform(pred_x.reshape(-1, 1))\n",
        "pred_y = model3_2.predict(pred_poly_X)\n",
        "fig=plt.figure()\n",
        "ax=fig.add_subplot(111)\n",
        "ax.scatter(x3,t3,  label=\"training data\")\n",
        "ax.scatter(x3_test,t3_test,  label=\"test data\")\n",
        "ax.plot(pred_x, pred_y,color='black', label=\"regression line\", lw=2)\n",
        "ax.grid()\n",
        "ax.legend()\n",
        "plt.show()"
      ],
      "metadata": {
        "id": "NYDNyL39ZzO2"
      },
      "execution_count": null,
      "outputs": []
    },
    {
      "cell_type": "markdown",
      "source": [
        "3次近似"
      ],
      "metadata": {
        "id": "E35kViMRZ-G5"
      }
    },
    {
      "cell_type": "code",
      "source": [
        "poly_3 = PolynomialFeatures(3) # 次数が3\n",
        "poly_X = poly_3.fit_transform(x3.reshape(-1, 1))\n",
        "model3_3 = LinearRegression()\n",
        "model3_3.fit(poly_X, t3)\n",
        "\n",
        "pred_poly_X = poly_3.fit_transform(pred_x.reshape(-1, 1))\n",
        "pred_y = model3_3.predict(pred_poly_X)\n",
        "fig=plt.figure()\n",
        "ax=fig.add_subplot(111)\n",
        "ax.scatter(x3,t3,  label=\"training data\")\n",
        "ax.scatter(x3_test,t3_test,  label=\"test data\")\n",
        "ax.plot(pred_x, pred_y,color='black', label=\"regression line\", lw=2)\n",
        "ax.legend()\n",
        "ax.grid()\n",
        "plt.show()"
      ],
      "metadata": {
        "id": "wUmu1ZIoZ8OC"
      },
      "execution_count": null,
      "outputs": []
    },
    {
      "cell_type": "markdown",
      "source": [
        "過学習"
      ],
      "metadata": {
        "id": "e8I_Depd2OK0"
      }
    },
    {
      "cell_type": "code",
      "source": [
        "np.random.seed(10)\n",
        "train_size = 10\n",
        "train_X = np.random.uniform(low=0, high=3.0, size=train_size)\n",
        "train_t = np.sin(train_X * 0.5 * np.pi) + np.random.normal(0, 0.2, train_size)\n",
        "test_X = np.random.uniform(low=0, high=3.0, size=train_size)\n",
        "test_t = np.sin(test_X * 0.5 * np.pi) + np.random.normal(0, 0.2, train_size)\n",
        "\n",
        "fig=plt.figure()\n",
        "ax = fig.add_subplot()\n",
        "ax.scatter(train_X, train_t,  label=\"training data\")\n",
        "ax.scatter(test_X, test_t,  label=\"test data\")\n",
        "degrees = [1, 3, 8]\n",
        "for deg in degrees:\n",
        "    poly = PolynomialFeatures(deg) # 次数が 1, 3, 8\n",
        "    train_poly_X = poly.fit_transform(train_X.reshape(-1, 1))\n",
        "    model4_1 = LinearRegression()\n",
        "    model4_1.fit(train_poly_X, train_t)\n",
        "    train_pred_y = model4_1.predict(train_poly_X)\n",
        "\n",
        "    pred_x = np.arange(0, 3.0, 0.01)\n",
        "    pred_poly_X = poly.fit_transform(pred_x.reshape(-1, 1))\n",
        "    pred_y = model4_1.predict(pred_poly_X)\n",
        "    ax.plot(pred_x, pred_y, label=\"n=\"+str(deg))\n",
        "ax.grid()\n",
        "ax.legend()\n",
        "ax.set_ylim([-1., 1.5])"
      ],
      "metadata": {
        "id": "vjcnqy2Zbh6v"
      },
      "execution_count": null,
      "outputs": []
    },
    {
      "cell_type": "code",
      "source": [
        "print(model4_1.coef_)"
      ],
      "metadata": {
        "id": "Kz5V47HTbmKt"
      },
      "execution_count": null,
      "outputs": []
    },
    {
      "cell_type": "markdown",
      "source": [
        "リッジ回帰"
      ],
      "metadata": {
        "id": "A424sD2Gb7r8"
      }
    },
    {
      "cell_type": "code",
      "source": [
        "fig=plt.figure()\n",
        "ax = fig.add_subplot()\n",
        "for deg in degrees:\n",
        "    poly = PolynomialFeatures(deg) # 次数は6\n",
        "    train_poly_X = poly.fit_transform(train_X.reshape(-1, 1))\n",
        "    model4_2 = Ridge(alpha=1.0)    #リッジクラスを利用　アルファは人間が決める\n",
        "    model4_2.fit(train_poly_X, train_t)\n",
        "    train_pred_y = model4_2.predict(train_poly_X)\n",
        "\n",
        "    pred_x = np.arange(0, 3.0, 0.01)\n",
        "    pred_poly_X = poly.fit_transform(pred_x.reshape(-1, 1))\n",
        "    pred_y = model4_2.predict(pred_poly_X)\n",
        "\n",
        "    ax.plot(pred_x, pred_y)\n",
        "ax.grid()\n",
        "ax.scatter(train_X, train_t,  label=\"data\")\n",
        "ax.scatter(test_X, test_t,  label=\"test data\")\n",
        "ax.legend()\n",
        "ax.set_ylim([-1.5, 1.5])"
      ],
      "metadata": {
        "id": "xNXAvILDb-g_"
      },
      "execution_count": null,
      "outputs": []
    },
    {
      "cell_type": "markdown",
      "source": [
        "ロジスティック回帰"
      ],
      "metadata": {
        "id": "95rTuhLAdLo5"
      }
    },
    {
      "cell_type": "code",
      "source": [
        "from sklearn.linear_model import LogisticRegression\n",
        "np.random.seed(123)\n",
        "N = 50\n",
        "X5 = np.r_[np.random.normal(8.5, 1.0, size=N), np.random.normal(5, 1.0, size=N)].reshape((2*N, -1))\n",
        "t5 = np.r_[np.ones(N), np.zeros(N)]\n",
        "\n",
        "fig=plt.figure(figsize=(5,3))\n",
        "ax=fig.add_subplot(111)\n",
        "ax.scatter(X5,t5)\n",
        "plt.show()"
      ],
      "metadata": {
        "id": "BWDv0U6BdRAg"
      },
      "execution_count": null,
      "outputs": []
    },
    {
      "cell_type": "code",
      "source": [
        "model = LogisticRegression()\n",
        "model.fit(X5, t5)\n",
        "\n",
        "pred_x = np.arange(3, 10, 0.01)\n",
        "pred_y = model.predict_proba(pred_x.reshape(-1, 1))\n",
        "fig=plt.figure(figsize=(5,3))\n",
        "ax=fig.add_subplot(111)\n",
        "ax.scatter(X5,t5)\n",
        "ax.plot(pred_x, pred_y[:,1], c=\"orange\")\n",
        "plt.show()"
      ],
      "metadata": {
        "id": "Vbe4Uas5dVz5"
      },
      "execution_count": null,
      "outputs": []
    },
    {
      "cell_type": "code",
      "source": [
        "np.random.seed(seed=30)\n",
        "centers = [(-1, -0.125), (1.5, 1.5)]\n",
        "X6, t6 = make_blobs(n_samples=50, n_features=2, centers=centers, cluster_std=0.8)\n",
        "fig = plt.figure()\n",
        "ax = fig.add_subplot(111)\n",
        "plt.scatter(X6[t6==0, 0], X6[t6==0, 1], c='red', marker='o', label='0')\n",
        "plt.scatter(X6[t6==1, 0], X6[t6==1, 1], c='blue', marker='o', label='1')\n",
        "plt.legend(loc='upper left')\n",
        "plt.show()"
      ],
      "metadata": {
        "id": "dQZ9RIUMey5N"
      },
      "execution_count": null,
      "outputs": []
    },
    {
      "cell_type": "code",
      "source": [
        "# 訓練\n",
        "model6 = LogisticRegression()\n",
        "model6.fit(X6, t6)"
      ],
      "metadata": {
        "id": "ZJ9hIDSJe3vN"
      },
      "execution_count": null,
      "outputs": []
    },
    {
      "cell_type": "code",
      "source": [
        "xx = np.linspace(-1.0, 2.0, 10)\n",
        "y_data = (-model6.coef_[0,0] * xx - model6.intercept_) / model6.coef_[0,1]\n",
        "plt.scatter(X6[t6==0, 0], X6[t6==0, 1], c='red', marker='o', label='0')\n",
        "plt.scatter(X6[t6==1, 0], X6[t6==1, 1], c='blue', marker='o', label='1')\n",
        "plt.legend(loc='upper left')\n",
        "plt.plot(xx, y_data)\n",
        "plt.show()"
      ],
      "metadata": {
        "id": "V7fIW8hpfAC4"
      },
      "execution_count": null,
      "outputs": []
    },
    {
      "cell_type": "code",
      "source": [
        "test_data = np.array([[-1, -3], [2, 5], [-1, 3]])\n",
        "print(model6.predict_proba(test_data))\n",
        "print(model6.predict(test_data))"
      ],
      "metadata": {
        "id": "1pNhBAADfDj8"
      },
      "execution_count": null,
      "outputs": []
    },
    {
      "cell_type": "code",
      "source": [
        "xx_, yy_ = np.meshgrid(np.linspace(-5.0, 5.0, 50), np.linspace(-5.0, 5.0, 50))\n",
        "xx_yy = np.vstack([xx_.flatten(),yy_.flatten()])\n",
        "pred_ = model6.predict_proba(xx_yy.T)\n",
        "pred_1 = pred_[:,0].reshape(50, 50)\n",
        "\n",
        "fig = plt.figure(figsize = (6, 4))\n",
        "ax = fig.add_subplot(111, projection='3d')\n",
        "ax.plot_surface(xx_, yy_, pred_1, cmap='viridis', alpha=0.7)\n",
        "ax.scatter3D(X6[t6==0, 0], X6[t6==0, 1], np.ones(25))\n",
        "ax.scatter3D(X6[t6==1, 0], X6[t6==1, 1], np.zeros(25))\n",
        "ax.view_init(elev=20, azim=100)\n",
        "plt.show()"
      ],
      "metadata": {
        "id": "9QxtvwLNfQMS"
      },
      "execution_count": null,
      "outputs": []
    },
    {
      "cell_type": "code",
      "source": [
        "# 学習\n",
        "model7 = LinearSVC()\n",
        "model7.fit(X6, t6)\n",
        "\n",
        "plt.scatter(X6[t6==0, 0], X6[t6==0, 1], c='red', marker='o', label='0')\n",
        "plt.scatter(X6[t6==1, 0], X6[t6==1, 1], c='blue', marker='o', label='1')\n",
        "plt.legend(loc='upper left')\n",
        "xx = np.linspace(-1.5, 2.0, 10)\n",
        "y_data = (-model7.coef_[0,0] * xx - model7.intercept_) / model7.coef_[0,1]\n",
        "plt.plot(xx, y_data)\n",
        "plt.show()"
      ],
      "metadata": {
        "id": "TRz0SuXof-DB"
      },
      "execution_count": null,
      "outputs": []
    },
    {
      "cell_type": "code",
      "source": [
        "test_data = np.array([[-1, -3], [2, 5], [-1, 3]])\n",
        "print(model7.predict(test_data))"
      ],
      "metadata": {
        "id": "IRjwrrSAgF62"
      },
      "execution_count": null,
      "outputs": []
    },
    {
      "cell_type": "code",
      "source": [
        "xx_, yy_ = np.meshgrid(np.linspace(-3.0, 3.0, 100), np.linspace(-3.0, 3.0, 100))\n",
        "xx_yy = np.vstack([xx_.flatten(),yy_.flatten()])\n",
        "pred_ = model7.predict(xx_yy.T)\n",
        "pred_1 = pred_.reshape(100, 100)\n",
        "\n",
        "fig = plt.figure(figsize = (8, 4))\n",
        "ax = fig.add_subplot(111, projection='3d')\n",
        "ax.plot_surface(xx_, yy_, pred_1, alpha=0.3)\n",
        "ax.scatter3D(X6[t6==1, 0], X6[t6==1, 1], np.ones(X6[t6==1, 0].size), c=\"blue\")\n",
        "ax.scatter3D(X6[t6==0, 0], X6[t6==0, 1], np.zeros(X6[t6==0, 0].size), c=\"red\")\n",
        "ax.view_init(elev=20, azim=280)\n",
        "plt.show()"
      ],
      "metadata": {
        "id": "kvyWFrKQgQNY"
      },
      "execution_count": null,
      "outputs": []
    },
    {
      "cell_type": "code",
      "source": [
        "from sklearn.svm import SVC\n",
        "from sklearn.datasets import make_gaussian_quantiles\n",
        "from sklearn.model_selection import train_test_split\n",
        "from sklearn.metrics import accuracy_score\n",
        "\n",
        "\n",
        "# データ生成\n",
        "X8, t8 = make_gaussian_quantiles(n_features=2, n_classes=2, n_samples=300)\n",
        "model = SVC()\n",
        "model.fit(X8, t8)\n",
        "\n",
        "\n",
        "plt.scatter(X8[t8==0, 0], X8[t8==0, 1], c='red', marker='o', label='0')\n",
        "plt.scatter(X8[t8==1, 0], X8[t8==1, 1], c='blue', marker='o', label='1')\n",
        "plt.legend(loc='upper left')"
      ],
      "metadata": {
        "id": "bZkRBjb-gixx"
      },
      "execution_count": null,
      "outputs": []
    },
    {
      "cell_type": "code",
      "source": [
        "xx_, yy_ = np.meshgrid(np.linspace(-3.0, 3.0, 100), np.linspace(-3.0, 3.0, 100))\n",
        "xx_yy = np.vstack([xx_.flatten(),yy_.flatten()])\n",
        "pred_ = model.predict(xx_yy.T)\n",
        "pred_1 = pred_.reshape(100, 100)\n",
        "\n",
        "fig = plt.figure(figsize = (8, 4))\n",
        "ax = fig.add_subplot(111, projection='3d')\n",
        "ax.plot_surface(xx_, yy_, pred_1, alpha=0.3)\n",
        "ax.scatter3D(X8[t8==1, 0], X8[t8==1, 1], np.ones(X8[t8==1, 0].size), c=\"blue\")\n",
        "ax.scatter3D(X8[t8==0, 0], X8[t8==0, 1], np.zeros(X8[t8==0, 0].size), c=\"red\")\n",
        "ax.view_init(elev=20, azim=100)\n",
        "plt.show()"
      ],
      "metadata": {
        "id": "2pE43TaLgrmS"
      },
      "execution_count": null,
      "outputs": []
    },
    {
      "cell_type": "markdown",
      "source": [
        "ニューラルネットワーク"
      ],
      "metadata": {
        "id": "P1kOkNrFgwkE"
      }
    },
    {
      "cell_type": "code",
      "source": [
        "from sklearn.datasets import load_digits\n",
        "from sklearn.neural_network import MLPClassifier\n",
        "from sklearn.model_selection import train_test_split\n",
        "from sklearn.metrics import accuracy_score\n",
        "\n",
        "\n",
        "# データ読み込み\n",
        "data = load_digits()\n",
        "X = data.images.reshape(len(data.images), -1)\n",
        "t = data.target\n",
        "\n",
        "X_train, X_test, t_train, t_test = train_test_split(X, t, test_size=0.3)\n",
        "model = model = MLPClassifier(hidden_layer_sizes=(64, ))\n",
        "model.fit(X_train, t_train) # 学習\n",
        "y_pred = model.predict(X_test)\n",
        "accuracy_score(y_pred, t_test) # 評価"
      ],
      "metadata": {
        "id": "vj5sOTVViHYi"
      },
      "execution_count": null,
      "outputs": []
    },
    {
      "cell_type": "code",
      "source": [
        "fig = plt.figure()\n",
        "N=10\n",
        "for i in range(N):\n",
        "    ax = fig.add_subplot(1, N, i+1)\n",
        "    ax.imshow(X_test[i].reshape(8,8))\n",
        "    ax.set_title(str(t_test[i]))\n",
        "plt.show()"
      ],
      "metadata": {
        "id": "_oAmTQ-liOjO"
      },
      "execution_count": null,
      "outputs": []
    },
    {
      "cell_type": "code",
      "source": [
        "for i in range(N):\n",
        "    print(model.predict(X_test[i].reshape(1,-1)), end= \" \")"
      ],
      "metadata": {
        "id": "hYneozrTiSSX"
      },
      "execution_count": null,
      "outputs": []
    }
  ]
}