{
  "nbformat": 4,
  "nbformat_minor": 0,
  "metadata": {
    "colab": {
      "provenance": [],
      "collapsed_sections": [],
      "include_colab_link": true
    },
    "kernelspec": {
      "name": "python3",
      "display_name": "Python 3"
    }
  },
  "cells": [
    {
      "cell_type": "markdown",
      "metadata": {
        "id": "view-in-github",
        "colab_type": "text"
      },
      "source": [
        "<a href=\"https://colab.research.google.com/github/MasaHLabo/PyCode/blob/main/Python%E3%83%A9%E3%82%A4%E3%83%96%E3%83%A9%E3%83%AA%E3%81%AE%E4%BD%BF%E3%81%84%E6%96%B9.ipynb\" target=\"_parent\"><img src=\"https://colab.research.google.com/assets/colab-badge.svg\" alt=\"Open In Colab\"/></a>"
      ]
    },
    {
      "cell_type": "markdown",
      "source": [
        "# Pythonライブラリの使い方\n",
        "第１章　Python概説\n",
        "\n",
        "・教科書に載っているプログラム以外もあります。\n",
        "\n",
        "・各自で確かめるように"
      ],
      "metadata": {
        "id": "vH8BmnIE98Dg"
      }
    },
    {
      "cell_type": "markdown",
      "source": [
        "1.1 変数とデータ"
      ],
      "metadata": {
        "id": "yDvqKGYCYeFT"
      }
    },
    {
      "cell_type": "code",
      "source": [
        "1+1"
      ],
      "metadata": {
        "colab": {
          "base_uri": "https://localhost:8080/"
        },
        "id": "zRFUXE-qX5F3",
        "outputId": "760f2443-bc80-4476-e231-cc5dce33e63a"
      },
      "execution_count": null,
      "outputs": [
        {
          "output_type": "execute_result",
          "data": {
            "text/plain": [
              "2"
            ]
          },
          "metadata": {},
          "execution_count": 1
        }
      ]
    },
    {
      "cell_type": "code",
      "source": [
        "3.14+1.1"
      ],
      "metadata": {
        "colab": {
          "base_uri": "https://localhost:8080/"
        },
        "id": "y9nI3krVYSlw",
        "outputId": "c1aca139-196e-4c75-f3f8-a33533b9dc85"
      },
      "execution_count": null,
      "outputs": [
        {
          "output_type": "execute_result",
          "data": {
            "text/plain": [
              "4.24"
            ]
          },
          "metadata": {},
          "execution_count": 2
        }
      ]
    },
    {
      "cell_type": "markdown",
      "source": [
        "1.1.1　算術演算子"
      ],
      "metadata": {
        "id": "U_QPvmyQYrfl"
      }
    },
    {
      "cell_type": "code",
      "source": [
        "8+5"
      ],
      "metadata": {
        "colab": {
          "base_uri": "https://localhost:8080/"
        },
        "id": "-zS--J-pYa8Z",
        "outputId": "8cf310f2-6861-4234-daf7-261b6414be5f"
      },
      "execution_count": null,
      "outputs": [
        {
          "output_type": "execute_result",
          "data": {
            "text/plain": [
              "13"
            ]
          },
          "metadata": {},
          "execution_count": 3
        }
      ]
    },
    {
      "cell_type": "code",
      "source": [
        "8/5"
      ],
      "metadata": {
        "colab": {
          "base_uri": "https://localhost:8080/"
        },
        "id": "9juj98z6Y96E",
        "outputId": "5f14410d-f0d4-4069-9b97-71a5eae240fc"
      },
      "execution_count": null,
      "outputs": [
        {
          "output_type": "execute_result",
          "data": {
            "text/plain": [
              "1.6"
            ]
          },
          "metadata": {},
          "execution_count": 4
        }
      ]
    },
    {
      "cell_type": "code",
      "source": [
        "8%5"
      ],
      "metadata": {
        "colab": {
          "base_uri": "https://localhost:8080/"
        },
        "id": "wZzboDIFY_n_",
        "outputId": "2864610e-32e6-4717-e9d9-7a66bf22fae6"
      },
      "execution_count": null,
      "outputs": [
        {
          "output_type": "execute_result",
          "data": {
            "text/plain": [
              "3"
            ]
          },
          "metadata": {},
          "execution_count": 5
        }
      ]
    },
    {
      "cell_type": "code",
      "source": [
        "10//3"
      ],
      "metadata": {
        "colab": {
          "base_uri": "https://localhost:8080/"
        },
        "id": "iVnXfmFJZBfh",
        "outputId": "43879d22-bd62-4dee-ae48-f9c89dc3beae"
      },
      "execution_count": null,
      "outputs": [
        {
          "output_type": "execute_result",
          "data": {
            "text/plain": [
              "3"
            ]
          },
          "metadata": {},
          "execution_count": 6
        }
      ]
    },
    {
      "cell_type": "code",
      "source": [
        "2**10"
      ],
      "metadata": {
        "colab": {
          "base_uri": "https://localhost:8080/"
        },
        "id": "gGQOhsWVZEjh",
        "outputId": "c3edeff2-3dbe-42e0-a6fc-b8d651eb0b88"
      },
      "execution_count": null,
      "outputs": [
        {
          "output_type": "execute_result",
          "data": {
            "text/plain": [
              "1024"
            ]
          },
          "metadata": {},
          "execution_count": 7
        }
      ]
    },
    {
      "cell_type": "markdown",
      "source": [
        "1.1.2 代入演算子と変数"
      ],
      "metadata": {
        "id": "SwS4fW3WZSLw"
      }
    },
    {
      "cell_type": "code",
      "source": [
        "2.5*60*1*1.05"
      ],
      "metadata": {
        "colab": {
          "base_uri": "https://localhost:8080/"
        },
        "id": "p1JDWD1rZI_l",
        "outputId": "53d83e3d-8338-4ca5-a60c-15b930bceff5"
      },
      "execution_count": null,
      "outputs": [
        {
          "output_type": "execute_result",
          "data": {
            "text/plain": [
              "157.5"
            ]
          },
          "metadata": {},
          "execution_count": 8
        }
      ]
    },
    {
      "cell_type": "code",
      "source": [
        "157.5/366"
      ],
      "metadata": {
        "colab": {
          "base_uri": "https://localhost:8080/"
        },
        "id": "lnSH_xSqZZXn",
        "outputId": "a572907a-7c77-4aee-db7d-2b892f5a04a1"
      },
      "execution_count": null,
      "outputs": [
        {
          "output_type": "execute_result",
          "data": {
            "text/plain": [
              "0.430327868852459"
            ]
          },
          "metadata": {},
          "execution_count": 9
        }
      ]
    },
    {
      "cell_type": "code",
      "source": [
        "cal=2.5*60*1*1.05"
      ],
      "metadata": {
        "id": "RTwhijDoZci0"
      },
      "execution_count": null,
      "outputs": []
    },
    {
      "cell_type": "code",
      "source": [
        "cal"
      ],
      "metadata": {
        "colab": {
          "base_uri": "https://localhost:8080/"
        },
        "id": "ZVDx-yidZpIF",
        "outputId": "4d8dd05b-bccc-44a3-9c16-c54c6fe3f0d3"
      },
      "execution_count": null,
      "outputs": [
        {
          "output_type": "execute_result",
          "data": {
            "text/plain": [
              "157.5"
            ]
          },
          "metadata": {},
          "execution_count": 11
        }
      ]
    },
    {
      "cell_type": "code",
      "source": [
        "print(cal)"
      ],
      "metadata": {
        "colab": {
          "base_uri": "https://localhost:8080/"
        },
        "id": "DBa0mGd4Ztvl",
        "outputId": "16f52b69-73fd-4c7e-e3e4-498f0b750a7b"
      },
      "execution_count": null,
      "outputs": [
        {
          "output_type": "stream",
          "name": "stdout",
          "text": [
            "157.5\n"
          ]
        }
      ]
    },
    {
      "cell_type": "code",
      "source": [
        "cal/366"
      ],
      "metadata": {
        "colab": {
          "base_uri": "https://localhost:8080/"
        },
        "id": "CdIr5LzcZzL0",
        "outputId": "f5dc00b1-6ec8-46de-a609-bcb1f08cab75"
      },
      "execution_count": null,
      "outputs": [
        {
          "output_type": "execute_result",
          "data": {
            "text/plain": [
              "0.430327868852459"
            ]
          },
          "metadata": {},
          "execution_count": 13
        }
      ]
    },
    {
      "cell_type": "code",
      "source": [
        "import keyword\n",
        "keyword.kwlist"
      ],
      "metadata": {
        "colab": {
          "base_uri": "https://localhost:8080/"
        },
        "id": "MJQ0JIKCZ15U",
        "outputId": "bb4fff12-4fa5-4ef8-d887-c95720e3538e"
      },
      "execution_count": null,
      "outputs": [
        {
          "output_type": "execute_result",
          "data": {
            "text/plain": [
              "['False',\n",
              " 'None',\n",
              " 'True',\n",
              " 'and',\n",
              " 'as',\n",
              " 'assert',\n",
              " 'async',\n",
              " 'await',\n",
              " 'break',\n",
              " 'class',\n",
              " 'continue',\n",
              " 'def',\n",
              " 'del',\n",
              " 'elif',\n",
              " 'else',\n",
              " 'except',\n",
              " 'finally',\n",
              " 'for',\n",
              " 'from',\n",
              " 'global',\n",
              " 'if',\n",
              " 'import',\n",
              " 'in',\n",
              " 'is',\n",
              " 'lambda',\n",
              " 'nonlocal',\n",
              " 'not',\n",
              " 'or',\n",
              " 'pass',\n",
              " 'raise',\n",
              " 'return',\n",
              " 'try',\n",
              " 'while',\n",
              " 'with',\n",
              " 'yield']"
            ]
          },
          "metadata": {},
          "execution_count": 14
        }
      ]
    },
    {
      "cell_type": "code",
      "source": [
        "cal=2.5*60*1*1.05\n",
        "cal/366"
      ],
      "metadata": {
        "colab": {
          "base_uri": "https://localhost:8080/"
        },
        "id": "lG7FoJAwaQrm",
        "outputId": "02c577b0-80a2-4ce7-f3fb-789b41d2875f"
      },
      "execution_count": null,
      "outputs": [
        {
          "output_type": "execute_result",
          "data": {
            "text/plain": [
              "0.430327868852459"
            ]
          },
          "metadata": {},
          "execution_count": 15
        }
      ]
    },
    {
      "cell_type": "code",
      "source": [
        "cal=2.5*60*1*1.05"
      ],
      "metadata": {
        "id": "81L_yUyBk1gm"
      },
      "execution_count": null,
      "outputs": []
    },
    {
      "cell_type": "code",
      "source": [
        "cal/366"
      ],
      "metadata": {
        "colab": {
          "base_uri": "https://localhost:8080/"
        },
        "id": "Wci6_y9xk6sI",
        "outputId": "86f8fd29-43d7-472e-9632-d97e43b85fb4"
      },
      "execution_count": null,
      "outputs": [
        {
          "output_type": "execute_result",
          "data": {
            "text/plain": [
              "0.430327868852459"
            ]
          },
          "metadata": {},
          "execution_count": 2
        }
      ]
    },
    {
      "cell_type": "code",
      "source": [
        "cal/168"
      ],
      "metadata": {
        "colab": {
          "base_uri": "https://localhost:8080/"
        },
        "id": "iJ-sTTwcaV-1",
        "outputId": "a8778f4f-e171-40c1-c927-5a53cb3d6f39"
      },
      "execution_count": null,
      "outputs": [
        {
          "output_type": "execute_result",
          "data": {
            "text/plain": [
              "0.9375"
            ]
          },
          "metadata": {},
          "execution_count": 16
        }
      ]
    },
    {
      "cell_type": "code",
      "source": [
        "cal"
      ],
      "metadata": {
        "colab": {
          "base_uri": "https://localhost:8080/"
        },
        "id": "U9zo-JlJaYL0",
        "outputId": "376c1ef6-bc3c-442c-8a4e-9fab2f6c3bb2"
      },
      "execution_count": null,
      "outputs": [
        {
          "output_type": "execute_result",
          "data": {
            "text/plain": [
              "157.5"
            ]
          },
          "metadata": {},
          "execution_count": 17
        }
      ]
    },
    {
      "cell_type": "code",
      "source": [
        "cal=2.5*60*2*1.05\n",
        "cal"
      ],
      "metadata": {
        "colab": {
          "base_uri": "https://localhost:8080/"
        },
        "id": "cdaCOXE9abZH",
        "outputId": "81350d46-67d4-4429-cce3-92e6beaad1e0"
      },
      "execution_count": null,
      "outputs": [
        {
          "output_type": "execute_result",
          "data": {
            "text/plain": [
              "315.0"
            ]
          },
          "metadata": {},
          "execution_count": 19
        }
      ]
    },
    {
      "cell_type": "code",
      "source": [
        "x=8\n",
        "y=5\n",
        "x+y"
      ],
      "metadata": {
        "colab": {
          "base_uri": "https://localhost:8080/"
        },
        "id": "qP85uFOzag30",
        "outputId": "d3b33b59-7019-464b-d64a-e0952dd6764e"
      },
      "execution_count": null,
      "outputs": [
        {
          "output_type": "execute_result",
          "data": {
            "text/plain": [
              "13"
            ]
          },
          "metadata": {},
          "execution_count": 20
        }
      ]
    },
    {
      "cell_type": "code",
      "source": [
        "x=5\n",
        "x+z"
      ],
      "metadata": {
        "colab": {
          "base_uri": "https://localhost:8080/",
          "height": 188
        },
        "id": "epXkjq-9arck",
        "outputId": "03e6124d-1e8c-47b8-fc0c-88a1b3aac77c"
      },
      "execution_count": null,
      "outputs": [
        {
          "output_type": "error",
          "ename": "NameError",
          "evalue": "ignored",
          "traceback": [
            "\u001b[0;31m---------------------------------------------------------------------------\u001b[0m",
            "\u001b[0;31mNameError\u001b[0m                                 Traceback (most recent call last)",
            "\u001b[0;32m<ipython-input-21-224e4c20ee97>\u001b[0m in \u001b[0;36m<module>\u001b[0;34m()\u001b[0m\n\u001b[1;32m      1\u001b[0m \u001b[0mx\u001b[0m\u001b[0;34m=\u001b[0m\u001b[0;36m5\u001b[0m\u001b[0;34m\u001b[0m\u001b[0;34m\u001b[0m\u001b[0m\n\u001b[0;32m----> 2\u001b[0;31m \u001b[0mx\u001b[0m\u001b[0;34m+\u001b[0m\u001b[0mz\u001b[0m\u001b[0;34m\u001b[0m\u001b[0;34m\u001b[0m\u001b[0m\n\u001b[0m",
            "\u001b[0;31mNameError\u001b[0m: name 'z' is not defined"
          ]
        }
      ]
    },
    {
      "cell_type": "code",
      "source": [
        "x=8\n",
        "x=x+1\n",
        "x"
      ],
      "metadata": {
        "colab": {
          "base_uri": "https://localhost:8080/"
        },
        "id": "lqv7Ll4nawTM",
        "outputId": "2e73917c-8e50-48f9-fbbf-9aa0e88bbdb9"
      },
      "execution_count": null,
      "outputs": [
        {
          "output_type": "execute_result",
          "data": {
            "text/plain": [
              "9"
            ]
          },
          "metadata": {},
          "execution_count": 22
        }
      ]
    },
    {
      "cell_type": "code",
      "source": [
        "x=8\n",
        "x+=1\n",
        "x"
      ],
      "metadata": {
        "colab": {
          "base_uri": "https://localhost:8080/"
        },
        "id": "q22K2ZeopBD_",
        "outputId": "546142e3-0fca-46c7-c2ad-8bd1eb2f7906"
      },
      "execution_count": null,
      "outputs": [
        {
          "output_type": "execute_result",
          "data": {
            "text/plain": [
              "9"
            ]
          },
          "metadata": {},
          "execution_count": 6
        }
      ]
    },
    {
      "cell_type": "code",
      "source": [
        "1000*(1+0.05)"
      ],
      "metadata": {
        "colab": {
          "base_uri": "https://localhost:8080/"
        },
        "id": "CsQKOXfpa3kr",
        "outputId": "964f24cb-7fd2-4f7e-ed85-08c00c096903"
      },
      "execution_count": null,
      "outputs": [
        {
          "output_type": "execute_result",
          "data": {
            "text/plain": [
              "1050.0"
            ]
          },
          "metadata": {},
          "execution_count": 5
        }
      ]
    },
    {
      "cell_type": "code",
      "source": [
        "1050*(1+0.05)"
      ],
      "metadata": {
        "colab": {
          "base_uri": "https://localhost:8080/"
        },
        "outputId": "bf37334c-bc99-4812-acea-65f3ebe734ca",
        "id": "4H0zGJgWfAgo"
      },
      "execution_count": null,
      "outputs": [
        {
          "output_type": "execute_result",
          "data": {
            "text/plain": [
              "1102.5"
            ]
          },
          "metadata": {},
          "execution_count": 25
        }
      ]
    },
    {
      "cell_type": "code",
      "source": [
        "x=1000\n",
        "x=x*(1+0.05)\n",
        "x=x*(1+0.05)\n",
        "x"
      ],
      "metadata": {
        "colab": {
          "base_uri": "https://localhost:8080/"
        },
        "id": "DYJ5XeNrfDf7",
        "outputId": "ca37d25f-a5c7-4349-f7f5-99ea4fc86db0"
      },
      "execution_count": null,
      "outputs": [
        {
          "output_type": "execute_result",
          "data": {
            "text/plain": [
              "1102.5"
            ]
          },
          "metadata": {},
          "execution_count": 26
        }
      ]
    },
    {
      "cell_type": "code",
      "source": [
        "x=1000\n",
        "x*=(1+0.05) \n",
        "x"
      ],
      "metadata": {
        "colab": {
          "base_uri": "https://localhost:8080/"
        },
        "id": "ZswegO8JfORt",
        "outputId": "0ba2ea8d-5370-4d67-ee4d-62a58876ca8a"
      },
      "execution_count": null,
      "outputs": [
        {
          "output_type": "execute_result",
          "data": {
            "text/plain": [
              "1050.0"
            ]
          },
          "metadata": {},
          "execution_count": 27
        }
      ]
    },
    {
      "cell_type": "code",
      "source": [
        "x=1000\n",
        "x*=(1+0.05) #x=x*(1+0.05)と同じ\n",
        "x*=(1+0.05) #x=x*(1+0.05)と同じ\n",
        "x"
      ],
      "metadata": {
        "colab": {
          "base_uri": "https://localhost:8080/"
        },
        "id": "u2Q7se0hfdWa",
        "outputId": "0f478672-985e-4306-e258-530f2da684b8"
      },
      "execution_count": null,
      "outputs": [
        {
          "output_type": "execute_result",
          "data": {
            "text/plain": [
              "1102.5"
            ]
          },
          "metadata": {},
          "execution_count": 30
        }
      ]
    },
    {
      "cell_type": "code",
      "source": [
        "print(2+2)"
      ],
      "metadata": {
        "colab": {
          "base_uri": "https://localhost:8080/"
        },
        "id": "_X99s2cywhZr",
        "outputId": "b1cb86ef-26a1-4765-9f4b-df265fb6b87d"
      },
      "execution_count": null,
      "outputs": [
        {
          "output_type": "stream",
          "name": "stdout",
          "text": [
            "4\n"
          ]
        }
      ]
    },
    {
      "cell_type": "code",
      "source": [
        "print(5-2)"
      ],
      "metadata": {
        "colab": {
          "base_uri": "https://localhost:8080/"
        },
        "id": "dTmQJq17wq48",
        "outputId": "92e049e9-4598-422a-a873-7591d4624cec"
      },
      "execution_count": null,
      "outputs": [
        {
          "output_type": "stream",
          "name": "stdout",
          "text": [
            "3\n"
          ]
        }
      ]
    },
    {
      "cell_type": "code",
      "source": [
        "print(2+2)\n",
        "print(5-2)\n",
        "print(5*6)\n",
        "print(50-5*6)\n",
        "print((50-5)*6)\n",
        "print(8/5)\n",
        "print(type(1))\n",
        "print(type(1.6))\n",
        "print(0.6)\n",
        "print(.6)\n",
        "print(17/3)\n",
        "print(17//3)\n",
        "print(17%3)\n",
        "print(5*5)\n",
        "print(5**2)\n",
        "print(5*5*5*5*5)\n",
        "print(5**5)\n",
        "x=5\n",
        "print(x)\n",
        "y=10\n",
        "print(x*y)"
      ],
      "metadata": {
        "colab": {
          "base_uri": "https://localhost:8080/"
        },
        "id": "ZCpSnenXwxf3",
        "outputId": "b49fa0c0-cff0-4fb8-ba20-5ea242cf5304"
      },
      "execution_count": null,
      "outputs": [
        {
          "output_type": "stream",
          "name": "stdout",
          "text": [
            "4\n",
            "3\n",
            "30\n",
            "20\n",
            "270\n",
            "1.6\n",
            "<class 'int'>\n",
            "<class 'float'>\n",
            "0.6\n",
            "0.6\n",
            "5.666666666666667\n",
            "5\n",
            "2\n",
            "25\n",
            "25\n",
            "3125\n",
            "3125\n",
            "5\n",
            "50\n"
          ]
        }
      ]
    },
    {
      "cell_type": "markdown",
      "source": [
        "1.3　文字列"
      ],
      "metadata": {
        "id": "jvmehpMRwTNR"
      }
    },
    {
      "cell_type": "code",
      "source": [
        "print('こんにちは')"
      ],
      "metadata": {
        "colab": {
          "base_uri": "https://localhost:8080/"
        },
        "id": "altH8hRbfl-M",
        "outputId": "45c3eee4-1ace-4ad0-8999-8e828d997d38"
      },
      "execution_count": null,
      "outputs": [
        {
          "output_type": "stream",
          "name": "stdout",
          "text": [
            "こんにちは\n"
          ]
        }
      ]
    },
    {
      "cell_type": "code",
      "source": [
        "hello='こんにちは'\n",
        "print(hello)"
      ],
      "metadata": {
        "colab": {
          "base_uri": "https://localhost:8080/"
        },
        "id": "nkPNqXIVgs38",
        "outputId": "8317f722-4fcb-4ba8-8908-9c04209df10f"
      },
      "execution_count": null,
      "outputs": [
        {
          "output_type": "stream",
          "name": "stdout",
          "text": [
            "こんにちは\n"
          ]
        }
      ]
    },
    {
      "cell_type": "code",
      "source": [
        "print('こんにちは，'+'今日はいい天気ですね')"
      ],
      "metadata": {
        "colab": {
          "base_uri": "https://localhost:8080/"
        },
        "id": "ovFzSMUMg4S-",
        "outputId": "f82535fc-b6de-41e5-9466-179e8e8ae397"
      },
      "execution_count": null,
      "outputs": [
        {
          "output_type": "stream",
          "name": "stdout",
          "text": [
            "こんにちは，今日はいい天気ですね\n"
          ]
        }
      ]
    },
    {
      "cell_type": "code",
      "source": [
        "a='こんにちは，'\n",
        "b='今日はいい天気ですね'\n",
        "print(a+b)"
      ],
      "metadata": {
        "colab": {
          "base_uri": "https://localhost:8080/"
        },
        "id": "vfqypYjehIfP",
        "outputId": "8942f67d-1939-46a9-de2b-fcf617f02472"
      },
      "execution_count": null,
      "outputs": [
        {
          "output_type": "stream",
          "name": "stdout",
          "text": [
            "こんにちは，今日はいい天気ですね\n"
          ]
        }
      ]
    },
    {
      "cell_type": "code",
      "source": [
        "print(a,b)"
      ],
      "metadata": {
        "colab": {
          "base_uri": "https://localhost:8080/"
        },
        "id": "_PEya3v_qV1W",
        "outputId": "0ec6646e-3784-43c0-a661-4d213b458dbc"
      },
      "execution_count": null,
      "outputs": [
        {
          "output_type": "stream",
          "name": "stdout",
          "text": [
            "こんにちは， 今日はいい天気ですね\n"
          ]
        }
      ]
    },
    {
      "cell_type": "code",
      "source": [
        "print('消費カロリーは'+157.5)"
      ],
      "metadata": {
        "colab": {
          "base_uri": "https://localhost:8080/",
          "height": 170
        },
        "id": "Kh4yqDkZhbaZ",
        "outputId": "20f73994-ccea-4388-f8d6-1452b94bcd8a"
      },
      "execution_count": null,
      "outputs": [
        {
          "output_type": "error",
          "ename": "TypeError",
          "evalue": "ignored",
          "traceback": [
            "\u001b[0;31m---------------------------------------------------------------------------\u001b[0m",
            "\u001b[0;31mTypeError\u001b[0m                                 Traceback (most recent call last)",
            "\u001b[0;32m<ipython-input-36-b70e1a384497>\u001b[0m in \u001b[0;36m<module>\u001b[0;34m()\u001b[0m\n\u001b[0;32m----> 1\u001b[0;31m \u001b[0mprint\u001b[0m\u001b[0;34m(\u001b[0m\u001b[0;34m'消費カロリーは'\u001b[0m\u001b[0;34m+\u001b[0m\u001b[0;36m157.5\u001b[0m\u001b[0;34m)\u001b[0m\u001b[0;34m\u001b[0m\u001b[0;34m\u001b[0m\u001b[0m\n\u001b[0m",
            "\u001b[0;31mTypeError\u001b[0m: can only concatenate str (not \"float\") to str"
          ]
        }
      ]
    },
    {
      "cell_type": "code",
      "source": [
        "print('消費カロリーは'+str(157.5))"
      ],
      "metadata": {
        "colab": {
          "base_uri": "https://localhost:8080/"
        },
        "id": "EILgA8ksicVD",
        "outputId": "51113a16-dcbc-4b98-f3b3-4b248b0bf8da"
      },
      "execution_count": null,
      "outputs": [
        {
          "output_type": "stream",
          "name": "stdout",
          "text": [
            "消費カロリーは157.5\n"
          ]
        }
      ]
    },
    {
      "cell_type": "code",
      "source": [
        "print('こんにちは'*3)"
      ],
      "metadata": {
        "colab": {
          "base_uri": "https://localhost:8080/"
        },
        "id": "kSV1ewxYiiez",
        "outputId": "812b39a2-3bb2-4aee-d44e-d813708586f2"
      },
      "execution_count": null,
      "outputs": [
        {
          "output_type": "stream",
          "name": "stdout",
          "text": [
            "こんにちはこんにちはこんにちは\n"
          ]
        }
      ]
    },
    {
      "cell_type": "code",
      "source": [
        "print(\"I don't know.\")\n",
        "print('I don\\'t know.')"
      ],
      "metadata": {
        "colab": {
          "base_uri": "https://localhost:8080/"
        },
        "id": "sQj8RK-czfKG",
        "outputId": "f1a04624-bc8e-43b5-c894-46992ee5dedf"
      },
      "execution_count": null,
      "outputs": [
        {
          "output_type": "stream",
          "name": "stdout",
          "text": [
            "I don't know.\n",
            "I don't know.\n"
          ]
        }
      ]
    },
    {
      "cell_type": "code",
      "source": [
        "print('Say\"I don\\'t know\".')\n",
        "print(\"Say\\\"I don't know\\\".\")"
      ],
      "metadata": {
        "colab": {
          "base_uri": "https://localhost:8080/"
        },
        "id": "6Gh5H6Bw0ep5",
        "outputId": "1f7073e3-e0ec-4082-e0cd-8018f85509d9"
      },
      "execution_count": null,
      "outputs": [
        {
          "output_type": "stream",
          "name": "stdout",
          "text": [
            "Say\"I don't know\".\n",
            "Say\"I don't know\".\n"
          ]
        }
      ]
    },
    {
      "cell_type": "code",
      "source": [
        "print('Hello. \\n How are you?')\n",
        "print('C:\\name\\name')\n",
        "print(r'C:\\name\\name')"
      ],
      "metadata": {
        "colab": {
          "base_uri": "https://localhost:8080/"
        },
        "outputId": "07b39328-57be-44ba-8e89-659620bc6757",
        "id": "3QYk2x_z0fZh"
      },
      "execution_count": null,
      "outputs": [
        {
          "output_type": "stream",
          "name": "stdout",
          "text": [
            "Hello. \n",
            " How are you?\n",
            "C:\n",
            "ame\n",
            "ame\n",
            "C:\\name\\name\n"
          ]
        }
      ]
    },
    {
      "cell_type": "markdown",
      "source": [
        "1.4　リスト"
      ],
      "metadata": {
        "id": "RMB0gI_swZrK"
      }
    },
    {
      "cell_type": "code",
      "source": [
        "score=[75,80,65]"
      ],
      "metadata": {
        "id": "hltZBRnBiqij"
      },
      "execution_count": null,
      "outputs": []
    },
    {
      "cell_type": "code",
      "source": [
        "score"
      ],
      "metadata": {
        "colab": {
          "base_uri": "https://localhost:8080/"
        },
        "id": "UTtngi2ei27M",
        "outputId": "fef7fff7-7cc8-4a6f-f65b-0fc8b2755ebd"
      },
      "execution_count": null,
      "outputs": [
        {
          "output_type": "execute_result",
          "data": {
            "text/plain": [
              "[75, 80, 65]"
            ]
          },
          "metadata": {},
          "execution_count": 40
        }
      ]
    },
    {
      "cell_type": "code",
      "source": [
        "print(score)"
      ],
      "metadata": {
        "colab": {
          "base_uri": "https://localhost:8080/"
        },
        "id": "n_RKZxpmi4sB",
        "outputId": "eff96453-dbbd-4495-8c87-4ed10a389d1d"
      },
      "execution_count": null,
      "outputs": [
        {
          "output_type": "stream",
          "name": "stdout",
          "text": [
            "[75, 80, 65]\n"
          ]
        }
      ]
    },
    {
      "cell_type": "code",
      "source": [
        "exam=['数学',60,70.5]\n",
        "print(exam)"
      ],
      "metadata": {
        "colab": {
          "base_uri": "https://localhost:8080/"
        },
        "id": "DTGXCiBYi9Kj",
        "outputId": "de474644-7d44-49ff-be95-519d9ea1d57f"
      },
      "execution_count": null,
      "outputs": [
        {
          "output_type": "stream",
          "name": "stdout",
          "text": [
            "['数学', 60, 70.5]\n"
          ]
        }
      ]
    },
    {
      "cell_type": "code",
      "source": [
        "exam[0]"
      ],
      "metadata": {
        "colab": {
          "base_uri": "https://localhost:8080/",
          "height": 35
        },
        "id": "ceTlH-x8jHIp",
        "outputId": "d69588e5-9978-4cb9-b5cf-c14b8fdebe0e"
      },
      "execution_count": null,
      "outputs": [
        {
          "output_type": "execute_result",
          "data": {
            "application/vnd.google.colaboratory.intrinsic+json": {
              "type": "string"
            },
            "text/plain": [
              "'数学'"
            ]
          },
          "metadata": {},
          "execution_count": 43
        }
      ]
    },
    {
      "cell_type": "code",
      "source": [
        "title=exam[0]\n",
        "title"
      ],
      "metadata": {
        "colab": {
          "base_uri": "https://localhost:8080/",
          "height": 35
        },
        "id": "4WKBRopyjMON",
        "outputId": "241a78d9-4eda-4038-e72f-c8b994410c17"
      },
      "execution_count": null,
      "outputs": [
        {
          "output_type": "execute_result",
          "data": {
            "application/vnd.google.colaboratory.intrinsic+json": {
              "type": "string"
            },
            "text/plain": [
              "'数学'"
            ]
          },
          "metadata": {},
          "execution_count": 44
        }
      ]
    },
    {
      "cell_type": "code",
      "source": [
        "exam[1]+5"
      ],
      "metadata": {
        "colab": {
          "base_uri": "https://localhost:8080/"
        },
        "id": "CZtOu3t4jRmZ",
        "outputId": "d2d5c1be-b181-40e5-bf3e-fb7417566e6d"
      },
      "execution_count": null,
      "outputs": [
        {
          "output_type": "execute_result",
          "data": {
            "text/plain": [
              "65"
            ]
          },
          "metadata": {},
          "execution_count": 45
        }
      ]
    },
    {
      "cell_type": "code",
      "source": [
        "exam[-1] #最後の要素から順番に　-2　最後から2番め。。。"
      ],
      "metadata": {
        "colab": {
          "base_uri": "https://localhost:8080/"
        },
        "id": "MrfyzANLjYns",
        "outputId": "7626435e-7c96-4b4c-f9ec-1ed521ff231b"
      },
      "execution_count": null,
      "outputs": [
        {
          "output_type": "execute_result",
          "data": {
            "text/plain": [
              "70.5"
            ]
          },
          "metadata": {},
          "execution_count": 46
        }
      ]
    },
    {
      "cell_type": "code",
      "source": [
        "len(exam)"
      ],
      "metadata": {
        "colab": {
          "base_uri": "https://localhost:8080/"
        },
        "id": "WfRJagKOjnVC",
        "outputId": "0d0b39b2-1813-4ff7-b19d-1494c825fa68"
      },
      "execution_count": null,
      "outputs": [
        {
          "output_type": "execute_result",
          "data": {
            "text/plain": [
              "3"
            ]
          },
          "metadata": {},
          "execution_count": 48
        }
      ]
    },
    {
      "cell_type": "code",
      "source": [
        "exam[2]=70.3\n",
        "exam"
      ],
      "metadata": {
        "colab": {
          "base_uri": "https://localhost:8080/"
        },
        "id": "kPehg1_DjrEQ",
        "outputId": "0c3c8c20-b292-4615-fc28-74ad1a00a8ff"
      },
      "execution_count": null,
      "outputs": [
        {
          "output_type": "execute_result",
          "data": {
            "text/plain": [
              "['数学', 60, 70.3]"
            ]
          },
          "metadata": {},
          "execution_count": 49
        }
      ]
    },
    {
      "cell_type": "code",
      "source": [
        "exam[1]=exam[1]+10\n",
        "exam"
      ],
      "metadata": {
        "colab": {
          "base_uri": "https://localhost:8080/"
        },
        "id": "qjeRPkzZj1ml",
        "outputId": "cadd9774-b56c-45cd-c9e5-cf726ea9bfe6"
      },
      "execution_count": null,
      "outputs": [
        {
          "output_type": "execute_result",
          "data": {
            "text/plain": [
              "['数学', 70, 70.3, 68.4]"
            ]
          },
          "metadata": {},
          "execution_count": 60
        }
      ]
    },
    {
      "cell_type": "code",
      "source": [
        "exam[3]=68.4"
      ],
      "metadata": {
        "colab": {
          "base_uri": "https://localhost:8080/",
          "height": 170
        },
        "id": "v_vQvcdOj8QV",
        "outputId": "d66e4eae-6811-4326-a442-60762d375c65"
      },
      "execution_count": null,
      "outputs": [
        {
          "output_type": "error",
          "ename": "IndexError",
          "evalue": "ignored",
          "traceback": [
            "\u001b[0;31m---------------------------------------------------------------------------\u001b[0m",
            "\u001b[0;31mIndexError\u001b[0m                                Traceback (most recent call last)",
            "\u001b[0;32m<ipython-input-52-e9b068f9891d>\u001b[0m in \u001b[0;36m<module>\u001b[0;34m()\u001b[0m\n\u001b[0;32m----> 1\u001b[0;31m \u001b[0mexam\u001b[0m\u001b[0;34m[\u001b[0m\u001b[0;36m3\u001b[0m\u001b[0;34m]\u001b[0m\u001b[0;34m=\u001b[0m\u001b[0;36m68.4\u001b[0m\u001b[0;34m\u001b[0m\u001b[0;34m\u001b[0m\u001b[0m\n\u001b[0m",
            "\u001b[0;31mIndexError\u001b[0m: list assignment index out of range"
          ]
        }
      ]
    },
    {
      "cell_type": "code",
      "source": [
        "exam.append(68.4)\n",
        "exam"
      ],
      "metadata": {
        "colab": {
          "base_uri": "https://localhost:8080/"
        },
        "id": "0efyJfxjkEvK",
        "outputId": "6a8c0166-e21e-4d5b-d9fc-118147f5649f"
      },
      "execution_count": null,
      "outputs": [
        {
          "output_type": "execute_result",
          "data": {
            "text/plain": [
              "['数学', 70, 70.3, 68.4, 68.4]"
            ]
          },
          "metadata": {},
          "execution_count": 61
        }
      ]
    },
    {
      "cell_type": "code",
      "source": [
        "exam.insert(3,65)\n",
        "exam"
      ],
      "metadata": {
        "colab": {
          "base_uri": "https://localhost:8080/"
        },
        "id": "2qNcgbgEkKgd",
        "outputId": "68159c0c-20ea-4b40-87b6-bbdb40e28249"
      },
      "execution_count": null,
      "outputs": [
        {
          "output_type": "execute_result",
          "data": {
            "text/plain": [
              "['数学', 70, 70.3, 65, 68.4, 68.4]"
            ]
          },
          "metadata": {},
          "execution_count": 62
        }
      ]
    },
    {
      "cell_type": "code",
      "source": [
        "exam.remove(65)\n",
        "exam"
      ],
      "metadata": {
        "colab": {
          "base_uri": "https://localhost:8080/"
        },
        "id": "-pKy097zkW5d",
        "outputId": "d64775e5-55ee-4521-c567-a497fec27820"
      },
      "execution_count": null,
      "outputs": [
        {
          "output_type": "execute_result",
          "data": {
            "text/plain": [
              "['数学', 70, 70.3, 68.4, 68.4]"
            ]
          },
          "metadata": {},
          "execution_count": 63
        }
      ]
    },
    {
      "cell_type": "code",
      "source": [
        "exam2=['数学',70,70.3,70,68.4]\n",
        "exam2"
      ],
      "metadata": {
        "colab": {
          "base_uri": "https://localhost:8080/"
        },
        "id": "-GjmVl-3kej3",
        "outputId": "1ed49fbb-4672-40cf-b3c0-32e54d7d0316"
      },
      "execution_count": null,
      "outputs": [
        {
          "output_type": "execute_result",
          "data": {
            "text/plain": [
              "['数学', 70, 70.3, 70, 68.4]"
            ]
          },
          "metadata": {},
          "execution_count": 57
        }
      ]
    },
    {
      "cell_type": "code",
      "source": [
        "exam2.remove(70)\n",
        "exam2"
      ],
      "metadata": {
        "colab": {
          "base_uri": "https://localhost:8080/"
        },
        "id": "YceFMoU-k40Y",
        "outputId": "4a24dbb0-bee5-4ef2-82df-72a8d7c7d3f1"
      },
      "execution_count": null,
      "outputs": [
        {
          "output_type": "execute_result",
          "data": {
            "text/plain": [
              "['数学', 70.3, 70, 68.4]"
            ]
          },
          "metadata": {},
          "execution_count": 58
        }
      ]
    },
    {
      "cell_type": "code",
      "source": [
        "exam"
      ],
      "metadata": {
        "colab": {
          "base_uri": "https://localhost:8080/"
        },
        "id": "asy0s9-fmEY6",
        "outputId": "b0e79fbc-ac29-4119-8591-3858ca013770"
      },
      "execution_count": null,
      "outputs": [
        {
          "output_type": "execute_result",
          "data": {
            "text/plain": [
              "['数学', 70, 70.3, 68.4]"
            ]
          },
          "metadata": {},
          "execution_count": 66
        }
      ]
    },
    {
      "cell_type": "code",
      "source": [
        "exam.pop(3)"
      ],
      "metadata": {
        "colab": {
          "base_uri": "https://localhost:8080/"
        },
        "id": "4YdV4M3alAAZ",
        "outputId": "e4f8e378-8e41-4457-e41e-69cc1902e260"
      },
      "execution_count": null,
      "outputs": [
        {
          "output_type": "execute_result",
          "data": {
            "text/plain": [
              "68.4"
            ]
          },
          "metadata": {},
          "execution_count": 67
        }
      ]
    },
    {
      "cell_type": "code",
      "source": [
        "exam"
      ],
      "metadata": {
        "colab": {
          "base_uri": "https://localhost:8080/"
        },
        "id": "MKv_5-HelxS2",
        "outputId": "0be20524-b005-43fd-b428-fe4e5f0301f9"
      },
      "execution_count": null,
      "outputs": [
        {
          "output_type": "execute_result",
          "data": {
            "text/plain": [
              "['数学', 70, 70.3]"
            ]
          },
          "metadata": {},
          "execution_count": 68
        }
      ]
    },
    {
      "cell_type": "markdown",
      "source": [
        "追試"
      ],
      "metadata": {
        "id": "9xYjkcAan-8f"
      }
    },
    {
      "cell_type": "code",
      "source": [
        "exam=['数学',60,73]\n",
        "print(exam)\n",
        "exam[2]=75\n",
        "print(exam)\n",
        "exam.append((60+75)/2)\n",
        "print(exam)"
      ],
      "metadata": {
        "colab": {
          "base_uri": "https://localhost:8080/"
        },
        "id": "ai9vrs0aoAXs",
        "outputId": "bd6c7e9e-fa40-4ebb-a5fe-8d9413f1268a"
      },
      "execution_count": null,
      "outputs": [
        {
          "output_type": "stream",
          "name": "stdout",
          "text": [
            "['数学', 60, 73]\n",
            "['数学', 60, 75]\n",
            "['数学', 60, 75, 67.5]\n"
          ]
        }
      ]
    },
    {
      "cell_type": "code",
      "source": [
        "eng=['英語',70,73,70,68,65]\n",
        "print(eng)\n",
        "eng.pop(3) #eng.remove(70)\n",
        "print(eng)"
      ],
      "metadata": {
        "colab": {
          "base_uri": "https://localhost:8080/"
        },
        "id": "k1jzvkylrQKa",
        "outputId": "d7082b69-ed8e-42ed-e937-9b5010907614"
      },
      "execution_count": null,
      "outputs": [
        {
          "output_type": "stream",
          "name": "stdout",
          "text": [
            "['英語', 70, 73, 70, 68, 65]\n",
            "['英語', 70, 73, 68, 65]\n"
          ]
        }
      ]
    },
    {
      "cell_type": "code",
      "source": [
        "math=['数学',70,70.3]\n",
        "eng=['英語',80,69.5]\n",
        "math+eng"
      ],
      "metadata": {
        "colab": {
          "base_uri": "https://localhost:8080/"
        },
        "id": "BQjlU5nFl1_-",
        "outputId": "30c131b8-fb34-4074-f7c1-53454a67cde7"
      },
      "execution_count": null,
      "outputs": [
        {
          "output_type": "execute_result",
          "data": {
            "text/plain": [
              "['数学', 70, 70.3, '英語', 80, 69.5]"
            ]
          },
          "metadata": {},
          "execution_count": 81
        }
      ]
    },
    {
      "cell_type": "code",
      "source": [
        "tasu=math+eng\n",
        "tasu"
      ],
      "metadata": {
        "colab": {
          "base_uri": "https://localhost:8080/"
        },
        "id": "7XHMO7ZLmk22",
        "outputId": "34776527-5199-4bfc-ee31-0c2766824bf3"
      },
      "execution_count": null,
      "outputs": [
        {
          "output_type": "execute_result",
          "data": {
            "text/plain": [
              "['数学', 70, 70.3, '英語', 80, 69.5]"
            ]
          },
          "metadata": {},
          "execution_count": 82
        }
      ]
    },
    {
      "cell_type": "code",
      "source": [
        "math"
      ],
      "metadata": {
        "colab": {
          "base_uri": "https://localhost:8080/"
        },
        "id": "1Wu3hKUTmwzh",
        "outputId": "768d61f5-19ac-4b62-9b33-3f68852d9c8a"
      },
      "execution_count": null,
      "outputs": [
        {
          "output_type": "execute_result",
          "data": {
            "text/plain": [
              "['数学', 70, 70.3]"
            ]
          },
          "metadata": {},
          "execution_count": 71
        }
      ]
    },
    {
      "cell_type": "code",
      "source": [
        "eng"
      ],
      "metadata": {
        "colab": {
          "base_uri": "https://localhost:8080/"
        },
        "id": "tb8ZS4-Jmz5R",
        "outputId": "5ed07d4a-0837-4634-b859-d80a05c908bd"
      },
      "execution_count": null,
      "outputs": [
        {
          "output_type": "execute_result",
          "data": {
            "text/plain": [
              "['英語', 80, 69.5]"
            ]
          },
          "metadata": {},
          "execution_count": 83
        }
      ]
    },
    {
      "cell_type": "code",
      "source": [
        "math.extend(eng)"
      ],
      "metadata": {
        "id": "n9OEPhhwm05n"
      },
      "execution_count": null,
      "outputs": []
    },
    {
      "cell_type": "code",
      "source": [
        "math"
      ],
      "metadata": {
        "colab": {
          "base_uri": "https://localhost:8080/"
        },
        "id": "tdmSD1HNm6kF",
        "outputId": "c42d31c6-f847-4b84-bee2-0f87a00c4ed0"
      },
      "execution_count": null,
      "outputs": [
        {
          "output_type": "execute_result",
          "data": {
            "text/plain": [
              "['数学', 70, 70.3, '英語', 80, 69.5]"
            ]
          },
          "metadata": {},
          "execution_count": 85
        }
      ]
    },
    {
      "cell_type": "code",
      "source": [
        "eng"
      ],
      "metadata": {
        "colab": {
          "base_uri": "https://localhost:8080/"
        },
        "id": "hSYLKV2-m8Fe",
        "outputId": "958bc901-4db8-4e5f-8d68-0e93d2db29e3"
      },
      "execution_count": null,
      "outputs": [
        {
          "output_type": "execute_result",
          "data": {
            "text/plain": [
              "['英語', 80, 69.5]"
            ]
          },
          "metadata": {},
          "execution_count": 86
        }
      ]
    },
    {
      "cell_type": "code",
      "source": [
        "math"
      ],
      "metadata": {
        "colab": {
          "base_uri": "https://localhost:8080/"
        },
        "id": "reWSkhC4m9Bm",
        "outputId": "87a113b6-0959-40c1-f02b-6c7bee83dfb0"
      },
      "execution_count": null,
      "outputs": [
        {
          "output_type": "execute_result",
          "data": {
            "text/plain": [
              "['数学', 70, 70.3, '英語', 80, 69.5]"
            ]
          },
          "metadata": {},
          "execution_count": 87
        }
      ]
    },
    {
      "cell_type": "code",
      "source": [
        "math[3:6]"
      ],
      "metadata": {
        "colab": {
          "base_uri": "https://localhost:8080/"
        },
        "id": "TrGHPd8EnDtc",
        "outputId": "b55107db-6760-4587-cc79-0c5ebd49a92b"
      },
      "execution_count": null,
      "outputs": [
        {
          "output_type": "execute_result",
          "data": {
            "text/plain": [
              "['英語', 80, 69.5]"
            ]
          },
          "metadata": {},
          "execution_count": 88
        }
      ]
    },
    {
      "cell_type": "code",
      "source": [
        "math[3:]"
      ],
      "metadata": {
        "colab": {
          "base_uri": "https://localhost:8080/"
        },
        "id": "TlSydTkUnGSg",
        "outputId": "e26d8cd8-b173-45a1-cacb-effa635ac01e"
      },
      "execution_count": null,
      "outputs": [
        {
          "output_type": "execute_result",
          "data": {
            "text/plain": [
              "['英語', 80, 69.5]"
            ]
          },
          "metadata": {},
          "execution_count": 89
        }
      ]
    },
    {
      "cell_type": "code",
      "source": [
        "math[:3]"
      ],
      "metadata": {
        "colab": {
          "base_uri": "https://localhost:8080/"
        },
        "id": "OInwNsLtnWBC",
        "outputId": "87f02faa-7ea6-4bbf-e3d1-8ae204d4a81d"
      },
      "execution_count": null,
      "outputs": [
        {
          "output_type": "execute_result",
          "data": {
            "text/plain": [
              "['数学', 70, 70.3]"
            ]
          },
          "metadata": {},
          "execution_count": 90
        }
      ]
    },
    {
      "cell_type": "code",
      "source": [
        "math[3:-1]"
      ],
      "metadata": {
        "colab": {
          "base_uri": "https://localhost:8080/"
        },
        "id": "gN7327rynZRL",
        "outputId": "5bdd619e-512f-44a9-b1cf-b84fc2dac518"
      },
      "execution_count": null,
      "outputs": [
        {
          "output_type": "execute_result",
          "data": {
            "text/plain": [
              "['英語', 80]"
            ]
          },
          "metadata": {},
          "execution_count": 91
        }
      ]
    },
    {
      "cell_type": "code",
      "source": [
        "math[::3]"
      ],
      "metadata": {
        "colab": {
          "base_uri": "https://localhost:8080/"
        },
        "id": "RiVLQRnbnkDT",
        "outputId": "9b24bec5-d8e0-499c-9d17-63590cb6fca3"
      },
      "execution_count": null,
      "outputs": [
        {
          "output_type": "execute_result",
          "data": {
            "text/plain": [
              "['数学', '英語']"
            ]
          },
          "metadata": {},
          "execution_count": 92
        }
      ]
    },
    {
      "cell_type": "code",
      "source": [
        "math[::-1] #リストの内容を反転させる"
      ],
      "metadata": {
        "colab": {
          "base_uri": "https://localhost:8080/"
        },
        "id": "plvEH9emoEvr",
        "outputId": "f510e75e-d206-4e11-9a9d-983ba6177741"
      },
      "execution_count": null,
      "outputs": [
        {
          "output_type": "execute_result",
          "data": {
            "text/plain": [
              "[69.5, 80, '英語', 70.3, 70, '数学']"
            ]
          },
          "metadata": {},
          "execution_count": 93
        }
      ]
    },
    {
      "cell_type": "code",
      "source": [
        "scores=[['数学', 70, 70.3],[ '英語', 80, 69.5]]"
      ],
      "metadata": {
        "id": "G6ou0EihoPHz"
      },
      "execution_count": null,
      "outputs": []
    },
    {
      "cell_type": "code",
      "source": [
        "scores[0]"
      ],
      "metadata": {
        "colab": {
          "base_uri": "https://localhost:8080/"
        },
        "id": "exnS06bHoiHy",
        "outputId": "c29d59cf-b395-42b0-8956-39cc8fc46571"
      },
      "execution_count": null,
      "outputs": [
        {
          "output_type": "execute_result",
          "data": {
            "text/plain": [
              "['数学', 70, 70.3]"
            ]
          },
          "metadata": {},
          "execution_count": 98
        }
      ]
    },
    {
      "cell_type": "code",
      "source": [
        "scores[1]"
      ],
      "metadata": {
        "colab": {
          "base_uri": "https://localhost:8080/"
        },
        "id": "DC2mUmtcokQo",
        "outputId": "1a730b45-f8b3-4f1a-9fa5-959dbcbff6a3"
      },
      "execution_count": null,
      "outputs": [
        {
          "output_type": "execute_result",
          "data": {
            "text/plain": [
              "['英語', 80, 69.5]"
            ]
          },
          "metadata": {},
          "execution_count": 99
        }
      ]
    },
    {
      "cell_type": "code",
      "source": [
        "scores[0][0]"
      ],
      "metadata": {
        "colab": {
          "base_uri": "https://localhost:8080/",
          "height": 35
        },
        "id": "96TfIJk0ovGG",
        "outputId": "6a5b2db6-0e0f-4ce9-cda7-7752408f4617"
      },
      "execution_count": null,
      "outputs": [
        {
          "output_type": "execute_result",
          "data": {
            "application/vnd.google.colaboratory.intrinsic+json": {
              "type": "string"
            },
            "text/plain": [
              "'数学'"
            ]
          },
          "metadata": {},
          "execution_count": 100
        }
      ]
    },
    {
      "cell_type": "code",
      "source": [
        "scores[0][2]"
      ],
      "metadata": {
        "colab": {
          "base_uri": "https://localhost:8080/"
        },
        "id": "gf7ywadao1b9",
        "outputId": "ec5c89fb-cf36-43cc-c100-d296e4ac173a"
      },
      "execution_count": null,
      "outputs": [
        {
          "output_type": "execute_result",
          "data": {
            "text/plain": [
              "70.3"
            ]
          },
          "metadata": {},
          "execution_count": 101
        }
      ]
    },
    {
      "cell_type": "code",
      "source": [
        "scores[1][1]"
      ],
      "metadata": {
        "colab": {
          "base_uri": "https://localhost:8080/"
        },
        "id": "HyOL1c98o4r5",
        "outputId": "af919d05-8d82-4af9-f2d5-33f1ce0be732"
      },
      "execution_count": null,
      "outputs": [
        {
          "output_type": "execute_result",
          "data": {
            "text/plain": [
              "80"
            ]
          },
          "metadata": {},
          "execution_count": 102
        }
      ]
    },
    {
      "cell_type": "code",
      "source": [
        "print(*scores)"
      ],
      "metadata": {
        "colab": {
          "base_uri": "https://localhost:8080/"
        },
        "id": "m1m9MT_Io82D",
        "outputId": "d17336b1-184a-4e15-c5df-fc8331173d5f"
      },
      "execution_count": null,
      "outputs": [
        {
          "output_type": "stream",
          "name": "stdout",
          "text": [
            "['数学', 70, 70.3] ['英語', 80, 69.5]\n"
          ]
        }
      ]
    },
    {
      "cell_type": "code",
      "source": [
        "N=[1,2,3,1,2,1,2,3,4,5]\n",
        "print(N)"
      ],
      "metadata": {
        "colab": {
          "base_uri": "https://localhost:8080/"
        },
        "id": "W_Y4NoUkt4qX",
        "outputId": "d3c238fa-83fd-4f6c-c253-d607201fd0ac"
      },
      "execution_count": null,
      "outputs": [
        {
          "output_type": "stream",
          "name": "stdout",
          "text": [
            "[1, 2, 3, 1, 2, 1, 2, 3, 4, 5]\n"
          ]
        }
      ]
    },
    {
      "cell_type": "code",
      "source": [
        "N.sort()\n",
        "print(N)"
      ],
      "metadata": {
        "colab": {
          "base_uri": "https://localhost:8080/"
        },
        "id": "It0hTJSOuIKN",
        "outputId": "1b51c537-e352-4a9b-9f7e-da3e492c3215"
      },
      "execution_count": null,
      "outputs": [
        {
          "output_type": "stream",
          "name": "stdout",
          "text": [
            "[1, 1, 1, 2, 2, 2, 3, 3, 4, 5]\n"
          ]
        }
      ]
    },
    {
      "cell_type": "code",
      "source": [
        "len(N)"
      ],
      "metadata": {
        "colab": {
          "base_uri": "https://localhost:8080/"
        },
        "id": "LBay8odhuQvy",
        "outputId": "b1d80911-5ef3-4cc1-95a0-c155f7b980dd"
      },
      "execution_count": null,
      "outputs": [
        {
          "output_type": "execute_result",
          "data": {
            "text/plain": [
              "10"
            ]
          },
          "metadata": {},
          "execution_count": 3
        }
      ]
    },
    {
      "cell_type": "code",
      "source": [
        "type(N)"
      ],
      "metadata": {
        "colab": {
          "base_uri": "https://localhost:8080/"
        },
        "id": "j6AFUHJmvP30",
        "outputId": "a1a05d51-5e95-410c-c71f-45b52e2c5a5a"
      },
      "execution_count": null,
      "outputs": [
        {
          "output_type": "execute_result",
          "data": {
            "text/plain": [
              "list"
            ]
          },
          "metadata": {},
          "execution_count": 4
        }
      ]
    },
    {
      "cell_type": "code",
      "source": [
        "N[100]"
      ],
      "metadata": {
        "colab": {
          "base_uri": "https://localhost:8080/",
          "height": 170
        },
        "id": "fl_UBtmZvcbK",
        "outputId": "bf2cb20e-84cc-418e-d175-1ee48868e8dc"
      },
      "execution_count": null,
      "outputs": [
        {
          "output_type": "error",
          "ename": "IndexError",
          "evalue": "ignored",
          "traceback": [
            "\u001b[0;31m---------------------------------------------------------------------------\u001b[0m",
            "\u001b[0;31mIndexError\u001b[0m                                Traceback (most recent call last)",
            "\u001b[0;32m<ipython-input-5-704a57ce8c4d>\u001b[0m in \u001b[0;36m<module>\u001b[0;34m()\u001b[0m\n\u001b[0;32m----> 1\u001b[0;31m \u001b[0mN\u001b[0m\u001b[0;34m[\u001b[0m\u001b[0;36m100\u001b[0m\u001b[0;34m]\u001b[0m\u001b[0;34m\u001b[0m\u001b[0;34m\u001b[0m\u001b[0m\n\u001b[0m",
            "\u001b[0;31mIndexError\u001b[0m: list index out of range"
          ]
        }
      ]
    },
    {
      "cell_type": "code",
      "source": [
        "help(list)"
      ],
      "metadata": {
        "colab": {
          "base_uri": "https://localhost:8080/"
        },
        "id": "wxHzlNMn0J5F",
        "outputId": "125f4c6b-ae29-4e33-dd44-d6e7c5e68b42"
      },
      "execution_count": null,
      "outputs": [
        {
          "output_type": "stream",
          "name": "stdout",
          "text": [
            "Help on class list in module builtins:\n",
            "\n",
            "class list(object)\n",
            " |  list(iterable=(), /)\n",
            " |  \n",
            " |  Built-in mutable sequence.\n",
            " |  \n",
            " |  If no argument is given, the constructor creates a new empty list.\n",
            " |  The argument must be an iterable if specified.\n",
            " |  \n",
            " |  Methods defined here:\n",
            " |  \n",
            " |  __add__(self, value, /)\n",
            " |      Return self+value.\n",
            " |  \n",
            " |  __contains__(self, key, /)\n",
            " |      Return key in self.\n",
            " |  \n",
            " |  __delitem__(self, key, /)\n",
            " |      Delete self[key].\n",
            " |  \n",
            " |  __eq__(self, value, /)\n",
            " |      Return self==value.\n",
            " |  \n",
            " |  __ge__(self, value, /)\n",
            " |      Return self>=value.\n",
            " |  \n",
            " |  __getattribute__(self, name, /)\n",
            " |      Return getattr(self, name).\n",
            " |  \n",
            " |  __getitem__(...)\n",
            " |      x.__getitem__(y) <==> x[y]\n",
            " |  \n",
            " |  __gt__(self, value, /)\n",
            " |      Return self>value.\n",
            " |  \n",
            " |  __iadd__(self, value, /)\n",
            " |      Implement self+=value.\n",
            " |  \n",
            " |  __imul__(self, value, /)\n",
            " |      Implement self*=value.\n",
            " |  \n",
            " |  __init__(self, /, *args, **kwargs)\n",
            " |      Initialize self.  See help(type(self)) for accurate signature.\n",
            " |  \n",
            " |  __iter__(self, /)\n",
            " |      Implement iter(self).\n",
            " |  \n",
            " |  __le__(self, value, /)\n",
            " |      Return self<=value.\n",
            " |  \n",
            " |  __len__(self, /)\n",
            " |      Return len(self).\n",
            " |  \n",
            " |  __lt__(self, value, /)\n",
            " |      Return self<value.\n",
            " |  \n",
            " |  __mul__(self, value, /)\n",
            " |      Return self*value.\n",
            " |  \n",
            " |  __ne__(self, value, /)\n",
            " |      Return self!=value.\n",
            " |  \n",
            " |  __repr__(self, /)\n",
            " |      Return repr(self).\n",
            " |  \n",
            " |  __reversed__(self, /)\n",
            " |      Return a reverse iterator over the list.\n",
            " |  \n",
            " |  __rmul__(self, value, /)\n",
            " |      Return value*self.\n",
            " |  \n",
            " |  __setitem__(self, key, value, /)\n",
            " |      Set self[key] to value.\n",
            " |  \n",
            " |  __sizeof__(self, /)\n",
            " |      Return the size of the list in memory, in bytes.\n",
            " |  \n",
            " |  append(self, object, /)\n",
            " |      Append object to the end of the list.\n",
            " |  \n",
            " |  clear(self, /)\n",
            " |      Remove all items from list.\n",
            " |  \n",
            " |  copy(self, /)\n",
            " |      Return a shallow copy of the list.\n",
            " |  \n",
            " |  count(self, value, /)\n",
            " |      Return number of occurrences of value.\n",
            " |  \n",
            " |  extend(self, iterable, /)\n",
            " |      Extend list by appending elements from the iterable.\n",
            " |  \n",
            " |  index(self, value, start=0, stop=9223372036854775807, /)\n",
            " |      Return first index of value.\n",
            " |      \n",
            " |      Raises ValueError if the value is not present.\n",
            " |  \n",
            " |  insert(self, index, object, /)\n",
            " |      Insert object before index.\n",
            " |  \n",
            " |  pop(self, index=-1, /)\n",
            " |      Remove and return item at index (default last).\n",
            " |      \n",
            " |      Raises IndexError if list is empty or index is out of range.\n",
            " |  \n",
            " |  remove(self, value, /)\n",
            " |      Remove first occurrence of value.\n",
            " |      \n",
            " |      Raises ValueError if the value is not present.\n",
            " |  \n",
            " |  reverse(self, /)\n",
            " |      Reverse *IN PLACE*.\n",
            " |  \n",
            " |  sort(self, /, *, key=None, reverse=False)\n",
            " |      Stable sort *IN PLACE*.\n",
            " |  \n",
            " |  ----------------------------------------------------------------------\n",
            " |  Static methods defined here:\n",
            " |  \n",
            " |  __new__(*args, **kwargs) from builtins.type\n",
            " |      Create and return a new object.  See help(type) for accurate signature.\n",
            " |  \n",
            " |  ----------------------------------------------------------------------\n",
            " |  Data and other attributes defined here:\n",
            " |  \n",
            " |  __hash__ = None\n",
            "\n"
          ]
        }
      ]
    },
    {
      "cell_type": "markdown",
      "source": [
        "スライドの内容にあわせて"
      ],
      "metadata": {
        "id": "1ek8X521h51k"
      }
    },
    {
      "cell_type": "code",
      "source": [
        "N=[6,3,1,8,0,7]"
      ],
      "metadata": {
        "id": "w4P7iz-Ch9Rh"
      },
      "execution_count": null,
      "outputs": []
    },
    {
      "cell_type": "code",
      "source": [
        "print(\"リストNの０番目の要素は\"+str(N[0])) #N[0]\n",
        "print(\"リストNの3番目の要素は\"+str(N[3])) #N[3]\n",
        "print(\"リストNの-1番目の要素は\"+str(N[-1])) #N[-1]\n",
        "print(\"リストNの-2番目の要素は\"+str(N[-2])) #N[-2]"
      ],
      "metadata": {
        "colab": {
          "base_uri": "https://localhost:8080/"
        },
        "id": "TTf53bwFiEtM",
        "outputId": "0e7306ef-b075-4cd7-aece-d1853bf5fcf8"
      },
      "execution_count": null,
      "outputs": [
        {
          "output_type": "stream",
          "name": "stdout",
          "text": [
            "リストNの０番目の要素は6\n",
            "リストNの3番目の要素は8\n",
            "リストNの-1番目の要素は7\n",
            "リストNの-2番目の要素は0\n"
          ]
        }
      ]
    },
    {
      "cell_type": "code",
      "source": [
        "print(\"リストNの3-1番目までの要素は\"+str(N[:3])) #N[0]〜N[3-1]\n",
        "print(\"リストNの2番目から後の要素は\"+str(N[2:])) #N[2]〜\n",
        "print(\"リストNの要素は省略すると\"+str(N[:])) #N[]\n",
        "print(\"リストNの2：5としたときの要素は\"+str(N[2:5])) #N[2]〜N[4]\n",
        "print(\"リストNの::2としたときの要素は\"+str(N[::2])) #N[0],N[2],N[4]\n",
        "print(\"リストNの::-1としたときの要素は\"+str(N[::-1])) #N[5]〜N[0]逆順"
      ],
      "metadata": {
        "colab": {
          "base_uri": "https://localhost:8080/"
        },
        "outputId": "1addf3e9-dfd8-4112-a601-85f00e52e01d",
        "id": "JjNhXkqZkKQa"
      },
      "execution_count": null,
      "outputs": [
        {
          "output_type": "stream",
          "name": "stdout",
          "text": [
            "リストNの3-1番目までの要素は[6, 3, 1]\n",
            "リストNの2番目から後の要素は[1, 8, 0, 7]\n",
            "リストNの要素は省略すると[6, 3, 1, 8, 0, 7]\n",
            "リストNの2：5としたときの要素は[1, 8, 0]\n",
            "リストNの::2としたときの要素は[6, 1, 0]\n",
            "リストNの::-1としたときの要素は[7, 0, 8, 1, 3, 6]\n"
          ]
        }
      ]
    },
    {
      "cell_type": "code",
      "source": [
        "N=[6,3,1,8,0,7]"
      ],
      "metadata": {
        "id": "y9g6pn7x40K5"
      },
      "execution_count": null,
      "outputs": []
    },
    {
      "cell_type": "code",
      "source": [
        "N.append(100)\n",
        "print(N)"
      ],
      "metadata": {
        "colab": {
          "base_uri": "https://localhost:8080/"
        },
        "id": "rKfrXft_4Sd-",
        "outputId": "76048bef-25a4-482a-ef9c-98035205a441"
      },
      "execution_count": null,
      "outputs": [
        {
          "output_type": "stream",
          "name": "stdout",
          "text": [
            "[6, 3, 1, 8, 0, 7, 100]\n"
          ]
        }
      ]
    },
    {
      "cell_type": "code",
      "source": [
        "N.insert(0,200)\n",
        "print(N)"
      ],
      "metadata": {
        "colab": {
          "base_uri": "https://localhost:8080/"
        },
        "outputId": "e5b9a88c-9525-4ae9-8195-1f1ac4a1c2b5",
        "id": "TlMny4vL4k0o"
      },
      "execution_count": null,
      "outputs": [
        {
          "output_type": "stream",
          "name": "stdout",
          "text": [
            "[200, 6, 3, 1, 8, 0, 7, 100]\n"
          ]
        }
      ]
    },
    {
      "cell_type": "code",
      "source": [
        "print(N.pop(0)\n",
        "print(N)"
      ],
      "metadata": {
        "colab": {
          "base_uri": "https://localhost:8080/"
        },
        "id": "Kj-GXQrK45mI",
        "outputId": "1dedcf35-cac1-48f2-ee17-b414fed5c644"
      },
      "execution_count": null,
      "outputs": [
        {
          "output_type": "stream",
          "name": "stdout",
          "text": [
            "200\n",
            "[6, 3, 1, 8, 0, 7, 100]\n"
          ]
        }
      ]
    },
    {
      "cell_type": "markdown",
      "source": [
        "テスト問題"
      ],
      "metadata": {
        "id": "so4ItN0qnq5A"
      }
    },
    {
      "cell_type": "code",
      "source": [
        "N=[6,3,1,8,0,7]\n",
        "\n",
        "print(N[3])\n",
        "print(N[-1])\n",
        "print(N[2:5]) \n",
        "print(N[::2])\n",
        "print(N[::-1])\n",
        "N.insert(2,200)\n",
        "print(N)\n",
        "N.pop(1)\n",
        "print(N)"
      ],
      "metadata": {
        "colab": {
          "base_uri": "https://localhost:8080/"
        },
        "id": "55qFAhxUnFFG",
        "outputId": "da13c8f0-98e2-4999-d297-ebdf1cbbb9d1"
      },
      "execution_count": null,
      "outputs": [
        {
          "output_type": "stream",
          "name": "stdout",
          "text": [
            "8\n",
            "7\n",
            "[1, 8, 0]\n",
            "[6, 1, 0]\n",
            "[7, 0, 8, 1, 3, 6]\n",
            "[6, 3, 200, 1, 8, 0, 7]\n",
            "[6, 200, 1, 8, 0, 7]\n"
          ]
        }
      ]
    },
    {
      "cell_type": "code",
      "source": [],
      "metadata": {
        "id": "Eem6w6wk0OIG"
      },
      "execution_count": null,
      "outputs": []
    },
    {
      "cell_type": "markdown",
      "source": [
        "1.5　タプル"
      ],
      "metadata": {
        "id": "rd5YGX1owbQ_"
      }
    },
    {
      "cell_type": "code",
      "source": [
        "exam=('数学', 70, 70.3) #exam='数学', 70, 70.3\n",
        "exam"
      ],
      "metadata": {
        "colab": {
          "base_uri": "https://localhost:8080/"
        },
        "id": "P9m5_LGXpDcz",
        "outputId": "dd71e2b7-eef4-43ee-83a2-f12a1bd20d94"
      },
      "execution_count": null,
      "outputs": [
        {
          "output_type": "execute_result",
          "data": {
            "text/plain": [
              "('数学', 70, 70.3)"
            ]
          },
          "metadata": {},
          "execution_count": 105
        }
      ]
    },
    {
      "cell_type": "code",
      "source": [
        "a=(128)\n",
        "print(a)"
      ],
      "metadata": {
        "colab": {
          "base_uri": "https://localhost:8080/"
        },
        "id": "azrbD3KqpS1M",
        "outputId": "4dfd3708-b6c2-4256-cd2a-4015dd0bb515"
      },
      "execution_count": null,
      "outputs": [
        {
          "output_type": "stream",
          "name": "stdout",
          "text": [
            "128\n"
          ]
        }
      ]
    },
    {
      "cell_type": "code",
      "source": [
        "a=(128,)\n",
        "print(a)"
      ],
      "metadata": {
        "colab": {
          "base_uri": "https://localhost:8080/"
        },
        "id": "mG6n_8NepiXF",
        "outputId": "1d986051-eb95-4f7b-fd46-b24bc2a11fb8"
      },
      "execution_count": null,
      "outputs": [
        {
          "output_type": "stream",
          "name": "stdout",
          "text": [
            "(128,)\n"
          ]
        }
      ]
    },
    {
      "cell_type": "code",
      "source": [
        "exam[2]"
      ],
      "metadata": {
        "colab": {
          "base_uri": "https://localhost:8080/"
        },
        "id": "kI_0qnd6pmo9",
        "outputId": "64b578cc-9c70-48ac-843a-b33ee4820042"
      },
      "execution_count": null,
      "outputs": [
        {
          "output_type": "execute_result",
          "data": {
            "text/plain": [
              "70.3"
            ]
          },
          "metadata": {},
          "execution_count": 108
        }
      ]
    },
    {
      "cell_type": "code",
      "source": [
        "exam[2]=68.7"
      ],
      "metadata": {
        "colab": {
          "base_uri": "https://localhost:8080/",
          "height": 170
        },
        "id": "HLKoZI8WrIa4",
        "outputId": "919aa22c-8d27-4b77-aa95-1b48dab78347"
      },
      "execution_count": null,
      "outputs": [
        {
          "output_type": "error",
          "ename": "TypeError",
          "evalue": "ignored",
          "traceback": [
            "\u001b[0;31m---------------------------------------------------------------------------\u001b[0m",
            "\u001b[0;31mTypeError\u001b[0m                                 Traceback (most recent call last)",
            "\u001b[0;32m<ipython-input-109-15e1591d1f1c>\u001b[0m in \u001b[0;36m<module>\u001b[0;34m()\u001b[0m\n\u001b[0;32m----> 1\u001b[0;31m \u001b[0mexam\u001b[0m\u001b[0;34m[\u001b[0m\u001b[0;36m2\u001b[0m\u001b[0;34m]\u001b[0m\u001b[0;34m=\u001b[0m\u001b[0;36m68.7\u001b[0m\u001b[0;34m\u001b[0m\u001b[0;34m\u001b[0m\u001b[0m\n\u001b[0m",
            "\u001b[0;31mTypeError\u001b[0m: 'tuple' object does not support item assignment"
          ]
        }
      ]
    },
    {
      "cell_type": "code",
      "source": [
        "list(exam)"
      ],
      "metadata": {
        "colab": {
          "base_uri": "https://localhost:8080/"
        },
        "id": "E0jBl8cZrOBH",
        "outputId": "99443af8-3d66-433b-8b85-e6908c753e4b"
      },
      "execution_count": null,
      "outputs": [
        {
          "output_type": "execute_result",
          "data": {
            "text/plain": [
              "['数学', 70, 70.3]"
            ]
          },
          "metadata": {},
          "execution_count": 110
        }
      ]
    },
    {
      "cell_type": "code",
      "source": [
        "exam=list(exam)\n",
        "exam.append(68.4)\n",
        "exam=tuple(exam)\n",
        "exam"
      ],
      "metadata": {
        "colab": {
          "base_uri": "https://localhost:8080/"
        },
        "id": "zobP2TNNrV04",
        "outputId": "6e42d219-585f-4cf6-ba77-3b1738dc6b1f"
      },
      "execution_count": null,
      "outputs": [
        {
          "output_type": "execute_result",
          "data": {
            "text/plain": [
              "('数学', 70, 70.3, 68.4)"
            ]
          },
          "metadata": {},
          "execution_count": 111
        }
      ]
    },
    {
      "cell_type": "markdown",
      "source": [
        "1.6 辞書　Javaで言うところのMap"
      ],
      "metadata": {
        "id": "4-FBb1vMrq4y"
      }
    },
    {
      "cell_type": "code",
      "source": [
        "dict={'melon':'メロン','apple':'リンゴ','orange':'ミカン'}\n",
        "dict"
      ],
      "metadata": {
        "colab": {
          "base_uri": "https://localhost:8080/"
        },
        "id": "neHfO8BjrjYX",
        "outputId": "52504c44-82ed-44fe-e91e-836f1003bbce"
      },
      "execution_count": null,
      "outputs": [
        {
          "output_type": "execute_result",
          "data": {
            "text/plain": [
              "{'apple': 'リンゴ', 'melon': 'メロン', 'orange': 'ミカン'}"
            ]
          },
          "metadata": {},
          "execution_count": 112
        }
      ]
    },
    {
      "cell_type": "code",
      "source": [
        "dict['apple']"
      ],
      "metadata": {
        "colab": {
          "base_uri": "https://localhost:8080/",
          "height": 35
        },
        "id": "4Vd4eTY8s9sV",
        "outputId": "59ce3003-ed97-49a0-99cc-030b2ef19b91"
      },
      "execution_count": null,
      "outputs": [
        {
          "output_type": "execute_result",
          "data": {
            "application/vnd.google.colaboratory.intrinsic+json": {
              "type": "string"
            },
            "text/plain": [
              "'リンゴ'"
            ]
          },
          "metadata": {},
          "execution_count": 113
        }
      ]
    },
    {
      "cell_type": "code",
      "source": [
        "'orange' in dict"
      ],
      "metadata": {
        "colab": {
          "base_uri": "https://localhost:8080/"
        },
        "id": "2ssnNkjytDn3",
        "outputId": "c6b776fa-a197-4061-a586-5663425a7e50"
      },
      "execution_count": null,
      "outputs": [
        {
          "output_type": "execute_result",
          "data": {
            "text/plain": [
              "True"
            ]
          },
          "metadata": {},
          "execution_count": 115
        }
      ]
    },
    {
      "cell_type": "code",
      "source": [
        "'meron' in dict"
      ],
      "metadata": {
        "colab": {
          "base_uri": "https://localhost:8080/"
        },
        "id": "HVP_i247tKwt",
        "outputId": "057de6f0-e385-4d37-c402-de63f66caadb"
      },
      "execution_count": null,
      "outputs": [
        {
          "output_type": "execute_result",
          "data": {
            "text/plain": [
              "False"
            ]
          },
          "metadata": {},
          "execution_count": 116
        }
      ]
    },
    {
      "cell_type": "code",
      "source": [
        "dict['grape']='ブドウ'\n",
        "dict"
      ],
      "metadata": {
        "colab": {
          "base_uri": "https://localhost:8080/"
        },
        "id": "W6Fu2NestSpO",
        "outputId": "fb20b9b0-187c-4034-f2aa-9424fa266576"
      },
      "execution_count": null,
      "outputs": [
        {
          "output_type": "execute_result",
          "data": {
            "text/plain": [
              "{'apple': 'リンゴ', 'grape': 'ブドウ', 'melon': 'メロン', 'orange': 'ミカン'}"
            ]
          },
          "metadata": {},
          "execution_count": 117
        }
      ]
    },
    {
      "cell_type": "code",
      "source": [
        "dict['grape']='葡萄'\n",
        "dict"
      ],
      "metadata": {
        "colab": {
          "base_uri": "https://localhost:8080/"
        },
        "id": "TzmNbuSLtfmO",
        "outputId": "d346b48c-7be7-41e7-de5d-fe95b803f831"
      },
      "execution_count": null,
      "outputs": [
        {
          "output_type": "execute_result",
          "data": {
            "text/plain": [
              "{'apple': 'リンゴ', 'grape': '葡萄', 'melon': 'メロン', 'orange': 'ミカン'}"
            ]
          },
          "metadata": {},
          "execution_count": 118
        }
      ]
    },
    {
      "cell_type": "code",
      "source": [
        "dict['melon']='葡萄'\n",
        "dict"
      ],
      "metadata": {
        "colab": {
          "base_uri": "https://localhost:8080/"
        },
        "id": "ZYFFvviLt2PZ",
        "outputId": "b680a59a-55b3-4701-ecfe-4341d2137261"
      },
      "execution_count": null,
      "outputs": [
        {
          "output_type": "execute_result",
          "data": {
            "text/plain": [
              "{'apple': 'リンゴ', 'grape': '葡萄', 'melon': '葡萄', 'orange': 'ミカン'}"
            ]
          },
          "metadata": {},
          "execution_count": 119
        }
      ]
    },
    {
      "cell_type": "code",
      "source": [
        "student={1301:'大妻花子',1302:'小野絵美',1303:'山本美咲'}\n",
        "student[1301]"
      ],
      "metadata": {
        "colab": {
          "base_uri": "https://localhost:8080/",
          "height": 35
        },
        "id": "Vh8uviqlt9Fc",
        "outputId": "96cec79a-951b-4acd-9ebe-c9bc24749e20"
      },
      "execution_count": null,
      "outputs": [
        {
          "output_type": "execute_result",
          "data": {
            "application/vnd.google.colaboratory.intrinsic+json": {
              "type": "string"
            },
            "text/plain": [
              "'大妻花子'"
            ]
          },
          "metadata": {},
          "execution_count": 120
        }
      ]
    },
    {
      "cell_type": "code",
      "source": [
        "dict.pop('melon') #すべてを消去はclearメソッド"
      ],
      "metadata": {
        "colab": {
          "base_uri": "https://localhost:8080/",
          "height": 35
        },
        "id": "IXgKUuChunPM",
        "outputId": "ad0eb310-0de6-4db0-cf01-3115434236cb"
      },
      "execution_count": null,
      "outputs": [
        {
          "output_type": "execute_result",
          "data": {
            "application/vnd.google.colaboratory.intrinsic+json": {
              "type": "string"
            },
            "text/plain": [
              "'葡萄'"
            ]
          },
          "metadata": {},
          "execution_count": 121
        }
      ]
    },
    {
      "cell_type": "code",
      "source": [
        "dict"
      ],
      "metadata": {
        "colab": {
          "base_uri": "https://localhost:8080/"
        },
        "id": "WdwyMQ5ouyWb",
        "outputId": "98abc128-7b39-420b-ba48-fe51d36ca2e7"
      },
      "execution_count": null,
      "outputs": [
        {
          "output_type": "execute_result",
          "data": {
            "text/plain": [
              "{'apple': 'リンゴ', 'grape': '葡萄', 'orange': 'ミカン'}"
            ]
          },
          "metadata": {},
          "execution_count": 122
        }
      ]
    },
    {
      "cell_type": "code",
      "source": [
        "dict.clear()"
      ],
      "metadata": {
        "id": "nQVh7024uz9c"
      },
      "execution_count": null,
      "outputs": []
    },
    {
      "cell_type": "code",
      "source": [
        "dict"
      ],
      "metadata": {
        "colab": {
          "base_uri": "https://localhost:8080/"
        },
        "id": "T3GDYUwsvCbS",
        "outputId": "528b44d1-bf66-4730-9f30-b204e610dd29"
      },
      "execution_count": null,
      "outputs": [
        {
          "output_type": "execute_result",
          "data": {
            "text/plain": [
              "{}"
            ]
          },
          "metadata": {},
          "execution_count": 127
        }
      ]
    },
    {
      "cell_type": "markdown",
      "source": [
        "1.7 条件分岐if文"
      ],
      "metadata": {
        "id": "O16jLV3Tvnop"
      }
    },
    {
      "cell_type": "code",
      "source": [
        "a=61\n",
        "if a>60:\n",
        "  print('60より大きい')\n",
        "print('if文終わり')"
      ],
      "metadata": {
        "colab": {
          "base_uri": "https://localhost:8080/"
        },
        "id": "VDJQlJTuvJ8D",
        "outputId": "bd452b1e-a417-4d12-f801-8b594513811c"
      },
      "execution_count": null,
      "outputs": [
        {
          "output_type": "stream",
          "name": "stdout",
          "text": [
            "60より大きい\n",
            "if文終わり\n"
          ]
        }
      ]
    },
    {
      "cell_type": "code",
      "source": [
        "a=59\n",
        "if a>60:\n",
        "  print('60より大きい')\n",
        "print('if文終わり')"
      ],
      "metadata": {
        "colab": {
          "base_uri": "https://localhost:8080/"
        },
        "id": "w7-qCNSIvMNn",
        "outputId": "b38de734-73e8-40ab-e258-a7d348c28c94"
      },
      "execution_count": null,
      "outputs": [
        {
          "output_type": "stream",
          "name": "stdout",
          "text": [
            "if文終わり\n"
          ]
        }
      ]
    },
    {
      "cell_type": "code",
      "source": [
        "a=59\n",
        "if a>60:\n",
        "  print('60より大きい')\n",
        "else:\n",
        "  print('60以下である')\n",
        "print('if文終わり')"
      ],
      "metadata": {
        "colab": {
          "base_uri": "https://localhost:8080/"
        },
        "id": "FPZtTxywwY7o",
        "outputId": "47f06c48-1bec-4b3b-b1eb-0fa4ea9c6237"
      },
      "execution_count": null,
      "outputs": [
        {
          "output_type": "stream",
          "name": "stdout",
          "text": [
            "60以下である\n",
            "if文終わり\n"
          ]
        }
      ]
    },
    {
      "cell_type": "code",
      "source": [
        "a=int(input('値を入力してください：'))\n",
        "if a>60:\n",
        "  print('60より大きい')\n",
        "elif a>50:\n",
        "  print('60以下だが50より大きい')\n",
        "elif a>40:\n",
        "  print('50以下だが40より大きい')\n",
        "elif a>30:\n",
        "  print('40以下だが30より大きい')\n",
        "else:\n",
        "  print('30以下である') \n",
        "print('if文終わり')"
      ],
      "metadata": {
        "colab": {
          "base_uri": "https://localhost:8080/"
        },
        "id": "HCSSmKt9woAV",
        "outputId": "9089407a-cd13-4053-d8e1-c4785b624a49"
      },
      "execution_count": null,
      "outputs": [
        {
          "output_type": "stream",
          "name": "stdout",
          "text": [
            "値を入力してください：35\n",
            "40以下だが30より大きい\n",
            "if文終わり\n"
          ]
        }
      ]
    },
    {
      "cell_type": "code",
      "source": [],
      "metadata": {
        "id": "B0OktwWh3S1V"
      },
      "execution_count": null,
      "outputs": []
    },
    {
      "cell_type": "code",
      "source": [],
      "metadata": {
        "id": "jC4NmY5g2j6x"
      },
      "execution_count": null,
      "outputs": []
    },
    {
      "cell_type": "code",
      "source": [
        "name='こまさん'\n",
        "if name=='こまさん':\n",
        "  print('もんげー')\n",
        "else:\n",
        "  print('ものすごい')"
      ],
      "metadata": {
        "colab": {
          "base_uri": "https://localhost:8080/"
        },
        "id": "-sMCQAelw626",
        "outputId": "85b742da-ca77-452b-8563-b79d5a84e9c9"
      },
      "execution_count": null,
      "outputs": [
        {
          "output_type": "stream",
          "name": "stdout",
          "text": [
            "もんげー\n"
          ]
        }
      ]
    },
    {
      "cell_type": "code",
      "source": [
        "1+2"
      ],
      "metadata": {
        "colab": {
          "base_uri": "https://localhost:8080/"
        },
        "id": "qFGDg_SXxmWC",
        "outputId": "6cab0703-7e5b-4e5b-e6fb-83db6c79b212"
      },
      "execution_count": null,
      "outputs": [
        {
          "output_type": "execute_result",
          "data": {
            "text/plain": [
              "3"
            ]
          },
          "metadata": {},
          "execution_count": 135
        }
      ]
    },
    {
      "cell_type": "code",
      "source": [
        "a=70\n",
        "a>60"
      ],
      "metadata": {
        "colab": {
          "base_uri": "https://localhost:8080/"
        },
        "id": "cYQdjH6XxzHK",
        "outputId": "c9b3e3c9-0252-4b99-c76d-6c936f6ab504"
      },
      "execution_count": null,
      "outputs": [
        {
          "output_type": "execute_result",
          "data": {
            "text/plain": [
              "True"
            ]
          },
          "metadata": {},
          "execution_count": 136
        }
      ]
    },
    {
      "cell_type": "code",
      "source": [
        "a<60"
      ],
      "metadata": {
        "colab": {
          "base_uri": "https://localhost:8080/"
        },
        "id": "6GMf85HRx2iB",
        "outputId": "ac9f8e39-a950-43bd-b9c2-2757d14f66d9"
      },
      "execution_count": null,
      "outputs": [
        {
          "output_type": "execute_result",
          "data": {
            "text/plain": [
              "False"
            ]
          },
          "metadata": {},
          "execution_count": 137
        }
      ]
    },
    {
      "cell_type": "code",
      "source": [
        "a=50\n",
        "if 30<=a and a<=60:\n",
        "  print(str(a)+'は30以上で60以下である')"
      ],
      "metadata": {
        "colab": {
          "base_uri": "https://localhost:8080/"
        },
        "id": "nqbifMmox5G7",
        "outputId": "622ef59c-0d1f-42ea-b359-e63b94415e11"
      },
      "execution_count": null,
      "outputs": [
        {
          "output_type": "stream",
          "name": "stdout",
          "text": [
            "50は30以上で60以下である\n"
          ]
        }
      ]
    },
    {
      "cell_type": "code",
      "source": [
        "a=20\n",
        "if 30<=a and a<=60:\n",
        "  print(str(a)+'は30以上で60以下である')"
      ],
      "metadata": {
        "id": "ur3goi-HyOs8"
      },
      "execution_count": null,
      "outputs": []
    },
    {
      "cell_type": "code",
      "source": [
        "a=20\n",
        "if a<=30 or 60<=a:\n",
        "  print(str(a)+'は30以下または60以上である')"
      ],
      "metadata": {
        "colab": {
          "base_uri": "https://localhost:8080/"
        },
        "id": "KQEUvwScygOd",
        "outputId": "e778afb5-438f-434e-9792-47a7a1ed82e6"
      },
      "execution_count": null,
      "outputs": [
        {
          "output_type": "stream",
          "name": "stdout",
          "text": [
            "20は30以下または60以上である\n"
          ]
        }
      ]
    },
    {
      "cell_type": "code",
      "source": [
        "a=70\n",
        "if a<=30 or 60<=a:\n",
        "  print(str(a)+'は30以下または60以上である')"
      ],
      "metadata": {
        "colab": {
          "base_uri": "https://localhost:8080/"
        },
        "id": "l8oe4qs3yliP",
        "outputId": "50262be9-dca0-481a-9de3-0eb0f81b54c9"
      },
      "execution_count": null,
      "outputs": [
        {
          "output_type": "stream",
          "name": "stdout",
          "text": [
            "70は30以下または60以上である\n"
          ]
        }
      ]
    },
    {
      "cell_type": "markdown",
      "source": [
        "1.8　繰り返し"
      ],
      "metadata": {
        "id": "hWwiUXxB4J0n"
      }
    },
    {
      "cell_type": "code",
      "source": [
        "n=0\n",
        "while n<3:\n",
        "  print('こんにちは'+str(n)+'さん')\n",
        "  n+=1\n",
        "print('while文の終わり')"
      ],
      "metadata": {
        "id": "eE1o-yAoy6gi",
        "colab": {
          "base_uri": "https://localhost:8080/"
        },
        "outputId": "c12b80b7-dea3-4827-ba27-5b026f38aff1"
      },
      "execution_count": null,
      "outputs": [
        {
          "output_type": "stream",
          "name": "stdout",
          "text": [
            "こんにちは0さん\n",
            "こんにちは1さん\n",
            "こんにちは2さん\n",
            "while文の終わり\n"
          ]
        }
      ]
    },
    {
      "cell_type": "code",
      "source": [
        "for n in[0,1,2]:\n",
        "  print('こんにちは'+str(n)+'さん')\n",
        "print('for文の終わり')"
      ],
      "metadata": {
        "colab": {
          "base_uri": "https://localhost:8080/"
        },
        "id": "nFhDHGZ1D0Nm",
        "outputId": "49e1bbac-1156-4cde-936e-bb770ca2b59a"
      },
      "execution_count": null,
      "outputs": [
        {
          "output_type": "stream",
          "name": "stdout",
          "text": [
            "こんにちは0さん\n",
            "こんにちは1さん\n",
            "こんにちは2さん\n",
            "for文の終わり\n"
          ]
        }
      ]
    },
    {
      "cell_type": "code",
      "source": [
        "for n in range(3):\n",
        "  print('こんにちは'+str(n)+'さん')\n",
        "print('for文の終わり')"
      ],
      "metadata": {
        "colab": {
          "base_uri": "https://localhost:8080/"
        },
        "id": "4unJnIvzELuL",
        "outputId": "5fbedfa5-134b-410f-ad4d-cf347589cbce"
      },
      "execution_count": null,
      "outputs": [
        {
          "output_type": "stream",
          "name": "stdout",
          "text": [
            "こんにちは0さん\n",
            "こんにちは1さん\n",
            "こんにちは2さん\n",
            "for文の終わり\n"
          ]
        }
      ]
    },
    {
      "cell_type": "code",
      "source": [
        "for n in range(1,3):\n",
        "  print('こんにちは'+str(n)+'さん')\n",
        "print('for文の終わり')"
      ],
      "metadata": {
        "colab": {
          "base_uri": "https://localhost:8080/"
        },
        "id": "v8fPTUzdEZP6",
        "outputId": "fc728f34-6ddf-4252-8064-ce4920b35c9f"
      },
      "execution_count": null,
      "outputs": [
        {
          "output_type": "stream",
          "name": "stdout",
          "text": [
            "こんにちは1さん\n",
            "こんにちは2さん\n",
            "for文の終わり\n"
          ]
        }
      ]
    },
    {
      "cell_type": "markdown",
      "source": [
        "1.9.2 タプル"
      ],
      "metadata": {
        "id": "SCIcB-M3E9Fl"
      }
    },
    {
      "cell_type": "code",
      "source": [
        "for n in (0,1,2):\n",
        "  print('こんにちは'+str(n)+'さん')\n",
        "print('for文の終わり')"
      ],
      "metadata": {
        "colab": {
          "base_uri": "https://localhost:8080/"
        },
        "id": "XyduU7ghEsRw",
        "outputId": "b42a4bd3-bb22-4914-a84b-513f1dcee091"
      },
      "execution_count": null,
      "outputs": [
        {
          "output_type": "stream",
          "name": "stdout",
          "text": [
            "こんにちは0さん\n",
            "こんにちは1さん\n",
            "こんにちは2さん\n",
            "for文の終わり\n"
          ]
        }
      ]
    },
    {
      "cell_type": "code",
      "source": [
        "for n in 'abc':\n",
        "  print('こんにちは'+str(n)+'さん')\n",
        "print('for文の終わり')"
      ],
      "metadata": {
        "colab": {
          "base_uri": "https://localhost:8080/"
        },
        "id": "iF7Me9KeFFUv",
        "outputId": "7d589226-0e67-42ac-a394-cc63c08ae996"
      },
      "execution_count": null,
      "outputs": [
        {
          "output_type": "stream",
          "name": "stdout",
          "text": [
            "こんにちはaさん\n",
            "こんにちはbさん\n",
            "こんにちはcさん\n",
            "for文の終わり\n"
          ]
        }
      ]
    },
    {
      "cell_type": "code",
      "source": [
        "for n in 'abc':\n",
        "  print('こんにちは'+n+'さん')\n",
        "print('for文の終わり')"
      ],
      "metadata": {
        "colab": {
          "base_uri": "https://localhost:8080/"
        },
        "id": "dhoEnIpqFxDl",
        "outputId": "03bfc8e0-f27c-4431-a713-12b3b067dcad"
      },
      "execution_count": null,
      "outputs": [
        {
          "output_type": "stream",
          "name": "stdout",
          "text": [
            "こんにちはaさん\n",
            "こんにちはbさん\n",
            "こんにちはcさん\n",
            "for文の終わり\n"
          ]
        }
      ]
    },
    {
      "cell_type": "code",
      "source": [
        "for n in {'apple':'リンゴ','orange':'ミカン','melon':'メロン'}:\n",
        "  print('こんにちは'+n+'さん') #print('こんにちは'+str(n)+'さん') でも同じ結果\n",
        "print('for文の終わり')"
      ],
      "metadata": {
        "colab": {
          "base_uri": "https://localhost:8080/"
        },
        "id": "QgbW_FsmFOxm",
        "outputId": "7f7325a5-d103-42ae-e07e-dd0daa5e5fe6"
      },
      "execution_count": null,
      "outputs": [
        {
          "output_type": "stream",
          "name": "stdout",
          "text": [
            "こんにちはappleさん\n",
            "こんにちはorangeさん\n",
            "こんにちはmelonさん\n",
            "for文の終わり\n"
          ]
        }
      ]
    },
    {
      "cell_type": "code",
      "source": [
        "dict={'apple':'リンゴ','orange':'ミカン','melon':'メロン'}\n",
        "dict"
      ],
      "metadata": {
        "colab": {
          "base_uri": "https://localhost:8080/"
        },
        "id": "j0DUEOmfIWbK",
        "outputId": "d8aed5a7-55b8-4465-aac9-42ad016d0e61"
      },
      "execution_count": null,
      "outputs": [
        {
          "output_type": "execute_result",
          "data": {
            "text/plain": [
              "{'apple': 'リンゴ', 'melon': 'メロン', 'orange': 'ミカン'}"
            ]
          },
          "metadata": {},
          "execution_count": 1
        }
      ]
    },
    {
      "cell_type": "code",
      "source": [
        "for n in dict.items():\n",
        "  print(n) #print(str(n)) でも同じ結果\n",
        "print('for文の終わり')"
      ],
      "metadata": {
        "colab": {
          "base_uri": "https://localhost:8080/"
        },
        "id": "hS-qFn1OF32B",
        "outputId": "34709ef0-ee2a-4803-ac3d-05f05dcafd09"
      },
      "execution_count": null,
      "outputs": [
        {
          "output_type": "stream",
          "name": "stdout",
          "text": [
            "('apple', 'リンゴ')\n",
            "('orange', 'ミカン')\n",
            "('melon', 'メロン')\n",
            "for文の終わり\n"
          ]
        }
      ]
    },
    {
      "cell_type": "code",
      "source": [
        "for n in dict.values():\n",
        "  print(n) \n",
        "print('for文の終わり')"
      ],
      "metadata": {
        "colab": {
          "base_uri": "https://localhost:8080/"
        },
        "id": "HhK8-fu1GWzH",
        "outputId": "cea27c23-ab64-4ab9-8bff-62d0c5ab0332"
      },
      "execution_count": null,
      "outputs": [
        {
          "output_type": "stream",
          "name": "stdout",
          "text": [
            "リンゴ\n",
            "ミカン\n",
            "メロン\n",
            "for文の終わり\n"
          ]
        }
      ]
    },
    {
      "cell_type": "code",
      "source": [
        "for n in dict.keys():\n",
        "  print(n) \n",
        "print('for文の終わり')"
      ],
      "metadata": {
        "colab": {
          "base_uri": "https://localhost:8080/"
        },
        "id": "f3D5zx2bGysd",
        "outputId": "a09e74c3-4704-42c5-eec5-2f12013f0adf"
      },
      "execution_count": null,
      "outputs": [
        {
          "output_type": "stream",
          "name": "stdout",
          "text": [
            "apple\n",
            "orange\n",
            "melon\n",
            "for文の終わり\n"
          ]
        }
      ]
    },
    {
      "cell_type": "markdown",
      "source": [
        "課題2 テスト問題"
      ],
      "metadata": {
        "id": "WSHSuCRkO5Xh"
      }
    },
    {
      "cell_type": "code",
      "source": [
        "x=int(input('Xの値を入力してください'))\n",
        "y=int(input('Yの値を入力してください'))\n",
        "#print(x,y)\n",
        "z=x**3+x*y-y**2\n",
        "print('ｘの三乗たすｘｙひくｙの二乗は'+str(z)+'です。')"
      ],
      "metadata": {
        "id": "YrWs492-KWXM",
        "colab": {
          "base_uri": "https://localhost:8080/"
        },
        "outputId": "b7a052f2-c339-4b0e-8e4f-75097548f94c"
      },
      "execution_count": null,
      "outputs": [
        {
          "output_type": "stream",
          "name": "stdout",
          "text": [
            "Xの値を入力してください3\n",
            "Yの値を入力してください2\n",
            "ｘの三乗たすｘｙひくｙの二乗は29です。\n"
          ]
        }
      ]
    },
    {
      "cell_type": "code",
      "source": [
        "x=3 #int(input('Xの値を入力してください'))\n",
        "y=2 #int(input('Yの値を入力してください'))\n",
        "#print(x,y)\n",
        "z=x**3+x*y-y**2\n",
        "#print('ｘの三乗たすｘｙひくｙの二乗は'+str(z)+'です。')\n",
        "kotae=int(input('ｘの三乗たすｘｙひくｙの二乗は？'))\n",
        "if (z==kotae):\n",
        "  print('あなたの答え'+str(kotae)+'はTrueです。')\n",
        "else:\n",
        "   print('あなたの答え'+str(kotae)+'はFalseです。')  "
      ],
      "metadata": {
        "colab": {
          "base_uri": "https://localhost:8080/"
        },
        "outputId": "506e7caf-9705-4142-a7c9-8e0fe9a662b5",
        "id": "xvgG2y03SurM"
      },
      "execution_count": null,
      "outputs": [
        {
          "output_type": "stream",
          "name": "stdout",
          "text": [
            "ｘの三乗たすｘｙひくｙの二乗は？14\n",
            "あなたの答え14はFalseです。\n"
          ]
        }
      ]
    },
    {
      "cell_type": "code",
      "source": [
        "x=3 #int(input('Xの値を入力してください'))\n",
        "y=2 #int(input('Yの値を入力してください'))\n",
        "#print(x,y)\n",
        "z=x**3+x*y-y**2\n",
        "#print('ｘの三乗たすｘｙひくｙの二乗は'+str(z)+'です。')\n",
        "kotae=int(input('ｘの三乗たすｘｙひくｙの二乗は？'))\n",
        "while (z==kotae):\n",
        "  print('あなたの答え'+str(kotae)+'はTrueです。')\n",
        "  break\n",
        "else:\n",
        "   print('あなたの答え'+str(kotae)+'はFalseです。')  "
      ],
      "metadata": {
        "colab": {
          "base_uri": "https://localhost:8080/"
        },
        "outputId": "fb7b6334-5a9c-4bc7-e81b-f9c83209c766",
        "id": "XyZ-ty8hUqfd"
      },
      "execution_count": null,
      "outputs": [
        {
          "output_type": "stream",
          "name": "stdout",
          "text": [
            "ｘの三乗たすｘｙひくｙの二乗は？14\n",
            "あなたの答え14はFalseです。\n"
          ]
        }
      ]
    },
    {
      "cell_type": "markdown",
      "source": [
        "str(a==29)とかするとTrue　False　みたいにブーリアンの答えがでる"
      ],
      "metadata": {
        "id": "GTQyUvriDY-a"
      }
    },
    {
      "cell_type": "code",
      "source": [
        "x=3 #int(input('Xの値を入力してください'))\n",
        "y=2 #int(input('Yの値を入力してください'))\n",
        "#print(x,y)\n",
        "z=x**3+x*y-y**2\n",
        "#print('ｘの三乗たすｘｙひくｙの二乗は'+str(z)+'です。')\n",
        "kotae=int(input('ｘの三乗たすｘｙひくｙの二乗は？'))\n",
        "\n",
        "print('あなたの答え'+str(kotae)+'は'+str(kotae==29)+'です。')\n"
      ],
      "metadata": {
        "colab": {
          "base_uri": "https://localhost:8080/"
        },
        "outputId": "7f8e6f6c-24bc-4059-e847-388eb950345e",
        "id": "fkwtbeP3DXWk"
      },
      "execution_count": null,
      "outputs": [
        {
          "output_type": "stream",
          "name": "stdout",
          "text": [
            "ｘの三乗たすｘｙひくｙの二乗は？29\n",
            "あなたの答え29はTrueです。\n"
          ]
        }
      ]
    }
  ]
}