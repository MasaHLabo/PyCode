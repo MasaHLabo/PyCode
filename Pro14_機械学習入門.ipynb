{
  "nbformat": 4,
  "nbformat_minor": 0,
  "metadata": {
    "colab": {
      "provenance": [],
      "mount_file_id": "1mY4zAttLVDuc02n2JtOMkmEAjgiEMyly",
      "authorship_tag": "ABX9TyO6G/9aRsSS+bxoCgxTecTv",
      "include_colab_link": true
    },
    "kernelspec": {
      "name": "python3",
      "display_name": "Python 3"
    },
    "language_info": {
      "name": "python"
    }
  },
  "cells": [
    {
      "cell_type": "markdown",
      "metadata": {
        "id": "view-in-github",
        "colab_type": "text"
      },
      "source": [
        "<a href=\"https://colab.research.google.com/github/MasaHLabo/PyCode/blob/main/Pro14_%E6%A9%9F%E6%A2%B0%E5%AD%A6%E7%BF%92%E5%85%A5%E9%96%80.ipynb\" target=\"_parent\"><img src=\"https://colab.research.google.com/assets/colab-badge.svg\" alt=\"Open In Colab\"/></a>"
      ]
    },
    {
      "cell_type": "markdown",
      "source": [
        "マウントする\n",
        "\n",
        "余力がある人はパスの設定もすると楽になります。"
      ],
      "metadata": {
        "id": "0eRSUM9oKCN9"
      }
    },
    {
      "cell_type": "code",
      "execution_count": null,
      "metadata": {
        "id": "uW_S_Oj-PILJ",
        "colab": {
          "base_uri": "https://localhost:8080/"
        },
        "outputId": "8c24ae0d-9533-410c-8b69-c2460db2fd29"
      },
      "outputs": [
        {
          "output_type": "stream",
          "name": "stdout",
          "text": [
            "Drive already mounted at /content/drive; to attempt to forcibly remount, call drive.mount(\"/content/drive\", force_remount=True).\n"
          ]
        }
      ],
      "source": [
        "from google.colab import drive\n",
        "drive.mount('/content/drive')"
      ]
    },
    {
      "cell_type": "markdown",
      "source": [
        "# 画像データの表示"
      ],
      "metadata": {
        "id": "3ILuMGB3KWEc"
      }
    },
    {
      "cell_type": "code",
      "source": [
        "import os  #フォルダ操作用\n",
        "import gzip #圧縮フォルダ操作用\n",
        "import numpy as np\n",
        "import matplotlib.pyplot as plt\n",
        "\n",
        "#from https://github.com/zalandoresearch/fashion-mnist/blob/master/utils/mnist_reader.py\n",
        "def load_mnist(path, kind='train'): #FMNISTデータの読み込み関数\n",
        "  labels_path = os.path.join(path,'%s-labels-idx1-ubyte.gz' % kind)\n",
        "  images_path = os.path.join(path,'%s-images-idx3-ubyte.gz' % kind)\n",
        "  with gzip.open(labels_path, 'rb') as lbpath:\n",
        "    labels = np.frombuffer(lbpath.read(), dtype=np.uint8, offset=8)\n",
        "  with gzip.open(images_path, 'rb') as imgpath:\n",
        "    images = np.frombuffer(imgpath.read(), dtype=np.uint8, offset=16)\n",
        "    images = images.reshape(len(labels), 28, 28)\n",
        "  return images, labels\n",
        "\n",
        "x_train, y_train = load_mnist('', kind='train') #訓練データの読み込み\n",
        "x_test, y_test = load_mnist('', kind='t10k') #テストデータの読み込み\n",
        "print(x_train)\n",
        "print(y_train)\n",
        "print() # 画像の枚数\n",
        "print() # 画像の枚数\n",
        "print()\n",
        "\n",
        "plt.matshow(x_train[20], cmap='gray') # x_trainの初めの画像データを表示\n",
        "plt.show()\n"
      ],
      "metadata": {
        "id": "DGB9vxerQWGm"
      },
      "execution_count": null,
      "outputs": []
    },
    {
      "cell_type": "markdown",
      "source": [
        "# 学習"
      ],
      "metadata": {
        "id": "4tMQ6XVjKdxS"
      }
    },
    {
      "cell_type": "code",
      "source": [
        "import os  # フォルダ操作用\n",
        "import gzip # 圧縮フォルダ操作用\n",
        "import numpy as np\n",
        "\n",
        "#from https://github.com/zalandoresearch/fashion-mnist/blob/master/utils/mnist_reader.py\n",
        "def load_mnist(path, kind='train'): # データの読み込み\n",
        "  labels_path = os.path.join(path,'%s-labels-idx1-ubyte.gz' % kind)\n",
        "  images_path = os.path.join(path,'%s-images-idx3-ubyte.gz' % kind)\n",
        "  with gzip.open(labels_path, 'rb') as lbpath:\n",
        "    labels = np.frombuffer(lbpath.read(), dtype=np.uint8, offset=8)\n",
        "  with gzip.open(images_path, 'rb') as imgpath:\n",
        "    images = np.frombuffer(imgpath.read(), dtype=np.uint8, offset=16)\n",
        "    images = images.reshape(len(labels), 28, 28)\n",
        "  return images, labels\n",
        "\n",
        "x_train, y_train = load_mnist('', kind='train') #訓練データの読み込み\n",
        "x_test, y_test = load_mnist('', kind='t10k') #テストデータの読み込み\n",
        "\n",
        "from sklearn.neural_network import MLPClassifier\n",
        "import joblib\n",
        "\n",
        "x_train = x_train.reshape(x_train.shape[0], 28*28).astype('float32')  # (1) データを入力に合わせる\n",
        "x_test = x_test.reshape(x_test.shape[0], 28*28).astype('float32') \n",
        "\n",
        "\n",
        "\n",
        "\n",
        "mlp = MLPClassifier(hidden_layer_sizes=(128,64,10 ), activation='relu', verbose=True) # (2) 学習器の作成\n",
        "     # (3) 訓練データで学習(モデルの作成)\n",
        "\n",
        "p = mlp.predict(x_test) # (4) 評価: テストデータに適用\n",
        "print('正解率: ', np.mean(p == y_test)) # 正解率\n",
        "\n",
        "joblib.dump(mlp, 'model.pkl', compress=True) # (5) モデルの保存\n"
      ],
      "metadata": {
        "id": "vfWY0TKrb3u5"
      },
      "execution_count": null,
      "outputs": []
    },
    {
      "cell_type": "code",
      "source": [
        "import os  # フォルダ操作用\n",
        "import gzip # 圧縮フォルダ操作用\n",
        "import numpy as np\n",
        "\n",
        "#from https://github.com/zalandoresearch/fashion-mnist/blob/master/utils/mnist_reader.py\n",
        "def load_mnist(path, kind='train'): # データの読み込み\n",
        "  labels_path = os.path.join(path,'%s-labels-idx1-ubyte.gz' % kind)\n",
        "  images_path = os.path.join(path,'%s-images-idx3-ubyte.gz' % kind)\n",
        "  with gzip.open(labels_path, 'rb') as lbpath:\n",
        "    labels = np.frombuffer(lbpath.read(), dtype=np.uint8, offset=8)\n",
        "  with gzip.open(images_path, 'rb') as imgpath:\n",
        "    images = np.frombuffer(imgpath.read(), dtype=np.uint8, offset=16)\n",
        "    images = images.reshape(len(labels), 28, 28)\n",
        "  return images, labels\n",
        "\n",
        "x_train, y_train = load_mnist('/content/drive/MyDrive/data', kind='train') #訓練データの読み込み\n",
        "x_test, y_test = load_mnist('/content/drive/MyDrive/data', kind='t10k') #テストデータの読み込み\n",
        "\n",
        "from sklearn.neural_network import MLPClassifier\n",
        "import joblib\n",
        "\n",
        "x_train = x_train.reshape(x_train.shape[0], 28*28).astype('float32')  # (1) データを入力に合わせる\n",
        "x_test = x_test.reshape(x_test.shape[0], 28*28).astype('float32') \n",
        "\n",
        "\n",
        "\n",
        "\n",
        "mlp = MLPClassifier(hidden_layer_sizes=(128, ), activation='relu', verbose=True) # (2) 学習器の作成\n",
        "mlp.fit(x_train, y_train) # (3) 訓練データで学習(モデルの作成)\n",
        "\n",
        "p = mlp.predict(x_test) # (4) 評価: テストデータに適用\n",
        "print('正解率: ', np.mean(p == y_test)) # 正解率\n",
        "\n",
        "#予測と正解の比較\n",
        "from  #どの程度一致したかの確認\n",
        "print(metrics.confusion_matrix(y_test,p))\n",
        "\n",
        "joblib.dump(mlp, 'model.pkl', compress=True) # (5) モデルの保存\n"
      ],
      "metadata": {
        "id": "1ZdvHXuTiap5"
      },
      "execution_count": null,
      "outputs": []
    },
    {
      "cell_type": "code",
      "source": [
        "import cv2\n",
        "import numpy as np\n",
        "import joblib\n",
        "\n",
        "# (1) データを整形する\n",
        "file = input('画像ファイル名: ')\n",
        "file1='/content/drive/MyDrive/data/'+file\n",
        "img = cv2.imread(file1) # 新しいデータの読み込み\n",
        "img = cv2.resize(img, (28, 28), interpolation=cv2.INTER_AREA) #データのリサイズ\n",
        "g = cv2.cvtColor(img, cv2.COLOR_BGR2GRAY) # グレースケール化\n",
        "\n",
        "a = np.array(g, dtype='float') # numpyの配列にする\n",
        "a = (255 - a) / 255 # 反転（FMNISTの画像が白黒反転しているので）\n",
        "a = a.flatten() # MLPClassifierの入力形式である、1次元配列に\n",
        "        \n",
        "# (2) 適用\n",
        "mlp = joblib.load('model.pkl') # 学習済みのモデルの読み込み\n",
        "r = mlp.predict([a]) # aがどのカテゴリかを計算する\n",
        "print('分類結果:', r)"
      ],
      "metadata": {
        "id": "1IrNFe0zdwx9"
      },
      "execution_count": null,
      "outputs": []
    },
    {
      "cell_type": "markdown",
      "source": [],
      "metadata": {
        "id": "LWMqlf3jh5Gz"
      }
    }
  ]
}