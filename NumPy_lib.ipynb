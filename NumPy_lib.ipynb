{
  "nbformat": 4,
  "nbformat_minor": 0,
  "metadata": {
    "colab": {
      "provenance": [],
      "authorship_tag": "ABX9TyPiwXgSugWjWBZ2ApSWfeE+",
      "include_colab_link": true
    },
    "kernelspec": {
      "name": "python3",
      "display_name": "Python 3"
    },
    "language_info": {
      "name": "python"
    }
  },
  "cells": [
    {
      "cell_type": "markdown",
      "metadata": {
        "id": "view-in-github",
        "colab_type": "text"
      },
      "source": [
        "<a href=\"https://colab.research.google.com/github/MasaHLabo/PyCode/blob/main/NumPy_lib.ipynb\" target=\"_parent\"><img src=\"https://colab.research.google.com/assets/colab-badge.svg\" alt=\"Open In Colab\"/></a>"
      ]
    },
    {
      "cell_type": "markdown",
      "source": [
        "数値計算ライブラリの利用"
      ],
      "metadata": {
        "id": "Pow3nYzR6VNI"
      }
    },
    {
      "cell_type": "markdown",
      "source": [
        "ベクトルの内積"
      ],
      "metadata": {
        "id": "D5tac5nY8t40"
      }
    },
    {
      "cell_type": "code",
      "source": [
        "a = [1, 2, 3] # ベクトル\n",
        "b = [4, 5, 6] # ベクトル\n",
        "c = 0 # 内積の計算結果\n",
        "for i in range(len(a)):\n",
        "\tc+=a[i]*b[i]\n",
        "print(c) # 32"
      ],
      "metadata": {
        "colab": {
          "base_uri": "https://localhost:8080/"
        },
        "id": "ecizeGnj68d4",
        "outputId": "1724fbec-3db9-411a-c412-42935868d6c7"
      },
      "execution_count": null,
      "outputs": [
        {
          "output_type": "stream",
          "name": "stdout",
          "text": [
            "32\n"
          ]
        }
      ]
    },
    {
      "cell_type": "markdown",
      "source": [
        "行列計算"
      ],
      "metadata": {
        "id": "2RyQycJXDZGv"
      }
    },
    {
      "cell_type": "code",
      "source": [
        "a = [[1, 2],[3, 4]] # 行列\n",
        "b = [[1, 2],[3, 4]] # 行列\n",
        "c = [[0, 0],[0, 0]]  # 計算結果\n",
        "for i in range(len(a)):\n",
        "\tfor j in range(len(b)):\n",
        "\t\tfor k in range(len(c)):\n",
        "\t\t\tc[i][j]+=a[i][k]*b[k][j]\n",
        "print(c) # [[7, 10],[15, 22]]"
      ],
      "metadata": {
        "colab": {
          "base_uri": "https://localhost:8080/"
        },
        "outputId": "0da73763-c9e5-4a91-b120-3f743c295541",
        "id": "3Gw20eGlEORk"
      },
      "execution_count": null,
      "outputs": [
        {
          "output_type": "stream",
          "name": "stdout",
          "text": [
            "[[7, 10], [15, 22]]\n"
          ]
        }
      ]
    },
    {
      "cell_type": "markdown",
      "source": [
        "NumPyを使うと簡単に計算できる"
      ],
      "metadata": {
        "id": "kPq5_n7PDeV6"
      }
    },
    {
      "cell_type": "code",
      "execution_count": null,
      "metadata": {
        "id": "QOEg4Sl66OV_"
      },
      "outputs": [],
      "source": [
        "import numpy as np"
      ]
    },
    {
      "cell_type": "code",
      "source": [
        "a = np.array([1, 2, 3])  # ベクトルを特有の配列に\n",
        "b = np.array([4, 5, 6])  # ベクトル・・\n",
        "c = np.dot(a, b)\n",
        "print(c) # 32"
      ],
      "metadata": {
        "colab": {
          "base_uri": "https://localhost:8080/"
        },
        "outputId": "c6d9024e-bb0f-4377-d5e1-ba2ba9a4242c",
        "id": "U3eBDh9MEHXd"
      },
      "execution_count": null,
      "outputs": [
        {
          "output_type": "stream",
          "name": "stdout",
          "text": [
            "32\n"
          ]
        }
      ]
    },
    {
      "cell_type": "code",
      "source": [
        "a = np.inner[1,2,3]  # ベクトルを特有の配列に\n",
        "b = np.inner[4,5, 6]  # ベクトル・・\n",
        "c = np.dot(a, b)\n",
        "print(c) # 32"
      ],
      "metadata": {
        "colab": {
          "base_uri": "https://localhost:8080/",
          "height": 222
        },
        "id": "4zyHW0LcwsHm",
        "outputId": "083bb655-119c-4b3c-8c8e-5d67d16bf647"
      },
      "execution_count": null,
      "outputs": [
        {
          "output_type": "error",
          "ename": "TypeError",
          "evalue": "ignored",
          "traceback": [
            "\u001b[0;31m---------------------------------------------------------------------------\u001b[0m",
            "\u001b[0;31mTypeError\u001b[0m                                 Traceback (most recent call last)",
            "\u001b[0;32m<ipython-input-9-acf8a102e7e1>\u001b[0m in \u001b[0;36m<module>\u001b[0;34m()\u001b[0m\n\u001b[0;32m----> 1\u001b[0;31m \u001b[0ma\u001b[0m \u001b[0;34m=\u001b[0m \u001b[0mnp\u001b[0m\u001b[0;34m.\u001b[0m\u001b[0minner\u001b[0m\u001b[0;34m[\u001b[0m\u001b[0;36m1\u001b[0m\u001b[0;34m,\u001b[0m\u001b[0;36m2\u001b[0m\u001b[0;34m,\u001b[0m\u001b[0;36m3\u001b[0m\u001b[0;34m]\u001b[0m  \u001b[0;31m# ベクトルを特有の配列に\u001b[0m\u001b[0;34m\u001b[0m\u001b[0;34m\u001b[0m\u001b[0m\n\u001b[0m\u001b[1;32m      2\u001b[0m \u001b[0mb\u001b[0m \u001b[0;34m=\u001b[0m \u001b[0mnp\u001b[0m\u001b[0;34m.\u001b[0m\u001b[0minner\u001b[0m\u001b[0;34m[\u001b[0m\u001b[0;36m4\u001b[0m\u001b[0;34m,\u001b[0m\u001b[0;36m5\u001b[0m\u001b[0;34m,\u001b[0m \u001b[0;36m6\u001b[0m\u001b[0;34m]\u001b[0m  \u001b[0;31m# ベクトル・・\u001b[0m\u001b[0;34m\u001b[0m\u001b[0;34m\u001b[0m\u001b[0m\n\u001b[1;32m      3\u001b[0m \u001b[0mc\u001b[0m \u001b[0;34m=\u001b[0m \u001b[0mnp\u001b[0m\u001b[0;34m.\u001b[0m\u001b[0mdot\u001b[0m\u001b[0;34m(\u001b[0m\u001b[0ma\u001b[0m\u001b[0;34m,\u001b[0m \u001b[0mb\u001b[0m\u001b[0;34m)\u001b[0m\u001b[0;34m\u001b[0m\u001b[0;34m\u001b[0m\u001b[0m\n\u001b[1;32m      4\u001b[0m \u001b[0mprint\u001b[0m\u001b[0;34m(\u001b[0m\u001b[0mc\u001b[0m\u001b[0;34m)\u001b[0m \u001b[0;31m# 32\u001b[0m\u001b[0;34m\u001b[0m\u001b[0;34m\u001b[0m\u001b[0m\n",
            "\u001b[0;31mTypeError\u001b[0m: 'function' object is not subscriptable"
          ]
        }
      ]
    },
    {
      "cell_type": "code",
      "source": [
        "a=[1,2,3]\n",
        "b=[4,5,6]\n",
        "c=0\n",
        "for i in  range(3):#range(len(a)):\n",
        "  c+=a[i]*b[i]\n",
        "print(c)"
      ],
      "metadata": {
        "colab": {
          "base_uri": "https://localhost:8080/"
        },
        "id": "nICsXE2g9N7m",
        "outputId": "a60bf006-4931-47c5-c65e-36edd88e9f68"
      },
      "execution_count": null,
      "outputs": [
        {
          "output_type": "stream",
          "name": "stdout",
          "text": [
            "32\n"
          ]
        }
      ]
    },
    {
      "cell_type": "code",
      "source": [
        "import numpy as np\n",
        "a = np.arrange(1, 4) \n",
        "b = np.arrange(4, 7) \n",
        "c=np.dot(a,b)\n",
        "print(c)"
      ],
      "metadata": {
        "colab": {
          "base_uri": "https://localhost:8080/",
          "height": 361
        },
        "id": "5Tnp0RE_-AGv",
        "outputId": "0051391f-d639-4dc4-c9ba-4edb33f7af3d"
      },
      "execution_count": null,
      "outputs": [
        {
          "output_type": "error",
          "ename": "AttributeError",
          "evalue": "ignored",
          "traceback": [
            "\u001b[0;31m---------------------------------------------------------------------------\u001b[0m",
            "\u001b[0;31mAttributeError\u001b[0m                            Traceback (most recent call last)",
            "\u001b[0;32m<ipython-input-8-ffb1956c883b>\u001b[0m in \u001b[0;36m<module>\u001b[0;34m()\u001b[0m\n\u001b[1;32m      1\u001b[0m \u001b[0;32mimport\u001b[0m \u001b[0mnumpy\u001b[0m \u001b[0;32mas\u001b[0m \u001b[0mnp\u001b[0m\u001b[0;34m\u001b[0m\u001b[0;34m\u001b[0m\u001b[0m\n\u001b[0;32m----> 2\u001b[0;31m \u001b[0ma\u001b[0m \u001b[0;34m=\u001b[0m \u001b[0mnp\u001b[0m\u001b[0;34m.\u001b[0m\u001b[0marrange\u001b[0m\u001b[0;34m(\u001b[0m\u001b[0;36m1\u001b[0m\u001b[0;34m,\u001b[0m \u001b[0;36m4\u001b[0m\u001b[0;34m)\u001b[0m\u001b[0;34m\u001b[0m\u001b[0;34m\u001b[0m\u001b[0m\n\u001b[0m\u001b[1;32m      3\u001b[0m \u001b[0mb\u001b[0m \u001b[0;34m=\u001b[0m \u001b[0mnp\u001b[0m\u001b[0;34m.\u001b[0m\u001b[0marrange\u001b[0m\u001b[0;34m(\u001b[0m\u001b[0;36m4\u001b[0m\u001b[0;34m,\u001b[0m \u001b[0;36m7\u001b[0m\u001b[0;34m)\u001b[0m\u001b[0;34m\u001b[0m\u001b[0;34m\u001b[0m\u001b[0m\n\u001b[1;32m      4\u001b[0m \u001b[0mc\u001b[0m\u001b[0;34m=\u001b[0m\u001b[0mnp\u001b[0m\u001b[0;34m.\u001b[0m\u001b[0mdot\u001b[0m\u001b[0;34m(\u001b[0m\u001b[0ma\u001b[0m\u001b[0;34m,\u001b[0m\u001b[0mb\u001b[0m\u001b[0;34m)\u001b[0m\u001b[0;34m\u001b[0m\u001b[0;34m\u001b[0m\u001b[0m\n\u001b[1;32m      5\u001b[0m \u001b[0mprint\u001b[0m\u001b[0;34m(\u001b[0m\u001b[0mc\u001b[0m\u001b[0;34m)\u001b[0m\u001b[0;34m\u001b[0m\u001b[0;34m\u001b[0m\u001b[0m\n",
            "\u001b[0;32m/usr/local/lib/python3.7/dist-packages/numpy/__init__.py\u001b[0m in \u001b[0;36m__getattr__\u001b[0;34m(attr)\u001b[0m\n\u001b[1;32m    312\u001b[0m \u001b[0;34m\u001b[0m\u001b[0m\n\u001b[1;32m    313\u001b[0m             raise AttributeError(\"module {!r} has no attribute \"\n\u001b[0;32m--> 314\u001b[0;31m                                  \"{!r}\".format(__name__, attr))\n\u001b[0m\u001b[1;32m    315\u001b[0m \u001b[0;34m\u001b[0m\u001b[0m\n\u001b[1;32m    316\u001b[0m         \u001b[0;32mdef\u001b[0m \u001b[0m__dir__\u001b[0m\u001b[0;34m(\u001b[0m\u001b[0;34m)\u001b[0m\u001b[0;34m:\u001b[0m\u001b[0;34m\u001b[0m\u001b[0;34m\u001b[0m\u001b[0m\n",
            "\u001b[0;31mAttributeError\u001b[0m: module 'numpy' has no attribute 'arrange'"
          ]
        }
      ]
    },
    {
      "cell_type": "code",
      "source": [
        "print(np.makearray(12))"
      ],
      "metadata": {
        "colab": {
          "base_uri": "https://localhost:8080/",
          "height": 292
        },
        "id": "6_gxDK-_QxWS",
        "outputId": "55abcbe3-42a8-40d9-e68e-e242d61edc7a"
      },
      "execution_count": null,
      "outputs": [
        {
          "output_type": "error",
          "ename": "AttributeError",
          "evalue": "ignored",
          "traceback": [
            "\u001b[0;31m---------------------------------------------------------------------------\u001b[0m",
            "\u001b[0;31mAttributeError\u001b[0m                            Traceback (most recent call last)",
            "\u001b[0;32m<ipython-input-10-8f831b51447e>\u001b[0m in \u001b[0;36m<module>\u001b[0;34m()\u001b[0m\n\u001b[0;32m----> 1\u001b[0;31m \u001b[0mprint\u001b[0m\u001b[0;34m(\u001b[0m\u001b[0mnp\u001b[0m\u001b[0;34m.\u001b[0m\u001b[0mmakearray\u001b[0m\u001b[0;34m(\u001b[0m\u001b[0;36m12\u001b[0m\u001b[0;34m)\u001b[0m\u001b[0;34m)\u001b[0m\u001b[0;34m\u001b[0m\u001b[0;34m\u001b[0m\u001b[0m\n\u001b[0m",
            "\u001b[0;32m/usr/local/lib/python3.7/dist-packages/numpy/__init__.py\u001b[0m in \u001b[0;36m__getattr__\u001b[0;34m(attr)\u001b[0m\n\u001b[1;32m    312\u001b[0m \u001b[0;34m\u001b[0m\u001b[0m\n\u001b[1;32m    313\u001b[0m             raise AttributeError(\"module {!r} has no attribute \"\n\u001b[0;32m--> 314\u001b[0;31m                                  \"{!r}\".format(__name__, attr))\n\u001b[0m\u001b[1;32m    315\u001b[0m \u001b[0;34m\u001b[0m\u001b[0m\n\u001b[1;32m    316\u001b[0m         \u001b[0;32mdef\u001b[0m \u001b[0m__dir__\u001b[0m\u001b[0;34m(\u001b[0m\u001b[0;34m)\u001b[0m\u001b[0;34m:\u001b[0m\u001b[0;34m\u001b[0m\u001b[0;34m\u001b[0m\u001b[0m\n",
            "\u001b[0;31mAttributeError\u001b[0m: module 'numpy' has no attribute 'makearray'"
          ]
        }
      ]
    },
    {
      "cell_type": "markdown",
      "source": [
        "ttt"
      ],
      "metadata": {
        "id": "6vPpLE0Pwv9w"
      }
    },
    {
      "cell_type": "code",
      "source": [
        "a = np.array([[1, 2],[3, 4]]) # 行列\n",
        "b = np.array([[1, 2],[3, 4]]) # 行列\n",
        "c = np.dot(a, b) # 計算結果\n",
        "print(c) # [[7, 10], [15, 22]]"
      ],
      "metadata": {
        "colab": {
          "base_uri": "https://localhost:8080/"
        },
        "outputId": "312d4e40-23c6-45ea-c030-d3170dd152fb",
        "id": "bBvwVffu74Lr"
      },
      "execution_count": null,
      "outputs": [
        {
          "output_type": "stream",
          "name": "stdout",
          "text": [
            "[[ 7 10]\n",
            " [15 22]]\n"
          ]
        }
      ]
    },
    {
      "cell_type": "code",
      "source": [
        "a = np.array([[1, -2, 0],[1, 1, -1],[-5, 5, 2]]) \n",
        "a_inverse = np.linalg.inv(a) # 計算結果\n",
        "print(a_inverse) "
      ],
      "metadata": {
        "colab": {
          "base_uri": "https://localhost:8080/"
        },
        "id": "CeJn04pbG2uC",
        "outputId": "a4c32ba5-4d0e-4f08-9309-2fe92a0ffd8f"
      },
      "execution_count": null,
      "outputs": [
        {
          "output_type": "stream",
          "name": "stdout",
          "text": [
            "[[ 7.  4.  2.]\n",
            " [ 3.  2.  1.]\n",
            " [10.  5.  3.]]\n"
          ]
        }
      ]
    },
    {
      "cell_type": "markdown",
      "source": [
        "10.1 ベクトル，行列の作り方"
      ],
      "metadata": {
        "id": "jcyY6uU8I3Bx"
      }
    },
    {
      "cell_type": "code",
      "source": [
        "a = np.array([1, 2, 3]) \n",
        "print(a) # [1, 2, 3]\n",
        "print(a[0], a[-1]) # 1 3\n",
        "print(a[a>=2]) # 条件指定　[2, 3]\n",
        "print(a[a%2==0]) # 条件指定　[2]"
      ],
      "metadata": {
        "id": "iA0o8B_ZJa9M"
      },
      "execution_count": null,
      "outputs": []
    },
    {
      "cell_type": "code",
      "source": [
        "a = np.array((1, 2, 3)) # (1, 2, 3)でも可能\n",
        "print(a) # [1, 2, 3]\n",
        "print(a[0], a[-1]) # 1 3\n",
        "print(a[a>=2]) # 条件指定　[2, 3]\n",
        "print(a[a%2==0]) # 条件指定　[2]"
      ],
      "metadata": {
        "colab": {
          "base_uri": "https://localhost:8080/"
        },
        "id": "LdYItNAyJf0C",
        "outputId": "f9dd0db9-397a-4e8b-e677-35750a7e96fd"
      },
      "execution_count": null,
      "outputs": [
        {
          "output_type": "stream",
          "name": "stdout",
          "text": [
            "[1 2 3]\n",
            "1 3\n",
            "[2 3]\n",
            "[2]\n"
          ]
        }
      ]
    },
    {
      "cell_type": "code",
      "source": [
        "a = np.array([[1, 2, 3], [4, 5, 6]])\n",
        "print(a) # [[1 2 3]\n",
        "         #  [4 5 6]]\n",
        "print(a[0][0], a[1][1], a[-1][-1]) # 1 5 6\n",
        "print(a[0, 0], a[1, 1], a[-1, -1]) # 1 5 6\n",
        "print(a[a>=3]) # [3, 4, 5, 6]"
      ],
      "metadata": {
        "colab": {
          "base_uri": "https://localhost:8080/"
        },
        "id": "Rs_CX-PeKZ_N",
        "outputId": "81600051-810d-4720-854c-0328ddfefecb"
      },
      "execution_count": null,
      "outputs": [
        {
          "output_type": "stream",
          "name": "stdout",
          "text": [
            "[[1 2 3]\n",
            " [4 5 6]]\n",
            "1 5 6\n",
            "1 5 6\n",
            "[3 4 5 6]\n"
          ]
        }
      ]
    },
    {
      "cell_type": "code",
      "source": [
        "a = np.array([2, 4, 6, 8])"
      ],
      "metadata": {
        "id": "YY0w95lYLRCv"
      },
      "execution_count": null,
      "outputs": []
    },
    {
      "cell_type": "code",
      "source": [
        "a = np.array((1, 2, 3))"
      ],
      "metadata": {
        "id": "55xL_BOJ3IKd"
      },
      "execution_count": null,
      "outputs": []
    },
    {
      "cell_type": "code",
      "source": [
        "a = np.array([[1, 2, 3], [4, 5, 6]])"
      ],
      "metadata": {
        "id": "jA8Zs2S93PdE"
      },
      "execution_count": null,
      "outputs": []
    },
    {
      "cell_type": "code",
      "source": [
        "print(a)\n",
        "print(a.ndim)\n",
        "print(a.size)\n",
        "print(a.shape)"
      ],
      "metadata": {
        "colab": {
          "base_uri": "https://localhost:8080/"
        },
        "id": "8ZlXbn5VLe20",
        "outputId": "57b6637f-c856-4f64-f115-3db329220c23"
      },
      "execution_count": null,
      "outputs": [
        {
          "output_type": "stream",
          "name": "stdout",
          "text": [
            "[[1 2 3]\n",
            " [4 5 6]]\n",
            "2\n",
            "6\n",
            "(2, 3)\n"
          ]
        }
      ]
    },
    {
      "cell_type": "code",
      "source": [
        "B = np.array([[0,1,2],[3,4,5],[6,7,8]])"
      ],
      "metadata": {
        "id": "8hASsbsOMdKi"
      },
      "execution_count": null,
      "outputs": []
    },
    {
      "cell_type": "code",
      "source": [
        "print(B)\n",
        "print(B.ndim)\n",
        "print(B.size)\n",
        "print(B.shape)"
      ],
      "metadata": {
        "colab": {
          "base_uri": "https://localhost:8080/"
        },
        "outputId": "d021a041-ba49-487f-c6a1-0949f3dc5a65",
        "id": "kp6UhXDwMxlw"
      },
      "execution_count": null,
      "outputs": [
        {
          "output_type": "stream",
          "name": "stdout",
          "text": [
            "[[0 1 2]\n",
            " [3 4 5]\n",
            " [6 7 8]]\n",
            "2\n",
            "9\n",
            "(3, 3)\n"
          ]
        }
      ]
    },
    {
      "cell_type": "code",
      "source": [
        "np.arange(9)"
      ],
      "metadata": {
        "colab": {
          "base_uri": "https://localhost:8080/"
        },
        "id": "0usydN8jMwvI",
        "outputId": "0e94c273-3755-4df8-8cb4-3d5c8d7490f1"
      },
      "execution_count": null,
      "outputs": [
        {
          "output_type": "execute_result",
          "data": {
            "text/plain": [
              "array([0, 1, 2, 3, 4, 5, 6, 7, 8])"
            ]
          },
          "metadata": {},
          "execution_count": 94
        }
      ]
    },
    {
      "cell_type": "code",
      "source": [
        "np.arange(5,10,2)"
      ],
      "metadata": {
        "colab": {
          "base_uri": "https://localhost:8080/"
        },
        "outputId": "dfe7d2da-b3d2-43aa-a291-e1ab1721cabd",
        "id": "T6DtU1-7Nlnq"
      },
      "execution_count": null,
      "outputs": [
        {
          "output_type": "execute_result",
          "data": {
            "text/plain": [
              "array([5, 7, 9])"
            ]
          },
          "metadata": {},
          "execution_count": 95
        }
      ]
    },
    {
      "cell_type": "code",
      "source": [
        "np.arange(5,10)"
      ],
      "metadata": {
        "colab": {
          "base_uri": "https://localhost:8080/"
        },
        "outputId": "f73eb404-edda-4781-a6ef-40a4431f0b62",
        "id": "D4Mc-lOoNw58"
      },
      "execution_count": null,
      "outputs": [
        {
          "output_type": "execute_result",
          "data": {
            "text/plain": [
              "array([5, 6, 7, 8, 9])"
            ]
          },
          "metadata": {},
          "execution_count": 96
        }
      ]
    },
    {
      "cell_type": "code",
      "source": [
        "np.arange(0.0, 1.0, 0.2)"
      ],
      "metadata": {
        "colab": {
          "base_uri": "https://localhost:8080/"
        },
        "outputId": "62f14d2a-88f2-4602-d6ea-4f1b75be137d",
        "id": "BQgHoybRN0C3"
      },
      "execution_count": null,
      "outputs": [
        {
          "output_type": "execute_result",
          "data": {
            "text/plain": [
              "array([0. , 0.2, 0.4, 0.6, 0.8])"
            ]
          },
          "metadata": {},
          "execution_count": 97
        }
      ]
    },
    {
      "cell_type": "code",
      "source": [
        "np.zeros(3)"
      ],
      "metadata": {
        "colab": {
          "base_uri": "https://localhost:8080/"
        },
        "outputId": "19613d97-07f8-40eb-f763-454da5e06bdf",
        "id": "gfqFDkMMN9V7"
      },
      "execution_count": null,
      "outputs": [
        {
          "output_type": "execute_result",
          "data": {
            "text/plain": [
              "array([0., 0., 0.])"
            ]
          },
          "metadata": {},
          "execution_count": 98
        }
      ]
    },
    {
      "cell_type": "code",
      "source": [
        "np.zeros((2,3))"
      ],
      "metadata": {
        "colab": {
          "base_uri": "https://localhost:8080/"
        },
        "outputId": "8a7d8264-6525-4f8e-9b55-0ae74496fc1b",
        "id": "lbIxpj5XOGZJ"
      },
      "execution_count": null,
      "outputs": [
        {
          "output_type": "execute_result",
          "data": {
            "text/plain": [
              "array([[0., 0., 0.],\n",
              "       [0., 0., 0.]])"
            ]
          },
          "metadata": {},
          "execution_count": 99
        }
      ]
    },
    {
      "cell_type": "code",
      "source": [
        "np.ones((3,4))"
      ],
      "metadata": {
        "colab": {
          "base_uri": "https://localhost:8080/"
        },
        "outputId": "3f17dcdd-a665-44bd-a1a9-353d4fd1bb0b",
        "id": "VqxHgRDIOQsq"
      },
      "execution_count": null,
      "outputs": [
        {
          "output_type": "execute_result",
          "data": {
            "text/plain": [
              "array([[1., 1., 1., 1.],\n",
              "       [1., 1., 1., 1.],\n",
              "       [1., 1., 1., 1.]])"
            ]
          },
          "metadata": {},
          "execution_count": 100
        }
      ]
    },
    {
      "cell_type": "code",
      "source": [
        "np.random.random((3, 2))"
      ],
      "metadata": {
        "colab": {
          "base_uri": "https://localhost:8080/"
        },
        "outputId": "f0cbef96-5ad6-4c8e-c523-78e8a911bf50",
        "id": "KWsnUSUsOXks"
      },
      "execution_count": null,
      "outputs": [
        {
          "output_type": "execute_result",
          "data": {
            "text/plain": [
              "array([[0.317, 0.108],\n",
              "       [0.073, 0.943],\n",
              "       [0.601, 0.136]])"
            ]
          },
          "metadata": {},
          "execution_count": 101
        }
      ]
    },
    {
      "cell_type": "code",
      "source": [
        "np.set_printoptions(precision=3)"
      ],
      "metadata": {
        "id": "pj-WGcRFPFGF"
      },
      "execution_count": null,
      "outputs": []
    },
    {
      "cell_type": "code",
      "source": [
        "np.random.random((3, 2))"
      ],
      "metadata": {
        "colab": {
          "base_uri": "https://localhost:8080/"
        },
        "outputId": "4afbd348-e8ef-4f98-ffaf-97d5dcae128a",
        "id": "GlhI6SqpPXVs"
      },
      "execution_count": null,
      "outputs": [
        {
          "output_type": "execute_result",
          "data": {
            "text/plain": [
              "array([[0.52 , 0.771],\n",
              "       [0.653, 0.85 ],\n",
              "       [0.367, 0.274]])"
            ]
          },
          "metadata": {},
          "execution_count": 36
        }
      ]
    },
    {
      "cell_type": "code",
      "source": [
        "A = np.arange(12)\n",
        "print(A)\n",
        "A = A.reshape(2,6)\n",
        "print(A)"
      ],
      "metadata": {
        "colab": {
          "base_uri": "https://localhost:8080/"
        },
        "id": "sE2JYJUHPWyz",
        "outputId": "0c287550-c83c-4d35-cce0-3f8a85f569bb"
      },
      "execution_count": null,
      "outputs": [
        {
          "output_type": "stream",
          "name": "stdout",
          "text": [
            "[ 0  1  2  3  4  5  6  7  8  9 10 11]\n",
            "[[ 0  1  2  3  4  5]\n",
            " [ 6  7  8  9 10 11]]\n"
          ]
        }
      ]
    },
    {
      "cell_type": "code",
      "source": [
        "#A = np.arange(12)\n",
        "#print(A)\n",
        "A = np.reshape(A,(2,6))\n",
        "print(A)"
      ],
      "metadata": {
        "colab": {
          "base_uri": "https://localhost:8080/"
        },
        "id": "Ww9INAZZQyOC",
        "outputId": "445aa85e-da0e-43ad-a702-011de6414211"
      },
      "execution_count": null,
      "outputs": [
        {
          "output_type": "stream",
          "name": "stdout",
          "text": [
            "[[ 0  1  2  3  4  5]\n",
            " [ 6  7  8  9 10 11]]\n"
          ]
        }
      ]
    },
    {
      "cell_type": "code",
      "source": [
        "#A = np.arange(12)\n",
        "#print(A)\n",
        "A = np.reshape(A,(3,4))\n",
        "print(A)"
      ],
      "metadata": {
        "colab": {
          "base_uri": "https://localhost:8080/"
        },
        "outputId": "1a3e33c9-6c00-4c85-dcad-70331ba6415a",
        "id": "gwvBcEWrRLLr"
      },
      "execution_count": null,
      "outputs": [
        {
          "output_type": "stream",
          "name": "stdout",
          "text": [
            "[[ 0  1  2  3]\n",
            " [ 4  5  6  7]\n",
            " [ 8  9 10 11]]\n"
          ]
        }
      ]
    },
    {
      "cell_type": "markdown",
      "source": [
        "10.2"
      ],
      "metadata": {
        "id": "fUMWXoozTzq2"
      }
    },
    {
      "cell_type": "code",
      "source": [
        "a = np.array([1, 2, 3, 4, 5, 6])\n",
        "print(a[3:6]) # [4 5 6]\n",
        "print(a[3:]) # [4 5 6]\n",
        "print(a[:3]) # [1 2 3]\n",
        "print(a[3:-1]) # [4 5]\n",
        "print(a[::3]) # [1 4]\n",
        "print(a[::-1]) # [6 5 4 3 2 1]"
      ],
      "metadata": {
        "colab": {
          "base_uri": "https://localhost:8080/"
        },
        "id": "yZXiw9LuT1cU",
        "outputId": "b740c00e-c20e-4c7d-b3e9-c42d3eb4e12e"
      },
      "execution_count": null,
      "outputs": [
        {
          "output_type": "stream",
          "name": "stdout",
          "text": [
            "[4 5 6]\n",
            "[4 5 6]\n",
            "[1 2 3]\n",
            "[4 5]\n",
            "[1 4]\n",
            "[6 5 4 3 2 1]\n"
          ]
        }
      ]
    },
    {
      "cell_type": "code",
      "source": [
        "A = np.array([6,3,1,8,0,7])\n",
        "print(A)\n",
        "print(A[3])\n",
        "print(A[-1])"
      ],
      "metadata": {
        "colab": {
          "base_uri": "https://localhost:8080/"
        },
        "id": "1Z7A3Hr3UDRE",
        "outputId": "d2487578-1ca7-4099-b974-593f08b0926b"
      },
      "execution_count": null,
      "outputs": [
        {
          "output_type": "stream",
          "name": "stdout",
          "text": [
            "[6 3 1 8 0 7]\n",
            "8\n",
            "7\n"
          ]
        }
      ]
    },
    {
      "cell_type": "code",
      "source": [
        "A = np.arange(12).reshape((3,4))\n",
        "print(A)\n",
        "print(A[1][2])\n",
        "print(A[1,2])"
      ],
      "metadata": {
        "colab": {
          "base_uri": "https://localhost:8080/"
        },
        "id": "gjA8DXauUWyT",
        "outputId": "d77255a5-a75d-4f42-b87e-c7f1400ec823"
      },
      "execution_count": null,
      "outputs": [
        {
          "output_type": "stream",
          "name": "stdout",
          "text": [
            "[[ 0  1  2  3]\n",
            " [ 4  5  6  7]\n",
            " [ 8  9 10 11]]\n",
            "6\n",
            "6\n"
          ]
        }
      ]
    },
    {
      "cell_type": "code",
      "source": [
        "A = np.arange(15).reshape((3,5))"
      ],
      "metadata": {
        "id": "k1y4dSdDUwyu"
      },
      "execution_count": null,
      "outputs": []
    },
    {
      "cell_type": "code",
      "source": [
        "A[2,:]"
      ],
      "metadata": {
        "colab": {
          "base_uri": "https://localhost:8080/"
        },
        "id": "75IzVOsjU1k9",
        "outputId": "dfa81d8d-9e1c-40e2-ff5e-d7195b8a4374"
      },
      "execution_count": null,
      "outputs": [
        {
          "output_type": "execute_result",
          "data": {
            "text/plain": [
              "array([10, 11, 12, 13, 14])"
            ]
          },
          "metadata": {},
          "execution_count": 103
        }
      ]
    },
    {
      "cell_type": "code",
      "source": [
        "A[1,3:]"
      ],
      "metadata": {
        "colab": {
          "base_uri": "https://localhost:8080/"
        },
        "id": "X5r8eswjVIaY",
        "outputId": "23447b9c-ace5-4698-ed3d-3d62bc14e354"
      },
      "execution_count": null,
      "outputs": [
        {
          "output_type": "execute_result",
          "data": {
            "text/plain": [
              "array([8, 9])"
            ]
          },
          "metadata": {},
          "execution_count": 104
        }
      ]
    },
    {
      "cell_type": "code",
      "source": [
        "A[:1,2:]"
      ],
      "metadata": {
        "colab": {
          "base_uri": "https://localhost:8080/"
        },
        "id": "xqMfbjJgVOUC",
        "outputId": "0fa0d1a8-928e-4e8a-f0ed-5c7e9353416c"
      },
      "execution_count": null,
      "outputs": [
        {
          "output_type": "execute_result",
          "data": {
            "text/plain": [
              "array([[2, 3, 4]])"
            ]
          },
          "metadata": {},
          "execution_count": 105
        }
      ]
    },
    {
      "cell_type": "code",
      "source": [
        "A[:,1]"
      ],
      "metadata": {
        "id": "bZCIhyW2XEsa",
        "colab": {
          "base_uri": "https://localhost:8080/"
        },
        "outputId": "ec89c257-e4a9-4d7f-ba93-5df1fd3353f5"
      },
      "execution_count": null,
      "outputs": [
        {
          "output_type": "execute_result",
          "data": {
            "text/plain": [
              "array([ 1,  6, 11])"
            ]
          },
          "metadata": {},
          "execution_count": 106
        }
      ]
    },
    {
      "cell_type": "code",
      "source": [
        "print(A[-1,:3])\n",
        "print(A[:1,2:])"
      ],
      "metadata": {
        "id": "wdpGjpBLXFUC",
        "colab": {
          "base_uri": "https://localhost:8080/"
        },
        "outputId": "bcb8f4cc-909a-4752-f0a5-f301f386114d"
      },
      "execution_count": null,
      "outputs": [
        {
          "output_type": "stream",
          "name": "stdout",
          "text": [
            "[10 11 12]\n",
            "[[2 3 4]]\n"
          ]
        }
      ]
    },
    {
      "cell_type": "markdown",
      "source": [
        "10.3"
      ],
      "metadata": {
        "id": "p0DozIzqXX4H"
      }
    },
    {
      "cell_type": "code",
      "source": [
        "a = np.array([1, 2, 3]) # (1, 2, 3)\n",
        "b = np.array([4, 5, 6])\n",
        "print(a+b) # 加法 [5, 7, 9]\n",
        "print(a-b) # 減法 [-3, -3, -3]\n",
        "print(a*2) # スカラー倍 [2, 4, 6]\n",
        "print(a/2) # スカラー倍 [0.5, 1, 1.5]\n",
        "print(a*b) # アダマール積 [4, 10, 18]\n",
        "print(a/b) # アダマール積 [0.25 0.4  0.5 ]"
      ],
      "metadata": {
        "colab": {
          "base_uri": "https://localhost:8080/"
        },
        "id": "UHf43vUJXDs1",
        "outputId": "0b3cc2cf-7b7d-41dc-8d16-1a21cfac419c"
      },
      "execution_count": null,
      "outputs": [
        {
          "output_type": "stream",
          "name": "stdout",
          "text": [
            "[5 7 9]\n",
            "[-3 -3 -3]\n",
            "[2 4 6]\n",
            "[0.5 1.  1.5]\n",
            "[ 4 10 18]\n",
            "[0.25 0.4  0.5 ]\n"
          ]
        }
      ]
    },
    {
      "cell_type": "code",
      "source": [
        "a = np.array([[1, 2], [3, 4]])\n",
        "b = np.array([[5, 6], [7, 8]])\n",
        "print(a*2) # [[2, 4]\n",
        "\t\t\t\t\t\t #[6, 8]]\n",
        "print(a+b) # [[6  8]\n",
        "\t\t\t\t\t\t #[10 12]]\n",
        "print(a-b) # [[-4 -4]\n",
        "              #[-4 -4]]\n",
        "print(a*b) # [[5 12]\n",
        "              #[21 32]]\n",
        "print(a/b)  # [[0.2 0.33333333]\n",
        "\t\t\t\t\t\t\t #[0.42857143 0.5]]"
      ],
      "metadata": {
        "colab": {
          "base_uri": "https://localhost:8080/"
        },
        "id": "NWYycv0xX5K9",
        "outputId": "b0c2d4b3-44b5-4329-ac5a-a141394b3cb7"
      },
      "execution_count": null,
      "outputs": [
        {
          "output_type": "stream",
          "name": "stdout",
          "text": [
            "[[2 4]\n",
            " [6 8]]\n",
            "[[ 6  8]\n",
            " [10 12]]\n",
            "[[-4 -4]\n",
            " [-4 -4]]\n",
            "[[ 5 12]\n",
            " [21 32]]\n",
            "[[0.2   0.333]\n",
            " [0.429 0.5  ]]\n"
          ]
        }
      ]
    },
    {
      "cell_type": "code",
      "source": [
        "A = np.arange(6)\n",
        "A = A.reshape(2,3)\n",
        "print(A)"
      ],
      "metadata": {
        "colab": {
          "base_uri": "https://localhost:8080/"
        },
        "id": "dY6_nHCiXapP",
        "outputId": "34718c58-3cd1-432e-e7e5-bec29db0b3bb"
      },
      "execution_count": null,
      "outputs": [
        {
          "output_type": "stream",
          "name": "stdout",
          "text": [
            "[[0 1 2]\n",
            " [3 4 5]]\n"
          ]
        }
      ]
    },
    {
      "cell_type": "code",
      "source": [
        "A+1"
      ],
      "metadata": {
        "colab": {
          "base_uri": "https://localhost:8080/"
        },
        "id": "KxvLv0V3Xohv",
        "outputId": "4b8dae24-83fb-4a72-bfac-76d781ae2ed9"
      },
      "execution_count": null,
      "outputs": [
        {
          "output_type": "execute_result",
          "data": {
            "text/plain": [
              "array([[1, 2, 3],\n",
              "       [4, 5, 6]])"
            ]
          },
          "metadata": {},
          "execution_count": 59
        }
      ]
    },
    {
      "cell_type": "code",
      "source": [
        "A+3.0"
      ],
      "metadata": {
        "colab": {
          "base_uri": "https://localhost:8080/"
        },
        "id": "APoukRthXrRJ",
        "outputId": "780155a6-f84d-44e8-d815-4e531f0623b2"
      },
      "execution_count": null,
      "outputs": [
        {
          "output_type": "execute_result",
          "data": {
            "text/plain": [
              "array([[3., 4., 5.],\n",
              "       [6., 7., 8.]])"
            ]
          },
          "metadata": {},
          "execution_count": 60
        }
      ]
    },
    {
      "cell_type": "code",
      "source": [
        "A*2"
      ],
      "metadata": {
        "colab": {
          "base_uri": "https://localhost:8080/"
        },
        "id": "ST3esnUfYKp2",
        "outputId": "0da0e68b-3cb2-443d-d9ac-ff5b1fd9ef3f"
      },
      "execution_count": null,
      "outputs": [
        {
          "output_type": "execute_result",
          "data": {
            "text/plain": [
              "array([[ 0,  2,  4],\n",
              "       [ 6,  8, 10]])"
            ]
          },
          "metadata": {},
          "execution_count": 61
        }
      ]
    },
    {
      "cell_type": "code",
      "source": [
        "A**2"
      ],
      "metadata": {
        "colab": {
          "base_uri": "https://localhost:8080/"
        },
        "id": "cDWuKhxOYNNR",
        "outputId": "a9f564a0-29ef-4c17-8759-1bb39fc49b42"
      },
      "execution_count": null,
      "outputs": [
        {
          "output_type": "execute_result",
          "data": {
            "text/plain": [
              "array([[ 0,  1,  4],\n",
              "       [ 9, 16, 25]])"
            ]
          },
          "metadata": {},
          "execution_count": 62
        }
      ]
    },
    {
      "cell_type": "code",
      "source": [
        "A = np.arange(1,7).reshape(2,3)\n",
        "B = np.arange(1,4)\n",
        "print(A)\n",
        "print(B)"
      ],
      "metadata": {
        "colab": {
          "base_uri": "https://localhost:8080/"
        },
        "id": "cFbZOGhVYlvV",
        "outputId": "248a3489-66ae-455e-b890-0694ec002897"
      },
      "execution_count": null,
      "outputs": [
        {
          "output_type": "stream",
          "name": "stdout",
          "text": [
            "[[1 2 3]\n",
            " [4 5 6]]\n",
            "[1 2 3]\n"
          ]
        }
      ]
    },
    {
      "cell_type": "code",
      "source": [
        "A+B"
      ],
      "metadata": {
        "colab": {
          "base_uri": "https://localhost:8080/"
        },
        "id": "tgla41t8ZE0p",
        "outputId": "8a78f158-f68f-40cb-e6c8-f4cc7b4d78d2"
      },
      "execution_count": null,
      "outputs": [
        {
          "output_type": "execute_result",
          "data": {
            "text/plain": [
              "array([[2, 4, 6],\n",
              "       [5, 7, 9]])"
            ]
          },
          "metadata": {},
          "execution_count": 65
        }
      ]
    },
    {
      "cell_type": "code",
      "source": [
        "A*B"
      ],
      "metadata": {
        "colab": {
          "base_uri": "https://localhost:8080/"
        },
        "id": "F3RvYOwQZH4o",
        "outputId": "839082a7-31f2-4269-911a-e3fedbee38ca"
      },
      "execution_count": null,
      "outputs": [
        {
          "output_type": "execute_result",
          "data": {
            "text/plain": [
              "array([[ 1,  4,  9],\n",
              "       [ 4, 10, 18]])"
            ]
          },
          "metadata": {},
          "execution_count": 67
        }
      ]
    },
    {
      "cell_type": "code",
      "source": [
        "A/B"
      ],
      "metadata": {
        "colab": {
          "base_uri": "https://localhost:8080/"
        },
        "id": "g2GpPCDyZTbA",
        "outputId": "66a47a15-72f4-45e5-a673-08e00cf567a5"
      },
      "execution_count": null,
      "outputs": [
        {
          "output_type": "execute_result",
          "data": {
            "text/plain": [
              "array([[1. , 1. , 1. ],\n",
              "       [4. , 2.5, 2. ]])"
            ]
          },
          "metadata": {},
          "execution_count": 68
        }
      ]
    },
    {
      "cell_type": "markdown",
      "source": [
        "10.4"
      ],
      "metadata": {
        "id": "bitMGlqnZ2Bb"
      }
    },
    {
      "cell_type": "code",
      "source": [
        "a = np.array([[5, 10], [1, 3]]) #売り上げベクトルを並べたもの\n",
        "v = np.array([10, 100]) #饅頭とどら焼きの値段を並べたもの\n",
        "print(np.dot(v, a)) # 行列×ベクトル [150 400] [1日目の売り上げ, 2日目の売り上げ]  \n",
        "print(a.shape) #(2, 2)\n",
        "print(v.shape) #(2,  )\n",
        "print(np.sum(np.dot(v, a))) # 全ての成分の値の合計（総売上）: 550\n",
        "\n",
        "b = np.array([[10, 100], [50, 50]]) #A店, B店の値段ベクトルを並べたもの\n",
        "print(np.dot(b, a)) # 行列×行列　売り上げベクトルを並べたもの。:\n",
        "\t#[[100 400] [[A店の1日目の売り上げ A店の2日目の売り上げ]\n",
        "\t #[300 650]] [B店の1日目の売り上げ　B店の2日目の売り上げ]]\n",
        "\n",
        "print(a.shape) #(2,2)\n",
        "print(a.size) #4\n",
        "print(a.ndim) #2"
      ],
      "metadata": {
        "colab": {
          "base_uri": "https://localhost:8080/"
        },
        "id": "rUIxPzE8Z3Ek",
        "outputId": "796ba636-e2d1-452d-ac1c-22ceb5ea7b41"
      },
      "execution_count": null,
      "outputs": [
        {
          "output_type": "stream",
          "name": "stdout",
          "text": [
            "[150 400]\n",
            "(2, 2)\n",
            "(2,)\n",
            "550\n",
            "[[150 400]\n",
            " [300 650]]\n",
            "(2, 2)\n",
            "4\n",
            "2\n"
          ]
        }
      ]
    },
    {
      "cell_type": "code",
      "source": [
        "A = np.array([[1, 2], [3, 4]]) \n",
        "B = np.array([[5, 6], [7, 8]])"
      ],
      "metadata": {
        "id": "BKjhNANlaRW8"
      },
      "execution_count": null,
      "outputs": []
    },
    {
      "cell_type": "code",
      "source": [
        "np.dot(A,B)"
      ],
      "metadata": {
        "colab": {
          "base_uri": "https://localhost:8080/"
        },
        "id": "3K_HMcYMawoN",
        "outputId": "66312d41-27a1-4a86-8c17-f432da8ffc47"
      },
      "execution_count": null,
      "outputs": [
        {
          "output_type": "execute_result",
          "data": {
            "text/plain": [
              "array([[19, 22],\n",
              "       [43, 50]])"
            ]
          },
          "metadata": {},
          "execution_count": 72
        }
      ]
    },
    {
      "cell_type": "code",
      "source": [
        "A.dot(B)"
      ],
      "metadata": {
        "colab": {
          "base_uri": "https://localhost:8080/"
        },
        "id": "GYfeYRzIa1VH",
        "outputId": "da745b37-4ab3-44ef-c87b-f5df6242a2e5"
      },
      "execution_count": null,
      "outputs": [
        {
          "output_type": "execute_result",
          "data": {
            "text/plain": [
              "array([[19, 22],\n",
              "       [43, 50]])"
            ]
          },
          "metadata": {},
          "execution_count": 73
        }
      ]
    },
    {
      "cell_type": "code",
      "source": [
        "A@B"
      ],
      "metadata": {
        "colab": {
          "base_uri": "https://localhost:8080/"
        },
        "id": "c9X2b6zKa5my",
        "outputId": "ec997648-ea56-47a4-bd94-768303b389dd"
      },
      "execution_count": null,
      "outputs": [
        {
          "output_type": "execute_result",
          "data": {
            "text/plain": [
              "array([[19, 22],\n",
              "       [43, 50]])"
            ]
          },
          "metadata": {},
          "execution_count": 74
        }
      ]
    },
    {
      "cell_type": "code",
      "source": [
        "a = np.array([1, 2, 3])\n",
        "b = np.array([4, 5, 6])\n",
        "print(np.linalg.norm(a)) # ノルム: 3.7416573867739413\n",
        "print(np.cross(a, b)) # 外積　[-3,  6, -3]\n"
      ],
      "metadata": {
        "colab": {
          "base_uri": "https://localhost:8080/"
        },
        "id": "bD7UcyAkb0xQ",
        "outputId": "43522f57-4a25-4b59-b570-61f77a9a12d5"
      },
      "execution_count": null,
      "outputs": [
        {
          "output_type": "stream",
          "name": "stdout",
          "text": [
            "3.7416573867739413\n",
            "[-3  6 -3]\n"
          ]
        }
      ]
    },
    {
      "cell_type": "code",
      "source": [
        "A = np.array([2,1,0]) \n",
        "B = np.array([1,3,0])"
      ],
      "metadata": {
        "id": "VZKVNwDLbwxU"
      },
      "execution_count": null,
      "outputs": []
    },
    {
      "cell_type": "code",
      "source": [
        "print(np.linalg.norm(A))\n",
        "print(np.linalg.norm(B))"
      ],
      "metadata": {
        "colab": {
          "base_uri": "https://localhost:8080/"
        },
        "id": "iawiP_1ccXyM",
        "outputId": "d648307b-4402-415a-a56d-576b67a276ac"
      },
      "execution_count": null,
      "outputs": [
        {
          "output_type": "stream",
          "name": "stdout",
          "text": [
            "2.23606797749979\n",
            "3.1622776601683795\n"
          ]
        }
      ]
    },
    {
      "cell_type": "code",
      "source": [
        "np.inner(A,B)"
      ],
      "metadata": {
        "colab": {
          "base_uri": "https://localhost:8080/"
        },
        "id": "lRt5ojdScK_S",
        "outputId": "40ca143a-f748-43ca-ab4c-7d83f31e241f"
      },
      "execution_count": null,
      "outputs": [
        {
          "output_type": "execute_result",
          "data": {
            "text/plain": [
              "5"
            ]
          },
          "metadata": {},
          "execution_count": 77
        }
      ]
    },
    {
      "cell_type": "code",
      "source": [
        "np.cross(A,B)"
      ],
      "metadata": {
        "colab": {
          "base_uri": "https://localhost:8080/"
        },
        "id": "z_v0stoHcip1",
        "outputId": "b0eecd44-e179-4526-a207-2875cf31fdf2"
      },
      "execution_count": null,
      "outputs": [
        {
          "output_type": "execute_result",
          "data": {
            "text/plain": [
              "array([0, 0, 5])"
            ]
          },
          "metadata": {},
          "execution_count": 79
        }
      ]
    },
    {
      "cell_type": "code",
      "source": [
        "A = np.array([[1,3],[4,2]]) \n",
        "l ,x =np.linalg.eig(A)\n",
        "print(l)\n",
        "print(x)"
      ],
      "metadata": {
        "colab": {
          "base_uri": "https://localhost:8080/"
        },
        "id": "87itEQkscvaY",
        "outputId": "7bbf042e-33ec-4921-fe9e-6e4f4207a0b1"
      },
      "execution_count": null,
      "outputs": [
        {
          "output_type": "stream",
          "name": "stdout",
          "text": [
            "[-2.  5.]\n",
            "[[-0.707 -0.6  ]\n",
            " [ 0.707 -0.8  ]]\n"
          ]
        }
      ]
    },
    {
      "cell_type": "code",
      "source": [
        "A = np.array([[2,5],[1,3]]) \n",
        "np.linalg.det(A)"
      ],
      "metadata": {
        "colab": {
          "base_uri": "https://localhost:8080/"
        },
        "id": "0Acp_pKAdWq4",
        "outputId": "36b6814d-4ff3-4bc9-8156-5606419d3548"
      },
      "execution_count": null,
      "outputs": [
        {
          "output_type": "execute_result",
          "data": {
            "text/plain": [
              "1.0"
            ]
          },
          "metadata": {},
          "execution_count": 82
        }
      ]
    },
    {
      "cell_type": "code",
      "source": [
        "A = np.array([[2,5,3,7],[1,4,5,3],[8,2,4,9],[2,1,4,2]]) \n",
        "np.linalg.det(A)"
      ],
      "metadata": {
        "colab": {
          "base_uri": "https://localhost:8080/"
        },
        "id": "uKVi3FDddvdG",
        "outputId": "c96c92ef-ab7c-45e2-bf2d-0b1e655a4b92"
      },
      "execution_count": null,
      "outputs": [
        {
          "output_type": "execute_result",
          "data": {
            "text/plain": [
              "128.99999999999997"
            ]
          },
          "metadata": {},
          "execution_count": 83
        }
      ]
    },
    {
      "cell_type": "code",
      "source": [
        "np.random.seed(0)\n",
        "N=300\n",
        "A=np.array(np.random.randint(0,3,(N,N)))\n",
        "B=np.array(np.random.randint(0,3,(N,N)))"
      ],
      "metadata": {
        "id": "GlnfI4gvPr5g"
      },
      "execution_count": null,
      "outputs": []
    },
    {
      "cell_type": "code",
      "source": [
        "C=np.dot(A,B)\n",
        "print(C)"
      ],
      "metadata": {
        "colab": {
          "base_uri": "https://localhost:8080/"
        },
        "id": "9tl93mB8QTDg",
        "outputId": "9a4299e4-5795-45c1-e053-2d3c1b0f44fb"
      },
      "execution_count": null,
      "outputs": [
        {
          "output_type": "stream",
          "name": "stdout",
          "text": [
            "[[332 277 273 ... 297 278 285]\n",
            " [318 278 273 ... 290 273 289]\n",
            " [338 327 286 ... 290 296 317]\n",
            " ...\n",
            " [319 288 254 ... 276 297 276]\n",
            " [325 318 298 ... 277 310 302]\n",
            " [348 330 300 ... 311 335 293]]\n"
          ]
        }
      ]
    },
    {
      "cell_type": "code",
      "source": [
        "C=np.array([[0]*N for x in range(N)])\n",
        "for i in range(N):\n",
        "  for j in range(N):\n",
        "    for k in range(N):\n",
        "\t    C[i][j]+=A[i][k]*B[k][j]\n",
        "print(C)"
      ],
      "metadata": {
        "colab": {
          "base_uri": "https://localhost:8080/"
        },
        "id": "Xhk83nQGPk_o",
        "outputId": "2787280c-4f21-43bc-b7d1-cc5c1813f111"
      },
      "execution_count": null,
      "outputs": [
        {
          "output_type": "stream",
          "name": "stdout",
          "text": [
            "[[332 277 273 ... 297 278 285]\n",
            " [318 278 273 ... 290 273 289]\n",
            " [338 327 286 ... 290 296 317]\n",
            " ...\n",
            " [319 288 254 ... 276 297 276]\n",
            " [325 318 298 ... 277 310 302]\n",
            " [348 330 300 ... 311 335 293]]\n"
          ]
        }
      ]
    },
    {
      "cell_type": "markdown",
      "source": [
        "10.8"
      ],
      "metadata": {
        "id": "mQZGHmrzeg_c"
      }
    },
    {
      "cell_type": "code",
      "source": [
        "#逆行列を持つ例\n",
        "A=np.array([[2, 3],[2, 5]])\n",
        "v=np.array([5, 7])\n",
        "if np.linalg.det(A) !=0:  #4, 0ではないのでAは逆行列を持つ。\n",
        "  B=np.linalg.inv(A)\n",
        "  print(np.dot(B,v)) #[1, 1]\n",
        "else:\n",
        "  print('解は存在しません')"
      ],
      "metadata": {
        "colab": {
          "base_uri": "https://localhost:8080/"
        },
        "id": "A4_suAxnegZb",
        "outputId": "d00051b0-533e-4eab-b744-28978a46162f"
      },
      "execution_count": null,
      "outputs": [
        {
          "output_type": "stream",
          "name": "stdout",
          "text": [
            "[1. 1.]\n"
          ]
        }
      ]
    },
    {
      "cell_type": "markdown",
      "source": [
        "10.9"
      ],
      "metadata": {
        "id": "Ry4pVnSfeptu"
      }
    },
    {
      "cell_type": "code",
      "source": [
        "x=np.random.normal(0.5,1, (2,1)) # 平均0.5, 分散1の乱数を成分に持つ2次元ベクトル\n",
        "print(x)\n",
        "W=np.array([1, 1]) # 重み\n",
        "b=np.array([-1.1]) # バイアス\n",
        "y=np.dot(W,x)+b # x[1]=-x[0]+1.1の直線で入力ベクトルを分類\n",
        "\n",
        "if y>=0: #分類器\n",
        "  print('クラスA')\n",
        "else:\n",
        "  print('クラスB')"
      ],
      "metadata": {
        "colab": {
          "base_uri": "https://localhost:8080/"
        },
        "id": "pKuZL26WepTZ",
        "outputId": "d8174ee8-237d-454d-c860-510260fbb068"
      },
      "execution_count": null,
      "outputs": [
        {
          "output_type": "stream",
          "name": "stdout",
          "text": [
            "[[0.597]\n",
            " [0.566]]\n",
            "クラスA\n"
          ]
        }
      ]
    },
    {
      "cell_type": "code",
      "source": [
        "import numpy as np\n",
        "import matplotlib.pyplot as plt\n",
        "\n",
        "W=np.array([1, 1]) #重み\n",
        "b=np.array([-1.1]) #バイアス\n",
        "\n",
        "for i in range(20):\n",
        "    x=np.random.normal(0.5, 1, (2,1)) #平均0.5, 分散1の乱数を成分に持つ2次元ベクトル\n",
        "    y=np.dot(W, x)+b # x[1]=-x[0]+1.1の直線で入力ベクトルを分類\n",
        "    #print(x, )\n",
        "    if y>=0: #分類器\n",
        "        c = 'red'\n",
        "    else:\n",
        "        c = 'blue'\n",
        "    plt.scatter(x[0], x[1], color=c) #入力ベクトル\n",
        "\n",
        "X0 = np.array([-3, 3]) \n",
        "#X0 = np.linspace(-3, 3, 100) # x[0] ~ x[1]の区間を100等分した数列を作る\n",
        "plt.plot(X0, -X0+1.1) #分類直線\n",
        "plt.xlabel('$x[0]$')\n",
        "plt.ylabel('$x[1]$')\n",
        "plt.show()"
      ],
      "metadata": {
        "colab": {
          "base_uri": "https://localhost:8080/",
          "height": 283
        },
        "id": "F7OYG9s9e6pu",
        "outputId": "c9e2c6f9-f5b9-47ce-92e1-c5b61808ca54"
      },
      "execution_count": null,
      "outputs": [
        {
          "output_type": "display_data",
          "data": {
            "text/plain": [
              "<Figure size 432x288 with 1 Axes>"
            ],
            "image/png": "[encoded data removed]"
          },
          "metadata": {
            "needs_background": "light"
          }
        }
      ]
    },
    {
      "cell_type": "markdown",
      "source": [],
      "metadata": {
        "id": "Y89mFYrDRKaX"
      }
    }
  ]
}