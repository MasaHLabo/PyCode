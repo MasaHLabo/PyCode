{
  "nbformat": 4,
  "nbformat_minor": 0,
  "metadata": {
    "colab": {
      "provenance": [],
      "mount_file_id": "1YSW-J95-u0gRZQpsrjnkQz6kqNLM9pnE",
      "authorship_tag": "ABX9TyMPFwhgUcsYlub+NyoepBUq",
      "include_colab_link": true
    },
    "kernelspec": {
      "name": "python3",
      "display_name": "Python 3"
    },
    "language_info": {
      "name": "python"
    }
  },
  "cells": [
    {
      "cell_type": "markdown",
      "metadata": {
        "id": "view-in-github",
        "colab_type": "text"
      },
      "source": [
        "<a href=\"https://colab.research.google.com/github/MasaHLabo/PyCode/blob/main/%E3%83%95%E3%82%A1%E3%82%A4%E3%83%AB%E3%81%AE%E5%85%A5%E5%87%BA%E5%8A%9B.ipynb\" target=\"_parent\"><img src=\"https://colab.research.google.com/assets/colab-badge.svg\" alt=\"Open In Colab\"/></a>"
      ]
    },
    {
      "cell_type": "markdown",
      "source": [
        "# ファイルの入出力\n",
        "GoogleColabでは，PCのローカルにあるファイルを直接利用することができないため，GoogleDriveに置いて使う必要がある．\n",
        "\n",
        "その手順は（簡易的な方法もあるが今後のため一般的なものを）\n",
        "\n",
        "1.   GoogleColabで，GoogleDriveをマウント\n",
        "2.   GoogleDriveに対象ファイルをアップロード\n",
        "1.   GoogleColabで対象ファイルを読み込んで利用\n",
        "\n",
        "\n",
        "\n",
        "\n"
      ],
      "metadata": {
        "id": "2UPqnBM5oiCM"
      }
    },
    {
      "cell_type": "markdown",
      "source": [
        "１．GoogleColabで，GoogleDriveをマウント"
      ],
      "metadata": {
        "id": "zYthlDXrp1G1"
      }
    },
    {
      "cell_type": "code",
      "source": [
        "from google.colab import drive\n",
        "drive.mount('/content/drive')"
      ],
      "metadata": {
        "colab": {
          "base_uri": "https://localhost:8080/"
        },
        "id": "ZU8ODJ6pa9NU",
        "outputId": "7f2b4f62-9d71-4ca7-fba6-db8a71fea5ae"
      },
      "execution_count": 1,
      "outputs": [
        {
          "output_type": "stream",
          "name": "stdout",
          "text": [
            "Drive already mounted at /content/drive; to attempt to forcibly remount, call drive.mount(\"/content/drive\", force_remount=True).\n"
          ]
        }
      ]
    },
    {
      "cell_type": "markdown",
      "source": [
        "GoogleDriveにアクセスできるようになる\n",
        "GoogleColabのノート左側のファイルのところにdriveがありその下にMyDriveとして登録される"
      ],
      "metadata": {
        "id": "IRaotxndp488"
      }
    },
    {
      "cell_type": "markdown",
      "source": [
        "２．GoogleDriveに対象ファイルをアップロード"
      ],
      "metadata": {
        "id": "N1axqW1vr4cR"
      }
    },
    {
      "cell_type": "markdown",
      "source": [
        "対象のファイルをGoogle Driveにアップロードします．\n",
        "\n",
        "Google Driveのページからアップロードすることもできます．\n",
        "\n",
        "授業資料の図のように、Colabからもアップロード出来ます．\n",
        "\n",
        "講義資料ではMy Driveに、sample.txtとsample2.txtを登録しています．"
      ],
      "metadata": {
        "id": "70qPeK6SZaA1"
      }
    },
    {
      "cell_type": "markdown",
      "source": [
        "３．GoogleColabで対象ファイルを読み込んで利用(2.1)"
      ],
      "metadata": {
        "id": "S-EkTYhYuGQc"
      }
    },
    {
      "cell_type": "markdown",
      "source": [
        "ファイルへのアクセス方法（パス）は，/content/drive/MyDrive/ファイル名　になります"
      ],
      "metadata": {
        "id": "IaTUqiumuJTi"
      }
    },
    {
      "cell_type": "code",
      "execution_count": null,
      "metadata": {
        "id": "S-BjzXLnYUdp"
      },
      "outputs": [],
      "source": [
        "file=open('/content/drive/MyDrive/sample.txt', 'r');\n",
        "#print(type(file)) #<class '_io.TextIOWrapper'>\n",
        "text=file.read()\n",
        "print(text)"
      ]
    },
    {
      "cell_type": "markdown",
      "source": [
        "毎回パスを全部書いていたら面倒な場合は，パスを変数に入れておくと楽かも"
      ],
      "metadata": {
        "id": "b-c3QLscyIXH"
      }
    },
    {
      "cell_type": "code",
      "source": [
        "path='/content/drive/MyDrive/'"
      ],
      "metadata": {
        "id": "RIlGSgZqZ7KM"
      },
      "execution_count": 3,
      "outputs": []
    },
    {
      "cell_type": "code",
      "source": [
        "file=open(path+'sample.txt', 'r');\n",
        "text=file.read()\n",
        "print(text)\n",
        "#print(type(text)) #<class 'str'>"
      ],
      "metadata": {
        "id": "fDr__PZLyVzr"
      },
      "execution_count": null,
      "outputs": []
    },
    {
      "cell_type": "code",
      "source": [
        "print(type(file))                #<class '_io.TextIOWrapper'>\n",
        "print(type(text))               #<class 'str'>text=file.read()"
      ],
      "metadata": {
        "id": "4ADJoM0uvbO8"
      },
      "execution_count": null,
      "outputs": []
    },
    {
      "cell_type": "markdown",
      "source": [
        "文字列として読み込まれていることに注意する！"
      ],
      "metadata": {
        "id": "qfbhxBcR_zna"
      }
    },
    {
      "cell_type": "markdown",
      "source": [
        "C言語などで読み込みの際にファイルの有無などエラー対策していたので，それにあわせた形①"
      ],
      "metadata": {
        "id": "ZEIVN7OmCSIq"
      }
    },
    {
      "cell_type": "code",
      "source": [
        "path='/content/drive/MyDrive/'\n",
        "file_name = 'sample.txt'\n",
        "\n",
        "try:\n",
        "    file = open(path+file_name)\n",
        "    text = file.read()\n",
        "    print(text)\n",
        "except Exception as e:\n",
        "    print(e)\n",
        "finally:\n",
        "    file.close()"
      ],
      "metadata": {
        "id": "UJjLQnMwBene"
      },
      "execution_count": null,
      "outputs": []
    },
    {
      "cell_type": "code",
      "source": [
        "path='/content/drive/MyDrive/'\n",
        "file_name = 'sample3.txt' #ないものを宣言してみる\n",
        "\n",
        "try:\n",
        "    file = open(path+file_name)\n",
        "    text = file.read()\n",
        "    print(text)\n",
        "except Exception as e:\n",
        "    print(e)\n",
        "finally:\n",
        "    file.close()"
      ],
      "metadata": {
        "id": "oeBumKEuo397"
      },
      "execution_count": null,
      "outputs": []
    },
    {
      "cell_type": "markdown",
      "source": [
        "2.2 １行ずつ読み込む（一行ずつ文字列として取得）"
      ],
      "metadata": {
        "id": "OkcE1BJJ2l9e"
      }
    },
    {
      "cell_type": "code",
      "source": [
        "file=open('/content/drive/MyDrive/sample.txt', 'r');\n",
        "for line in file:   #改行も含まれて読み込まれる\n",
        "  print(line)     #表示は１行飛ばしとなる"
      ],
      "metadata": {
        "id": "3nWNS_W1DOBE"
      },
      "execution_count": null,
      "outputs": []
    },
    {
      "cell_type": "markdown",
      "source": [
        "rstripを用いる"
      ],
      "metadata": {
        "id": "qV6TkXcBuQml"
      }
    },
    {
      "cell_type": "code",
      "source": [
        "file=open('/content/drive/MyDrive/sample.txt', 'r');\n",
        "for line in file:\n",
        "  line=line.rstrip()  #最後の改行を削除する命令\n",
        "  print(line)"
      ],
      "metadata": {
        "id": "AMQnZtfsyhCa"
      },
      "execution_count": null,
      "outputs": []
    },
    {
      "cell_type": "code",
      "source": [
        "file=open(path+'sample.txt', 'r');\n",
        "for line in file:\n",
        "  line=line.rstrip()\n",
        "  print(line)"
      ],
      "metadata": {
        "id": "W08A2gvV3JCB"
      },
      "execution_count": null,
      "outputs": []
    },
    {
      "cell_type": "markdown",
      "source": [
        "課題１：本当に１行ずつ読み込まれたのか確認してみよう！"
      ],
      "metadata": {
        "id": "oLFI1tCk3lZT"
      }
    },
    {
      "cell_type": "code",
      "source": [
        "file=open(path+'sample.txt', 'r');\n",
        "i=1\n",
        "for line in file:\n",
        "  line=line.rstrip()\n",
        "  print(line)\n",
        "  print('読み込み'+str(i)+'回目')\n",
        "  i+=1"
      ],
      "metadata": {
        "id": "LUlteKgP3fHf"
      },
      "execution_count": null,
      "outputs": []
    },
    {
      "cell_type": "code",
      "source": [
        "file=open(path+'sample.txt', 'r');\n",
        "count=0\n",
        "for line in file:  #ここでsample.txtの１行目がlineに読み込まれる\n",
        "  line=line.rstrip() #読み込まれた１行目の右の改行部分の削除\n",
        "  #print(line) #表示すると　12,35　が出てくる\n",
        "  for i in file: #ここで１行目はもう読まれてるので\n",
        "              #２行目の分が i に読み込まれる\n",
        "    print(i)    #表示このループ１回目　45,50　が表示される\n",
        "    count+=1\n",
        "    print('読み込み',count,'回目')"
      ],
      "metadata": {
        "id": "jY-_LeKY2DEv"
      },
      "execution_count": null,
      "outputs": []
    },
    {
      "cell_type": "code",
      "source": [
        "file=open(path+'sample.txt', 'r');\n",
        "count=0\n",
        "for line in file:  #ここでsample.txtの１行目がlineに読み込まれる\n",
        "  line=line.rstrip() #読み込まれた１行目の右の改行部分の削除\n",
        "\n",
        "  #for i in file:\n",
        "\n",
        "  print(line)    #読み込んだ１行目の　表示\n",
        "  count+=1\n",
        "  print('読み込み',count,'回目')\n",
        "\n",
        "  #4-10行を繰り返すことでsample.txtの内容が繰り返されて表示できる"
      ],
      "metadata": {
        "id": "rvvafikH6xDu"
      },
      "execution_count": null,
      "outputs": []
    },
    {
      "cell_type": "markdown",
      "source": [
        "文字削除別方法まとめ"
      ],
      "metadata": {
        "id": "t5iem7RbxUer"
      }
    },
    {
      "cell_type": "code",
      "source": [
        "text = \" Hello! Python! \""
      ],
      "metadata": {
        "id": "5qSrq3MKxSpz"
      },
      "execution_count": 14,
      "outputs": []
    },
    {
      "cell_type": "code",
      "source": [
        "print(\"'\" + text + \"'\")\n",
        "print(\"'\" + text.strip() + \"'\")\n",
        "print(\"'\" + text.rstrip() + \"'\")\n",
        "print(\"'\" + text.lstrip() + \"'\")"
      ],
      "metadata": {
        "id": "4kh9gmt5xdov"
      },
      "execution_count": null,
      "outputs": []
    },
    {
      "cell_type": "code",
      "source": [
        "text = \" Hello! Python! \"\n",
        "text.strip(\" H\")"
      ],
      "metadata": {
        "id": "C9NBP97hz76T"
      },
      "execution_count": null,
      "outputs": []
    },
    {
      "cell_type": "code",
      "source": [
        "text = \" Hello! Python! \"\n",
        "text.strip(\" He\")"
      ],
      "metadata": {
        "id": "Y6BnWtBnyCSd"
      },
      "execution_count": null,
      "outputs": []
    },
    {
      "cell_type": "code",
      "source": [
        "text = \" Hello! Python! \"\n",
        "text.strip(\" Hel\")"
      ],
      "metadata": {
        "id": "g2WmBYrw0JJo"
      },
      "execution_count": null,
      "outputs": []
    },
    {
      "cell_type": "code",
      "source": [
        "text = \" Hello! Python! \"\n",
        "text.strip(\" Hel!n\")"
      ],
      "metadata": {
        "id": "sYz1M_6E16nn"
      },
      "execution_count": null,
      "outputs": []
    },
    {
      "cell_type": "code",
      "source": [
        "file=open('/content/drive/MyDrive/sample.txt', 'r');\n",
        "line=file.readline()\n",
        "for lines in line:\n",
        "  print(lines)"
      ],
      "metadata": {
        "id": "p6lwNlZlEYCk"
      },
      "execution_count": null,
      "outputs": []
    },
    {
      "cell_type": "markdown",
      "source": [
        "2.3 ファイルを閉じる　開いたたら閉じるを忘れずに！"
      ],
      "metadata": {
        "id": "vr-5OZQ-6d67"
      }
    },
    {
      "cell_type": "code",
      "source": [
        "file=open(path+'sample.txt', 'r');\n",
        "for line in file:\n",
        "  line=line.rstrip()\n",
        "  print(line)\n",
        "file.close()"
      ],
      "metadata": {
        "id": "0c0dPP9J4BWr"
      },
      "execution_count": null,
      "outputs": []
    },
    {
      "cell_type": "markdown",
      "source": [
        "2.4 ファイルが存在しない場合"
      ],
      "metadata": {
        "id": "w77qHRFC6y36"
      }
    },
    {
      "cell_type": "code",
      "source": [
        "file=open(path+'abc.txt', 'r');\n",
        "text=file.read()\n",
        "print(text)"
      ],
      "metadata": {
        "id": "CuTx5eo36rvj"
      },
      "execution_count": null,
      "outputs": []
    },
    {
      "cell_type": "code",
      "source": [
        "import os\n",
        "\n",
        "if os.path.exists('aho.txt'):\n",
        "    file = open(file, 'r') # ファイルを開く\n",
        "    line = file.read()\n",
        "    print(line)\n",
        "    file.close()\n",
        "else:\n",
        "    print('ファイルがありません')\n",
        "print('終了')"
      ],
      "metadata": {
        "id": "_Hjk1hYH6_KO"
      },
      "execution_count": null,
      "outputs": []
    },
    {
      "cell_type": "markdown",
      "source": [
        "2.5　Colabではグラフィックの機能で使えないものがある"
      ],
      "metadata": {
        "id": "bC7vXNl05rHn"
      }
    },
    {
      "cell_type": "code",
      "source": [
        "import tkinter as tk\n",
        "\n",
        "win = tk.Tk() # ウィンドウの作成\n",
        "c = tk.Canvas(win) # キャンバスの生成\n",
        "c.place(x=0, y=0) # キャンバスの配置\n",
        "\n",
        "f = open(path+'sample.txt', 'r'); # ファイルを開く\n",
        "for line in f: # ファイルオブジェクトから1行取り出す\n",
        "    xy = line.split(',') # カンマ(,)で分割する\n",
        "    x = int(xy[0])\n",
        "    y = int(xy[1])\n",
        "    c.create_oval(x, y, x + 10, y + 10, fill = 'blue') # 円の描画\n",
        "win.mainloop()"
      ],
      "metadata": {
        "id": "daF9IcxD9cLz"
      },
      "execution_count": null,
      "outputs": []
    },
    {
      "cell_type": "code",
      "source": [
        "import tkinter as tk\n",
        "\n",
        "win = tk.Tk() # ウィンドウの作成\n",
        "win.mainloop()"
      ],
      "metadata": {
        "id": "sU7-SveuKPco"
      },
      "execution_count": null,
      "outputs": []
    },
    {
      "cell_type": "markdown",
      "source": [
        "2.6　ファイルの書き込み"
      ],
      "metadata": {
        "id": "wmGm-X-Y5-3K"
      }
    },
    {
      "cell_type": "code",
      "source": [
        "file=open(path+'sample2.txt', 'w');\n",
        "file.write('The quick brow fox\\n')\n",
        "file.close()"
      ],
      "metadata": {
        "id": "fshQUeUwK_rt"
      },
      "execution_count": 26,
      "outputs": []
    },
    {
      "cell_type": "code",
      "source": [
        "file=open(path+'sample2.txt', 'w');\n",
        "file.write('The quick brow fox\\n')\n",
        "file.write('jumped over the lazy dogs.')\n",
        "file.close()"
      ],
      "metadata": {
        "id": "_yN6UgrEDTkQ"
      },
      "execution_count": 27,
      "outputs": []
    },
    {
      "cell_type": "markdown",
      "source": [
        "2.7 追記"
      ],
      "metadata": {
        "id": "lqUEkifSIoxQ"
      }
    },
    {
      "cell_type": "code",
      "source": [
        "file=open(path+'sample2.txt', 'a');\n",
        "file.write('The quick brow fox\\n')\n",
        "file.write('jumped over the lazy dogs.')\n",
        "file.close()"
      ],
      "metadata": {
        "id": "urqrvB7NHcV-"
      },
      "execution_count": 28,
      "outputs": []
    },
    {
      "cell_type": "markdown",
      "source": [
        "2.8　Withを用いたファイル処理"
      ],
      "metadata": {
        "id": "774Hr71FJ0RZ"
      }
    },
    {
      "cell_type": "code",
      "source": [
        "with open(path+'sample2.txt', 'w') as file:\n",
        "  file.write('The quick brow fox\\n')\n",
        "  file.write('jumped over the lazy dogs.')"
      ],
      "metadata": {
        "id": "oaaTBpRyIl94"
      },
      "execution_count": 29,
      "outputs": []
    },
    {
      "cell_type": "code",
      "source": [
        "with open(path+'sample.txt', 'r') as file1:\n",
        "  with open(path+'sample4.txt', 'w') as file2:\n",
        "    file2.write(file1.read())"
      ],
      "metadata": {
        "id": "vmyP5SteKlaB"
      },
      "execution_count": 30,
      "outputs": []
    },
    {
      "cell_type": "code",
      "source": [
        "file = open(path+'text.txt', 'r'); # ファイルを開く\n",
        "text = file.read() # 内容を読み込む\n",
        "print(text) #　内容の表示"
      ],
      "metadata": {
        "id": "efPFEIIoLNjG"
      },
      "execution_count": null,
      "outputs": []
    },
    {
      "cell_type": "markdown",
      "source": [
        "問題"
      ],
      "metadata": {
        "id": "z8IrqfGC71BC"
      }
    },
    {
      "cell_type": "code",
      "source": [
        "from google.colab import drive\n",
        "drive.mount('/content/drive')"
      ],
      "metadata": {
        "id": "Eiigxh3s8xv3"
      },
      "execution_count": null,
      "outputs": []
    },
    {
      "cell_type": "code",
      "source": [
        "path='/content/drive/MyDrive/'"
      ],
      "metadata": {
        "id": "B7k_tcFO9FOM"
      },
      "execution_count": 33,
      "outputs": []
    },
    {
      "cell_type": "code",
      "source": [
        "file1=open(path+'sample.txt', 'r');\n",
        "file2=open(path+'sample2.txt', 'w');\n",
        "\n",
        "for line in file1:\n",
        "  #line=line.rstrip()\n",
        "  #print(line)\n",
        "  file2.write(line)\n",
        "\n",
        "\n",
        "file1.close()\n",
        "file2.close()"
      ],
      "metadata": {
        "id": "iheFq6vP73LQ"
      },
      "execution_count": 34,
      "outputs": []
    },
    {
      "cell_type": "code",
      "source": [
        "file=open(path+'sample.txt', 'r');\n",
        "for line in file:\n",
        "  line=line.rstrip()\n",
        "  print(line)\n",
        "file.close()"
      ],
      "metadata": {
        "id": "4YEpA1KE9fVf"
      },
      "execution_count": null,
      "outputs": []
    },
    {
      "cell_type": "code",
      "source": [
        "file=open(path+'sample2.txt', 'r');\n",
        "for line in file:\n",
        "  line=line.rstrip()\n",
        "  print(line)\n",
        "file.close()"
      ],
      "metadata": {
        "id": "dfLteTAR9m7v"
      },
      "execution_count": null,
      "outputs": []
    },
    {
      "cell_type": "code",
      "source": [],
      "metadata": {
        "id": "pZTAqBy_-Ash"
      },
      "execution_count": null,
      "outputs": []
    },
    {
      "cell_type": "code",
      "source": [
        "with open(path+'sample.txt', 'r') as file1:\n",
        "  with open(path+'sample2.txt', 'w') as file2:\n",
        "    file2.write(file1.read())\n",
        "    file2.write('owari')"
      ],
      "metadata": {
        "id": "txwQQG03-BK1"
      },
      "execution_count": 37,
      "outputs": []
    },
    {
      "cell_type": "code",
      "source": [
        "file=open(path+'sample2.txt', 'r');\n",
        "for line in file:\n",
        "  line=line.rstrip()\n",
        "  print(line)\n",
        "file.close()"
      ],
      "metadata": {
        "id": "-Zl3HTgF-Grg"
      },
      "execution_count": null,
      "outputs": []
    },
    {
      "cell_type": "markdown",
      "source": [
        "2.9　日本語コード"
      ],
      "metadata": {
        "id": "suoDoTU_6Enk"
      }
    },
    {
      "cell_type": "code",
      "source": [
        "file = open(path+'text2.txt', 'r',encoding='SJIS'); # ファイルを開く\n",
        "text = file.read() # 内容を読み込む\n",
        "print(text) #　内容の表示"
      ],
      "metadata": {
        "id": "6dSf6u_i8QRH"
      },
      "execution_count": null,
      "outputs": []
    },
    {
      "cell_type": "markdown",
      "source": [
        "2.10　その他の操作"
      ],
      "metadata": {
        "id": "5tI3LaAz6L1q"
      }
    },
    {
      "cell_type": "code",
      "source": [
        "import os"
      ],
      "metadata": {
        "id": "_As9JtBnOvN_"
      },
      "execution_count": 40,
      "outputs": []
    },
    {
      "cell_type": "code",
      "source": [
        "p=os.path.abspath('sample.txt')\n",
        "print(p)"
      ],
      "metadata": {
        "id": "0_Y_Ref56W6x"
      },
      "execution_count": null,
      "outputs": []
    },
    {
      "cell_type": "code",
      "source": [
        "p=os.path.split('/content/sample.txt')\n",
        "print(p)"
      ],
      "metadata": {
        "id": "acaP1In16nln"
      },
      "execution_count": null,
      "outputs": []
    },
    {
      "cell_type": "code",
      "source": [
        "p=os.path.join('/content', 'sample.txt')\n",
        "print(p)"
      ],
      "metadata": {
        "id": "6Dr_KM9F7_9q"
      },
      "execution_count": null,
      "outputs": []
    },
    {
      "cell_type": "code",
      "source": [],
      "metadata": {
        "id": "eO-ukqDh8Ov6"
      },
      "execution_count": null,
      "outputs": []
    },
    {
      "cell_type": "code",
      "source": [
        "file=open(path+'sample0.txt', 'r');\n",
        "x=[];\n",
        "n=0;\n",
        "for line in file:\n",
        "  #y=file.read()\n",
        "  x.append=int(line.rstrip())\n",
        "  #x[n]=int(y)\n",
        "  print(x)\n",
        "file.close()\n",
        "print(x)"
      ],
      "metadata": {
        "id": "30UuidEo5Y_n"
      },
      "execution_count": null,
      "outputs": []
    }
  ]
}