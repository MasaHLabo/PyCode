{
  "cells": [
    {
      "cell_type": "markdown",
      "metadata": {
        "id": "view-in-github",
        "colab_type": "text"
      },
      "source": [
        "<a href=\"https://colab.research.google.com/github/MasaHLabo/PyCode/blob/main/Pro10_matplotlib.ipynb\" target=\"_parent\"><img src=\"https://colab.research.google.com/assets/colab-badge.svg\" alt=\"Open In Colab\"/></a>"
      ]
    },
    {
      "cell_type": "markdown",
      "metadata": {
        "id": "JqqFeylhx2NH"
      },
      "source": [
        "# Pythonを使用したグラフ作成入門\n",
        "\n",
        "ここでは，グラフ描画ライブラリmatplotlibを使ったグラフ作成の基礎について学んでいきます．  \n",
        "このホームページは[Colaboratory](https://colab.research.google.com/notebooks/intro.ipynb?hl=ja)と呼ばれるGoogleが提供するサービスで，  \n",
        "Googleが提供するサーバを使って自由にPythonプログラムを記述・実行することができます．  \n",
        "Webブラウザさえあればよいため，環境構築の手間がなく，  \n",
        "PCのスペックが低くてもネット環境さえあれば本格的なPythonプログラムを作成して実行することができます．"
      ]
    },
    {
      "cell_type": "markdown",
      "source": [
        "Pythonのプログラムで計算した結果を直接プログラム内で簡単にグラフ化し表示するライブラリを利用してみます．"
      ],
      "metadata": {
        "id": "ZXZKeAzJJWBY"
      }
    },
    {
      "cell_type": "markdown",
      "source": [
        "まずは教科書にそって書いてみましょう．"
      ],
      "metadata": {
        "id": "xZBBupK-JGe3"
      }
    },
    {
      "cell_type": "markdown",
      "metadata": {
        "id": "guovU0m1JYDq"
      },
      "source": [
        "## 必要なライブラリのインポート\n",
        "matplotlibのライブラリを使うために，\n",
        "以下のようなコードを書いてimportを行います．  \n",
        "matplotlib.pyplotはグラフ描写用のライブラリです．  \n",
        "このように書くと，matplotlib.pyplotをpltとして利用することができるようになります．\n",
        "\n",
        "__プログラムが書いてある灰色の箱（セル）をクリックして選択し，SHIFTキーを押しながらENTERキーを押してください．__"
      ]
    },
    {
      "cell_type": "code",
      "execution_count": null,
      "metadata": {
        "id": "DguKgz-KKcaJ"
      },
      "outputs": [],
      "source": [
        "import matplotlib.pyplot as plt"
      ]
    },
    {
      "cell_type": "markdown",
      "source": [
        "4.1　折れ線グラフを書いてみましょう\n",
        "\n",
        "教科書と講義資料のデータはあえて変更しています。好きな方で作成してください。"
      ],
      "metadata": {
        "id": "1lLns95fKnaI"
      }
    },
    {
      "cell_type": "markdown",
      "metadata": {
        "id": "OFCCFj-tLDlb"
      },
      "source": [
        "`plt.plot()``メソッド(関数)を以下のように使い，その後に``plt.show()``メソッドを実行すると表示されます．"
      ]
    },
    {
      "cell_type": "code",
      "source": [
        "data = [ 6,10, 4.5, 0.2, 5, 7, 4, 8 ] # (1) データを用意する\n",
        "plt.plot(data)                        # (2) dataをプロットする\n",
        "plt.show()                            # (3)プロットを表示する"
      ],
      "metadata": {
        "colab": {
          "base_uri": "https://localhost:8080/",
          "height": 265
        },
        "id": "TElsoPbwa2Ie",
        "outputId": "760319ba-7709-423c-a8ca-f4a0bdcd3757"
      },
      "execution_count": null,
      "outputs": [
        {
          "output_type": "display_data",
          "data": {
            "text/plain": [
              "<Figure size 432x288 with 1 Axes>"
            ],
            "image/png": "[encoded data removed]"
          },
          "metadata": {
            "needs_background": "light"
          }
        }
      ]
    },
    {
      "cell_type": "markdown",
      "source": [
        "matplotlibではプロットと表示は別々に行われることに注意\n",
        "\n",
        "Colab上では教科書図4.4にあるアイコンは出てきません！\n",
        "\n",
        "**描画されたグラフをドラッグしてほかのファイルへコピーできるので便利**"
      ],
      "metadata": {
        "id": "OQomKEcAB_pY"
      }
    },
    {
      "cell_type": "markdown",
      "source": [
        "マーカの表示"
      ],
      "metadata": {
        "id": "U-QWv_xPLjeA"
      }
    },
    {
      "cell_type": "code",
      "source": [
        "plt.plot(data, )  # (2) dataをマーカー\"o\"でプロット\n",
        "plt.show()                  # (3) プロットを表示する"
      ],
      "metadata": {
        "id": "ULBCHYIlbtDp"
      },
      "execution_count": null,
      "outputs": []
    },
    {
      "cell_type": "markdown",
      "metadata": {
        "id": "DJ0XUjBDMCEJ"
      },
      "source": [
        "## グリッド線を引く\n",
        "以下のようにgrid()メソッドを使うとグラフにグリッド線を引くことができます．"
      ]
    },
    {
      "cell_type": "code",
      "source": [
        "plt.plot(data, )  #dataをマーカー\"o\"でプロット\n",
        "             #グリッドの追加\n",
        "plt.show()                  #グラフの表示"
      ],
      "metadata": {
        "id": "4je4LtOlb-83"
      },
      "execution_count": null,
      "outputs": []
    },
    {
      "cell_type": "markdown",
      "metadata": {
        "id": "6GVVMS_nMur4"
      },
      "source": [
        "## タイトル・x軸/y軸ラベルを書く\n",
        "``title(タイトル文字列)``でタイトルを書き込むことができます．  \n",
        "また，\n",
        "``xlabel(x軸名文字列)``でx軸ラベルを，\n",
        "``ylabel(y軸名文字列)``でy軸ラベルを書くことができます"
      ]
    },
    {
      "cell_type": "code",
      "source": [
        "plt.plot(data, )\n",
        "\n",
        "plt.title('Results')\n",
        "plt.\n",
        "plt.\n",
        "plt.show()"
      ],
      "metadata": {
        "id": "PQBIHOTmcGqQ"
      },
      "execution_count": null,
      "outputs": []
    },
    {
      "cell_type": "markdown",
      "metadata": {
        "id": "uEv-6epJx2NQ"
      },
      "source": [
        "## 4.2　複数のデータをひとつのグラフに\n",
        "\n",
        "ここからは複数のデータをプロットしていきましょう．\n"
      ]
    },
    {
      "cell_type": "code",
      "source": [
        "import matplotlib.pyplot as plt\n",
        "\n",
        "x = [10, 20, 30, 40, 50]              #横軸データ\n",
        "y1 = [1.20, 1.61, 1.54, 1.57, 1.69 ]  #縦軸データ1\n",
        "y2 = [1.25, 1.37, 1.28, 1.21, 1.19 ]  #縦軸データ2\n",
        "y3 = [1.22, 1.20, 1.18, 1.13, 1.08 ]  #縦軸データ3\n",
        "\n",
        "plt.plot(x, y1) #横軸をx、縦軸をy1でプロット\n",
        "plt.plot(x, y2) #横軸をx、縦軸をy2でプロット\n",
        "plt.plot(x, y3) #横軸をx、縦軸をy3でプロット\n",
        "\n",
        "plt.show() #グラフの表示"
      ],
      "metadata": {
        "colab": {
          "base_uri": "https://localhost:8080/",
          "height": 265
        },
        "id": "QQ0dhwyGcawO",
        "outputId": "74fadfc7-6fd0-4c7e-8f3a-20a1980a3842"
      },
      "execution_count": null,
      "outputs": [
        {
          "output_type": "display_data",
          "data": {
            "text/plain": [
              "<Figure size 432x288 with 1 Axes>"
            ],
            "image/png": "[encoded data removed]"
          },
          "metadata": {
            "needs_background": "light"
          }
        }
      ]
    },
    {
      "cell_type": "markdown",
      "source": [
        "色やマーカーの指定ほか"
      ],
      "metadata": {
        "id": "gCpzeIfeNz5X"
      }
    },
    {
      "cell_type": "code",
      "source": [
        "plt.plot(x, y1, )\n",
        "plt.plot(x, y2, ) \n",
        "plt.plot(x, y3, )\n",
        "\n",
        "plt.show()"
      ],
      "metadata": {
        "id": "mS-Jegh1dG-L"
      },
      "execution_count": null,
      "outputs": []
    },
    {
      "cell_type": "markdown",
      "source": [
        "凡例の指定"
      ],
      "metadata": {
        "id": "S3ZO-EzWLfVw"
      }
    },
    {
      "cell_type": "code",
      "source": [
        "plt.plot(x, y1, )\n",
        "plt.plot(x, y2, )\n",
        "plt.plot(x, y3, )\n",
        "\n",
        "plt.legend # 表示場所\n",
        "\n",
        "plt.show()"
      ],
      "metadata": {
        "id": "IRR5oBD6dPyd"
      },
      "execution_count": null,
      "outputs": []
    },
    {
      "cell_type": "markdown",
      "source": [
        "線種の指定"
      ],
      "metadata": {
        "id": "dhSnGLkjLh_I"
      }
    },
    {
      "cell_type": "code",
      "source": [
        "plt.plot(x, y1, marker = 'o', )\n",
        "plt.plot(x, y2, marker = '^', )\n",
        "plt.plot(x, y3, marker = 'd', )\n",
        "\n",
        "plt.show()"
      ],
      "metadata": {
        "id": "YFUTlLzUdb_D"
      },
      "execution_count": null,
      "outputs": []
    },
    {
      "cell_type": "markdown",
      "source": [
        "ここまでで基本は終了です．"
      ],
      "metadata": {
        "id": "UoYyfhI8Orxn"
      }
    },
    {
      "cell_type": "code",
      "source": [],
      "metadata": {
        "id": "iYtiEmQuOz6_"
      },
      "execution_count": null,
      "outputs": []
    },
    {
      "cell_type": "markdown",
      "metadata": {
        "id": "wMPZ8ZniCCjJ"
      },
      "source": [
        "# 散布図の書き方\n",
        "ここまでは，折れ線グラフの書き方を学んできました．\n",
        "ここからは散布図の書き方を学んでいきましょう．  "
      ]
    },
    {
      "cell_type": "code",
      "source": [
        "import matplotlib.pyplot as plt\n",
        "\n",
        "x1 = [ 62, 49, 77, 73, 95] # 男性のデータ(体重、身長)\n",
        "y1 = [ 1.75, 1.64, 1.85, 1.70, 1.89] \n",
        "x2 = [ 48, 54, 45, 58, 51] # 女性のデータ(体重、身長)\n",
        "y2 = [ 1.52, 1.63, 1.50, 1.75, 1.60 ] \n",
        "\n",
        " # 散布図にプロットする\n",
        "\n",
        "\n",
        "plt.show()"
      ],
      "metadata": {
        "id": "iDvA4C8pc6H4"
      },
      "execution_count": null,
      "outputs": []
    },
    {
      "cell_type": "markdown",
      "source": [
        "マーカのサイズ変更"
      ],
      "metadata": {
        "id": "oRBbLc-_ON0m"
      }
    },
    {
      "cell_type": "code",
      "source": [
        "import matplotlib.pyplot as plt\n",
        "\n",
        "x1 = [ 62, 49, 77, 73, 95] # 男性のデータ(体重、身長)\n",
        "y1 = [ 1.75, 1.64, 1.85, 1.70, 1.89] \n",
        "x2 = [ 48, 54, 45, 58, 51] # 女性のデータ(体重、身長)\n",
        "y2 = [ 1.52, 1.63, 1.50, 1.75, 1.60 ] \n",
        "\n",
        "\n",
        "\n",
        "\n",
        "plt.show()"
      ],
      "metadata": {
        "id": "_a_S_jgYdqj3"
      },
      "execution_count": null,
      "outputs": []
    },
    {
      "cell_type": "markdown",
      "metadata": {
        "id": "-UXZViKFHN00"
      },
      "source": [
        "# 棒グラフの描き方\n",
        "次にmatplotlibを使った棒グラフの作図方法についてみていきます．"
      ]
    },
    {
      "cell_type": "code",
      "source": [
        "import matplotlib.pyplot as plt\n",
        "\n",
        "data = [ 6, 3.1, 4.5, 2.4, 5, 7, 4, 8 ]\n",
        "x=[0,1,2,3,4,5,6,7]\n",
        "\n",
        "#plt.bar(range(0, len(data)), data) #こちらでも同じ\n",
        "plt.show()"
      ],
      "metadata": {
        "id": "aAQiL8gpdx8Y"
      },
      "execution_count": null,
      "outputs": []
    },
    {
      "cell_type": "markdown",
      "source": [
        "横軸ラベルの変更"
      ],
      "metadata": {
        "id": "xYKLMh8dQfEm"
      }
    },
    {
      "cell_type": "code",
      "source": [
        "import matplotlib.pyplot as plt\n",
        "\n",
        "x = [ ]\n",
        "data = [ 6, 3.1, 4.5, 2.4, 5, 7, 4, 8 ]\n",
        "\n",
        "plt.show()\n"
      ],
      "metadata": {
        "id": "aWm1HUYod7C5"
      },
      "execution_count": null,
      "outputs": []
    },
    {
      "cell_type": "markdown",
      "source": [
        "グラフの向きの変更"
      ],
      "metadata": {
        "id": "ddx-ptSORJql"
      }
    },
    {
      "cell_type": "code",
      "source": [
        "import matplotlib.pyplot as plt\n",
        "\n",
        "data = [ 6, 3.1, 4.5, 2.4, 5, 7, 4, 8 ]\n",
        "x=[0,1,2,3,4,5,6,7]\n",
        "\n",
        "plt.show()\n"
      ],
      "metadata": {
        "id": "iJe9WVJXeB_l"
      },
      "execution_count": null,
      "outputs": []
    },
    {
      "cell_type": "markdown",
      "metadata": {
        "id": "tWdjVXxRjjou"
      },
      "source": [
        "## 積み上げ棒グラフの作り方\n",
        "複数のデータを棒グラフにする場合，  \n",
        "積み上げることで各データの割合を効果的に示せる場合があります．\n",
        "そのような積み上げ棒グラフも簡単に作ることができます．"
      ]
    },
    {
      "cell_type": "code",
      "source": [
        "import matplotlib.pyplot as plt\n",
        "\n",
        "data1 = [100, 200, 300, 400, 500]\n",
        "data2 = [1000, 800, 600, 400, 200]\n",
        "x = [0, 1, 2, 3, 4]\n",
        "plt.bar(x, data1, color='green')\n",
        "\n",
        "\n",
        "plt.show()"
      ],
      "metadata": {
        "id": "IwX6s4i8eO2q"
      },
      "execution_count": null,
      "outputs": []
    },
    {
      "cell_type": "markdown",
      "metadata": {
        "id": "3KiD8J5vRlGD"
      },
      "source": [
        "## 積み上げ棒グラフの作り方\n",
        "複数のデータを棒グラフにする場合，  \n",
        "積み上げることで各データの割合を効果的に示せる場合があります．\n",
        "そのような積み上げ棒グラフも簡単に作ることができます．\n",
        "\n",
        "まずは，3つのサンプルデータを乱数で用意します．"
      ]
    },
    {
      "cell_type": "code",
      "source": [
        "import matplotlib.pyplot as plt\n",
        "import numpy as np # 数値計算用のライブラリ\n",
        "\n",
        "x = [0, 1, 2, 3, 4]\n",
        "data1 = np.array([100, 200, 300, 400, 500]) # NumPyの配列化\n",
        "data2 = np.array([1000, 800, 600, 400, 200])\n",
        "data3 = np.array([100, 150, 200, 250, 100])\n",
        "\n",
        "\n",
        "\n",
        "\n",
        "\n",
        "plt.show()"
      ],
      "metadata": {
        "id": "HheJi_x-eazo"
      },
      "execution_count": null,
      "outputs": []
    },
    {
      "cell_type": "markdown",
      "source": [
        "複数のグラフをまとめて描画する"
      ],
      "metadata": {
        "id": "4i5Lw6SmgwPt"
      }
    },
    {
      "cell_type": "code",
      "source": [
        "#import numpy as np\n",
        "import matplotlib.pyplot as plt\n",
        "\n",
        "x = [0, 1, 2, 3, 4]\n",
        "data1 = [100, 200, 300, 400, 500]\n",
        "data2 = [1000, 800, 600, 400, 200]\n",
        "\n",
        "\n",
        "\n",
        "\n",
        "\n",
        "\n",
        "plt.show()\n"
      ],
      "metadata": {
        "id": "aeI7HGUoep26"
      },
      "execution_count": null,
      "outputs": []
    },
    {
      "cell_type": "code",
      "execution_count": null,
      "metadata": {
        "id": "2vlWc5w8x2NY"
      },
      "outputs": [],
      "source": []
    },
    {
      "cell_type": "markdown",
      "metadata": {
        "id": "ImSM0T1gx2NY"
      },
      "source": [
        "## おまけ　numpyを使った近似直線と曲線ほか"
      ]
    },
    {
      "cell_type": "code",
      "execution_count": null,
      "metadata": {
        "id": "HNhHvU8Qxsbq",
        "colab": {
          "base_uri": "https://localhost:8080/",
          "height": 279
        },
        "outputId": "52181546-a61b-4230-d577-bd75f4762d26"
      },
      "outputs": [
        {
          "output_type": "display_data",
          "data": {
            "text/plain": [
              "<Figure size 432x288 with 1 Axes>"
            ],
            "image/png": "[encoded data removed]"
          },
          "metadata": {
            "needs_background": "light"
          }
        }
      ],
      "source": [
        "np.random.seed(0)\n",
        "N = 20\n",
        "x = np.sort(np.random.uniform(0,5,N))\n",
        "y_pure = 2 * x + 5\n",
        "y = y_pure + np.random.uniform(-2,2,N)\n",
        "plt.scatter(x, y)\n",
        "plt.title(\"2x + 5 + noise\")\n",
        "plt.show()"
      ]
    },
    {
      "cell_type": "code",
      "execution_count": null,
      "metadata": {
        "id": "OE__NHV9xsTQ",
        "colab": {
          "base_uri": "https://localhost:8080/",
          "height": 279
        },
        "outputId": "8294502b-0b43-45bc-e4df-0aff9d98f400"
      },
      "outputs": [
        {
          "output_type": "display_data",
          "data": {
            "text/plain": [
              "<Figure size 432x288 with 1 Axes>"
            ],
            "image/png": "[encoded data removed]"
          },
          "metadata": {
            "needs_background": "light"
          }
        }
      ],
      "source": [
        "a, b = np.polyfit(x, y, 1)\n",
        "y2 = a * x + b\n",
        "\n",
        "fig=plt.figure()\n",
        "ax=fig.add_subplot(111)\n",
        "ax.scatter(x,y, alpha=0.5, label=\"data\")\n",
        "ax.plot(x, y2,color='black', label=\"regression line\", lw=2)\n",
        "# ax.plot(x, y_pure,color='red', label=\"pure\")\n",
        "ax.legend()\n",
        "ax.set_title(\"2x + 5 + noise\")\n",
        "ax.text(0.1,a*0.1+b, 'y='+ str(round(a,2)) +'x+'+str(round(b,2)), fontsize=15)\n",
        "plt.show()"
      ]
    },
    {
      "cell_type": "code",
      "execution_count": null,
      "metadata": {
        "id": "CZIvc7tw8g2F",
        "colab": {
          "base_uri": "https://localhost:8080/",
          "height": 279
        },
        "outputId": "7414f9f4-085c-41e2-8062-863754bda029"
      },
      "outputs": [
        {
          "output_type": "display_data",
          "data": {
            "text/plain": [
              "<Figure size 432x288 with 1 Axes>"
            ],
            "image/png": "[encoded data removed]"
          },
          "metadata": {
            "needs_background": "light"
          }
        }
      ],
      "source": [
        "np.random.seed(0)\n",
        "N = 20\n",
        "x = np.sort(np.random.uniform(0,5,N))\n",
        "y_pure = np.sin(x)\n",
        "y = y_pure + np.random.uniform(-0.5,0.5,N)\n",
        "plt.scatter(x,y)\n",
        "plt.title(\"sin(x)+noise\")\n",
        "plt.show()"
      ]
    },
    {
      "cell_type": "code",
      "execution_count": null,
      "metadata": {
        "id": "QlPpPEZPxsKF",
        "colab": {
          "base_uri": "https://localhost:8080/",
          "height": 264
        },
        "outputId": "76524345-0801-4067-8a34-287a5a304a72"
      },
      "outputs": [
        {
          "output_type": "display_data",
          "data": {
            "text/plain": [
              "<Figure size 432x288 with 1 Axes>"
            ],
            "image/png": "[encoded data removed]"
          },
          "metadata": {
            "needs_background": "light"
          }
        }
      ],
      "source": [
        "a, b, c = np.polyfit(x, y, 2)\n",
        "x2 = np.arange(0, 5, 0.1)\n",
        "y2 = a * x2**2 + b * x2 + c\n",
        "\n",
        "fig=plt.figure()\n",
        "ax=fig.add_subplot(111)\n",
        "ax.scatter(x,y, alpha=0.5, label=\"data\")\n",
        "# ax.scatter(x, y_pure,color='red', label=\"pure\")\n",
        "ax.plot(x2, y2,color='black', label=\"regression line\", lw=2)\n",
        "ax.legend()\n",
        "ax.text(0.1,a*0.1+b, 'y='+ str(round(a,2)) +'x**2+'+str(round(b,2)) +'x+' +str(round(c,2)), fontsize=15)\n",
        "plt.show()"
      ]
    },
    {
      "cell_type": "code",
      "execution_count": null,
      "metadata": {
        "id": "4GeofJP06sfV",
        "colab": {
          "base_uri": "https://localhost:8080/",
          "height": 264
        },
        "outputId": "34e064f9-0856-452c-9c93-224b2e18b84f"
      },
      "outputs": [
        {
          "output_type": "display_data",
          "data": {
            "text/plain": [
              "<Figure size 432x288 with 1 Axes>"
            ],
            "image/png": "[encoded data removed]"
          },
          "metadata": {
            "needs_background": "light"
          }
        }
      ],
      "source": [
        "a, b, c, d = np.polyfit(x, y, 3)\n",
        "x2 = np.arange(0, 5, 0.1)\n",
        "y2 = a * x2**3 + b * x2**2 + c * x2 + d\n",
        "\n",
        "fig=plt.figure()\n",
        "ax=fig.add_subplot(111)\n",
        "ax.scatter(x,y, alpha=0.5, label=\"data\")\n",
        "# ax.scatter(x, y_pure,color='red', label=\"pure\")\n",
        "ax.plot(x2, y2,color='black', label=\"regression line\", lw=2)\n",
        "ax.legend()\n",
        "ax.text(0.1,a*0.1+b, 'y='+ str(round(a,2)) +'x**3+'+str(round(b,2)) +'x**2+'+str(round(c,2)) +'x+' + str(round(d,2)), fontsize=15)\n",
        "plt.show()"
      ]
    },
    {
      "cell_type": "code",
      "execution_count": null,
      "metadata": {
        "id": "aQ3CkXXBoRfP"
      },
      "outputs": [],
      "source": []
    },
    {
      "cell_type": "code",
      "execution_count": null,
      "metadata": {
        "id": "jjIcA3nQoRWF",
        "colab": {
          "base_uri": "https://localhost:8080/",
          "height": 248
        },
        "outputId": "1550b35e-e5db-4e47-9c59-3160c8b617cc"
      },
      "outputs": [
        {
          "output_type": "display_data",
          "data": {
            "text/plain": [
              "<Figure size 432x288 with 1 Axes>"
            ],
            "image/png": "[encoded data removed]"
          },
          "metadata": {}
        }
      ],
      "source": [
        "labels = [\"E\", \"D\", \"C\", \"B\", \"A\"] \n",
        "y = [10, 20, 30, 40, 50] \n",
        "ex = [0, 0, 0, 0, 0.1] \n",
        "\n",
        "fig=plt.figure()\n",
        "ax=fig.add_subplot(111)\n",
        "ax.pie(y, explode = ex, labels = labels, autopct = '%1.1f%%', startangle = 90) \n",
        "plt.show()"
      ]
    }
  ],
  "metadata": {
    "colab": {
      "provenance": [],
      "include_colab_link": true
    },
    "kernelspec": {
      "display_name": "Python 3",
      "language": "python",
      "name": "python3"
    },
    "language_info": {
      "codemirror_mode": {
        "name": "ipython",
        "version": 3
      },
      "file_extension": ".py",
      "mimetype": "text/x-python",
      "name": "python",
      "nbconvert_exporter": "python",
      "pygments_lexer": "ipython3",
      "version": "3.8.3"
    }
  },
  "nbformat": 4,
  "nbformat_minor": 0
}