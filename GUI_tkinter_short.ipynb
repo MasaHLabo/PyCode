{
  "nbformat": 4,
  "nbformat_minor": 0,
  "metadata": {
    "colab": {
      "provenance": [],
      "authorship_tag": "ABX9TyPo7PQqpJAmWy0fH6anE9mY",
      "include_colab_link": true
    },
    "kernelspec": {
      "name": "python3",
      "display_name": "Python 3"
    },
    "language_info": {
      "name": "python"
    }
  },
  "cells": [
    {
      "cell_type": "markdown",
      "metadata": {
        "id": "view-in-github",
        "colab_type": "text"
      },
      "source": [
        "<a href=\"https://colab.research.google.com/github/MasaHLabo/PyCode/blob/main/GUI_tkinter_short.ipynb\" target=\"_parent\"><img src=\"https://colab.research.google.com/assets/colab-badge.svg\" alt=\"Open In Colab\"/></a>"
      ]
    },
    {
      "cell_type": "markdown",
      "source": [
        "#GUIアプリケ ーションの作成\n",
        "Pythonに標準ライブラリとしてサポートされているtkinterを用いる\n",
        "\n",
        "tkinterはColabでは使えないのでAnacondaなどに移して試す必要がある"
      ],
      "metadata": {
        "id": "x_lpwjK-U3Ux"
      }
    },
    {
      "cell_type": "markdown",
      "source": [
        "用いる方法"
      ],
      "metadata": {
        "id": "J23y86RCVmIa"
      }
    },
    {
      "cell_type": "code",
      "source": [
        "import tkinter\n",
        "import tkinter as tk  #長いのでｔｋと省略表記をする"
      ],
      "metadata": {
        "id": "uYMQixNSV3vv"
      },
      "execution_count": null,
      "outputs": []
    },
    {
      "cell_type": "markdown",
      "source": [
        "3.1ウインドウの表示"
      ],
      "metadata": {
        "id": "y0ix4eZaWNng"
      }
    },
    {
      "cell_type": "code",
      "execution_count": null,
      "metadata": {
        "id": "AoSaOxubNCOF",
        "outputId": "316b8453-11c0-41e7-e740-27a6cc0b8a51",
        "colab": {
          "base_uri": "https://localhost:8080/",
          "height": 344
        }
      },
      "outputs": [
        {
          "output_type": "error",
          "ename": "TclError",
          "evalue": "ignored",
          "traceback": [
            "\u001b[0;31m---------------------------------------------------------------------------\u001b[0m",
            "\u001b[0;31mTclError\u001b[0m                                  Traceback (most recent call last)",
            "\u001b[0;32m<ipython-input-1-e9b61d2b6d4a>\u001b[0m in \u001b[0;36m<module>\u001b[0;34m()\u001b[0m\n\u001b[1;32m      1\u001b[0m \u001b[0;32mimport\u001b[0m \u001b[0mtkinter\u001b[0m \u001b[0;32mas\u001b[0m \u001b[0mtk\u001b[0m\u001b[0;34m\u001b[0m\u001b[0;34m\u001b[0m\u001b[0m\n\u001b[1;32m      2\u001b[0m \u001b[0;34m\u001b[0m\u001b[0m\n\u001b[0;32m----> 3\u001b[0;31m \u001b[0mwin\u001b[0m \u001b[0;34m=\u001b[0m \u001b[0mtk\u001b[0m\u001b[0;34m.\u001b[0m\u001b[0mTk\u001b[0m\u001b[0;34m(\u001b[0m\u001b[0;34m)\u001b[0m \u001b[0;31m# ウィンドウの作成\u001b[0m\u001b[0;34m\u001b[0m\u001b[0;34m\u001b[0m\u001b[0m\n\u001b[0m\u001b[1;32m      4\u001b[0m \u001b[0mwin\u001b[0m\u001b[0;34m.\u001b[0m\u001b[0mmainloop\u001b[0m\u001b[0;34m(\u001b[0m\u001b[0;34m)\u001b[0m \u001b[0;31m# 表示とイベント処理ループの開始\u001b[0m\u001b[0;34m\u001b[0m\u001b[0;34m\u001b[0m\u001b[0m\n",
            "\u001b[0;32m/usr/lib/python3.7/tkinter/__init__.py\u001b[0m in \u001b[0;36m__init__\u001b[0;34m(self, screenName, baseName, className, useTk, sync, use)\u001b[0m\n\u001b[1;32m   2021\u001b[0m                 \u001b[0mbaseName\u001b[0m \u001b[0;34m=\u001b[0m \u001b[0mbaseName\u001b[0m \u001b[0;34m+\u001b[0m \u001b[0mext\u001b[0m\u001b[0;34m\u001b[0m\u001b[0;34m\u001b[0m\u001b[0m\n\u001b[1;32m   2022\u001b[0m         \u001b[0minteractive\u001b[0m \u001b[0;34m=\u001b[0m \u001b[0;36m0\u001b[0m\u001b[0;34m\u001b[0m\u001b[0;34m\u001b[0m\u001b[0m\n\u001b[0;32m-> 2023\u001b[0;31m         \u001b[0mself\u001b[0m\u001b[0;34m.\u001b[0m\u001b[0mtk\u001b[0m \u001b[0;34m=\u001b[0m \u001b[0m_tkinter\u001b[0m\u001b[0;34m.\u001b[0m\u001b[0mcreate\u001b[0m\u001b[0;34m(\u001b[0m\u001b[0mscreenName\u001b[0m\u001b[0;34m,\u001b[0m \u001b[0mbaseName\u001b[0m\u001b[0;34m,\u001b[0m \u001b[0mclassName\u001b[0m\u001b[0;34m,\u001b[0m \u001b[0minteractive\u001b[0m\u001b[0;34m,\u001b[0m \u001b[0mwantobjects\u001b[0m\u001b[0;34m,\u001b[0m \u001b[0museTk\u001b[0m\u001b[0;34m,\u001b[0m \u001b[0msync\u001b[0m\u001b[0;34m,\u001b[0m \u001b[0muse\u001b[0m\u001b[0;34m)\u001b[0m\u001b[0;34m\u001b[0m\u001b[0;34m\u001b[0m\u001b[0m\n\u001b[0m\u001b[1;32m   2024\u001b[0m         \u001b[0;32mif\u001b[0m \u001b[0museTk\u001b[0m\u001b[0;34m:\u001b[0m\u001b[0;34m\u001b[0m\u001b[0;34m\u001b[0m\u001b[0m\n\u001b[1;32m   2025\u001b[0m             \u001b[0mself\u001b[0m\u001b[0;34m.\u001b[0m\u001b[0m_loadtk\u001b[0m\u001b[0;34m(\u001b[0m\u001b[0;34m)\u001b[0m\u001b[0;34m\u001b[0m\u001b[0;34m\u001b[0m\u001b[0m\n",
            "\u001b[0;31mTclError\u001b[0m: no display name and no $DISPLAY environment variable"
          ]
        }
      ],
      "source": [
        "import tkinter as tk\n",
        "\t\n",
        "win = tk.Tk() # ウィンドウの作成\n",
        "win.mainloop() # 表示とイベント処理ループの開始"
      ]
    },
    {
      "cell_type": "markdown",
      "source": [
        "タイトルの追加，サイズ指定"
      ],
      "metadata": {
        "id": "FLqMGZPFWRAn"
      }
    },
    {
      "cell_type": "code",
      "source": [
        "\t\n",
        "win.title('最初のプログラム') # ウィンドウのタイトル\n",
        "win.minsize(320, 240) # ウィンドウのサイズ\n"
      ],
      "metadata": {
        "id": "rWWOqde8UfV0"
      },
      "execution_count": null,
      "outputs": []
    },
    {
      "cell_type": "markdown",
      "source": [
        "3.2　ラベルの配置"
      ],
      "metadata": {
        "id": "51R5bPQvWZdL"
      }
    },
    {
      "cell_type": "code",
      "source": [
        "\n",
        "label = tk.Label(win, text = '青い空の下', bg='white') # (1) ラベルの作成\n",
        "label.place(x = 5, y = 5) # (2) ラベルの配置\n",
        "\t\t "
      ],
      "metadata": {
        "id": "RqRIRooIUxG8"
      },
      "execution_count": null,
      "outputs": []
    },
    {
      "cell_type": "markdown",
      "source": [
        "ラベルの色を変える"
      ],
      "metadata": {
        "id": "jYFNOmD3CYP1"
      }
    },
    {
      "cell_type": "code",
      "source": [
        "label = tk.Label(win, text = '青い空の下', bg='white',fg='red') # (1) ラベルの作成"
      ],
      "metadata": {
        "id": "1vHpDfB6CXWI"
      },
      "execution_count": null,
      "outputs": []
    },
    {
      "cell_type": "markdown",
      "source": [
        "3.3　ボタンの配置"
      ],
      "metadata": {
        "id": "AOvczpZYWxYn"
      }
    },
    {
      "cell_type": "code",
      "source": [
        "def push(): # ボタンがクリックされたら実行\n",
        "    print('押された') #表示\n",
        "\t \n",
        "\n",
        "btn = tk.Button(win, text = 'push', command = push) # ボタンの作成\n",
        "btn.place(x = 0, y = 0) # ボタンの配置\n"
      ],
      "metadata": {
        "id": "v_yjLROAW6aL"
      },
      "execution_count": null,
      "outputs": []
    },
    {
      "cell_type": "markdown",
      "source": [
        "3.4　四角形の描画"
      ],
      "metadata": {
        "id": "wuJqqcZgXQ4d"
      }
    },
    {
      "cell_type": "code",
      "source": [
        "\n",
        "    c.create_rectangle(10, 10, 60, 60, fill = 'white') # 四角形の描画\n",
        " \n",
        "\n",
        "c = tk.Canvas(win, bg = 'lightgray') # キャンバスの生成\n",
        "c.place(x = 0, y = 30) # キャンバスの配置\n",
        " "
      ],
      "metadata": {
        "id": "skYtxSWqXNqd"
      },
      "execution_count": null,
      "outputs": []
    },
    {
      "cell_type": "markdown",
      "source": [
        "図（写真）の描画"
      ],
      "metadata": {
        "id": "is1F0ZyHXdbo"
      }
    },
    {
      "cell_type": "code",
      "source": [
        " \n",
        "win = tk.Tk() # ウィンドウの生成\n",
        "win.minsize(300, 100)\n",
        "\n",
        "c = tk.Canvas(win) # キャンバスの生成\n",
        "c.place(x = 0, y = 0) # キャンバスの配置\n",
        "\t\n",
        "c.create_line(10, 10, 80, 80) # 直線の描画\n",
        "c.create_oval(100, 10, 200, 110) # 円の描画\n",
        "c.create_polygon(60, 110, 30, 160, 160, 160) # 三角形の描画\n",
        "img = tk.PhotoImage(file='sky.png') # 画像の読み込み\n",
        "c.create_image(230, 130, image=img) # 画像の描画\n",
        "\t "
      ],
      "metadata": {
        "id": "81juZ26uXhcG"
      },
      "execution_count": null,
      "outputs": []
    },
    {
      "cell_type": "markdown",
      "source": [
        "3.5　チェックボックスの配置"
      ],
      "metadata": {
        "id": "IXJ8myGTXpPu"
      }
    },
    {
      "cell_type": "code",
      "source": [
        "\n",
        "def check():\n",
        "    print('犬', v1.get(), '猫' ,v2.get())\n",
        "    \n",
        "\n",
        "v1 = tk.BooleanVar() # 論理値型の変数オブジェクト\n",
        "v2 = tk.BooleanVar() # 論理値型の変数オブジェクト\n",
        "v1.set(False) # 初期値をFalseに\n",
        "v2.set(True)  # 初期値をTrueに\n",
        "\n",
        "cb1 = tk.Checkbutton(win, text='犬', variable=v1)\n",
        "cb2 = tk.Checkbutton(win, text='猫', variable=v2)\n",
        "cb1.place(x=30,y=0)\n",
        "cb2.place(x=30,y=25)\n",
        "\n",
        "btn = tk.Button(win, text='check', command=check)\n",
        "btn.place(x=30,y=50)\n",
        " "
      ],
      "metadata": {
        "id": "iHFonObvX7ar"
      },
      "execution_count": null,
      "outputs": []
    },
    {
      "cell_type": "markdown",
      "source": [
        "3.6　スライダの使用"
      ],
      "metadata": {
        "id": "2Ns3aqGrYE2T"
      }
    },
    {
      "cell_type": "code",
      "source": [
        "\n",
        "def size(v): #  スライダが動かされたら実行\n",
        "    print('slider: ', v) # 表示\n",
        " \n",
        " \n",
        "s = tk.Scale(win, orient = 'h', command = size) #  スライダの生成\n",
        "s.place(x = 0, y = 0) #  スライダの配置\n"
      ],
      "metadata": {
        "id": "SfubDeCuYHjo"
      },
      "execution_count": null,
      "outputs": []
    },
    {
      "cell_type": "markdown",
      "source": [
        "3.7　１行入力"
      ],
      "metadata": {
        "id": "G2fHflFzYNOK"
      }
    },
    {
      "cell_type": "code",
      "source": [
        "import tkinter as tk\n",
        " \n",
        "win = tk.Tk() # ウィンドウ生成\n",
        " \n",
        "e = tk.Entry(win, width=16) # エントリー部品の生成\n",
        "e.place(x=0, y=0) # エントリー部品の配置\n",
        " \n",
        "win.mainloop() # メインループ開始"
      ],
      "metadata": {
        "id": "76HIXk3kYXp7"
      },
      "execution_count": null,
      "outputs": []
    },
    {
      "cell_type": "markdown",
      "source": [
        "3.8　テキスト部品"
      ],
      "metadata": {
        "id": "MNvnPdxBYw7r"
      }
    },
    {
      "cell_type": "code",
      "source": [
        "import tkinter as tk\n",
        "import tkinter.scrolledtext as tkst\n",
        "\n",
        "win = tk.Tk()\n",
        "t = tkst.Text(win) # テキストウィジェットの作成\n",
        "t.place(x=0, y=0)\n",
        "\n",
        "win.mainloop() # メインループ開始"
      ],
      "metadata": {
        "id": "0oDMOdyyY0bS"
      },
      "execution_count": null,
      "outputs": []
    },
    {
      "cell_type": "markdown",
      "source": [
        "3.9　メッセージボックス"
      ],
      "metadata": {
        "id": "WtWJfHa4ZA2f"
      }
    },
    {
      "cell_type": "code",
      "source": [],
      "metadata": {
        "id": "PEeQcInpUzoB"
      },
      "execution_count": null,
      "outputs": []
    },
    {
      "cell_type": "markdown",
      "source": [
        "3.10　アニメーション"
      ],
      "metadata": {
        "id": "NbyuQ-EpZLX9"
      }
    },
    {
      "cell_type": "code",
      "source": [],
      "metadata": {
        "id": "-EZrX2XUU2Yk"
      },
      "execution_count": null,
      "outputs": []
    }
  ]
}