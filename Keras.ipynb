{
  "nbformat": 4,
  "nbformat_minor": 0,
  "metadata": {
    "colab": {
      "provenance": [],
      "mount_file_id": "13BCXyWVmRT05N87pxTBFFo-4RUwc4pkw",
      "authorship_tag": "ABX9TyMHGjqZJ1qQ0m8WXzAP+0Sp",
      "include_colab_link": true
    },
    "kernelspec": {
      "name": "python3",
      "display_name": "Python 3"
    },
    "language_info": {
      "name": "python"
    }
  },
  "cells": [
    {
      "cell_type": "markdown",
      "metadata": {
        "id": "view-in-github",
        "colab_type": "text"
      },
      "source": [
        "<a href=\"https://colab.research.google.com/github/MasaHLabo/PyCode/blob/main/Keras.ipynb\" target=\"_parent\"><img src=\"https://colab.research.google.com/assets/colab-badge.svg\" alt=\"Open In Colab\"/></a>"
      ]
    },
    {
      "cell_type": "markdown",
      "source": [
        "# 第１３章　畳み込みニューラルネットワーク\n"
      ],
      "metadata": {
        "id": "w4jP6Q8Bb6Rv"
      }
    },
    {
      "cell_type": "markdown",
      "source": [
        "13.1　TensolFlowとKerasを使えるようにする"
      ],
      "metadata": {
        "id": "Wb_Cm4V2cYEF"
      }
    },
    {
      "cell_type": "code",
      "execution_count": null,
      "metadata": {
        "id": "FAAduOmR_2jr"
      },
      "outputs": [],
      "source": [
        "pip install tensorflow"
      ]
    },
    {
      "cell_type": "code",
      "source": [
        "pip install keras"
      ],
      "metadata": {
        "id": "vblgJYNCADFH"
      },
      "execution_count": null,
      "outputs": []
    },
    {
      "cell_type": "markdown",
      "source": [
        "13.2　多層パーセプトロンの実装"
      ],
      "metadata": {
        "id": "9vixieoTcgG-"
      }
    },
    {
      "cell_type": "markdown",
      "source": [
        "keras.utils.to_categoricalまでライブラリを深く参照してくれないため（よくある！）\n",
        "\n",
        "※５行目を追加すること"
      ],
      "metadata": {
        "id": "3A8QRy4GdTIH"
      }
    },
    {
      "cell_type": "code",
      "source": [
        "import keras # (1) モジュールのインポート\n",
        "from keras.datasets import fashion_mnist\n",
        "from keras.models import Sequential\n",
        "from keras.layers.core import Dense\n",
        "from tensorflow.keras.utils import to_categorical #変更追加した分 keras.utils.to_categoricalまで参照してくれないため\n",
        "(x_train, y_train), (x_test, y_test) = fashion_mnist.load_data() # (2) データの読み込み\n",
        "\n",
        "x_train = x_train.reshape(x_train.shape[0], 28*28).astype('float32') # データ変換\n",
        "x_test = x_test.reshape(x_test.shape[0], 28*28).astype('float32')\n",
        "x_train /= 255 # 正規化(0.0~1.0の範囲に変換)\n",
        "x_test /= 255\n",
        "y_train = to_categorical(y_train, 10)#13行を変更追加した分\n",
        "#y_train = keras.utils.to_categorical(y_train, 10) # ラベルをone-hotに変換\n",
        "#y_test = keras.utils.to_categorical(y_test, 10) # fashion_mnistは10クラス\n",
        "y_test = to_categorical(y_test, 10)#14行を変更追加した分\n",
        "model = Sequential() # (3)モデルを構築する\n",
        "model.add(Dense(128, input_shape=(28*28, ), activation='relu'))\n",
        "model.add(Dense(10, activation='softmax')) # 出力層\n",
        "\n",
        "model.summary() # モデルの表示\n",
        "\n",
        "model.compile(loss='categorical_crossentropy', # (4) モデルのコンパイル、損失関数\n",
        "              optimizer='adam', # 更新方法\n",
        "              metrics=['accuracy']) # 正答率\n",
        "\n",
        "hist = model.fit(x_train, y_train, # (5) 学習\n",
        "                 batch_size=128, epochs=20, verbose=1,\n",
        "                 validation_data=(x_test, y_test))\n",
        "\n",
        "score = model.evaluate(x_test, y_test, verbose=1) # (6) モデルの評価\n",
        "print('test loss:', score[0]) # 結果の表示\n",
        "print('test acc:', score[1])\n",
        "\n"
      ],
      "metadata": {
        "id": "5XxxdQh7ANMQ"
      },
      "execution_count": null,
      "outputs": []
    },
    {
      "cell_type": "markdown",
      "source": [
        "以前のkeras.utils.to_categoricalまで参照してくれない場合の回避方法　5行目"
      ],
      "metadata": {
        "id": "9BDCqr0IdtUh"
      }
    },
    {
      "cell_type": "code",
      "source": [
        "import keras # (1) モジュールのインポート\n",
        "from keras.datasets import fashion_mnist\n",
        "from keras.models import Sequential\n",
        "from keras.layers.core import Dense\n",
        "from tensorflow.keras import utils as np_utils #変更追加した分　以前はこの形が多い、np_utilsの内容が変わったと書かれたサイトもあるので？？\n",
        "(x_train, y_train), (x_test, y_test) = fashion_mnist.load_data() # (2) データの読み込み\n",
        "\n",
        "x_train = x_train.reshape(x_train.shape[0], 28*28).astype('float32') # データ変換\n",
        "x_test = x_test.reshape(x_test.shape[0], 28*28).astype('float32')\n",
        "x_train /= 255 # 正規化(0.0~1.0の範囲に変換)\n",
        "x_test /= 255\n",
        "y_train = np_utils.to_categorical(y_train, 10)#13行を変更追加した分\n",
        "#y_train = keras.utils.to_categorical(y_train, 10) # ラベルをone-hotに変換\n",
        "#y_test = keras.utils.to_categorical(y_test, 10) # fashion_mnistは10クラス\n",
        "y_test = np_utils.to_categorical(y_test, 10)#14行を変更追加した分\n",
        "model = Sequential() # (3)モデルを構築する\n",
        "model.add(Dense(128, input_shape=(28*28, ), activation='relu'))\n",
        "model.add(Dense(10, activation='softmax')) # 出力層\n",
        "\n",
        "model.summary() # モデルの表示\n",
        "\n",
        "model.compile(loss='categorical_crossentropy', # (4) モデルのコンパイル、損失関数\n",
        "              optimizer='adam', # 更新方法\n",
        "              metrics=['accuracy']) # 正答率\n",
        "\n",
        "hist = model.fit(x_train, y_train, # (5) 学習\n",
        "                 batch_size=128, epochs=20, verbose=1,\n",
        "                 validation_data=(x_test, y_test))\n",
        "\n",
        "score = model.evaluate(x_test, y_test, verbose=1) # (6) モデルの評価\n",
        "print('test loss:', score[0]) # 結果の表示\n",
        "print('test acc:', score[1])\n",
        "\n",
        "from sklearn import metrics\n",
        "p = model.predict(x_test)\n",
        "print(metrics.confusion_matrix(y_test.argmax(axis=1), p.argmax(axis=1)))\n",
        "\n"
      ],
      "metadata": {
        "id": "UGqDH7aPaFiw"
      },
      "execution_count": null,
      "outputs": []
    },
    {
      "cell_type": "markdown",
      "source": [
        "13.2.6　層の追加"
      ],
      "metadata": {
        "id": "NnUe5EE9eUL8"
      }
    },
    {
      "cell_type": "code",
      "source": [
        "import keras # (1) モジュールのインポート\n",
        "from keras.datasets import fashion_mnist\n",
        "from keras.models import Sequential\n",
        "from keras.layers.core import Dense\n",
        "from tensorflow.keras import utils as np_utils #変更追加した分　以前はこの形が多い、np_utilsの内容が変わったと書かれたサイトもあるので？？\n",
        "(x_train, y_train), (x_test, y_test) = fashion_mnist.load_data() # (2) データの読み込み\n",
        "\n",
        "x_train = x_train.reshape(x_train.shape[0], 28*28).astype('float32') # データ変換\n",
        "x_test = x_test.reshape(x_test.shape[0], 28*28).astype('float32')\n",
        "x_train /= 255 # 正規化(0.0~1.0の範囲に変換)\n",
        "x_test /= 255\n",
        "y_train = np_utils.to_categorical(y_train, 10)#13行を変更追加した分\n",
        "#y_train = keras.utils.to_categorical(y_train, 10) # ラベルをone-hotに変換\n",
        "#y_test = keras.utils.to_categorical(y_test, 10) # fashion_mnistは10クラス\n",
        "y_test = np_utils.to_categorical(y_test, 10)#14行を変更追加した分\n",
        "model = Sequential() # (3)モデルを構築する\n",
        "model.add(Dense(128, input_shape=(28*28, ), activation='relu'))\n",
        "model.add(Dense(128, activation='relu'))\n",
        "model.add(Dense(10, activation='softmax')) # 出力層\n",
        "\n",
        "model.summary() # モデルの表示\n",
        "\n",
        "model.compile(loss='categorical_crossentropy', # (4) モデルのコンパイル、損失関数\n",
        "              optimizer='adam', # 更新方法\n",
        "              metrics=['accuracy']) # 正答率\n",
        "\n",
        "hist = model.fit(x_train, y_train, # (5) 学習\n",
        "                 batch_size=128, epochs=20, verbose=1,\n",
        "                 validation_data=(x_test, y_test))\n",
        "\n",
        "score = model.evaluate(x_test, y_test, verbose=1) # (6) モデルの評価\n",
        "print('test loss:', score[0]) # 結果の表示\n",
        "print('test acc:', score[1])\n",
        "\n",
        "model.save(path+'model_weightsNN.h5')\n",
        "\n",
        "from sklearn import metrics\n",
        "p = model.predict(x_test)\n",
        "print(metrics.confusion_matrix(y_test.argmax(axis=1), p.argmax(axis=1)))\n",
        "\n"
      ],
      "metadata": {
        "id": "d6ez5VzipPal"
      },
      "execution_count": null,
      "outputs": []
    },
    {
      "cell_type": "markdown",
      "source": [
        "13.2.7 運用"
      ],
      "metadata": {
        "id": "m62zSt1NeT_Q"
      }
    },
    {
      "cell_type": "code",
      "source": [
        "from google.colab import drive\n",
        "drive.mount('/content/drive')"
      ],
      "metadata": {
        "colab": {
          "base_uri": "https://localhost:8080/"
        },
        "id": "qDm5_Xy5rcb_",
        "outputId": "83082d92-ad72-4015-d611-6d78e5f5c513"
      },
      "execution_count": 2,
      "outputs": [
        {
          "output_type": "stream",
          "name": "stdout",
          "text": [
            "Drive already mounted at /content/drive; to attempt to forcibly remount, call drive.mount(\"/content/drive\", force_remount=True).\n"
          ]
        }
      ]
    },
    {
      "cell_type": "code",
      "source": [
        "path='/content/drive/MyDrive/'"
      ],
      "metadata": {
        "id": "2mRV7eu7ris_"
      },
      "execution_count": 3,
      "outputs": []
    },
    {
      "cell_type": "code",
      "source": [
        "from keras.models import load_model\n",
        "import cv2\n",
        "import numpy as np\n",
        "\n",
        "file = input('画像ファイル名: ')\n",
        "file=path+file\n",
        "img = cv2.imread(file) # 画像ファイルの読み込み\n",
        "img = cv2.resize(img, (28, 28), interpolation=cv2.INTER_AREA) #データのリサイズ\n",
        "img = cv2.cvtColor(img, cv2.COLOR_BGR2GRAY) # グレースケール化\n",
        "img = np.array(img, 'float') # NumPyの配列にする\n",
        "img = (255 - img) / 255  # 反転し、0~1へ\n",
        "img = img.reshape(1, 28*28) # 1次元配列に変換\n",
        "\n",
        "model = load_model(path+'model_weightsNN.h5') # モデルとパラメータの読み込み\n",
        "\n",
        "fashion={ 0:'Tシャツ', 1:'ズボン', 2:'プルオーバー', 3:'ドレス', 4:'コート', 5:'サンダル',\n",
        "          6:'シャツ', 7:'スニーカー', 8:'バッグ', 9:'アンクルブーツ' }\n",
        "ret = model.predict([img]) # 分類\n",
        "print(ret)\n",
        "c = np.argmax(ret)\n",
        "print(fashion[c]+'です')"
      ],
      "metadata": {
        "id": "rjNQyqoqq_Bl"
      },
      "execution_count": null,
      "outputs": []
    },
    {
      "cell_type": "markdown",
      "source": [
        "13.2.8"
      ],
      "metadata": {
        "id": "6MFhdwXxeTy8"
      }
    },
    {
      "cell_type": "code",
      "source": [
        "import keras # (1) モジュールのインポート\n",
        "from keras.datasets import fashion_mnist\n",
        "from keras.models import Sequential\n",
        "from keras.layers.core import Dense\n",
        "from tensorflow.keras import utils as np_utils #変更追加した分　以前はこの形が多い、np_utilsの内容が変わったと書かれたサイトもあるので？？\n",
        "(x_train, y_train), (x_test, y_test) = fashion_mnist.load_data() # (2) データの読み込み\n",
        "\n",
        "x_train = x_train.reshape(x_train.shape[0], 28*28).astype('float32') # データ変換\n",
        "x_test = x_test.reshape(x_test.shape[0], 28*28).astype('float32')\n",
        "x_train /= 255 # 正規化(0.0~1.0の範囲に変換)\n",
        "x_test /= 255\n",
        "y_train = np_utils.to_categorical(y_train, 10)#13行を変更追加した分\n",
        "#y_train = keras.utils.to_categorical(y_train, 10) # ラベルをone-hotに変換\n",
        "#y_test = keras.utils.to_categorical(y_test, 10) # fashion_mnistは10クラス\n",
        "y_test = np_utils.to_categorical(y_test, 10)#14行を変更追加した分\n",
        "model = Sequential() # (3)モデルを構築する\n",
        "model.add(Dense(128, input_shape=(28*28, ), activation='relu'))\n",
        "model.add(Dense(128, activation='relu'))\n",
        "model.add(Dense(10, activation='softmax')) # 出力層\n",
        "\n",
        "model.summary() # モデルの表示\n",
        "\n",
        "model.compile(loss='categorical_crossentropy', # (4) モデルのコンパイル、損失関数\n",
        "              optimizer='adam', # 更新方法\n",
        "              metrics=['accuracy']) # 正答率\n",
        "\n",
        "hist = model.fit(x_train, y_train, # (5) 学習\n",
        "                 batch_size=128, epochs=20, verbose=1,\n",
        "                 validation_data=(x_test, y_test))\n",
        "\n",
        "score = model.evaluate(x_test, y_test, verbose=1) # (6) モデルの評価\n",
        "print('test loss:', score[0]) # 結果の表示\n",
        "print('test acc:', score[1])\n",
        "\n",
        "model.save(path+'model_weightsNN.h5')\n",
        "\n",
        "from sklearn import metrics\n",
        "p = model.predict(x_test)\n",
        "print(metrics.confusion_matrix(y_test.argmax(axis=1), p.argmax(axis=1)))\n",
        "\n",
        "import matplotlib.pyplot as plt # 学習の様子をグラフ化\n",
        "plt.plot(hist.history['accuracy']) # 訓練データでの正解率\n",
        "plt.plot(hist.history['val_accuracy'], linestyle='--') # テストデータでの正解率\n",
        "plt.title('Accuracy')\n",
        "plt.legend(['train', 'test'])\n",
        "plt.grid(True)\n",
        "plt.figure()\n",
        "\n",
        "plt.plot(hist.history['loss']) # 損失率\n",
        "plt.plot(hist.history['val_loss'], linestyle='--')\n",
        "plt.title('Loss')\n",
        "plt.legend(['train', 'test'])\n",
        "plt.grid(True)\n",
        "plt.show()"
      ],
      "metadata": {
        "colab": {
          "base_uri": "https://localhost:8080/",
          "height": 1000
        },
        "outputId": "a8a2ce53-33b4-4755-b58b-26489a330cd4",
        "id": "pqwWRkEvsPcL"
      },
      "execution_count": 12,
      "outputs": [
        {
          "output_type": "stream",
          "name": "stdout",
          "text": [
            "Model: \"sequential_6\"\n",
            "_________________________________________________________________\n",
            " Layer (type)                Output Shape              Param #   \n",
            "=================================================================\n",
            " dense_14 (Dense)            (None, 128)               100480    \n",
            "                                                                 \n",
            " dense_15 (Dense)            (None, 128)               16512     \n",
            "                                                                 \n",
            " dense_16 (Dense)            (None, 10)                1290      \n",
            "                                                                 \n",
            "=================================================================\n",
            "Total params: 118,282\n",
            "Trainable params: 118,282\n",
            "Non-trainable params: 0\n",
            "_________________________________________________________________\n",
            "Epoch 1/20\n",
            "469/469 [==============================] - 2s 4ms/step - loss: 0.5338 - accuracy: 0.8148 - val_loss: 0.4394 - val_accuracy: 0.8477\n",
            "Epoch 2/20\n",
            "469/469 [==============================] - 2s 4ms/step - loss: 0.3792 - accuracy: 0.8640 - val_loss: 0.3905 - val_accuracy: 0.8627\n",
            "Epoch 3/20\n",
            "469/469 [==============================] - 2s 4ms/step - loss: 0.3405 - accuracy: 0.8774 - val_loss: 0.3970 - val_accuracy: 0.8549\n",
            "Epoch 4/20\n",
            "469/469 [==============================] - 2s 4ms/step - loss: 0.3152 - accuracy: 0.8847 - val_loss: 0.3659 - val_accuracy: 0.8677\n",
            "Epoch 5/20\n",
            "469/469 [==============================] - 2s 5ms/step - loss: 0.2939 - accuracy: 0.8909 - val_loss: 0.3567 - val_accuracy: 0.8711\n",
            "Epoch 6/20\n",
            "469/469 [==============================] - 3s 5ms/step - loss: 0.2825 - accuracy: 0.8954 - val_loss: 0.3437 - val_accuracy: 0.8761\n",
            "Epoch 7/20\n",
            "469/469 [==============================] - 2s 4ms/step - loss: 0.2686 - accuracy: 0.9004 - val_loss: 0.3309 - val_accuracy: 0.8817\n",
            "Epoch 8/20\n",
            "469/469 [==============================] - 2s 4ms/step - loss: 0.2586 - accuracy: 0.9035 - val_loss: 0.3355 - val_accuracy: 0.8819\n",
            "Epoch 9/20\n",
            "469/469 [==============================] - 2s 4ms/step - loss: 0.2468 - accuracy: 0.9077 - val_loss: 0.3373 - val_accuracy: 0.8822\n",
            "Epoch 10/20\n",
            "469/469 [==============================] - 2s 4ms/step - loss: 0.2381 - accuracy: 0.9107 - val_loss: 0.3202 - val_accuracy: 0.8829\n",
            "Epoch 11/20\n",
            "469/469 [==============================] - 2s 4ms/step - loss: 0.2294 - accuracy: 0.9132 - val_loss: 0.3329 - val_accuracy: 0.8821\n",
            "Epoch 12/20\n",
            "469/469 [==============================] - 3s 6ms/step - loss: 0.2203 - accuracy: 0.9184 - val_loss: 0.3204 - val_accuracy: 0.8878\n",
            "Epoch 13/20\n",
            "469/469 [==============================] - 2s 4ms/step - loss: 0.2103 - accuracy: 0.9218 - val_loss: 0.3400 - val_accuracy: 0.8822\n",
            "Epoch 14/20\n",
            "469/469 [==============================] - 2s 4ms/step - loss: 0.2062 - accuracy: 0.9228 - val_loss: 0.3357 - val_accuracy: 0.8841\n",
            "Epoch 15/20\n",
            "469/469 [==============================] - 2s 4ms/step - loss: 0.1999 - accuracy: 0.9253 - val_loss: 0.3298 - val_accuracy: 0.8926\n",
            "Epoch 16/20\n",
            "469/469 [==============================] - 2s 4ms/step - loss: 0.1936 - accuracy: 0.9269 - val_loss: 0.3421 - val_accuracy: 0.8835\n",
            "Epoch 17/20\n",
            "469/469 [==============================] - 2s 4ms/step - loss: 0.1872 - accuracy: 0.9294 - val_loss: 0.3233 - val_accuracy: 0.8932\n",
            "Epoch 18/20\n",
            "469/469 [==============================] - 2s 5ms/step - loss: 0.1820 - accuracy: 0.9317 - val_loss: 0.3570 - val_accuracy: 0.8831\n",
            "Epoch 19/20\n",
            "469/469 [==============================] - 2s 5ms/step - loss: 0.1791 - accuracy: 0.9337 - val_loss: 0.3495 - val_accuracy: 0.8875\n",
            "Epoch 20/20\n",
            "469/469 [==============================] - 2s 4ms/step - loss: 0.1701 - accuracy: 0.9352 - val_loss: 0.3640 - val_accuracy: 0.8912\n",
            "313/313 [==============================] - 0s 1ms/step - loss: 0.3640 - accuracy: 0.8912\n",
            "test loss: 0.3639981746673584\n",
            "test acc: 0.8912000060081482\n",
            "313/313 [==============================] - 0s 1ms/step\n",
            "[[886   1  14  18   3   1  73   0   4   0]\n",
            " [  4 974   1  16   2   1   1   0   1   0]\n",
            " [ 23   0 823  16  78   1  59   0   0   0]\n",
            " [ 30   6   8 917  12   0  24   0   3   0]\n",
            " [  3   2  81  49 790   0  74   0   1   0]\n",
            " [  0   0   0   1   0 968   0  23   0   8]\n",
            " [153   0  79  29  46   0 690   0   3   0]\n",
            " [  0   0   0   0   0  11   0 980   0   9]\n",
            " [  9   0   4   4   6   4   2   6 965   0]\n",
            " [  0   0   0   0   0  15   1  65   0 919]]\n"
          ]
        },
        {
          "output_type": "display_data",
          "data": {
            "text/plain": [
              "<Figure size 640x480 with 1 Axes>"
            ],
            "image/png": "[encoded data removed]"
          },
          "metadata": {}
        },
        {
          "output_type": "display_data",
          "data": {
            "text/plain": [
              "<Figure size 640x480 with 1 Axes>"
            ],
            "image/png": "[encoded data removed]"
          },
          "metadata": {}
        }
      ]
    },
    {
      "cell_type": "code",
      "source": [
        "import keras # (1) モジュールのインポート\n",
        "from keras.datasets import fashion_mnist\n",
        "from keras.models import Sequential\n",
        "from keras.layers.core import Dense\n",
        "from tensorflow.keras import utils as np_utils #変更追加した分　以前はこの形が多い、np_utilsの内容が変わったと書かれたサイトもあるので？？\n",
        "(x_train, y_train), (x_test, y_test) = fashion_mnist.load_data() # (2) データの読み込み\n",
        "\n",
        "x_train = x_train.reshape(x_train.shape[0], 28*28).astype('float32') # データ変換\n",
        "x_test = x_test.reshape(x_test.shape[0], 28*28).astype('float32')\n",
        "x_train /= 255 # 正規化(0.0~1.0の範囲に変換)\n",
        "x_test /= 255\n",
        "y_train = np_utils.to_categorical(y_train, 10)#13行を変更追加した分\n",
        "#y_train = keras.utils.to_categorical(y_train, 10) # ラベルをone-hotに変換\n",
        "#y_test = keras.utils.to_categorical(y_test, 10) # fashion_mnistは10クラス\n",
        "y_test = np_utils.to_categorical(y_test, 10)#14行を変更追加した分\n",
        "model = Sequential() # (3)モデルを構築する\n",
        "model.add(Dense(128, input_shape=(28*28, ), activation='relu'))\n",
        "model.add(Dense(128, activation='relu'))\n",
        "model.add(Dense(10, activation='softmax')) # 出力層\n",
        "\n",
        "model.summary() # モデルの表示\n",
        "\n",
        "model.compile(loss='categorical_crossentropy', # (4) モデルのコンパイル、損失関数\n",
        "              optimizer='adam', # 更新方法\n",
        "              metrics=['accuracy']) # 正答率\n",
        "\n",
        "hist = model.fit(x_train, y_train, # (5) 学習\n",
        "                 batch_size=128, epochs=20, verbose=1,\n",
        "                 validation_data=(x_test, y_test))\n",
        "\n",
        "score = model.evaluate(x_test, y_test, verbose=1) # (6) モデルの評価\n",
        "print('test loss:', score[0]) # 結果の表示\n",
        "print('test acc:', score[1])\n",
        "\n",
        "#model.save(path+'model_weightsNN.h5')\n",
        "\n",
        "from sklearn import metrics\n",
        "p = model.predict(x_test)\n",
        "print(metrics.confusion_matrix(y_test.argmax(axis=1), p.argmax(axis=1)))\n",
        "\n",
        "import matplotlib.pyplot as plt # 学習の様子をグラフ化\n",
        "\n",
        "fig =plt.figure()\n",
        "ax1=fig.add_subplot(1,2,1)\n",
        "ax1.plot(hist.history['accuracy']) # 訓練データでの正解率\n",
        "ax1.plot(hist.history['val_accuracy'], linestyle='--') # テストデータでの正解率\n",
        "ax1.set_title('Accuracy')\n",
        "ax1.legend(['train', 'test'])\n",
        "ax1.grid(True)\n",
        "plt.figure()\n",
        "\n",
        "ax2=fig.add_subplot(1,2,2)\n",
        "ax2.plot(hist.history['loss']) # 損失率\n",
        "ax2.plot(hist.history['val_loss'], linestyle='--')\n",
        "ax2.set_title('Loss')\n",
        "ax2.legend(['train', 'test'])\n",
        "ax2.grid(True)\n",
        "plt.show()"
      ],
      "metadata": {
        "id": "Y0fDJak1uCan"
      },
      "execution_count": null,
      "outputs": []
    },
    {
      "cell_type": "markdown",
      "source": [
        "ドロップアウト"
      ],
      "metadata": {
        "id": "cbAH_UAFaEq6"
      }
    },
    {
      "cell_type": "code",
      "source": [
        "import keras # (1) モジュールのインポート\n",
        "from keras.datasets import fashion_mnist\n",
        "from keras.models import Sequential\n",
        "from keras.layers.core import Dense, Dropout\n",
        "from tensorflow.keras import utils as np_utils #変更追加した分　以前はこの形が多い、np_utilsの内容が変わったと書かれたサイトもあるので？？\n",
        "(x_train, y_train), (x_test, y_test) = fashion_mnist.load_data() # (2) データの読み込み\n",
        "\n",
        "x_train = x_train.reshape(x_train.shape[0], 28*28).astype('float32') # データ変換\n",
        "x_test = x_test.reshape(x_test.shape[0], 28*28).astype('float32')\n",
        "x_train /= 255 # 正規化(0.0~1.0の範囲に変換)\n",
        "x_test /= 255\n",
        "y_train = np_utils.to_categorical(y_train, 10)#13行を変更追加した分\n",
        "#y_train = keras.utils.to_categorical(y_train, 10) # ラベルをone-hotに変換\n",
        "#y_test = keras.utils.to_categorical(y_test, 10) # fashion_mnistは10クラス\n",
        "y_test = np_utils.to_categorical(y_test, 10)#14行を変更追加した分\n",
        "model = Sequential() # (3)モデルを構築する\n",
        "model.add(Dense(128, input_shape=(28*28, ), activation='relu'))\n",
        "model.add(Dense(128, activation='relu'))\n",
        "model.add(Dropout(0.3))\n",
        "model.add(Dense(10, activation='softmax')) # 出力層\n",
        "\n",
        "model.summary() # モデルの表示\n",
        "\n",
        "model.compile(loss='categorical_crossentropy', # (4) モデルのコンパイル、損失関数\n",
        "              optimizer='adam', # 更新方法\n",
        "              metrics=['accuracy']) # 正答率\n",
        "\n",
        "hist = model.fit(x_train, y_train, # (5) 学習\n",
        "                 batch_size=128, epochs=20, verbose=1,\n",
        "                 validation_data=(x_test, y_test))\n",
        "\n",
        "score = model.evaluate(x_test, y_test, verbose=1) # (6) モデルの評価\n",
        "print('test loss:', score[0]) # 結果の表示\n",
        "print('test acc:', score[1])\n",
        "\n",
        "#model.save(path+'model_weightsNN.h5')\n",
        "\n",
        "from sklearn import metrics\n",
        "p = model.predict(x_test)\n",
        "print(metrics.confusion_matrix(y_test.argmax(axis=1), p.argmax(axis=1)))\n",
        "\n",
        "import matplotlib.pyplot as plt # 学習の様子をグラフ化\n",
        "\n",
        "fig =plt.figure()\n",
        "ax1=fig.add_subplot(1,2,1)\n",
        "ax1.plot(hist.history['accuracy']) # 訓練データでの正解率\n",
        "ax1.plot(hist.history['val_accuracy'], linestyle='--') # テストデータでの正解率\n",
        "ax1.set_title('Accuracy')\n",
        "ax1.legend(['train', 'test'])\n",
        "ax1.grid(True)\n",
        "plt.figure()\n",
        "\n",
        "ax2=fig.add_subplot(1,2,2)\n",
        "ax2.plot(hist.history['loss']) # 損失率\n",
        "ax2.plot(hist.history['val_loss'], linestyle='--')\n",
        "ax2.set_title('Loss')\n",
        "ax2.legend(['train', 'test'])\n",
        "ax2.grid(True)\n",
        "plt.show()"
      ],
      "metadata": {
        "id": "-uNm1ES2x7ex"
      },
      "execution_count": null,
      "outputs": []
    },
    {
      "cell_type": "markdown",
      "source": [
        "13.3"
      ],
      "metadata": {
        "id": "5HQwWN101Bkc"
      }
    },
    {
      "cell_type": "markdown",
      "source": [
        "13.3.3"
      ],
      "metadata": {
        "id": "ffLYxbaD3xiq"
      }
    },
    {
      "cell_type": "code",
      "source": [
        "import keras\n",
        "from keras.datasets import fashion_mnist\n",
        "from keras.models import Sequential\n",
        "from keras.layers.core import Dense, Flatten  # for CNN\n",
        "from keras.layers.convolutional import Conv2D # for CNN\n",
        "from keras.layers.pooling import MaxPooling2D # for CNN\n",
        "\n",
        "(x_train, y_train), (x_test, y_test) = fashion_mnist.load_data() # データの読み込み\n",
        "\n",
        "x_train = x_train.reshape(x_train.shape[0], 28, 28, 1).astype('float32')\n",
        "x_test = x_test.reshape(x_test.shape[0], 28, 28, 1).astype('float32')\n",
        "x_train /= 255\n",
        "x_test /= 255\n",
        "\n",
        "y_train = keras.utils.to_categorical(y_train, 10) # one-hotへ変換\n",
        "y_test = keras.utils.to_categorical(y_test, 10)\n",
        "\n",
        "model = Sequential() # モデルの作成\n",
        "model.add(Conv2D(32, kernel_size=(3, 3), input_shape=(28, 28, 1), activation='relu')) # 畳み込み層\n",
        "model.add(MaxPooling2D(pool_size=(2, 2))) # プーリング層\n",
        "model.add(Flatten()) # 全結合層に渡すための1次元化\n",
        "model.add(Dense(128, activation='relu')) # 全結合層\n",
        "model.add(Dense(10, activation='softmax')) # 出力層\n",
        "\n",
        "model.summary() # モデルの表示\n",
        "\n",
        "model.compile(loss='categorical_crossentropy', optimizer='adam', metrics=['accuracy'])\n",
        "\n",
        "hist = model.fit(x_train, y_train, batch_size=128, epochs=20, verbose=1,\n",
        "                 validation_data=(x_test, y_test))\n",
        "\n",
        "score = model.evaluate(x_test, y_test, verbose=1)\n",
        "print('test loss:', score[0])\n",
        "print('test acc:', score[1])\n",
        "\n",
        "model.save(path+'model_weightsCNN.h5')"
      ],
      "metadata": {
        "id": "n-zizZ5V3epm"
      },
      "execution_count": null,
      "outputs": []
    },
    {
      "cell_type": "markdown",
      "source": [
        "13.3.4"
      ],
      "metadata": {
        "id": "PbenuUBeHbI8"
      }
    },
    {
      "cell_type": "code",
      "source": [
        "import keras\n",
        "from keras.datasets import fashion_mnist\n",
        "from keras.models import Sequential\n",
        "from keras.layers.core import Dense, Flatten, Dropout  # for CNN\n",
        "from keras.layers.convolutional import Conv2D # for CNN\n",
        "from keras.layers.pooling import MaxPooling2D # for CNN\n",
        "\n",
        "(x_train, y_train), (x_test, y_test) = fashion_mnist.load_data() # データの読み込み\n",
        "\n",
        "x_train = x_train.reshape(x_train.shape[0], 28, 28, 1).astype('float32')\n",
        "x_test = x_test.reshape(x_test.shape[0], 28, 28, 1).astype('float32')\n",
        "x_train /= 255\n",
        "x_test /= 255\n",
        "\n",
        "y_train = keras.utils.to_categorical(y_train, 10) # one-hotへ変換\n",
        "y_test = keras.utils.to_categorical(y_test, 10)\n",
        "\n",
        "model = Sequential() # モデルの作成\n",
        "model.add(Conv2D(32, kernel_size=(3, 3), input_shape=(28, 28, 1), activation='relu')) # 畳み込み層\n",
        "model.add(MaxPooling2D(pool_size=(2, 2))) # プーリング層\n",
        "model.add(Dropout(0.25))\n",
        "model.add(Flatten()) # 全結合層に渡すための1次元化\n",
        "model.add(Dense(128, activation='relu')) # 全結合層\n",
        "model.add(Dropout(0.5))\n",
        "model.add(Dense(10, activation='softmax')) # 出力層\n",
        "\n",
        "model.summary() # モデルの表示\n",
        "\n",
        "model.compile(loss='categorical_crossentropy', optimizer='adam', metrics=['accuracy'])\n",
        "\n",
        "hist = model.fit(x_train, y_train, batch_size=128, epochs=20, verbose=1,\n",
        "                 validation_data=(x_test, y_test))\n",
        "\n",
        "score = model.evaluate(x_test, y_test, verbose=1)\n",
        "print('test loss:', score[0])\n",
        "print('test acc:', score[1])\n",
        "\n",
        "model.save(path+'model_weightsCNN.h5')"
      ],
      "metadata": {
        "id": "zuExPyzK5940"
      },
      "execution_count": null,
      "outputs": []
    },
    {
      "cell_type": "markdown",
      "source": [
        "13.3.5"
      ],
      "metadata": {
        "id": "GRxFIpnu6rI8"
      }
    },
    {
      "cell_type": "code",
      "source": [
        "from keras.models import load_model\n",
        "import cv2\n",
        "import numpy as np\n",
        "\n",
        "file = input('画像ファイル名: ')\n",
        "file=path+file\n",
        "img = cv2.imread(file) # 画像データの読み込み\n",
        "img = cv2.resize(img, (28, 28), interpolation=cv2.INTER_AREA) #データのリサイズ\n",
        "img = cv2.cvtColor(img, cv2.COLOR_BGR2GRAY) # グレースケール化\n",
        "img = np.array(img, 'float') # NumPyの配列にする\n",
        "img = (255 - img) / 255 # 反転し、0~1へ変換\n",
        "img = img.reshape(1, 28, 28, 1) # 28x28の配列に変換\n",
        "\n",
        "model = load_model(path+'model_weightsCNN.h5') # 学習済みの重みの読み込み\n",
        "\n",
        "fashion={ 0:'Tシャツ', 1:'ズボン', 2:'プルオーバー', 3:'ドレス', 4:'コート', 5:'サンダル',\n",
        "          6:'シャツ', 7:'スニーカー', 8:'バッグ', 9:'アンクルブーツ' }\n",
        "ret = model.predict([img]) # 分類\n",
        "c=np.argmax(ret)\n",
        "print(fashion[c]+'です')"
      ],
      "metadata": {
        "id": "ZPm5I-ZT6tru"
      },
      "execution_count": null,
      "outputs": []
    },
    {
      "cell_type": "markdown",
      "source": [
        "13.3.6"
      ],
      "metadata": {
        "id": "zV85Crm56qIQ"
      }
    },
    {
      "cell_type": "code",
      "source": [
        "import keras\n",
        "from keras.datasets import fashion_mnist\n",
        "from keras.models import Sequential\n",
        "from keras.layers.core import Dense, Flatten, Dropout  # for CNN\n",
        "from keras.layers.convolutional import Conv2D # for CNN\n",
        "from keras.layers.pooling import MaxPooling2D # for CNN\n",
        "\n",
        "(x_train, y_train), (x_test, y_test) = fashion_mnist.load_data() # データの読み込み\n",
        "\n",
        "x_train = x_train.reshape(x_train.shape[0], 28, 28, 1).astype('float32')\n",
        "x_test = x_test.reshape(x_test.shape[0], 28, 28, 1).astype('float32')\n",
        "x_train /= 255\n",
        "x_test /= 255\n",
        "\n",
        "y_train = keras.utils.to_categorical(y_train, 10) # one-hotへ変換\n",
        "y_test = keras.utils.to_categorical(y_test, 10)\n",
        "\n",
        "model = Sequential() # モデルの作成\n",
        "model.add(Conv2D(32, kernel_size=(3, 3), input_shape=(28, 28, 1), activation='relu')) # 畳み込み層\n",
        "model.add(Conv2D(64, kernel_size=(3, 3),  activation='relu'))\n",
        "model.add(MaxPooling2D(pool_size=(2, 2))) # プーリング層\n",
        "model.add(Dropout(0.25))\n",
        "model.add(Flatten()) # 全結合層に渡すための1次元化\n",
        "model.add(Dense(128, activation='relu')) # 全結合層\n",
        "model.add(Dropout(0.5))\n",
        "model.add(Dense(10, activation='softmax')) # 出力層\n",
        "\n",
        "model.summary() # モデルの表示\n",
        "\n",
        "model.compile(loss='categorical_crossentropy', optimizer='adam', metrics=['accuracy'])\n",
        "\n",
        "hist = model.fit(x_train, y_train, batch_size=128, epochs=20, verbose=1,\n",
        "                 validation_data=(x_test, y_test))\n",
        "\n",
        "score = model.evaluate(x_test, y_test, verbose=1)\n",
        "print('test loss:', score[0])\n",
        "print('test acc:', score[1])\n",
        "\n",
        "model.save(path+'model_weightsCNN.h5')"
      ],
      "metadata": {
        "id": "1fAa7VEy8Eme"
      },
      "execution_count": null,
      "outputs": []
    },
    {
      "cell_type": "markdown",
      "source": [
        "VGGライクなNN 動作未"
      ],
      "metadata": {
        "id": "pVsM8fXf8wHu"
      }
    },
    {
      "cell_type": "code",
      "source": [
        "import keras\n",
        "from keras.datasets import fashion_mnist\n",
        "from keras.models import Sequential\n",
        "from keras.layers.core import Dense, Activation, Flatten, Dropout # for CNN\n",
        "from keras.layers.convolutional import Conv2D # for CNN\n",
        "from keras.layers.pooling import MaxPooling2D # for CNN\n",
        "\n",
        "(x_train, y_train), (x_test, y_test) = fashion_mnist.load_data()\n",
        "\n",
        "x_train = x_train.reshape(x_train.shape[0], 28, 28, 1).astype('float32')\n",
        "x_test = x_test.reshape(x_test.shape[0], 28, 28, 1).astype('float32')\n",
        "x_train /= 255\n",
        "x_test /= 255\n",
        "\n",
        "y_train = keras.utils.to_categorical(y_train, 10) # one-hotへ変換\n",
        "y_test = keras.utils.to_categorical(y_test, 10)\n",
        "\n",
        "model = Sequential()\n",
        "# 入力: サイズが100x100で3チャンネルをもつ画像 -> (100, 100, 3) のテンソル\n",
        "# それぞれのlayerで3x3の畳み込み処理を適用している\n",
        "model.add(Conv2D(32, (3, 3), activation='relu', input_shape=(28, 28, 1), padding='same'))\n",
        "model.add(Conv2D(32, (3, 3), activation='relu', padding='same'))\n",
        "model.add(MaxPooling2D(pool_size=(2, 2)))\n",
        "model.add(Dropout(0.25))\n",
        "\n",
        "model.add(Conv2D(64, (3, 3), activation='relu', padding='same'))\n",
        "model.add(Conv2D(64, (3, 3), activation='relu', padding='same'))\n",
        "model.add(MaxPooling2D(pool_size=(2, 2)))\n",
        "model.add(Dropout(0.25))\n",
        "\n",
        "model.add(Flatten())\n",
        "model.add(Dense(256, activation='relu'))\n",
        "model.add(Dropout(0.5))\n",
        "model.add(Dense(10, activation='softmax'))\n",
        "\n",
        "model.compile(loss='categorical_crossentropy', optimizer='adam', metrics=['accuracy'])\n",
        "\n",
        "model.summary()\n",
        "\n",
        "from keras.callbacks import ModelCheckpoint\n",
        "hist = model.fit(x_train, y_train, batch_size=128, epochs=60, verbose=1,\n",
        "#                 callbacks=[ EarlyStopping(monitor='val_loss', patience=10),\n",
        "                 callbacks=[ModelCheckpoint('weightsCNN.h5', monitor='val_loss', save_best_only=True)],\n",
        "                 validation_data=(x_test, y_test))\n",
        "\n",
        "score = model.evaluate(x_test, y_test, verbose=1)\n",
        "print('test loss:', score[0])\n",
        "print('test acc:', score[1])\n",
        "\n",
        "json_string = model.to_json()\n",
        "f = open(path+'modelCNN.json', 'w')\n",
        "f.write(json_string)\n"
      ],
      "metadata": {
        "id": "yTtnuVDU82R3"
      },
      "execution_count": null,
      "outputs": []
    },
    {
      "cell_type": "markdown",
      "source": [
        "13.3.7"
      ],
      "metadata": {
        "id": "tKZMne9I6cPt"
      }
    },
    {
      "cell_type": "code",
      "source": [
        "import keras\n",
        "from keras.datasets import fashion_mnist\n",
        "from keras.models import Sequential\n",
        "from keras.layers.core import Dense, Activation, Flatten, Dropout # for CNN\n",
        "from keras.layers.convolutional import Conv2D # for CNN\n",
        "from keras.layers.pooling import MaxPooling2D # for CNN\n",
        "\n",
        "(x_train, y_train), (x_test, y_test) = fashion_mnist.load_data()\n",
        "\n",
        "x_train = x_train.reshape(x_train.shape[0], 28, 28, 1).astype('float32')\n",
        "x_test = x_test.reshape(x_test.shape[0], 28, 28, 1).astype('float32')\n",
        "x_train /= 255\n",
        "x_test /= 255\n",
        "\n",
        "y_train = keras.utils.to_categorical(y_train, 10) # one-hotへ変換\n",
        "y_test = keras.utils.to_categorical(y_test, 10)\n",
        "\n",
        "model = Sequential() # モデルの作成\n",
        "model.add(Conv2D(32, kernel_size=(3, 3), input_shape=(28, 28, 1), activation='relu')) # 畳み込み層\n",
        "model.add(Conv2D(64, kernel_size=(3, 3), activation='relu')) # 畳み込み層\n",
        "model.add(MaxPooling2D(pool_size=(2, 2))) # プーリング層\n",
        "model.add(Dropout(0.25)) # ドロップアウト層\n",
        "model.add(Flatten()) # 全結合層に渡すための1次元化\n",
        "model.add(Dense(128, activation='relu')) # 全結合層\n",
        "model.add(Dropout(0.5)) # ドロップアウト層\n",
        "model.add(Dense(10, activation='softmax')) # 出力層\n",
        "\n",
        "model.compile(loss='categorical_crossentropy', optimizer='adam', metrics=['accuracy'])\n",
        "\n",
        "from keras.callbacks import EarlyStopping, ModelCheckpoint\n",
        "hist = model.fit(x_train, y_train, batch_size=128, epochs=40, verbose=1,\n",
        "                 callbacks=[ EarlyStopping(monitor='val_loss', patience=10),\n",
        "                            ModelCheckpoint('model_weightsCNN.h5', monitor='val_loss', save_best_only=True)],\n",
        "                 validation_data=(x_test, y_test))\n",
        "\n",
        "score = model.evaluate(x_test, y_test, verbose=1)\n",
        "print('test loss:', score[0])\n",
        "print('test acc:', score[1])"
      ],
      "metadata": {
        "id": "frGBx18y-Fao"
      },
      "execution_count": null,
      "outputs": []
    },
    {
      "cell_type": "markdown",
      "source": [],
      "metadata": {
        "id": "fdEr7lxn-pKc"
      }
    },
    {
      "cell_type": "markdown",
      "source": [
        "13.4"
      ],
      "metadata": {
        "id": "iZUUolPH-o4_"
      }
    },
    {
      "cell_type": "code",
      "source": [
        "from keras.datasets import fashion_mnist\n",
        "import os\n",
        "import cv2\n",
        "\n",
        "def save(kind, data, label):\n",
        "    for n in range(0, data.shape[0]): # 画像の枚数分処理する\n",
        "        l = label[n] # ラベルの取り出し\n",
        "        #if l != 7 and l != 8 and l != 9: # 7,8,9以外は読み飛ばす\n",
        "        if l != 7:\n",
        "            continue\n",
        "        file = os.path.join('data', kind, str(l), str(n) + '.png') # ファイル名作成\n",
        "        img = data[n].reshape(28, 28) # OpenCVの画像形式へ\n",
        "        img = cv2.resize(img, (28*2, 28*2)) # 小さいので拡大する\n",
        "        cv2.imwrite(file, img) # 画像ファイルとして保存\n",
        "\n",
        "(x_train, y_train), (x_test, y_test) = fashion_mnist.load_data() # データの読み込み\n",
        "train=path+'train'\n",
        "test=path+'test'\n",
        "save('train', x_train, y_train)\n",
        "save('test', x_test, y_test)"
      ],
      "metadata": {
        "id": "K8jtW8CpAJbh"
      },
      "execution_count": 8,
      "outputs": []
    },
    {
      "cell_type": "markdown",
      "source": [],
      "metadata": {
        "id": "HldsQxAaHITW"
      }
    },
    {
      "cell_type": "markdown",
      "source": [],
      "metadata": {
        "id": "8pRT7SYQHIIg"
      }
    },
    {
      "cell_type": "code",
      "source": [
        "# TensorFlowとKerasのインポート\n",
        "import tensorflow as tf\n",
        "import keras\n",
        "#from tensorflow.keras import utils as np_utils #変更追加した分\n",
        "from tensorflow.keras.utils import to_categorical\n",
        "# 手書き数字MNISTデータセットのインポート\n",
        "from keras.datasets import mnist\n",
        "from matplotlib import pyplot\n",
        "# kerasのバージョン確認\n",
        "print('keras version ',keras.__version__)\n",
        "\n",
        "# 手書き数字MNISTデータを読み込み\n",
        "(train_images, train_labels), (test_images, test_labels) = mnist.load_data()\n",
        "# 画像データの次元確認\n",
        "print('train_images shape =', train_images.shape)\n",
        "\n",
        "# 画像データ16件をキャンバスに2行8列で白黒で出力\n",
        "for i in range(0, 16):\n",
        "    pyplot.subplot(2, 8, i + 1)\n",
        "    pyplot.imshow(train_images[i], cmap='gray')\n",
        "pyplot.show()\n",
        "# ラベルデータをone-hotベクトルに変換\n",
        "# https://keras.io/ja/utils/#to_categorical\n",
        "\n",
        "#train_labels = keras.utils.to_categorical(train_labels.astype('int32'), 10)\n",
        "#test_labels = keras.utils.to_categorical(test_labels.astype('int32'), 10)\n",
        "train_labels = to_categorical(train_labels.astype('int32'), 10)\n",
        "test_labels = to_categorical(test_labels.astype('int32'), 10)\n",
        "# ラベルデータの要素確認\n",
        "print('train_labels shape =', train_labels.shape)\n",
        "\n",
        "# ラベルデータ３件だけ表示\n",
        "for i in range(0, 3):\n",
        "  print(train_labels[i])"
      ],
      "metadata": {
        "colab": {
          "base_uri": "https://localhost:8080/",
          "height": 309
        },
        "id": "VSP0YaB1Fnw7",
        "outputId": "86aa29ec-153c-4b0b-e44f-62d5854caa05"
      },
      "execution_count": null,
      "outputs": [
        {
          "output_type": "stream",
          "name": "stdout",
          "text": [
            "keras version  2.8.0\n",
            "train_images shape = (60000, 28, 28)\n"
          ]
        },
        {
          "output_type": "display_data",
          "data": {
            "text/plain": [
              "<Figure size 432x288 with 16 Axes>"
            ],
            "image/png": "[encoded data removed]"
          },
          "metadata": {
            "needs_background": "light"
          }
        },
        {
          "output_type": "stream",
          "name": "stdout",
          "text": [
            "train_labels shape = (60000, 10)\n",
            "[0. 0. 0. 0. 0. 1. 0. 0. 0. 0.]\n",
            "[1. 0. 0. 0. 0. 0. 0. 0. 0. 0.]\n",
            "[0. 0. 0. 0. 1. 0. 0. 0. 0. 0.]\n"
          ]
        }
      ]
    },
    {
      "cell_type": "code",
      "source": [
        "# TensorFlowとKerasのインポート\n",
        "import tensorflow as tf\n",
        "#import keras\n",
        "from tensorflow.keras.utils import to_categorical\n",
        "from tensorflow import keras\n",
        "\n",
        "from tensorflow.keras import utils as np_utils #変更追加した分\n",
        "# 手書き数字MNISTデータセットのインポート\n",
        "from keras.datasets import mnist\n",
        "from matplotlib import pyplot\n",
        "# kerasのバージョン確認\n",
        "print('keras version ',keras.__version__)\n",
        "\n",
        "# 手書き数字MNISTデータを読み込み\n",
        "(train_images, train_labels), (test_images, test_labels) = mnist.load_data()\n",
        "# 画像データの次元確認\n",
        "print('train_images shape =', train_images.shape)\n",
        "\n",
        "# 画像データ16件をキャンバスに2行8列で白黒で出力\n",
        "for i in range(0, 16):\n",
        "    pyplot.subplot(2, 8, i + 1)\n",
        "    pyplot.imshow(train_images[i], cmap='gray')\n",
        "pyplot.show()\n",
        "# ラベルデータをone-hotベクトルに変換\n",
        "# https://keras.io/ja/utils/#to_categorical\n",
        "\n",
        "#train_labels = keras.utils.to_categorical(train_labels.astype('int32'), 10)\n",
        "#test_labels = keras.utils.to_categorical(test_labels.astype('int32'), 10)\n",
        "#train_labels = np_utils.to_categorical(train_labels.astype('int32'), 10)\n",
        "#test_labels = np_utils.to_categorical(test_labels.astype('int32'), 10)\n",
        "train_labels = to_categorical(train_labels.astype('int32'), 10)\n",
        "test_labels = to_categorical(test_labels.astype('int32'), 10)\n",
        "# ラベルデータの要素確認\n",
        "print('train_labels shape =', train_labels.shape)\n",
        "\n",
        "# ラベルデータ３件だけ表示\n",
        "for i in range(0, 3):\n",
        "  print(train_labels[i])"
      ],
      "metadata": {
        "colab": {
          "base_uri": "https://localhost:8080/",
          "height": 309
        },
        "outputId": "a16ee61b-6bab-4603-de25-b9ab18fc3c87",
        "id": "PG3FtjOpZEcz"
      },
      "execution_count": null,
      "outputs": [
        {
          "output_type": "stream",
          "name": "stdout",
          "text": [
            "keras version  2.8.0\n",
            "train_images shape = (60000, 28, 28)\n"
          ]
        },
        {
          "output_type": "display_data",
          "data": {
            "text/plain": [
              "<Figure size 432x288 with 16 Axes>"
            ],
            "image/png": "[encoded data removed]"
          },
          "metadata": {
            "needs_background": "light"
          }
        },
        {
          "output_type": "stream",
          "name": "stdout",
          "text": [
            "train_labels shape = (60000, 10)\n",
            "[0. 0. 0. 0. 0. 1. 0. 0. 0. 0.]\n",
            "[1. 0. 0. 0. 0. 0. 0. 0. 0. 0.]\n",
            "[0. 0. 0. 0. 1. 0. 0. 0. 0. 0.]\n"
          ]
        }
      ]
    },
    {
      "cell_type": "code",
      "source": [
        "# shapeが(60000, 28, 28)を(60000, 28, 28, 1)に次元を増やす。\n",
        "# KerasでCNN演算行う場合、デフォルトがchannels_lastになっていることに注意。\n",
        "# 因みにRGBカラー画像だと、(60000, 28, 28, 3)となる。\n",
        "# train_images.shape[0] = 60000\n",
        "train_images = train_images.reshape(train_images.shape[0], 28, 28, 1)\n",
        "test_images = test_images.reshape(test_images.shape[0], 28, 28, 1)\n",
        "# 次元の確認\n",
        "print(train_images.shape)\n",
        "# 整数型の画像データをfloat型に変換\n",
        "train_images = train_images.astype('float32')\n",
        "test_images = test_images.astype('float32')\n",
        "# 学習のために0～255の整数値を0～1.0の範囲に収めるために、全要素を255で割る\n",
        "train_images = train_images / 255.0\n",
        "test_images = test_images / 255.0"
      ],
      "metadata": {
        "colab": {
          "base_uri": "https://localhost:8080/"
        },
        "id": "Xruh5vbHRv5g",
        "outputId": "b8b45618-e431-4ef9-b91a-138d266a6c7e"
      },
      "execution_count": null,
      "outputs": [
        {
          "output_type": "stream",
          "name": "stdout",
          "text": [
            "(60000, 28, 28, 1)\n"
          ]
        }
      ]
    },
    {
      "cell_type": "code",
      "source": [
        "# MNIST CNNモデル構築\n",
        "from keras.models import Sequential # Sequentialモデルとはモデルを積み重ねたもの\n",
        "from keras.layers import Conv2D, MaxPooling2D\n",
        "from keras.layers import Dense, Flatten, Activation\n",
        "import numpy as np # NumPyモジュールをインポート\n",
        "\n",
        "# MNIST画像データをchannels_firstにする為に次元を入れ換え\n",
        "train_images = np.transpose(train_images, [0, 3, 1, 2])\n",
        "test_images = np.transpose(test_images, [0, 3, 1, 2])\n",
        "\n",
        "# CNNモデルを構築\n",
        "model_cnn = Sequential()\n",
        "#layer0\n",
        "output_channels = 5\n",
        "model_cnn.add(Conv2D(output_channels,\n",
        "                     kernel_size=(4, 4),\n",
        "                     strides=(1, 1),\n",
        "                     padding='valid',\n",
        "                     data_format='channels_first',\n",
        "                     input_shape=(1, 28, 28),\n",
        "                     dilation_rate=(1, 1),\n",
        "                     activation=None,\n",
        "                     use_bias=True,\n",
        "                     kernel_initializer='glorot_normal',\n",
        "                     bias_initializer='ones',\n",
        "                     kernel_regularizer=None,\n",
        "                     bias_regularizer=None,\n",
        "                     activity_regularizer=None,\n",
        "                     kernel_constraint=None,\n",
        "                     bias_constraint=None,\n",
        "                     name='conv1'))\n",
        "#layer1\n",
        "model_cnn.add(MaxPooling2D(pool_size=(2, 2),\n",
        "                           strides=(2, 2),\n",
        "                           padding='same',\n",
        "                           data_format='channels_first',\n",
        "                           name='maxpool1'))\n",
        "#layer2\n",
        "model_cnn.add(Activation('tanh'))\n",
        "#layer3\n",
        "output_channels = 3\n",
        "model_cnn.add(Conv2D(output_channels,\n",
        "                     kernel_size=(3, 3),\n",
        "                     strides=(1, 1),\n",
        "                     padding='valid',\n",
        "                     data_format='channels_first',\n",
        "                     dilation_rate=(1, 1),\n",
        "                     activation=None,\n",
        "                     use_bias=True,\n",
        "                     kernel_initializer='glorot_normal',\n",
        "                     bias_initializer='ones',\n",
        "                     kernel_regularizer=None,\n",
        "                     bias_regularizer=None,\n",
        "                     activity_regularizer=None,\n",
        "                     kernel_constraint=None,\n",
        "                     bias_constraint=None,\n",
        "                     name='conv2'))\n",
        "\n",
        "#layer4\n",
        "model_cnn.add(MaxPooling2D(pool_size=(2, 2),\n",
        "                           strides=(2, 2),\n",
        "                           padding='same',\n",
        "                           data_format='channels_first',\n",
        "                           name='maxpool2'))\n",
        "#layer5\n",
        "model_cnn.add(Activation('tanh'))\n",
        "#layer6\n",
        "output_channels = 3\n",
        "model_cnn.add(Conv2D(output_channels,\n",
        "                     kernel_size=(4, 4),\n",
        "                     strides=(1, 1),\n",
        "                     padding='valid',\n",
        "                     data_format='channels_first',\n",
        "                     dilation_rate=(1, 1),\n",
        "                     activation=None,\n",
        "                     use_bias=True,\n",
        "                     kernel_initializer='glorot_normal',\n",
        "                     bias_initializer='ones',\n",
        "                     kernel_regularizer=None,\n",
        "                     bias_regularizer=None,\n",
        "                     activity_regularizer=None,\n",
        "                     kernel_constraint=None,\n",
        "                     bias_constraint=None,\n",
        "                     name='conv3'))\n",
        "#layer7\n",
        "model_cnn.add(Activation('tanh'))\n",
        "#layer8\n",
        "model_cnn.add(Flatten(data_format=None, name='flat1'))\n",
        "#layer9\n",
        "output_channels = 10\n",
        "model_cnn.add(Dense(output_channels,\n",
        "                    activation=None,\n",
        "                    use_bias=True,\n",
        "                    kernel_initializer='glorot_normal',\n",
        "                    bias_initializer='ones',\n",
        "                    kernel_regularizer=None,\n",
        "                    bias_regularizer=None,\n",
        "                    activity_regularizer=None,\n",
        "                    kernel_constraint=None,\n",
        "                    bias_constraint=None,\n",
        "                    name='dense1'))\n",
        "#layer10\n",
        "model_cnn.add(Activation('softmax'))"
      ],
      "metadata": {
        "id": "Foa1AQ0XR4ix"
      },
      "execution_count": null,
      "outputs": []
    },
    {
      "cell_type": "code",
      "source": [
        "import matplotlib.pyplot as plt\n",
        "\n",
        "# モデルをコンパイル\n",
        "model_cnn.compile(\n",
        "    loss='categorical_crossentropy',\n",
        "    optimizer=tf.keras.optimizers.Adam(),\n",
        "    metrics=['accuracy'])\n",
        "\n",
        "# 学習を実行する\n",
        "hist = model_cnn.fit(train_images, train_labels,\n",
        "          batch_size=64,\n",
        "          epochs=2000,\n",
        "          verbose=1,\n",
        "          validation_data=(test_images, test_labels))\n",
        "\n",
        "model_cnn.summary()\n",
        "\n",
        "# モデルを評価する\n",
        "score = model_cnn.evaluate(test_images, test_labels, verbose=1)\n",
        "print('正解率=', score[1], 'loss=', score[0])\n",
        "\n",
        "# 学習の様子をグラフ表示\n",
        "plt.plot(hist.history['accuracy'])\n",
        "plt.plot(hist.history['val_accuracy'])\n",
        "plt.title('Accuracy')\n",
        "plt.legend(['train', 'test'], loc='upper left')\n",
        "plt.show()\n",
        "\n",
        "# ロス値をグラフ表示\n",
        "plt.plot(hist.history['loss'])\n",
        "plt.plot(hist.history['val_loss'])\n",
        "plt.title('Loss')\n",
        "plt.legend(['train', 'test'], loc='upper left')\n",
        "plt.show()\n",
        "\n",
        "# 学習済みモデルをh5形式ファイルでGoogleドライブに保存\n",
        "#model_cnn.save('/content/drive/MyDrive/colab_my_data/my_model.h5')\n"
      ],
      "metadata": {
        "id": "OU6fzNjNSC9w"
      },
      "execution_count": null,
      "outputs": []
    }
  ]
}