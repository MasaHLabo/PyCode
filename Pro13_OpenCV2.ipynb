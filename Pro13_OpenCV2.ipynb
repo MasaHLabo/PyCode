{
  "nbformat": 4,
  "nbformat_minor": 0,
  "metadata": {
    "colab": {
      "provenance": [],
      "authorship_tag": "ABX9TyPywv03kjAMSrS3EK7uY4y1",
      "include_colab_link": true
    },
    "kernelspec": {
      "name": "python3",
      "display_name": "Python 3"
    },
    "language_info": {
      "name": "python"
    }
  },
  "cells": [
    {
      "cell_type": "markdown",
      "metadata": {
        "id": "view-in-github",
        "colab_type": "text"
      },
      "source": [
        "<a href=\"https://colab.research.google.com/github/MasaHLabo/PyCode/blob/main/Pro13_OpenCV2.ipynb\" target=\"_parent\"><img src=\"https://colab.research.google.com/assets/colab-badge.svg\" alt=\"Open In Colab\"/></a>"
      ]
    },
    {
      "cell_type": "markdown",
      "source": [
        "# 画像処理入門（第１１章）\n",
        "前回の内容\n",
        "\n",
        "・OpenCV\n",
        "\n",
        "・HSV変換\n",
        "\n",
        "・グレースケール化、二値化（簡単に説明付けただけ）"
      ],
      "metadata": {
        "id": "F_RwBpjeDLMf"
      }
    },
    {
      "cell_type": "markdown",
      "source": [
        "ーーーーー\n",
        "\n",
        "画像を扱うので繰り返しになりますが。。。"
      ],
      "metadata": {
        "id": "9aJjkxLDCEqa"
      }
    },
    {
      "cell_type": "markdown",
      "source": [
        "11.1　OpenCVのインストール\n",
        "\n",
        "Colabではインストール済みなので下２行は実行しなくても動く"
      ],
      "metadata": {
        "id": "s23jKh2JaX7R"
      }
    },
    {
      "cell_type": "code",
      "execution_count": null,
      "metadata": {
        "id": "IChDhCUQDGhY"
      },
      "outputs": [],
      "source": [
        "pip install opencv-python"
      ]
    },
    {
      "cell_type": "code",
      "source": [
        "pip install opencv-contrib-python"
      ],
      "metadata": {
        "id": "MqXpGJ1XDe_K"
      },
      "execution_count": null,
      "outputs": []
    },
    {
      "cell_type": "markdown",
      "source": [
        "ーーーー\n",
        "\n",
        "他の環境（Anacondaなど）でファイルを扱う際の注意事項"
      ],
      "metadata": {
        "id": "AfMGLXXYCV8n"
      }
    },
    {
      "cell_type": "markdown",
      "source": [
        "画像ファイルの場所を指定する\n",
        "\n",
        "講義ではColabを用いているのでGoogleDriveを指定しているが各自の環境にあわせて指定すること\n",
        "\n",
        "Win:Cドライブのdataフォルダに画像ファイルを保存しているとしたら\n",
        "\n",
        "・通常表示だと　C：¥data¥ファイル名.拡張子　となるけれどこのままは使えない（￥マークは\\バックスラッシュで表示される場合もある）\n",
        "\n",
        "\n",
        "→パスの区切りを¥¥にする　C:¥¥data¥¥... と￥を２個重ねるか\n",
        "\n",
        "→パスの区切りを/にする　　C:/data/...\n",
        "\n",
        "\n",
        "パスについて詳しくは以下など参照\n",
        "\n",
        "https://startlab.jp/learning-python/path/\n",
        "\n",
        "https://techacademy.jp/magazine/18986"
      ],
      "metadata": {
        "id": "A8gLTPpBI45g"
      }
    },
    {
      "cell_type": "markdown",
      "source": [
        "ーーーー"
      ],
      "metadata": {
        "id": "7Oa3M54bC2ZF"
      }
    },
    {
      "cell_type": "code",
      "source": [
        "from google.colab import drive\n",
        "drive.mount('/content/drive')"
      ],
      "metadata": {
        "colab": {
          "base_uri": "https://localhost:8080/"
        },
        "id": "ZU8ODJ6pa9NU",
        "outputId": "05b741c5-47c4-4880-ca11-24804def1703"
      },
      "execution_count": null,
      "outputs": [
        {
          "output_type": "stream",
          "name": "stdout",
          "text": [
            "Mounted at /content/drive\n"
          ]
        }
      ]
    },
    {
      "cell_type": "code",
      "source": [
        "path='/content/drive/MyDrive/'"
      ],
      "metadata": {
        "id": "CATLNsSwDziD"
      },
      "execution_count": null,
      "outputs": []
    },
    {
      "cell_type": "markdown",
      "source": [
        "11.3 画像を表示\n",
        "\n",
        "ここでは，GoogleDriveにそのまま画像を保存している\n",
        "\n",
        "各自dataフォルダなど作成してそちらにまとめた方がいいでしょう，その場合は　上記パスの設定に\"data/\"の追加を忘れずに"
      ],
      "metadata": {
        "id": "45CNi1W2E6T3"
      }
    },
    {
      "cell_type": "markdown",
      "source": [],
      "metadata": {
        "id": "OzrHdIW4WrBz"
      }
    },
    {
      "cell_type": "markdown",
      "source": [
        "11.7 フィルタ処理"
      ],
      "metadata": {
        "id": "5nbWmz21WlDC"
      }
    },
    {
      "cell_type": "code",
      "source": [
        "import cv2\n",
        "import matplotlib.pyplot as plt\n",
        "%matplotlib inline\n",
        "import numpy as np \n",
        "\n",
        "img = path+'NoisedDog.bmp' # 画像を読み込む\n",
        "\n",
        "img2 = cv2.imread(img)\n",
        "filter = np.array([[1/9, 1/9, 1/9],\n",
        "                   [1/9, 1/9, 1/9],\n",
        "                   [1/9, 1/9, 1/9]])\n",
        "dst = cv2.filter2D(img2, -1, filter)\n",
        "\n",
        "show_img = cv2.cvtColor(dst, cv2.COLOR_BGR2RGB)\n",
        "\n",
        "plt.imshow(show_img)\n",
        "\n"
      ],
      "metadata": {
        "id": "PRnSaV0dXYGD"
      },
      "execution_count": null,
      "outputs": []
    },
    {
      "cell_type": "markdown",
      "source": [
        "エッジの抽出"
      ],
      "metadata": {
        "id": "Zg84uZeMdvVN"
      }
    },
    {
      "cell_type": "code",
      "source": [
        "import cv2\n",
        "import matplotlib.pyplot as plt\n",
        "%matplotlib inline\n",
        "import numpy as np \n",
        "\n",
        "img = path+'   ' # 画像を読み込む\n",
        "\n",
        "img2 = cv2.imread(img)\n",
        "\n",
        "fig =plt.figure(dpi=100)\n",
        "\n",
        "ax1=fig.add_subplot(1,2,1)\n",
        "show_img1 = cv2.cvtColor(img2, cv2.COLOR_BGR2RGB)\n",
        "plt.imshow(show_img1)\n",
        "\n",
        "ax2=fig.add_subplot(1,2,2)\n",
        "#Cannyフィルター\n",
        "dst1 = cv2.    #　エッジ抽出\n",
        "\n",
        "show_img2 = cv2.cvtColor(dst1, cv2.COLOR_BGR2RGB)\n",
        "plt.imshow(show_img2)\n",
        "\n",
        "plt.show() \n"
      ],
      "metadata": {
        "id": "q6WbSX5deXMs"
      },
      "execution_count": null,
      "outputs": []
    },
    {
      "cell_type": "markdown",
      "source": [
        "Sobelフィルタそのまま使うと"
      ],
      "metadata": {
        "id": "qC0erkIOfojl"
      }
    },
    {
      "cell_type": "code",
      "source": [
        "import cv2\n",
        "import matplotlib.pyplot as plt\n",
        "%matplotlib inline\n",
        "import numpy as np \n",
        "\n",
        "img = path+'  ' # 画像を読み込む\n",
        "\n",
        "img2 = cv2.imread(img)\n",
        "\n",
        "fig =plt.figure()\n",
        "\n",
        "ax1=fig.add_subplot(1,3,1)\n",
        "show_img1 = cv2.cvtColor(img2, cv2.COLOR_BGR2RGB)\n",
        "plt.imshow(show_img1)\n",
        "\n",
        "ax2=fig.add_subplot(1,3,2)\n",
        "#Sobelフィルター\n",
        "gray_img = cv2.cvtColor(img2, cv2.COLOR_BGR2GRAY)\n",
        "# カーネル（水平、垂直方向の輪郭検出用）\n",
        "kernel_x = np.array([[-1, 0, 1],\n",
        "                     [-2, 0, 2],\n",
        "                     [-1, 0, 1]])\n",
        "\n",
        "kernel_y = np.array([[-1, -2, -1],\n",
        "                     [0, 0, 0],\n",
        "                     [1, 2, 1]])\n",
        "\n",
        "# 方法1\n",
        "gray_x = cv2.filter2D(gray_img, cv2.CV_32F, kernel_x)\n",
        "gray_y = cv2.filter2D(gray_img, cv2.CV_32F, kernel_y)\n",
        "\n",
        "dst2 = np.sqrt(gray_x ** 2 + gray_y ** 2)\n",
        "show_img2 = cv2.cvtColor(dst2, cv2.COLOR_BGR2RGB)\n",
        "plt.imshow(show_img2)\n",
        "\n",
        "ax3=fig.add_subplot(1,3,3)\n",
        "# 方法2\n",
        "gray_x = cv2.Sobel(gray_img, cv2.CV_32F, 1, 0, ksize=3)\n",
        "gray_y = cv2.Sobel(gray_img, cv2.CV_32F, 0, 1, ksize=3)\n",
        "dst３ = np.sqrt(gray_x ** 2 + gray_y ** 2)\n",
        "show_img3 = cv2.cvtColor(dst2, cv2.COLOR_BGR2RGB)\n",
        "plt.imshow(show_img3)\n",
        "plt.show() \n"
      ],
      "metadata": {
        "id": "OmNdMHUWdqaJ"
      },
      "execution_count": null,
      "outputs": []
    },
    {
      "cell_type": "markdown",
      "source": [
        "物体検出"
      ],
      "metadata": {
        "id": "PaEuxgIKm7bO"
      }
    },
    {
      "cell_type": "code",
      "source": [
        "import cv2\n",
        "import matplotlib.pyplot as plt\n",
        "%matplotlib inline\n",
        "import numpy as np \n",
        "\n",
        "target = path+'   '  # ターゲット画像\n",
        "temp  = path+'   '\n",
        "\n",
        "target_img= cv2.imread(target)\n",
        "temp_img= cv2.imread(temp)\n",
        "\n",
        "# テンプレートマッチを実行\n",
        "r = \n",
        "min_v, max_v, min_l, max_l =  # 結果から検出領域の位置を取得\n",
        "print(max_v)\n",
        "\n",
        "top_left = max_l # 左上の座標\n",
        "bottom_right = (top_left[0] + temp_img.shape[1], top_left[1] + temp_img.shape[0])\n",
        "\n",
        "cv2.rectangle(target_img, top_left, bottom_right, (0, 0, 255), 2) # 検出領域を四角で描画\n",
        "#左上，右下，色BGRなので赤，太さ，．．．\n",
        "fig =plt.figure(dpi=100)\n",
        "\n",
        "ax1=fig.add_subplot(1,1,1)\n",
        "show_img1 = cv2.cvtColor(target_img, cv2.COLOR_BGR2RGB)\n",
        "plt.imshow(show_img1)\n",
        "\n",
        "#ax2=fig.add_subplot(1,3,2)\n",
        "#\n",
        "\n",
        "#show_img2 = cv2.cvtColor(temp_img, cv2.COLOR_BGR2RGB)\n",
        "#plt.imshow(show_img2)\n",
        "\n",
        "#ax3=fig.add_subplot(1,3,3)\n",
        "\n",
        "\n",
        "#show_img3 = cv2.cvtColor(dst2_x, cv2.COLOR_BGR2RGB)\n",
        "#plt.imshow(show_img3)\n",
        "\n",
        "plt.show() \n"
      ],
      "metadata": {
        "id": "wdaXgPmonKqT"
      },
      "execution_count": null,
      "outputs": []
    },
    {
      "cell_type": "markdown",
      "source": [
        "特徴点検出"
      ],
      "metadata": {
        "id": "lxWgC23zvAVp"
      }
    },
    {
      "cell_type": "code",
      "source": [
        "import cv2\n",
        "import matplotlib.pyplot as plt\n",
        "%matplotlib inline\n",
        "#import numpy as np \n",
        "\n",
        "target = path+''  # ターゲット画像\n",
        "temp  = path+''\n",
        "\n",
        "target_img= cv2.imread(target)\n",
        "temp_img= cv2.imread(temp)\n",
        "\n",
        "d = cv2.AKAZE_create() # A-KAZE検出器の作成                          \n",
        "kpR, desR = d.detectAndCompute(temp_img, None) # 特徴量の抽出と特徴量記述子の計算\n",
        "kpT, desT = d.detectAndCompute(target_img, None)\n",
        "\n",
        "bf = cv2.BFMatcher()# Brute-Force Matcher生成\n",
        "matches = bf.match(desR, desT) # 特徴量のマッチング\n",
        "#matches = bf.knnMatch(desR, desT, k=2) # 特徴量のマッチング\n",
        "good = [] # 似ている特徴量のリスト\n",
        "for m in matches: # 特徴量を取り出す\n",
        "  if m.distance < 500: # 距離の比較\n",
        "        good.append([m])\n",
        "\n",
        "# 対応する特徴点同士を描画\n",
        "#img3 = cv2.drawMatches(temp_img, kpR, target_img, kpT, good[:10], None, flags=2)\n",
        "img3 = cv2.drawMatchesKnn(temp_img, kpR, target_img, kpT, good, None, flags=2)\n",
        "\n",
        "\n",
        "fig =plt.figure(dpi=200)\n",
        "\n",
        "ax1=fig.add_subplot(1,1,1)\n",
        "show_img1= cv2.cvtColor(img3, cv2.COLOR_BGR2RGB)\n",
        "plt.imshow(show_img1)\n",
        "\n",
        "plt.show() \n"
      ],
      "metadata": {
        "id": "2ZfShxbbu-lI"
      },
      "execution_count": null,
      "outputs": []
    },
    {
      "cell_type": "markdown",
      "source": [
        "顔検出"
      ],
      "metadata": {
        "id": "oQ4hkZsz6Q8t"
      }
    },
    {
      "cell_type": "code",
      "source": [
        "import cv2\n",
        "import matplotlib.pyplot as plt\n",
        "%matplotlib inline\n",
        "import numpy as np \n",
        "\n",
        "img = path+''  # ターゲット画像\n",
        "\n",
        "face_img= cv2.imread(img)\n",
        "\n",
        "# 顔領域の検出の準備と実行(長方形群が返る)\n",
        "cas = cv2.\n",
        "faces = cas.\n",
        "    \n",
        "for (x, y, w, h) in faces: # 見つかった顔に四角を表示\n",
        "   cv2.rectangle(face_img, (x, y), (x + w, y + h), (255, 255, 0), 2)\n",
        "\n",
        "fig =plt.figure(dpi=100)\n",
        "\n",
        "ax1=fig.add_subplot(1,1,1)\n",
        "show_img1= cv2.cvtColor(face_img, cv2.COLOR_BGR2RGB)\n",
        "plt.imshow(show_img1)\n",
        "\n",
        "plt.show() \n"
      ],
      "metadata": {
        "id": "xamRKdiK6otX"
      },
      "execution_count": null,
      "outputs": []
    }
  ]
}