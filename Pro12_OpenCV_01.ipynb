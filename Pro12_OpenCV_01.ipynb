{
  "nbformat": 4,
  "nbformat_minor": 0,
  "metadata": {
    "colab": {
      "provenance": [],
      "authorship_tag": "ABX9TyN2JA+1SiI05WYDC3/x8MF6",
      "include_colab_link": true
    },
    "kernelspec": {
      "name": "python3",
      "display_name": "Python 3"
    },
    "language_info": {
      "name": "python"
    }
  },
  "cells": [
    {
      "cell_type": "markdown",
      "metadata": {
        "id": "view-in-github",
        "colab_type": "text"
      },
      "source": [
        "<a href=\"https://colab.research.google.com/github/MasaHLabo/PyCode/blob/main/Pro12_OpenCV_01.ipynb\" target=\"_parent\"><img src=\"https://colab.research.google.com/assets/colab-badge.svg\" alt=\"Open In Colab\"/></a>"
      ]
    },
    {
      "cell_type": "markdown",
      "source": [
        "# 画像処理入門（第１１章）\n",
        "・OpenCV\n",
        "\n",
        "・HSV変換"
      ],
      "metadata": {
        "id": "F_RwBpjeDLMf"
      }
    },
    {
      "cell_type": "markdown",
      "source": [
        "画像ファイルの登録準備"
      ],
      "metadata": {
        "id": "tcey1YKD-Clk"
      }
    },
    {
      "cell_type": "code",
      "source": [
        "from google.colab import drive\n",
        "drive.mount('/content/drive')"
      ],
      "metadata": {
        "id": "ZU8ODJ6pa9NU"
      },
      "execution_count": null,
      "outputs": []
    },
    {
      "cell_type": "markdown",
      "source": [
        "パスの設定"
      ],
      "metadata": {
        "id": "lRBGDu9L-Je0"
      }
    },
    {
      "cell_type": "code",
      "source": [
        "path='/content/drive/MyDrive/'"
      ],
      "metadata": {
        "id": "CATLNsSwDziD"
      },
      "execution_count": null,
      "outputs": []
    },
    {
      "cell_type": "markdown",
      "source": [
        "11.1　OpenCVのインストール"
      ],
      "metadata": {
        "id": "s23jKh2JaX7R"
      }
    },
    {
      "cell_type": "code",
      "execution_count": null,
      "metadata": {
        "id": "IChDhCUQDGhY"
      },
      "outputs": [],
      "source": []
    },
    {
      "cell_type": "code",
      "source": [],
      "metadata": {
        "id": "MqXpGJ1XDe_K"
      },
      "execution_count": null,
      "outputs": []
    },
    {
      "cell_type": "markdown",
      "source": [
        "11.3 画像を表示"
      ],
      "metadata": {
        "id": "45CNi1W2E6T3"
      }
    },
    {
      "cell_type": "code",
      "source": [
        "import cv2\n",
        "import matplotlib.pyplot as plt #Colabではできないことが多いのでmatplotlibの機能を利用する\n",
        "%matplotlib inline   \n",
        "  #↑なくても実行できるけど．．　インライン表示しろってこと\n",
        "\n",
        "#img = cv2.imread('sky.png')　そのまま使えないので\n",
        "img = path+'' # 画像を読み込む\n",
        "img2 = cv2.imread(img)\n",
        "\n",
        "#cv2.imshow('image',img) そのまま使えないので\n",
        "show_img = cv2.cvtColor(img2, cv2.COLOR_BGR2RGB) \n",
        "plt.imshow(show_img)\n",
        "\n",
        "#cv2.waitKey(0) # キー入力を待つ\n",
        "#cv2.destroyAllWindows() # ウインドウを破棄\n",
        "#plt.show() これをつけると上部につくファイルを示したものが消える"
      ],
      "metadata": {
        "id": "hDcPciLfQIwa"
      },
      "execution_count": null,
      "outputs": []
    },
    {
      "cell_type": "code",
      "source": [
        "import cv2\n",
        "import matplotlib.pyplot as plt #Colabではできないことが多いのでmatplotlibの機能を利用する\n",
        "%matplotlib inline   \n",
        "\n",
        "#matplotlibはグラフ作成なので，縦軸などいらないものを消すには以下\n",
        "fig,ax = plt.subplots()\n",
        "ax.tick_params()\n",
        "ax.tick_params()\n",
        "ax.set_xticklabels([]) \n",
        "ax.axis()\n",
        "\n",
        "#img = cv2.imread('sky.png')　そのまま使えないので\n",
        "img = path+'' # 画像を読み込む\n",
        "img2 = cv2.imread(img)\n",
        "\n",
        "#cv2.imshow('image',img) そのまま使えないので\n",
        "#ｃｖ２はBGR表示に対してmatplotlibはRGBなので順番変更の必要があるので以下\n",
        "show_img = cv2.cvtColor(img2, cv2.COLOR_BGR2RGB) \n",
        "plt.imshow(show_img)\n",
        "\n",
        "plt.show() #これをつけると上部につくファイルを示したものが消える"
      ],
      "metadata": {
        "id": "bNAtjKJtI0Ct"
      },
      "execution_count": null,
      "outputs": []
    },
    {
      "cell_type": "markdown",
      "source": [
        "他の画像も試す！"
      ],
      "metadata": {
        "id": "s11YvlwZajH4"
      }
    },
    {
      "cell_type": "code",
      "source": [
        "import cv2\n",
        "import matplotlib.pyplot as plt \n",
        "%matplotlib inline   \n",
        "  \n",
        "# 画像を読み込む\n",
        "img = path+'' \n",
        "img2 = cv2.imread(img)\n",
        "\n",
        "#cv2.imshow('image',img) そのまま使えないので\n",
        "show_img = cv2.cvtColor(img2, cv2.COLOR_BGR2RGB) \n",
        "plt.imshow(show_img)\n"
      ],
      "metadata": {
        "id": "Ylob_gAo84m5"
      },
      "execution_count": null,
      "outputs": []
    },
    {
      "cell_type": "markdown",
      "source": [
        "画像の中身は？\n",
        "\n",
        "ピクセルの値はどのようになっているのか"
      ],
      "metadata": {
        "id": "y3c9az05anSZ"
      }
    },
    {
      "cell_type": "code",
      "source": [
        "import cv2\n",
        "import matplotlib.pyplot as plt \n",
        "%matplotlib inline   \n",
        "\n",
        "img = path+'' # 画像を読み込む\n",
        "img2 = cv2.imread(img)\n",
        "\n",
        "show_img = cv2.cvtColor(img2, cv2.COLOR_BGR2RGB) \n",
        "plt.imshow(show_img)\n"
      ],
      "metadata": {
        "id": "LpIx2Vsfocg2"
      },
      "execution_count": null,
      "outputs": []
    },
    {
      "cell_type": "markdown",
      "source": [
        "画像の反転：ネガポジ画像"
      ],
      "metadata": {
        "id": "EZL7y0lsaxZO"
      }
    },
    {
      "cell_type": "code",
      "source": [
        "import cv2\n",
        "import matplotlib.pyplot as plt #Colabではできないことが多いのでmatplotlibの機能を利用する\n",
        "%matplotlib inline   \n",
        "\n",
        "img = path+'' # 画像を読み込む\n",
        "\n",
        "img2 = cv2.imread(img)\n",
        "\n",
        "img2=   #反転：ネガポジ\n",
        "show_img = cv2.cvtColor(img2, cv2.COLOR_BGR2RGB) \n",
        "plt.imshow(show_img)\n",
        "\n"
      ],
      "metadata": {
        "id": "nZo4ZfFxpB0e"
      },
      "execution_count": null,
      "outputs": []
    },
    {
      "cell_type": "markdown",
      "source": [
        "11.4　ピクセルの値を調べる"
      ],
      "metadata": {
        "id": "G3p2UF3Wbh0a"
      }
    },
    {
      "cell_type": "code",
      "source": [
        "import cv2\n",
        "import matplotlib.pyplot as plt \n",
        "%matplotlib inline   \n",
        "\n",
        "#img = cv2.imread('sky.png')　そのまま使えないので\n",
        "img = path+'' # 画像を読み込む\n",
        "#print(img)\n",
        "img2 = cv2.imread(img)\n",
        "#print(img2)\n",
        "c=    #koko\n",
        "print('BGR:',c[0], c[1], c[2])\n",
        "show_img = cv2.cvtColor(img2, cv2.COLOR_BGR2RGB)\n",
        "c=show_img #koko\n",
        "print('RGB:',c[0], c[1], c[2]) \n",
        "plt.imshow(show_img)\n",
        "\n"
      ],
      "metadata": {
        "id": "W5ubJCBupYYA"
      },
      "execution_count": null,
      "outputs": []
    },
    {
      "cell_type": "markdown",
      "source": [
        "11.5　グレースケール化"
      ],
      "metadata": {
        "id": "aLsiSi7Tq1C1"
      }
    },
    {
      "cell_type": "code",
      "source": [
        "import cv2\n",
        "import matplotlib.pyplot as plt \n",
        "%matplotlib inline   \n",
        "\n",
        "\n",
        "img = path+'' # 画像を読み込む\n",
        "\n",
        "img2 = cv2.imread(img)\n",
        "\n",
        "height, width, d=img2.shape  # 高さ、幅、深さ\n",
        "\n",
        "for y in \n",
        "  for x in \n",
        "     # (x, y)の画素の取り出し\n",
        "    gray = \n",
        "    img2[y, x] = # RGBをグレースケールに\n",
        "\n",
        "#print(img2)\n",
        "show_img = cv2.cvtColor(img2, cv2.COLOR_BGR2RGB)\n",
        "#print('RGB:',c[0], c[1], c[2]) \n",
        "plt.imshow(show_img)\n",
        "\n"
      ],
      "metadata": {
        "id": "-4WrRiqeqt-n"
      },
      "execution_count": null,
      "outputs": []
    },
    {
      "cell_type": "markdown",
      "source": [
        "OpenCVの命令を利用"
      ],
      "metadata": {
        "id": "c_4_BJX7f7oy"
      }
    },
    {
      "cell_type": "code",
      "source": [
        "import cv2\n",
        "import matplotlib.pyplot as plt \n",
        "%matplotlib inline   \n",
        "\n",
        "img = path+'' # 画像を読み込む\n",
        "img2 = cv2.imread(img)\n",
        "\n",
        "gray_img = cv2.cvtColor(img2, )\n",
        "show_img = cv2.cvtColor(gray_img, cv2.COLOR_BGR2RGB)\n",
        "plt.imshow(show_img)\n"
      ],
      "metadata": {
        "id": "MRaY5ahE3Tpn"
      },
      "execution_count": null,
      "outputs": []
    },
    {
      "cell_type": "markdown",
      "source": [
        "1行で実行する命令　６行目"
      ],
      "metadata": {
        "id": "4c3T5eC1TiSq"
      }
    },
    {
      "cell_type": "code",
      "source": [
        "import cv2\n",
        "import matplotlib.pyplot as plt \n",
        "%matplotlib inline   \n",
        "\n",
        "img = path+'' # 画像を読み込む\n",
        "img2 = cv2.imread(img, cv2. )\n",
        "#gray_img = cv2.cvtColor(img2, cv2.COLOR_BGR2GRAY)\n",
        "show_img = cv2.cvtColor(img2, cv2.COLOR_BGR2RGB)\n",
        "plt.imshow(show_img)\n"
      ],
      "metadata": {
        "id": "eRfpM3PHsIAD"
      },
      "execution_count": null,
      "outputs": []
    },
    {
      "cell_type": "markdown",
      "source": [
        "# チャレンジ！！　　　\n",
        "画像変換の比較のため並べて表示する\n",
        "\n",
        "課題！！"
      ],
      "metadata": {
        "id": "za6yjdcSJcNP"
      }
    },
    {
      "cell_type": "code",
      "source": [
        "import cv2\n",
        "import matplotlib.pyplot as plt \n",
        "%matplotlib inline   \n",
        "\n",
        "img = path+'' # 画像を読み込む\n",
        "img2 = cv2.imread(img)\n",
        "\n",
        "fig =plt.figure()\n",
        "\n",
        "\n",
        "\n",
        "plt.show() "
      ],
      "metadata": {
        "id": "PvQL9BJYFyt4"
      },
      "execution_count": null,
      "outputs": []
    },
    {
      "cell_type": "markdown",
      "source": [
        "せっかくなので変換した画像を保存しましょう！"
      ],
      "metadata": {
        "id": "NRYK8rRgJjFw"
      }
    },
    {
      "cell_type": "code",
      "source": [
        "import cv2\n",
        "import matplotlib.pyplot as plt \n",
        "%matplotlib inline   \n",
        "\n",
        "img = path+'' # 画像を読み込む\n",
        "#print(img)\n",
        "img2 = cv2.imread(img)\n",
        "\n",
        "gray_img = cv2.cvtColor(img2, cv2.COLOR_BGR2GRAY)\n",
        "show_img = cv2.cvtColor(gray_img, cv2.COLOR_BGR2RGB)\n",
        "\n",
        "cv2.imwrite(path+'',show_img)\n",
        "plt.imshow(show_img)"
      ],
      "metadata": {
        "id": "cpZymSFEwuq6"
      },
      "execution_count": null,
      "outputs": []
    },
    {
      "cell_type": "markdown",
      "source": [
        "# HSV変換をして画像を処理することが多いので例を示す\n",
        "HSV 色相は赤、彩度は緑、明るさは青で表示"
      ],
      "metadata": {
        "id": "tLFS_ibvAyVn"
      }
    },
    {
      "cell_type": "code",
      "source": [
        "import cv2\n",
        "import matplotlib.pyplot as plt \n",
        "%matplotlib inline   \n",
        " \n",
        "img = path+'' # 画像を読み込む\n",
        "img2 = cv2.imread(img)\n",
        "\n",
        "hsv_img  = cv2.cvtColor(img2, cv2.COLOR_BGR2HSV)\n",
        "show_img = cv2.cvtColor(hsv_img, cv2.COLOR_BGR2RGB)\n",
        "plt.imshow(show_img)\n"
      ],
      "metadata": {
        "id": "rHHWON7Ituyd"
      },
      "execution_count": null,
      "outputs": []
    },
    {
      "cell_type": "code",
      "source": [
        "import cv2\n",
        "import matplotlib.pyplot as plt \n",
        "%matplotlib inline   \n",
        " \n",
        "img = path+'' # 画像を読み込む\n",
        "img2 = cv2.imread(img)\n",
        "\n",
        "hsv_img  = cv2.cvtColor(img2, cv2.COLOR_BGR2HSV)\n",
        "img_h, img_s, img_v =cv2.split(hsv_img)\n",
        "show_img = cv2.cvtColor(img_h, cv2.COLOR_BGR2RGB) #img_hsv\n",
        "plt.imshow(show_img)\n",
        "\n"
      ],
      "metadata": {
        "id": "iZjm3fsNB6NG"
      },
      "execution_count": null,
      "outputs": []
    },
    {
      "cell_type": "code",
      "source": [
        "import cv2\n",
        "import matplotlib.pyplot as plt \n",
        "import numpy as np\n",
        "%matplotlib inline   \n",
        " \n",
        "img = path+'OpenCV_logo.png' # 画像を読み込む\n",
        "img2 = cv2.imread(img)\n",
        "\n",
        "#BGR色空間からHSV色空間への変換\n",
        "hsv_img  = cv2.cvtColor(img2, cv2.COLOR_BGR2HSV)\n",
        "\n",
        "#色検出しきい値の設定\n",
        "lower = np.array([30,64,0])       #B[90,64,0]     G[30,64,0] R[0,64,0]と[150,255,255]\n",
        "upper = np.array([90,255,255]) #B[150,255,255]G[90,255,255] R[30,255,255]と[180,255,255]\n",
        "\n",
        "#色検出しきい値範囲内の色を抽出するマスクを作成\n",
        "frame_mask = cv２.inRange(hsv_img, lower, upper)\n",
        "\n",
        "\n",
        "show_img = cv2.cvtColor(frame_mask, cv2.COLOR_BGR2RGB) \n",
        "\n",
        "plt.imshow(show_img)\n"
      ],
      "metadata": {
        "id": "IpjDYLaMLSn8"
      },
      "execution_count": null,
      "outputs": []
    },
    {
      "cell_type": "markdown",
      "source": [
        "11.6　二値化"
      ],
      "metadata": {
        "id": "qSN8V0W9UQG1"
      }
    },
    {
      "cell_type": "markdown",
      "source": [
        "リスト11.6"
      ],
      "metadata": {
        "id": "EwezF8biVjp6"
      }
    },
    {
      "cell_type": "code",
      "source": [
        "import cv2\n",
        "import matplotlib.pyplot as plt\n",
        "%matplotlib inline   \n",
        "\n",
        "img = path+'palm.jpg' # 画像を読み込む\n",
        "\n",
        "img2 = cv2.imread(img)\n",
        "\n",
        "gray_img = cv2.cvtColor(img2, cv2.COLOR_BGR2GRAY)\n",
        "r, b = cv2.threshold(gray_img, 90, 255, cv2.THRESH_BINARY)\n",
        "show_img = cv2.cvtColor(b, cv2.COLOR_BGR2RGB)\n",
        "\n",
        "plt.imshow(show_img)\n"
      ],
      "metadata": {
        "id": "J92MO-81UUDb"
      },
      "execution_count": null,
      "outputs": []
    },
    {
      "cell_type": "markdown",
      "source": [
        "リスト11.7\n",
        "\n",
        "違いをみてわかる？？"
      ],
      "metadata": {
        "id": "hiBrLElaVmKt"
      }
    },
    {
      "cell_type": "markdown",
      "source": [
        "# 11.7 フィルタ処理"
      ],
      "metadata": {
        "id": "5nbWmz21WlDC"
      }
    },
    {
      "cell_type": "code",
      "source": [
        "import cv2\n",
        "import matplotlib.pyplot as plt\n",
        "%matplotlib inline\n",
        "import numpy as np \n",
        "\n",
        "img = path+'' # 画像を読み込む\n",
        "\n",
        "img2 = cv2.imread(img)\n",
        "filter = np.array([[1/9, 1/9, 1/9],\n",
        "                   [1/9, 1/9, 1/9],\n",
        "                   [1/9, 1/9, 1/9]])\n",
        "dst = cv2.filter2D(img2, -1, filter)\n",
        "\n",
        "show_img = cv2.cvtColor(dst, cv2.COLOR_BGR2RGB)\n",
        "\n",
        "plt.imshow(show_img)\n",
        "\n"
      ],
      "metadata": {
        "id": "PRnSaV0dXYGD"
      },
      "execution_count": null,
      "outputs": []
    }
  ]
}